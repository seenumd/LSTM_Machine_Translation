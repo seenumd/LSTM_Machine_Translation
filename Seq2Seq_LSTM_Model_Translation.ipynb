{
 "cells": [
  {
   "cell_type": "markdown",
   "metadata": {},
   "source": [
    "# LSTM Language Translation"
   ]
  },
  {
   "cell_type": "markdown",
   "metadata": {},
   "source": [
    "Agenada:\n",
    "1. LSTM\n",
    "2. Seq2Seq\n",
    "3. Hindi-English text data\n",
    "\t- Clean up data\n",
    "\t- Convert words to list\n",
    "\t- Separate Encoder and Decoder input\n",
    "4. Build the sequence to the input data\n",
    "\t- Encoder andDecoder Tokenizer\n",
    "\t- Padding Sequence\n",
    "\t- Build Decoder output data layer\n",
    "5. Build Training Model\n",
    "\t- Build Encoder Layer\n",
    "\t- Build Decoder Layer\n",
    "\t- Build Model with Both Encoder and Decoder\n",
    "\t- Train the Model\n",
    "6. Build model for Prediction\n",
    "\t- Build Encoder Model to Predict Encoder Sates\n",
    "\t- Build Decoder to Predict\n",
    "7. Predict Output\n",
    "\t- It is the Hindi sentance translated from English\n",
    "8. Save the Model.\n",
    "9. Conclution"
   ]
  },
  {
   "cell_type": "markdown",
   "metadata": {},
   "source": [
    "**Recurrent Neural Networks(RNN)** are a powerful and robust type of neural networks and belong to the most promising algorithms out there at the moment because they are the only ones with an internal memory.\n",
    "Because of their internal memory, RNN’s are able to remember important things about the input they received, which enables them to be very precise in predicting what’s coming next. Recurrent Neural Networks add the immediate past to the present. Therefore a Recurrent Neural Network has two inputs, the present and the recent past. This is important because the sequence of data contains crucial information about what is coming next, which is why a RNN can do things other algorithms can’t.\n",
    "\n",
    "Two issues with RNN. Exploding Gradients and Vanishing Gradients. Fortunately, it was solved through the concept of LSTM.\n",
    "\n",
    "**LSTM:** Long Short Term Memory networks are an extension for RNN. LSTM’s enable RNN’s to remember their inputs over a long period of time. This is because LSTM’s contain their information in a memory, that is much like the memory of a computer because the LSTM can read, write and delete information from its memory.\n",
    "\n",
    "In an LSTM you have three gates: input, forget and output gate. These gates determine whether or not to let new input in (input gate), delete the information because it isn’t important (forget gate) or to let it impact the output at the current time step (output gate)."
   ]
  },
  {
   "cell_type": "markdown",
   "metadata": {},
   "source": [
    "**Seq2seq Model** can be separated into 2 small sub-models. The first sub-model is called as Encoder, and the second sub-model is called as Decoder. Encoder takes a raw input text data just like any other RNN architectures do. At the end, Encoder outputs a neural representation. The output is going to be the input data for Decoder.\n",
    "Decoder has the ability to look inside the Encoder’s output, and it will create a totally different output data (translated in Hindi in this case)."
   ]
  },
  {
   "cell_type": "code",
   "execution_count": 1,
   "metadata": {
    "colab": {
     "autoexec": {
      "startup": false,
      "wait_interval": 0
     }
    },
    "colab_type": "code",
    "id": "HL6SiZJT2oUb"
   },
   "outputs": [],
   "source": [
    "import numpy as np\n",
    "np.random.seed(42)"
   ]
  },
  {
   "cell_type": "markdown",
   "metadata": {
    "colab_type": "text",
    "id": "-lxNfeYx2oUg"
   },
   "source": [
    "## 1. Prepare data\n",
    "Data for this exercise can be downloaded from http://www.manythings.org/anki/"
   ]
  },
  {
   "cell_type": "markdown",
   "metadata": {
    "colab_type": "text",
    "id": "ih9pRZKjBb1e"
   },
   "source": [
    "### 1.1 Download and extract sentence pairs"
   ]
  },
  {
   "cell_type": "code",
   "execution_count": 0,
   "metadata": {
    "colab": {
     "autoexec": {
      "startup": false,
      "wait_interval": 0
     }
    },
    "colab_type": "code",
    "id": "v53t6LIx4GP6"
   },
   "outputs": [],
   "source": [
    "!wget http://www.manythings.org/anki/hin-eng.zip --quiet"
   ]
  },
  {
   "cell_type": "code",
   "execution_count": 2,
   "metadata": {
    "colab": {
     "autoexec": {
      "startup": false,
      "wait_interval": 0
     }
    },
    "colab_type": "code",
    "id": "kBfzcXuX4wUI"
   },
   "outputs": [],
   "source": [
    "import zipfile\n",
    "import io"
   ]
  },
  {
   "cell_type": "code",
   "execution_count": 3,
   "metadata": {
    "colab": {
     "autoexec": {
      "startup": false,
      "wait_interval": 0
     }
    },
    "colab_type": "code",
    "id": "rLcBzQc940OL"
   },
   "outputs": [],
   "source": [
    "zf = zipfile.ZipFile('C:/Users/s.mudalapuram/Documents/PythonMe/data/hin-eng.zip', 'r')\n"
   ]
  },
  {
   "cell_type": "code",
   "execution_count": 4,
   "metadata": {
    "colab": {
     "autoexec": {
      "startup": false,
      "wait_interval": 0
     }
    },
    "colab_type": "code",
    "id": "dCQ5Oqyq5aI7"
   },
   "outputs": [],
   "source": [
    "data = ''\n",
    "with zf.open('hin.txt') as readfile:\n",
    "  for line in io.TextIOWrapper(readfile, 'utf-8'):\n",
    "    data += line"
   ]
  },
  {
   "cell_type": "code",
   "execution_count": 5,
   "metadata": {
    "colab": {
     "autoexec": {
      "startup": false,
      "wait_interval": 0
     }
    },
    "colab_type": "code",
    "id": "G3gW8S3k7MI6"
   },
   "outputs": [
    {
     "data": {
      "text/plain": [
       "'Wow!\\tवाह!\\nHelp!\\tबचाओ!\\nJump.\\tउछलो.\\nJump.\\tकूदो.\\nJump.\\tछलांग.\\nHello!\\tनमस्ते।\\nHello!\\tनमस्कार।\\nCheers!\\tवाह-वाह!\\nCheers!\\tचियर्स!\\nGot it?\\tसमझे कि नहीं?\\nI\\'m OK.\\tमैं ठीक हूँ।\\nAwesome!\\tबहुत बढ़िया!\\nCome in.\\tअंदर आ जाओ।\\nGet out!\\tबाहर निकल जाओ!\\nGo away!\\tचले जाओ!\\nGoodbye!\\tख़ुदा हाफ़िज़।\\nPerfect!\\tउत्तम!\\nPerfect!\\tसही!\\nWelcome.\\tआपका स्वागत है।\\nWelcome.\\tस्वागतम्।\\nHave fun.\\tमज़े करना।\\nHave fun.\\tमौज करना।\\nHave fun.\\tमज़े करो।\\nI forgot.\\tमैं भूल गया।\\nI forgot.\\tमैं भूल गई।\\nI\\'ll pay.\\tमैं पैसे दूंगा।\\nI\\'m fine.\\tमैं ठीक हूँ।\\nI\\'m full.\\tमेरा पेट भर गया है।\\nLet\\'s go!\\tचलो चलें!\\nAnswer me.\\tमुझे जवाब दो।\\nBirds fly.\\tपंछी उड़ते हैं।\\nExcuse me.\\tमाफ़ कीजिए।\\nFantastic!\\tबहुत ख़ूब!\\nI fainted.\\tमैं बेहोश हो गया।\\nI fear so.\\tखेद की बात है, लेकिन वैसा ही है।\\nI laughed.\\tमैं हँसा।\\nI\\'m bored.\\tमैं बोर हो रहा हूँ।\\nI\\'m broke.\\tमेरा दीवालिया हो चुका है।\\nI\\'m tired.\\tमैं थक गया हूँ।\\nIt\\'s cold.\\tठंड हो रही है।\\nWho knows?\\tकौन जाने?\\nWho knows?\\tकिसको पता है?\\nWho knows?\\tकिसे पता है?\\nWho knows?\\tकिसे मालूम है?\\nWonderful!\\tअद्भुत\\nBirds sing.\\tपंछी गाते हैं।\\nCome on in.\\tअंदर आ जाओ।\\nDefinitely!\\tनिश्चित ही\\nDon\\'t move.\\tहिलो मत।\\nFire burns.\\tआग जलाती है।\\nFollow him.\\tउसका पीछा करो।\\nI am tired.\\tमैं थक गया हूँ।\\nI can swim.\\tमुझे तैरना आता है।\\nI can swim.\\tमैं तैर सकता हूँ।\\nI love you.\\tमैं तुमसे प्यार करती हूँ।\\nI love you.\\tमैं तुमसे प्यार करता हूँ।\\nI love you.\\tमैं आपसे प्यार करता हूँ।\\nI love you.\\tमैं आपसे प्यार करती हूँ।\\nI love you.\\tमुझे तुमसे प्यार है।\\nI will try.\\tमैं कोशिश करूँगा।\\nI\\'m coming.\\tमैं आ रहा हूँ।\\nI\\'m hungry!\\tमुझे भूख लगी है!\\nI\\'m hungry!\\tमुझे भूख लगी है।\\nLet him in.\\tउसे अंदर भेजो।\\nLet him in.\\tउसे अंगर आने दो।\\nLet me out!\\tमुझे बाहर जाने दो!\\nOnce again.\\tऔर एक बार।\\nPlease sit.\\tबैठिए।\\nWhat\\'s new?\\tक्या नया है?\\nWhat\\'s new?\\tनया क्या है?\\nWho\\'s that?\\tवह कौन है?\\nDon\\'t shout.\\tचिल्लाओ मत!\\nDon\\'t shout.\\tचिल्लाईए मत।\\nHe stood up.\\tवह खड़ा हो गया।\\nHe\\'s strong.\\tवह ताकतवर है।\\nHow are you?\\tआप कैसे हैं?\\nHow are you?\\tतुम कैसे हो?\\nHow are you?\\tतुम कैसी हो?\\nHow are you?\\tतू कैसा है?\\nHow are you?\\tतू कैसी है?\\nHow are you?\\tआप कैसी हैं?\\nHow are you?\\tआप कैसे हो?\\nI am hungry.\\tमुझे भूख लगी है।\\nI like both.\\tमुझे दोनो पसंद हैं।\\nI like cake.\\tमुझे केक अच्छा लगता है।\\nI like dogs.\\tमुझे कुत्ते अच्छे लगते हैं।\\nI like math.\\tमुझे गणित पसंद है।\\nI\\'ll attend.\\tमैं आऊंगा।\\nNobody came.\\tकोई नहीं आया।\\nWas I wrong?\\tक्या मैं ग़लत था?\\nWhat\\'s this?\\tयह क्या है?\\nAre you sick?\\tक्या तुम बीमार हो?\\nBring him in.\\tउसको अंदर ले आओ।\\nCome with us.\\tहमारे साथ आओ।\\nHappy Easter!\\tएसटर मुबारक हो!\\nHas Tom left?\\tटॉम चला गया क्या?\\nHe is French.\\tवह फ़्रानसीसी है।\\nI am at home.\\tमैं घर पर हूँ।\\nI can\\'t move.\\tमैं हिल नहीं सकता।\\nI don\\'t know.\\tमुझे नहीं पता।\\nI don\\'t know.\\tमुझे नहीं मालूम।\\nI have a car.\\tमेरे पास एक गाड़ी है।\\nI have a dog.\\tमेरे पास एक कुत्ता है।\\nI understand.\\tमैं समझता हूँ।\\nI\\'m a doctor.\\tमैं डॉक्टर हूँ।\\nI\\'m starving!\\tमैं भूख से मरा जा रहा हूँ।\\nIt is a book.\\tयह किताब है।\\nIt\\'s snowing.\\tबरफ़ गिर रही है।\\nIt\\'s too big.\\tबहुत ज़्यादा बड़ा है।\\nPlease leave.\\tकृपया जाईये।\\nUnbelievable!\\tअविश्वसनीय!\\nWe are happy.\\tहम खुश हैं।\\nWhat is this?\\tयह क्या है?\\nAre you tired?\\tथक गए हो क्या?\\nCan you drive?\\tतुम गाड़ी चला सकते हो क्या?\\nDon\\'t get fat.\\tमोटे मत हो जाना।\\nDon\\'t give in.\\tहार मत मान लो।\\nDrink it down.\\tपीकर खतम करदो।\\nEveryone dies.\\tमौत तो सभी की होती है।\\nFlowers bloom.\\tफूल खिलते हैं।\\nI am who I am.\\tमैं हूँ जो हूँ।\\nI\\'ll take him.\\tमैं उसे लेलूँगा।\\nI\\'m tired now.\\tमैं अब थक गया हूँ।\\nI\\'m very busy.\\tमैं बहुत व्यस्थ हूँ।\\nIs that a cat?\\tवह बिल्ली है क्या?\\nIt\\'s for free.\\tयह मुफ़्त है।\\nIt\\'s for free.\\tयह मुफ़्त का है।\\nLet me try it.\\tमुझे दिखाओ।\\nLet me try it.\\tमुझे देखने दो।\\nLet me try it.\\tमुझे ट्राए करने दो।\\nMake it quick.\\tजल्दी कीजिए।\\nMay I come in?\\tमैं अंदर आ सकता हूँ क्या?\\nOpen the door.\\tदरवाज़ा खोलो।\\nOpen the door.\\tदरवाज़ा खोलिए।\\nPlease get in.\\tकृपया अंदर आईए।\\nRead it again.\\tइसे दोबारा पढ़ें।\\nRead it aloud.\\tपढ़के सुनाओ।\\nShe bent down.\\tवह नीचे झुकी।\\nSome fish fly.\\tकुछ मछलियाँ उड़ सकतीं हैं।\\nThis is a map.\\tयह नक्शा है।\\nTom is my son.\\tटॉम मेरा लड़का है।\\nWe\\'re in town.\\tहम शहर में हैं।\\nWere you shot?\\tक्या तुम्हें गोली लग गई थी?\\nWhat about us?\\tहमारा क्या?\\nCan I help you?\\tक्या मैं आपकी सहायता कर सकता हूँ?\\nCan I help you?\\tक्या मैं आपकी मदद कर सकता हूँ?\\nClean the room.\\tकमरे को साफ़ करो।\\nDon\\'t touch it.\\tउसे छूना मत।\\nGet out of bed!\\tबिस्तर से बाहर निकलो!\\nHappy New Year!\\tनव वर्ष की शुभकामनाएं!\\nHappy New Year!\\tनए साल की बधाईयाँ।\\nHappy birthday!\\tजन्मदिन मुबारक हो!\\nHe has a beard.\\tउसके पास दाढ़ी है।\\nHe is an actor.\\tवह अभिनेता है।\\nHe needs money.\\tउसे पैसों की ज़रूरत है।\\nHe was hard up.\\tउसको पैसों की कमी थी।\\nI like history.\\tमुझे इतिहास पसंद है।\\nI like the dog.\\tमुझे यह कुत्ता अच्छा लगता है।\\nI must buy one.\\tमुझे एक तो खरीदना ही होगा।\\nI\\'ll come back.\\tमैं वापस आऊँगा।\\nI\\'ll phone you.\\tमैं तुम्हें फ़ोन करूँगा।\\nI\\'ll stay home.\\tमैं घर पर ही रहूँगा।\\nI\\'m an atheist.\\tमैं अनीश्वरवादी हूँ।\\nI\\'m an atheist.\\tमैं भगवान में यकीन नहीं करता।\\nI\\'m very tired.\\tमैं बहुत थक गया हूँ।\\nIt\\'s hot today.\\tआज मौसम बहुत गरम है।\\nIt\\'s this book.\\tयह किताब है।\\nIt\\'s your move.\\tतुम्हारी चाल है।\\nOnly God knows.\\tभगवान जाने।\\nSummer is over.\\tगर्मियाँ खतम हों चुकीं हैं।\\nTake your time.\\tआराम से आओ।\\nThink about it.\\tसोच लो।\\nThis is a book.\\tयह एक किताब है।\\nThis is a book.\\tयह किताब है।\\nThis is my bag.\\tयह मेरा बस्ता है।\\nThis is my dog.\\tयह मेरा कुत्ता है।\\nWash your feet.\\tअपने पैर धोओ।\\nWe study music.\\tहम संगीत की पढ़ाई करते हैं।\\nWe\\'ll call you.\\tहम आपको फ़ोन करेंगे।\\nWe\\'ll call you.\\tहम आपको बुलाएँगे।\\nWhere were you?\\tतुम कहाँ थे?\\nWhere were you?\\tआप कहाँ थे?\\nYou have to go.\\tतुम्हें जाना होगा।\\nYou look tired.\\tतुम थके-हारे से लगते हो।\\nYou\\'re kidding!\\tमज़ाक कर रहे हो!\\nA man must work.\\tएक आदमी के लिए काम करना ज़रूरी है।\\nAre you at home?\\tतुम घर पे हो क्या?\\nAre you guys OK?\\tक्या आप लोग ठीक हो?\\nCome home early.\\tजल्दी घर आजाओ।\\nCome if you can.\\tआ सको तो आना।\\nCongratulations!\\tबधाई हो!\\nCongratulations!\\tमुबारक हो!\\nDid he go there?\\tवह वहाँ गया क्या?\\nDid you miss me?\\tमेरी याद आई क्या?\\nDon\\'t be absurd.\\tपागल मत बनो।\\nHe came running.\\tवह भागते हुए आया।\\nHe can\\'t be ill.\\tवह बीमार नहीं हो सकता।\\nHe has a hat on.\\tउसने टोपी पहनी हुई है।\\nHe reads Arabic.\\tवह अरबी पढ़ सकता है।\\nHe\\'s my husband.\\tयह मेरा पति है।\\nHow is everyone?\\tसब लोग कैसे हैं?\\nHow is it going?\\tकैसा चल रहा है?\\nHow old are you?\\tतुम कितने साल के हो?\\nHow rude of you!\\tकितने बदतमीज़ हो तुम!\\nHow rude of you!\\tबदतमीज़!\\nI cooked dinner.\\tमैंने रात का खाना पकाया।\\nI feel nauseous.\\tमुझे उल्टी आ रही है।\\nI go every year.\\tमैं हर साल जाता हूँ।\\nI heard a noise.\\tमुझे कोई आवाज़ सुनाई दी।\\nI like this one.\\tमुझे यह वाला पसंद है।\\nI run every day.\\tमैं रोज़ दौड़ने जाता हूँ।\\nI saw her again.\\tमैंने उसे फिरसे देखा।\\nI want a guitar.\\tमुझे गिटार चाहिए।\\nI was assaulted.\\tमुझपर हमला किया गया।\\nI\\'m a good cook.\\tमैं अच्छा रसोइया हूँ।\\nI\\'m a good cook.\\tमैं अच्छा बावर्ची हूँ।\\nI\\'m lucky today.\\tआज मेरा नसीब अच्छा है।\\nIs anybody here?\\tकोई है क्या?\\nIs it not black?\\tक्या यह काला नहीं है?\\nIs there a cafe?\\tयहाँ कैफ़े है क्या?\\nLet\\'s fly kites.\\tचलो पतंग उड़ाएँ!\\nNo, I didn\\'t go.\\tनहीं, मैं नहीं गया था।\\nNobody\\'s around.\\tआसपास कोई नहीं है।\\nNow stop crying.\\tबस अब रोना बंद करो।\\nOpen your mouth!\\tअपना मूँह खोलो!\\nPlease sit down.\\tबैठिए।\\nShe is a beauty.\\tवह तो हसीना है।\\nShe talks a lot.\\tवह बहुत बोलती है।\\nShe talks a lot.\\tवह बहुत बक-बक करती है।\\nThat isn\\'t fair.\\tयह तो ठीक नहीं है।\\nThat\\'s my fault.\\tवह मेरी गलती है।\\nThe dog is mine.\\tकुत्ता मेरा है।\\nThe power\\'s out.\\tबिजली गई हुई है।\\nThese are birds.\\tये चिड़ियाँ हैं।\\nThis is for you.\\tयह तुम्हारे लिए है।\\nWe lack nothing.\\tहमे किसी भी चीज़ की कमी नहीं है।\\nWe study Arabic.\\tहम अरबी पढ़तें हैं।\\nWhat time is it?\\tअभी कितने बजे हैं?\\nWhat time is it?\\tअभी क्या समय हो रहा है?\\nWhere\\'s my book?\\tमेरी किताब कहाँ है?\\nYou startled me!\\tतुमने मुझे डरा दिया!\\nYou\\'re a person.\\tतुम इनसान हो।\\nAre you a doctor?\\tआप डॉक्टर हैं क्या?\\nCan you teach me?\\tक्या तुम मुझे सिखा सकते हो?\\nClimb to the top.\\tऊपर तक चढ़ जाओ।\\nCome and join us.\\tआओ हमारे साथ बैठो।\\nCome sit with us.\\tआओ हमारे साथ बैठो।\\nCut the potatoes.\\tआलूओं को काटो।\\nDo you have rice?\\tतुम्हारे पास चावल है क्या?\\nDon\\'t make faces.\\tमूँह मत बनाओ।\\nDon\\'t make noise.\\tशोर मत मचाओ।\\nHave a good time.\\tमज़े करो।\\nHave a nice time.\\tमज़े करो।\\nHe has long legs.\\tउसके पैर लम्बे हैं।\\nHe is her friend.\\tवह उसका दोस्त है।\\nHe likes oranges.\\tउसे संत्रे अच्छे लगते हैं।\\nHe likes oranges.\\tउसे नारंगी अच्छे लगते हैं।\\nHe must love you.\\tवह तुमसे प्यार करता होगा।\\nHe speaks Arabic.\\tवह अरबी बोलता है।\\nHere is your bag.\\tयह लो, तुम्हारा बस्ता।\\nI can\\'t remember.\\tमुझे याद नहीं।\\nI don\\'t know him.\\tमैं उसे नहीं जानता।\\nI have a problem.\\tमैं मुश्किल में हूँ।\\nI have to go now.\\tमुझे अभी जाना है।\\nI live near here.\\tमैं आस-पड़ोस में रहता हूँ।\\nI love my mother.\\tमैं अपनी माँ से प्यार करता हूँ\\nI must leave now.\\tमुझे अब जाना होगा।\\nI\\'m really tired.\\tमैं बहुत थक गया हूँ।\\nI\\'m very thirsty.\\tमुझे बहुत प्यास लगी है।\\nIt\\'s April first.\\tआज एक अप्रैल है।\\nIt\\'s now my turn.\\tअब मेरी बारी है।\\nLet me try again.\\tमै फिर से कोशिश करता हूँ।\\nNice to meet you.\\tआपसे मिलकर खुशी हुई।\\nPlease follow me.\\tमेरे साथ आईए।\\nPlease sign here.\\tयहाँ अपना हस्ताक्षर कीजिए।\\nShe betrayed you.\\tउसने तुम्हें धोखा दिया।\\nSit down, please.\\tबैठिए।\\nThe car is ready.\\tगाड़ी तैयार है।\\nThis is your dog.\\tयह तुम्हारा कुत्ता है।\\nThis is your key.\\tयह आपकी चाबी है।\\nThis isn\\'t right.\\tयह सही नहीं है।\\nTom is my friend.\\tटॉम मेरा दोस्त है।\\nWe\\'re going home.\\tहम घर जा रहें हैं।\\nWe\\'re in a hurry.\\tहम जल्दी में हैं।\\nWelcome to Japan.\\tजापान में आपका स्वागत है।\\nWhat is your age?\\tतुम्हारी उम्र क्या है?\\nWhat\\'s that bird?\\tवह कौनसी चिड़िया है?\\nWhat\\'s the story?\\tक्या कहानी है?\\nWhat\\'s your name?\\tआपका नाम क्या है?\\nWhere did you go?\\tतुम कहाँ गए थे?\\nWhere is the bar?\\tशराबख़ाना कहाँ है?\\nWhose turn is it?\\tकिसकी बारी है?\\nYou may be right.\\tतुम शायद सही हो।\\nAre your eyes bad?\\tतुम्हारी आँखे खराब हैं क्या?\\nBirds build nests.\\tपक्षी घोसले बनातें हैं।\\nBirds build nests.\\tचिड़ियाँ घोसले बनातीं हैं।\\nBoys will be boys.\\tलड़के तो लड़के ही रहेंगे।\\nCan I do anything?\\tमैं कुछ कर सकता हूँ क्या?\\nDidn\\'t you go out?\\tआप बाहर नहीं गए थें क्या?\\nDidn\\'t you go out?\\tतुम बाहर नहीं गए थे क्या?\\nDidn\\'t you go out?\\tतू बाहर नहीं गया था क्या?\\nDo you believe me?\\tक्या तुम्हे मुझपर यकीन है?\\nDo you believe me?\\tक्या तुम मुझपर यकीन करते हो?\\nDo you believe me?\\tक्या तुम मेरा यकीन करते हो?\\nDon\\'t deceive him.\\tउसे धोका मत दो।\\nHe began to shout.\\tवह चिल्लाने लगा।\\nHe came to see me.\\tवह मुझसे मिलने आया था।\\nHe employs a maid.\\tवह नौकरानी रखता है।\\nHe is after a job.\\tवह किसी नौकरी के पीछे पड़ा है।\\nHe is walking now.\\tवह अब चल रहा है।\\nHe studied abroad.\\tउसने विदेश में पढ़ाई करी थी।\\nHe turned traitor.\\tवह देशद्रोही बन गया।\\nHe\\'s already left.\\tवह जाचुका है।\\nI can drive a car.\\tमैं गाड़ी चला सकता हूँ।\\nI cried all night.\\tमैं पूरी रात रोई।\\nI got very sleepy.\\tमुझे नींद आ गई।\\nI have a headache.\\tमेरे सिर में दर्द हो रहा है।\\nI have a headache.\\tमुझे सिरदर्द हो रहा है।\\nI have some money.\\tमेरे पास कुछ पैसे हैं।\\nI haven\\'t met him.\\tमेरी उससे मुलाकात नहीं हुई है।\\nI listen to music.\\tमैं संगीत सुनता हूँ।\\nI saw him running.\\tमैंने उसे दौड़ते हुए देखा।\\nI saw him running.\\tमैंने उसे भागते हुए देखा।\\nI truly loved her.\\tमैं उससे सच्चा प्यार करता था।\\nI work for a bank.\\tमैं बैंक में काम करता हूँ।\\nI\\'m getting happy.\\tमैं खुश हो रहा हूँ।\\nI\\'m not a student.\\tमैं विद्यार्थी नहीं हूँ।\\nI\\'m not like that.\\tमैं वैसा नहीं हूँ।\\nI\\'m really hungry.\\tमुझे बहुत भूख लगी है।\\nIt\\'s not my fault.\\tमेरी ग़लती नहीं है।\\nIt\\'s starting now.\\tशुरू हो रहा है।\\nMy bag was stolen.\\tमेरा बस्ता चोरी हो गया था।\\nMy eyes are tired.\\tमेरी आँखें थक गईं हैं।\\nNo one\\'s in sight.\\tआसपास कोई नहीं है।\\nPut your hands up!\\tहाथ ऊपर करो!\\nShe began to sing.\\tवह गाने लगी।\\nShe has blue eyes.\\tउसकी नीली आँखें हैं।\\nShe isn\\'t married.\\tवह शादीशुदा नहीं है।\\nTell me the truth.\\tमुझे सच्चाई बताओ।\\nThe earth rotates.\\tपृथ्वी घूमती है।\\nTry it once again.\\tएक बार फिरसे कोशिश करो।\\nTry it once again.\\tएक बार और प्रयत्न करो।\\nTurn on the radio.\\tरेडियो को चालू करो।\\nWe don\\'t know her.\\tहम उसे नहीं जानते हैं।\\nWe don\\'t know him.\\tहम उसे नहीं जानते हैं।\\nWe have good news.\\tहमारे पास खुशखबर है।\\nWhat is happiness?\\tखुशी क्या होती है?\\nWhat is happiness?\\tसुख क्या होता है?\\nWhat is your name?\\tआपका नाम क्या है?\\nWhat\\'s the matter?\\tमुश्किल क्या है?\\nWhere do you live?\\tआप कहाँ रहते हैं?\\nWhere do you live?\\tतुम कहाँ रहते हो?\\nWhere do you live?\\tतू कहाँ रहता है?\\nWhere do you live?\\tतुम कहाँ रहती हो?\\nWhere do you live?\\tतू कहाँ रहती है?\\nWhere is the book?\\tवह किताब कहाँ है?\\nWhere\\'s the beach?\\tसमुद्र तट कहां है?\\nWho made this pie?\\tयह पाय किसने बनाई है?\\nYes. That\\'s right.\\tहाँ। यह सही है।\\nYou have to leave.\\tतुम्हें जाना होगा।\\nAre you busy today?\\tतुम आज बिज़ी हो क्या?\\nAre you busy today?\\tतुम्हारे पास आज समय है क्या?\\nCan we have a talk?\\tहम बात कर सकते हैं क्या?\\nCome along with us.\\tहमारे साथ आओ।\\nDid you sleep well?\\tतुम अच्छे से सोये क्या?\\nDo you remember me?\\tतुम्हें मैं याद हूँ क्या?\\nDon\\'t give up hope.\\tउम्मीद मत छोड़ो।\\nDon\\'t throw stones.\\tपत्थर मत फेंको।\\nEveryone likes her.\\tउसे सब पसंद करते हैं।\\nEveryone likes him.\\tउसे सब पसंद करते हैं।\\nHave you gone nuts?\\tतेरी अकल घास चरने गई है क्या?\\nHe breathed deeply.\\tउसने गहरी साँस ली।\\nHe closed his eyes.\\tउसने अपनी आँखें बंद करीं।\\nHe cried and cried.\\tवह रोया और और रोया।\\nHe is a simple man.\\tवह साधा आदमी है।\\nHe is sure to come.\\tवह ज़रूर आएगा।\\nHe isn\\'t my cousin.\\tवह मेरा चचेरा भाई नहीं है।\\nHe isn\\'t my cousin.\\tवह मेरा ममेरा भाई नहीं है।\\nHe waited his turn.\\tउसने अपनी बारी का इंतेज़ार किया।\\nHe works at a bank.\\tवह बैंक में काम करता है।\\nHe\\'s a good person.\\tवह अच्छा इनसान है।\\nI admit my mistake.\\tमैं अपनी ग़लती मानता हूँ।\\nI can read English.\\tमैं अंग्रेज़ी पढ़ सकता हूँ।\\nI can read English.\\tमैं अंग्रेज़ी पढ़ सकती हूँ।\\nI can\\'t believe it!\\tमुझे विश्वास नहीं होता!\\nI heard him go out.\\tमैंने उसके बाहर जाने की आवाज़ सुनी।\\nI know her address.\\tमुझे उसका पता पता है।\\nI know his address.\\tमुझे उसका पता पता है।\\nI know those women.\\tमैं उन औरतों को जानता हूँ।\\nI know your father.\\tमैं तुम्हारे पिताजी को जानता हूँ।\\nI sort of like him.\\tमुझे वह अच्छा सा लगता है।\\nI still don\\'t know.\\tमुझे अभी भी नहीं पता।\\nI was born in 1960.\\tमैं १९६० में पैदा हुआ था।\\nI was born in 1979.\\tमैं १९७९ में पैदा हुआ था।\\nI watch television.\\tमैं टीवी देखता हूँ।\\nI worked all night.\\tमैंने पूरी रात काम किया।\\nI worked all night.\\tमैंने रातभर काम किया।\\nI\\'ll see you later.\\tबाद में मिलेंगे।\\nI\\'ll see you later.\\tफिर मिलेंगे।\\nI\\'m as tall as you.\\tमैं तुम्हारे जितना लम्बा हूँ।\\nI\\'m coming at once.\\tमैं अभी आता हूँ।\\nIs this book yours?\\tक्या यह किताब तुम्हारी है?\\nIt is already dark.\\tअभी से रात हो गई है।\\nIt looks like snow.\\tबरफ़ जैसा दिखता है।\\nIt started to snow.\\tबरफ़ गिरनी शुरू गो गई।\\nIt was sort of fun.\\tवो मजेदार था I\\nIt\\'s mine, not his.\\tमेरा है, उसका नहीं।\\nIt\\'s mine, not his.\\tमेरी है, उसकी नहीं।\\nIt\\'s too expensive!\\tबहुत महंगा है!\\nIt\\'s too expensive!\\tबहुत महंगी है!\\nIt\\'s very hot here.\\tयहाँ बहुत गरम है।\\nLet me handle this.\\tयह मुझे संभालने दो।\\nLet\\'s take a train.\\tरेलगाड़ी से चलते हैं।\\nMy car is a Toyota.\\tमेरी गाड़ी टोयोटा है।\\nMy family is small.\\tमेरा परिवार छोटा है।\\nNo one can help me.\\tकोई मेरी मदद नहीं कर सकता।\\nShe is very pretty.\\tवह बहुत सुंदर है।\\nShe leaped for joy.\\tवह खुशी से उछल पड़ी।\\nShe smiled happily.\\tउसने खुशी से मुस्कुराया।\\nShe\\'s not a doctor.\\tवह डॉक्टर नहीं है।\\nThat guy annoys me.\\tमुझे उस आदमी से चिढ़ आती है।\\nThe batter was out.\\tबॅटर आऊट हो गया था।\\nThe crow flew away.\\tकौआ उड़ गया।\\nThe power went out.\\tबिजली चली गई।\\nThese dogs are big.\\tये कुत्ते बड़े हैं।\\nThis is Mary\\'s dog.\\tयह मेरी का कुत्ता है।\\nWas his story true?\\tउसकी कहानी सच्ची थी क्या?\\nWe are against war.\\tहम जंग के ख़िलाफ़ हैं।\\nWe are against war.\\tहम युद्ध का विरोध करते हैं।\\nWe enjoyed skating.\\tहमे स्केटिंग करके मज़ा आया।\\nWe were in a hurry.\\tहम जल्दी में थे।\\nWe were very tired.\\tहम बहुत थक चुके थे।\\nWe\\'re good friends.\\tहम अच्छे दोस्त हैं।\\nWhat a big pumpkin!\\tकितना बड़ा कद्दू है!\\nWhat\\'s the problem?\\tमुश्किल क्या है?\\nWhen does it begin?\\tशुरू कब होता है?\\nWhere are the kids?\\tबच्चे कहाँ गए?\\nWhere is the beach?\\tसमुद्र तट कहां है?\\nWhich dog is yours?\\tतुम्हारा कुत्ता कौनसा है?\\nWho broke the vase?\\tगुलदान को किसने तोड़ दिया?\\nWho made this cake?\\tयह केक किसने बनाया है?\\nWho\\'s at the wheel?\\tगाड़ी कौन चला रहा है?\\nWhose book is this?\\tयह किसकी किताब है?\\nYou may use my pen.\\tतुम मेरी कलम इस्तेमाल कर सकते हो।\\nAnswer my questions.\\tमेरे सवालों का जवाब दो।\\nAre they in the gym?\\tवे जिमखाने में हैं क्या?\\nCan you drive a car?\\tतुम्हें गाड़ी चलाना आता है क्या?\\nCan you drive a car?\\tतुम गाड़ी चला सकते हो क्या?\\nCould you sign here?\\tयहाँ हस्ताक्षर कर सकते हैं क्या?\\nEverybody likes her.\\tउसे सब पसंद करते हैं।\\nEverybody likes him.\\tउसे सब पसंद करते हैं।\\nExcuse me, I\\'m lost.\\tमाफ़ कीजिएगा, मैं खो गई हूँ।\\nHe called me a taxi.\\tउसने मेरे लिए टेक्सी बुलवाई।\\nHe felt very lonely.\\tउसे बहुत अकेलापन महसूस हुआ।\\nHe lives next to me.\\tवह मेरे पड़ोस में रहता है।\\nHe looks very tired.\\tवह बहुत थका-हारा सा लगता है।\\nHe seems to be rich.\\tवह दिखने में बहुत अमीर लगता है।\\nHe\\'ll get well soon.\\tवह जल्द ही ठीक हो जाएगा।\\nHe\\'s in a bad state.\\tउसकी हालत बुरी है।\\nHow about the taste?\\tऔर स्वाद कैसा है?\\nHow did you make it?\\tतुमने कैसे बनाया?\\nI am not from India.\\tमैं भारत से नहीं हूँ।\\nI am reading a book.\\tमैं किताब पढ़ रही हूँ।\\nI bought an old car.\\tमैंने पुरानी गाड़ी खरीदी।\\nI can teach English.\\tमैं अंग्रेज़ी पढ़ा सकता हूँ।\\nI continued singing.\\tमैं गाता चला गया।\\nI do not understand.\\tमैं समझा नहीं।\\nI don\\'t like summer.\\tमुझे गर्मी का मौसम पसंद नहीं है।\\nI forgot to ask him.\\tमैं उससे पूछना भूल गया।\\nI hate taking risks.\\tमुझे जोखिम लेना पसंद नहीं है।\\nI haven\\'t eaten yet.\\tमैंने अभी तक नहीं खाया है।\\nI know both of them.\\tमैं दोनो को जानता था।\\nI know what that is.\\tमुझे पता है कि वह चीज़ क्या है।\\nI tried to tell you.\\tमैंने तुम्हे बताने की कोशिश करी थी।\\nI want to marry her.\\tमैं उससे शादी करना चाहता हूँ।\\nI wanted her to win.\\tमैं चाहता था कि वह जीत जाए।\\nI\\'d like a city map.\\tमुझे शहर का नक्शा चाहिए।\\nI\\'d like to see her.\\tमैं उसे देखना चाहूँगा।\\nI\\'d like to see her.\\tमैं उससे मिलना चाहूँगा।\\nI\\'ll be back at ten.\\tमैं दस बजे वापस आऊँगा।\\nI\\'ll bring the wine.\\tमैं शराब लाता हूँ।\\nI\\'ll bring the wine.\\tमैं शराब लाऊँगा।\\nI\\'ll make you happy.\\tमैं तुम्हें खुश करूँगा।\\nI\\'ve already called.\\tमैंने फ़ोन कर लिया है।\\nI\\'ve lost my ticket.\\tमेरी टिकट खो गई है।\\nLet\\'s play baseball!\\tचलो बेसबॉल खेलतें हैं।\\nMust I write in ink?\\tमुझे स्याही से ही लिखना होगा?\\nMy family loved Tom.\\tमेरे परिवार को टॉम पसंद था।\\nMy money was stolen.\\tमेरे पैसे चोरी हो गए।\\nMy sister has a job.\\tमेरी बहन के पास नौकरी है।\\nShe kept on working.\\tवह काम करती रही।\\nShe pulled my shirt.\\tउसने मेरी कमीज़ खींची।\\nThat is not a tiger.\\tवह बाघ नहीं है।\\nThat was my mistake.\\tवह मेरी ग़लती थी।\\nThe skies are clear.\\tआसमान साफ़ है।\\nThe trees are green.\\tपेड़ हरे हैं।\\nThese are our books.\\tये हमारी किताबें हैं।\\nThis is what I need.\\tयह वही चीज़ है जिसकी मुझे ज़रूरत है।\\nWatch your language.\\tज़बान सम्भाल के बात करो।\\nWe are good friends.\\tहम अच्छे दोस्त हैं।\\nWe must pay the tax.\\tहमें टैक्स भरना पड़ेगा।\\nWhat did you answer?\\tतुमने क्या जवाब दिया?\\nWhat is in this box?\\tइस डब्बे में क्या है?\\nWhat were you doing?\\tतुम क्या कर रहे थे?\\nWhere are you going?\\tतुम कहाँ जा रहे हो?\\nWhere are you going?\\tआप कहाँ जा रहे हैं?\\nWhere\\'s the airport?\\tहवाई अड्डा कहाँ पर है?\\nWhich book is yours?\\tतुम्हारी किताब कौनसी है?\\nWho is your teacher?\\tतुम्हारे टीचर कौन हैं?\\nWhy didn\\'t you come?\\tतुम क्यों नहीं आए?\\nWill you go with us?\\tतुम हमारे साथ आओगे क्या?\\nWinter is coming on.\\tसर्दी आ रही है।\\nYou are at it again.\\tतुम फिरसे चालू हो गए।\\nYou may rely on him.\\tतुम उसपर भरोसा कर सकते हो।\\nYou must forgive me.\\tतुम्हे मुझे माफ़ करना होगा।\\nYou must forgive me.\\tआपको मुझे क्षमा करना होगा।\\nYou must study hard.\\tतुम्हें मन लगाकर पढ़ना होगा।\\nYou\\'re a life saver.\\tतुमने मेरी जान बचाली।\\nDidn\\'t I tell you so?\\tमैंने तुम्हें बताया नहीं था?\\nDo you have a pencil?\\tतुम्हारे पास पेनसिल है क्या?\\nDo you live in Tokyo?\\tतुम टोक्यो में रहते हो क्या?\\nDo you speak English?\\tक्या आप अंग्रेज़ी बोलते हैं?\\nDon\\'t open your book.\\tअपनी किताब मत खोलो।\\nDon\\'t worry about me.\\tमेरी चिंता मत करो।\\nDon\\'t worry about us.\\tहमारी चिंता मत करो।\\nFish live in the sea.\\tमछलियाँ समुंदर में रहतीं हैं।\\nGo tell him yourself.\\tउसको अपने-आप जाकर बताओ।\\nHave you been abroad?\\tआप विदेश गए हुए हैं क्या?\\nHe envied my success.\\tउसको मेरी कामयाबी से जलन थी।\\nHe got angry with me.\\tवह मुझपर गुस्सा हो गया।\\nHe has been to India.\\tवह भारत गया हुआ है।\\nHe is angry with you.\\tवह तुमसे नाराज़ है।\\nHe is hard to please.\\tउसको खुश करना बहुत मुश्किल है।\\nHe is in poor health.\\tउसकी हालत बुरी है।\\nHe lent me two books.\\tउसने मुझे दो किताबें उधार दीं।\\nHe made up an excuse.\\tउसने कोई बहाना बना लिया।\\nHe married for money.\\tउसने पैसों के लिए शादी की।\\nHe saw a pretty girl.\\tउसने एक सुंदर लड़की को देखा।\\nHe wanted to succeed.\\tवह कामयाब होना चाहता था।\\nHow\\'s your job going?\\tतुम्हारी नौकरी कैसी चल रही है?\\nI agree to this plan.\\tमैं इस योजना से सहमत हूँ।\\nI am a stranger here.\\tमुझे यहाँ पर अजनबी के जैसा महसूस होता है।\\nI am counting on you.\\tमैं तुमपर भरोसा कर रहा हूँ।\\nI am eating an apple.\\tमैं सेव खा रहा हूँ ।\\nI am eating an apple.\\tमैं सेव खा रही हूँ ।\\nI don\\'t mind waiting.\\tमुझे प्रतीक्षा करने में कोई आपत्ती नहीं है।\\nI expect him to come.\\tमुझे लगता है वह आएगा।\\nI feel like vomiting.\\tमुझे उल्टी आ रही है।\\nI have a few friends.\\tमेरे पास कुछ दोस्त हैं।\\nI have a stomachache.\\tमुझे पेट में दर्द हो रहा है।\\nI have back problems.\\tमुझे पीठ की तकलीफ है I\\nI have been to Kyoto.\\tमैं क्योटो गया हुआ हूँ।\\nI have caught a cold.\\tमुझे ज़ुकाम हो गया है।\\nI just cut my finger.\\tमैंने अपनी ऊँगली काट ली।\\nI know why he did it.\\tमुझे पता है उसने क्यों किया था।\\nI live in a big city.\\tमैं बड़े शहर में रहता हूँ।\\nI lost consciousness.\\tमैं बेहोशी में चला गया।\\nI lost consciousness.\\tमैं बेहोश हो गया।\\nI meant it as a joke.\\tमैंने तो मज़ाक के तौर पर कहा था।\\nI meant it as a joke.\\tमैंने तो मज़ाक समझकर बोला था।\\nI met Mary yesterday.\\tमैं कल मेरी से मिला था।\\nI think you\\'re right.\\tमेरे ख़याल से तुम सही हो।\\nI want my money back.\\tमुझे अपने पैसे वापस चाहिए।\\nI will come with you.\\tमैं तुम्हारे साथ आऊँगा।\\nI\\'ll admit I\\'m wrong.\\tमैं मानता हूँ कि मैं ग़लत था।\\nI\\'ll never come back.\\tमैं कभी वापस नहीं आऊँगा।\\nI\\'m allergic to fish.\\tमुझे मछली से एलर्जी है।\\nI\\'ve lost my glasses.\\tमेरा चश्मा खो गया है।\\nI\\'ve lost my glasses.\\tमेरे चश्मे खो गए हैं।\\nI\\'ve made a decision.\\tमैं फ़ैसला कर चुका हूँ।\\nIs he reading a book?\\tवह किताब पढ़ रहा है क्या?\\nIs it open on Sunday?\\tरविवार को खुला होता है क्या?\\nIs the phone ringing?\\tफ़ोन बज रहा है क्या?\\nIt is already eleven.\\tग्यारह बज चुके हैं।\\nIt is free of charge.\\tयह मुफ़्त का है।\\nIt\\'s an easy victory.\\tयह जीत तो बहुत आसान थी।\\nLet me take you home.\\tमुझे तुम्हें घर लेजाने दो।\\nLincoln died in 1865.\\tलिंकन की मौत १८६५ में हुई थी।\\nPlease do it quickly.\\tजल्दी कीजिए।\\nPlease shut the door.\\tदरवाज़े को बंद कर दीजिए।\\nShe gave him a watch.\\tउसने उसे एक घड़ी दी।\\nShe wore a red dress.\\tउसने लाल रंग के कपड़े पहने थे।\\nShe wore a red dress.\\tउसने लाल ड्रेस पहनी थी।\\nThat\\'s his specialty.\\tवह उसकी ख़ासियत है।\\nThe house is haunted.\\tइस घर में भूत है।\\nThe house was ablaze.\\tघर आग में लिपटा हुआ था।\\nThe man looked at me.\\tउस आदमी ने मेरी ओर देखा।\\nThe sheets feel damp.\\tचादरें गीलीं लगतीं हैं।\\nThe water pipe burst.\\tपानी का पाइप फट गया।\\nThese books are mine.\\tये किताबें मेरीं हैं।\\nThese shoes are hers.\\tयह जूते उसके हैं।\\nThey went to the zoo.\\tवे ज़ू गए थे।\\nThis feels like silk.\\tयह रेशम जैसा लगता है।\\nThis watch is broken.\\tयह घड़ी टूटी हुई है।\\nTime goes by quickly.\\tसमय तेज़ी से बीतता है।\\nWash your hands well.\\tअपने हाथ अच्छे से धोओ।\\nWhat day is it today?\\tआज कौनसा वार है?\\nWhat did Galileo see?\\tगैलीलियो ने क्या देखा?\\nWhat did Galileo see?\\tगैलीलियो को क्या दिखा?\\nWhat does it contain?\\tइसमें क्या है?\\nWhen did you see her?\\tतुमने उसे कब देखा था?\\nWhen will you return?\\tतुम कब लौट कर आओगे?\\nWhere is the problem?\\tमुश्किल क्या है?\\nWhere is the problem?\\tमुश्किल कहाँ है?\\nWhere is your father?\\tतुम्हारे पिता कहाँ हैं?\\nWill you go by train?\\tतुम रेलगाड़ी से जाओगे क्या?\\nYou can\\'t prove that.\\tतुम वह साबित नहीं कर सकते।\\nYou look happy today.\\tतुम आज खुश लगते हो।\\nYour dog is very big.\\tतुम्हारा कुत्ता बहुत बड़ा है।\\nYour dog is very fat.\\tतुम्हारा कुत्ता बहुत मोटा है।\\nCan I use your pencil?\\tमैं तुम्हारी पेनसिल इस्तेमाल कर सकता हूँ क्या?\\nCan the rumor be true?\\tक्या यह अफ़वाह सच हो सकती है?\\nCan you keep a secret?\\tतुम राज़ रख सकते हो क्या?\\nDid you see my camera?\\tतुमने मेरा कैमरा देखा क्या?\\nDo you believe in God?\\tक्या तुम भगवान में विश्वास करते हो?\\nDo you know your size?\\tक्या आपको अपना नाप पता है?\\nDo you like this book?\\tक्या तुम्हें यह किताब पसंद है ?\\nDoes he speak English?\\tवह अंग्रेज़ी बोलता है क्या?\\nDon\\'t be disappointed.\\tनिराश मत हो।\\nFat hens lay few eggs.\\tमोटी मुर्गियाँ कम अंडे देतीं हैं।\\nHas the bell rung yet?\\tघंटी बज चुकी है क्या?\\nHe accepted our offer.\\tउसने हमारा प्रस्ताव स्वीकार कर लिया।\\nHe became a policeman.\\tवह पुलिस अफ़सर बन गया।\\nHe became a policeman.\\tवह पुलिसवाला बन गया।\\nHe climbed the stairs.\\tवह सीड़ियों पर चढ़ गया।\\nHe deals in furniture.\\tवो फ़र्निचर का व्यापार करता है।\\nHe got a lot of money.\\tउसे बहुत सारा पैसा मिला।\\nHe has a little money.\\tउसके पास थोड़े-बहुत पैसे हैं।\\nHe has a lot of money.\\tवह बहुत पैसेवाला है।\\nHe is a sharp-shooter.\\tउसका निशाना बहुत अच्छा है।\\nHe is poor, but happy.\\tवह गरीब है, पर खुश है।\\nHe is tall and strong.\\tवह लम्बा और ताकतवर है।\\nHe knows us very well.\\tवह हमको अच्छी तरह से जानता है।\\nHe looks like a horse.\\tवह दिखने में घोड़े की तरह लगता है।\\nHe must be over sixty.\\tवे कम-से-कम साठ बरस के तो होंगे।\\nHe sang while working.\\tउसने गाते गाते काम किया।\\nHe was my dear friend.\\tवह मेरा अच्छा दोस्त था।\\nHe was sick last week.\\tवह पिछले हफ़्ते बीमार था।\\nHe won the race again.\\tउसने प्रतियोगिता फिरसे जीत ली।\\nHe writes beautifully.\\tवह सुंदर लिखता है।\\nHow do you feel today?\\tतुम्हे आज कैसा लग रहा है?\\nI am grateful to them.\\tमैं उनका आभारी हूँ।\\nI am poor at swimming.\\tमुझे ढंग से तैरना नहीं आता।\\nI am tired of my work.\\tमैं अपने काम से थक चुका हूँ।\\nI can\\'t let you leave.\\tआपको जाने नहीं दे सकता हूँ।\\nI dove into the river.\\tमैंने नदी में छलाँग लगाकर डुबकी ली।\\nI have made him angry.\\tमैंने उसे गुस्सा कर दिया है।\\nI live in Boston, too.\\tमैं भी बॉस्टन में ही रहता हूँ।\\nI made him my servant.\\tमैंने उसे अपना नौकर बना लिया।\\nI never liked biology.\\tमुझे जीव विज्ञान कभी भी पसंद नहीं था।\\nI ran away in a hurry.\\tमैं हड़बड़ी में दौड़ गया।\\nI want to visit Korea.\\tमैं कोरिया जाना चाहता हूँ।\\nI\\'m too tired to walk.\\tमैं इतना थक गया हूँ कि मुझसे और चला नहीं जाएगा।\\nI\\'ve made my decision.\\tमैं फ़ैसला कर चुका हूँ।\\nIs Mary your daughter?\\tक्या मैरी तुम्हारी बेटी है?\\nIs your watch correct?\\tतुम्हारी घड़ी सही है क्या?\\nIt will snow tomorrow.\\tकल बरफ़ पड़ेगी।\\nLet\\'s start the party.\\tपार्टी शुरू करते हैं।\\nMake yourself at home.\\tइसको अपना घर ही समझो।\\nMay comes after April.\\tमई अप्रैल के बाद आता है।\\nMy car is not running.\\tमेरी गाड़ी चल नहीं रही है।\\nMy eye has swollen up.\\tमेरी आँख सूज गई है।\\nNot all birds can fly.\\tसारे पंछी उड़ नहीं सकते।\\nPlease close the door.\\tदरवाज़े को बंद कर दीजिए।\\nPlease leave me alone.\\tमुझे अकेला छोड़ दीजिए।\\nPlease throw the ball.\\tगेंद फेंकिए।\\nPut it where you like.\\tजहाँ भी डालना है डालदो।\\nPut it where you like.\\tजहाँ भी रखना है रखदो।\\nPut it where you like.\\tजहाँ भी घुसाना है घुसादो।\\nShe always works hard.\\tवह हमेशा मन लगाकर काम करती है।\\nShe asked me for help.\\tउसने मुझसे मदद मांगी।\\nShe got me a tiny toy.\\tवह मेरे लिए एक नन्हा सा खिलौना खरीद लाई।\\nShe hated her husband.\\tवह अपने पति से नफ़रत करती थी।\\nShe is five years old.\\tवह पाँच साल की है।\\nShe lived a long life.\\tउसने लम्बी ज़िन्दगी जी।\\nShe\\'s a stubborn girl.\\tवह एक ज़िद्दी लड़की है।\\nSit wherever you like.\\tकहीं भी बैठ जाओ।\\nTell me what happened.\\tमुझे बताओ क्या हुआ।\\nThe lake is deep here.\\tझील यहाँ पर बहुत गहरी है।\\nThe man lost all hope.\\tउस आदमी ने सारी उम्मीद छोड़दी।\\nThe station is nearby.\\tस्टेशन पास में है।\\nThey hated each other.\\tवे एक-दूसरे से नफ़रत करते थे।\\nThey made fun of Mary.\\tउन्होंने मेरी का मज़ाक उड़ाया।\\nThey missed the train.\\tउनकी ट्रेन छूट गई।\\nThey shouted for help.\\tउन्होंने मदद के लिए चिल्लाया।\\nThey shouted for help.\\tउन्होंने मदद के लिए आवाज़ लगाई।\\nThis is an apple, too.\\tयह भी सेव है।\\nTom and I are friends.\\tटॉम और मैं दोस्त हैं।\\nWe accepted his offer.\\tहमने उसके प्रस्ताव को स्वीकार कर लिया।\\nWe are disturbing him.\\tहम उनको परेशान कर रहें हैं।\\nWe rested for a while.\\tहमने थोड़ी देर आराम किया।\\nWell, I must be going.\\tमुझे चलना चाहिए।\\nWhat is this nonsense?\\tयह क्या बकवास है?\\nWhat\\'re you two doing?\\tतुम दोनो क्या कर रहे हो?\\nWhat\\'re you two doing?\\tतुम दोनो क्या कर रहे थे?\\nWhere is the elevator?\\tलिफ़्ट कहाँ पर है?\\nWhose books are these?\\tये क्या किताबें हैं?\\nWill he come tomorrow?\\tवह कल आएगा क्या?\\nWill he come tomorrow?\\tवे कल आएँगे क्या?\\nYou didn\\'t understand.\\tतुम समझे नहीं।\\nYou reap what you sow.\\tजैसी करनी वैसी भरनी।\\nYou reap what you sow.\\tजैसा बोओगे, वैसा काटोगे।\\nYou reap what you sow.\\tअच्छा करो, अच्छा पाओ।\\nYou reap what you sow.\\tकर भला तो हो भला।\\nYou reap what you sow.\\tजैसा करना वैसा भरना।\\nYour hair is too long.\\tतुम्हारे बाल कुछ ज़्यादा ही लम्बे हैं।\\n\"Who is it?\" \"It\\'s me.\"\\t\"कौन है?\" \"मैं हूँ\"\\nA fox is a wild animal.\\tलोमड़ी जंगली जानवर होती है।\\nA rabbit has long ears.\\tखरगोश के कान लम्बे होते हैं।\\nCan anyone believe you?\\tक्या कोई तुम्हारा यकीन कर सकता है?\\nDid you read it at all?\\tतुमने पूरा पढ़ लिया क्या?\\nDo you like this color?\\tयह रंग पसंद है क्या?\\nDon\\'t ask me for money.\\tमुझसे पैसे मत माँगो।\\nDon\\'t lose your temper.\\tनाराज़ मत हो जाओ।\\nDon\\'t make fun of them.\\tउनका मज़ाक मत उड़ाओ।\\nDon\\'t make me slap you.\\tमुझे तुम्हें थप्पड़ करने के लिए मजबूर मत करो।\\nDon\\'t say such a thing.\\tऐसी बात मत बोलो।\\nDon\\'t start doing that.\\tवह काम शुरु मत करो।\\nEveryone knew the song.\\tवह गाना सभी को पता था।\\nFish live in the water.\\tमछलियाँ पानी में जीतीं हैं।\\nHe can\\'t run very fast.\\tवह ज़्यादा तेज़ नहीं भाग सकता।\\nHe earns a good salary.\\tवह अच्छा कमा लेता है।\\nHe has three daughters.\\tउसकी तीन बेटियाँ हैं।\\nHe knocked at the door.\\tउसने दरवाज़े पर खटखटाया।\\nHe learned how to swim.\\tउसने तैरना सीखा।\\nHe robbed me of my bag.\\tउसने मेरा बस्ता चुरा लिया।\\nHe told me where to go.\\tउसने मुझे बताया कहाँ जाना है।\\nHe tore the book apart.\\tउसने किताब को फाड़ डाला।\\nHe understands physics.\\tवह भौतिक विज्ञान समझता है।\\nHe will soon come back.\\tवह बस अभी आता होगा।\\nHe will soon come back.\\tवह बस आता ही होगा।\\nHe will soon come back.\\tवह थोड़ी देर में वापस आ रहा है।\\nHer father is Japanese.\\tउसके पिता जापानी हैं।\\nI asked him to do that.\\tमैंने उससे वह करने को कहा था।\\nI don\\'t agree with you.\\tमैं तुमसे सहमत नहीं हूँ।\\nI don\\'t believe in God.\\tमैं भगवान में यकीन नहीं करता।\\nI don\\'t want your pity.\\tमुझे तुम्हारी दया नहीं चहिए।\\nI found the cage empty.\\tमुझे पिंजरा खाली मिला।\\nI go to school on foot.\\tमैं स्कूल चलकर जाती हूँ।\\nI made the woman angry.\\tमैंने उस औरत को गस्सा दिलाया।\\nI prefer coffee to tea.\\tमुझे चाय से ज़्यादा कॉफ़ी पसंद है।\\nI seem to have a fever.\\tमुझे बुखार जैसा लगता है।\\nI still don\\'t know yet.\\tमुझे अभी भी नहीं पता।\\nI wake up at 7 o\\'clock.\\tमैं सात बजे सोकर उठता हूँ।\\nI want to do it myself.\\tमैं अपने-आप करना चाहता हूँ।\\nI wasn\\'t fired. I quit.\\tमुझे नौकरी से निकाला नहीं गया। मैंने खुद ही नौकरी छोड़ दी।\\nI will be back by nine.\\tमैं नौ बजे से पहले वापस आ जाऊँगा।\\nI wonder what happened.\\tपता नहीं क्या हुआ।\\nI\\'d like a Bloody Mary.\\tमुझे एक ब्लडी मेरी चाहिए।\\nI\\'ll make a phone call.\\tमैं फ़ोन करता हूँ।\\nI\\'m at the airport now.\\tमैं अभी हवाईअड्डे में हूँ।\\nI\\'m longing to see him.\\tमैं उससे मिलने के लिए उत्सुक हूँ।\\nI\\'m thinking about you.\\tमैं तुम्हारे बारे में सोच रहा हूँ।\\nIs anyone absent today?\\tक्या आज कोई अनुपस्थित है?\\nIs anyone absent today?\\tआज कोई है जो नहीं आया है?\\nIt is difficult for me.\\tवह मेरे लिए मुश्किल है।\\nIt\\'s rather cold today.\\tआज मौसम काफ़ी ठंडा है।\\nMind your own business!\\tअपने काम से काम रखो!\\nMy father is very nice.\\tमेरे पिता बहुत अच्छे हैं।\\nMy father is very nice.\\tमेरे पापा बहुत अच्छे हैं।\\nMy stomach is growling.\\tमेरा पेट गुड़गुड़ा रहा है।\\nNew York is a big city.\\tन्यू यॉर्क बड़ा शहर है।\\nSchool begins in April.\\tस्कूल अप्रैल में शुरू होता है।\\nSchool is over at 3:30.\\tस्कूल साढ़े तीन बजे छूटता है।\\nShall I clean the room?\\tमैं कमरे की सफ़ाई करूँ क्या?\\nShe always wears black.\\tवह हमेशा काले कपड़े पहनती है।\\nShe can play the piano.\\tवह पियानो बजाना जानती है।\\nShe has a gentle heart.\\tवह नर्म दिल वाली है।\\nShe is a wealthy woman.\\tवह बहुत पैसेवाली औरत है।\\nShe is poor, but happy.\\tवह गरीब है, पर खुश है।\\nShe married a rich man.\\tउसने पैसेवाले से शादी की।\\nShe prattles on and on.\\tवह बहुत बक-बक करती है।\\nShe showed me her room.\\tउसने मुझे अपना कमरा दिखाया।\\nShould I clean my room?\\tक्या मैं कमरा साफ़ कर सकती हूँ?\\nThat is almost correct.\\tयह लगभग सही है।\\nThat was cooked in oil.\\tवह तेल में पकाया गया है।\\nThat was cooked in oil.\\tवह तेल में पका हुआ है।\\nThat\\'s a good question.\\tयह एक बहुत अच्छा सवाल है।\\nThat\\'s weird, isn\\'t it?\\tये अजीब है, नहीं?\\nThe baby ceased crying.\\tबच्चे ने रोना समाप्त कर दिया।\\nThe baby ceased crying.\\tबच्चे ने रोना बंद कर दिया।\\nThe gate was left open.\\tगेट को खुला छोड़ दिया गया था।\\nThe girl looked around.\\tउस लड़की ने पीछे मुड़कर देखा।\\nThe knife is not sharp.\\tयह चाकू तेज़ नहीं है।\\nThe light doesn\\'t work.\\tयह बत्ती काम नहीं करती।\\nThe sooner, the better.\\tजितना जल्दी उतना अच्छा।\\nThey will be very glad.\\tवे बहुत प्रसन्न होंगे।\\nThis book is very thin.\\tयह किताब बहुत पतली है।\\nThis lion is very tame.\\tयह शेर बहुत पालतू है।\\nThis silk feels smooth.\\tयह रेशम छूने में बहुत नर्म लगता है।\\nTom started the engine.\\tटॉम ने इंजन को चालू कर दिया।\\nWe often make mistakes.\\tहम अक्सर ग़लतियाँ कर बैठते हैं।\\nWere you told to do so?\\tतुम्हें यह करने के लिए बताया गया था?\\nWhat do you like to do?\\tतम्हे क्या करना अच्छा लगता है?\\nWhat do you like to do?\\tआपको क्या करना अच्छा लगता है?\\nWhat time does it open?\\tकितने बजे खुलता है?\\nWhat\\'s the temperature?\\tतापमान क्या है?\\nWho do you think he is?\\tतुम्हारे ख़याल से वह कौन है?\\nWhy are you stuttering?\\tहकला क्यों रहे हो?\\nWill we arrive in time?\\tहम समय में पहुँच जाएँगे क्या?\\nYou had plenty of time.\\tतुम्हारे पास काफ़ी समय था।\\nYou have a good memory.\\tतुम्हारी याददाश्त अच्छी है।\\nYou\\'ve got to stop Tom.\\tतुम्हे टॉम को रोकना ही होगा।\\nAre there enough chairs?\\tकुरसियाँ काफ़ी हैं क्या?\\nAre you free on Tuesday?\\tतुम मंगलवार को खाली हो क्या?\\nCan I see your passport?\\tमैं आपका पासपोर्ट देख सकता हूँ क्या?\\nCan you lend me 500 yen?\\tतुम मुझे पाँच सौ येन उधार दे सकते हो क्या?\\nCan\\'t you speak English?\\tतुम अंग्रेज़ी नहीं बोल सकते हो क्या?\\nDo you watch television?\\tआप टीवी देखतें हैं क्या?\\nDoes milk spoil quickly?\\tदूध जल्दी से खराब हो जाता है क्या?\\nDon\\'t drink any alcohol.\\tशराब की एक बूंद भी मत पियो।\\nDon\\'t forget the ticket.\\tटिकट भूलना मत।\\nGlass is made from sand.\\tग्लास रेत से बनाया जाता है।\\nHe abandoned his family.\\tउसने अपने परिवार को छोड़ दिया।\\nHe betrayed his country.\\tउसने अपने देश को धोखा दे दिया।\\nHe catches colds easily.\\tउसे ज़ुकाम बहुत आसानी से हो जाता है।\\nHe couldn\\'t get the job.\\tउसको नौकरी नहीं मिल पायी।\\nHe decided to go abroad.\\tउसने विदेश जाने का निर्णय लिया।\\nHe did not get up early.\\tवह जल्दी नहीं उठा।\\nHe got lost in the park.\\tवह पार्क में खो गया।\\nHe is smelling the soup.\\tवह सूप को सूँघ रहा है।\\nHe is used to hard work.\\tउसको मेहनत करने की आदत है।\\nHe likes playing soccer.\\tउसको फ़ुटबॉल खेलना अच्छा लगता है।\\nHe looked up at the sky.\\tउसने आसमान की तरफ़ देखा।\\nHe tends to be arrogant.\\tउसको घमण्डी होने की आदत है।\\nHe tends to be arrogant.\\tउसको अहंकारी होने की आदत है।\\nHe tends to be arrogant.\\tउसको अभिमानी होने की आदत है।\\nHe was accused of theft.\\tउसपर चोरी का इलज़ाम लगाया गया।\\nHe was more than a king.\\tवह एक राजा से बहुत ज़्यादा था।\\nHer story can\\'t be true.\\tउसकी कहानी सच्ची नहीं हो सकती।\\nI do not have much time.\\tमेरे पास ज़्यादा समय नहीं है।\\nI don\\'t have much money.\\tमेरे पास ज़्यादा पैसे नहीं हैं।\\nI feel like throwing up.\\tमुझे उल्टी आ रही है।\\nI fell in love with her.\\tमुझे उससे प्यार हो गया।\\nI found the glass empty.\\tमुझे गिलास खाली मिला।\\nI have little money now.\\tअब मेरे पास बहुत थोड़े पैसे हैं।\\nI have no money with me.\\tमेरे पास अभी कोई पैसे नहीं हैं।\\nI have to see a dentist.\\tमुझे दंत चिकित्सक से मिलना है।\\nI like my job very much.\\tमुझे अपना काम बहुत पसंद है।\\nI like studying English.\\tमुझे अंग्रेज़ी पढ़ना अच्छा लगता है।\\nI really like city life.\\tमुझे शहर की ज़िन्दगी पसंद है।\\nI wish I could help you.\\tकाश मैं तुम्हारी मदद कर सकता।\\nI\\'d rather not meet him.\\tहो सके तो मैं उससे मिलना नहीं चाहूँगा।\\nI\\'d rather not meet him.\\tहो सके तो मैं उससे मिलना नहीं चाहूँगी।\\nI\\'ll give you a present.\\tमैं तुम्हें एक तोहफ़ा दूँगा।\\nI\\'ve quit drinking beer.\\tमैंने बीयर पीना छोड़ दिया है।\\nIs this what you wanted?\\tतुम यही चाहते थे ना?\\nIt is almost 12 o\\'clock.\\tबारह बजने वाले हैं।\\nIt\\'s almost six o\\'clock.\\tछः बजने वाले हैं।\\nIt\\'s no concern of mine.\\tइससे मेरे कोई लेना-देना नहीं है।\\nMy sister has long legs.\\tमेरी बहन की टांगें बहुत लम्बीं हैं।\\nShall I get you a chair?\\tमैं आपके लिए कुरसी लेआऊँ?\\nShe bought a dozen eggs.\\tउसने एक दर्जन अंडे खरीदे।\\nShe doesn\\'t speak to me.\\tवह मुझसे बात नहीं करती।\\nShe is dressed in white.\\tउसने सफ़ेद कपड़े पहने हुएँ हैं।\\nShe was late once again.\\tवह एक बार फिर देर से आई।\\nShow me another example.\\tमुझे एक और उदाहरण दो।\\nSwimming is easy for me.\\tमेरे लिए तैरना आसान है।\\nTake whichever you want.\\tकोईसा भी ले लो।\\nThat applies to him too.\\tयह उसपर भी लागु होता है।\\nThat man has many debts.\\tइस आदमी के पास बहुत सारे कर्ज़ हैं।\\nThe box is made of wood.\\tडब्बा लकड़ी का बना है।\\nThe bus hasn\\'t come yet.\\tबस अभी तक आई नहीं है।\\nThe house was in flames.\\tघर आग में लिपटा हुआ था।\\nThey adopted the orphan.\\tउन्होंने अनाथ बच्चे को गोद ले लिया।\\nThey stood face to face.\\tवे आमने-सामने खड़े हुए।\\nThey were afraid of you.\\tवे तुमसे डरते थे।\\nThey were afraid of you.\\tउन्हें तुमसे डर लगता था।\\nThis chair is too small.\\tयह कुरसी बहुत छोटी है।\\nThis is why I came back.\\tमैं इसीलिए वापस आया था।\\nThis river is beautiful.\\tयह नदी बहुत सुन्दर है।\\nTomorrow is my birthday.\\tकल मेरा जन्मदिन है।\\nTurn your face this way.\\tअपना मूँह इस ओर मोड़ो।\\nTurn your face this way.\\tअपना मूँह इस तरफ़ मोड़ो।\\nTwo plus two makes four.\\tदो और दो चार होते हैं।\\nWater is very important.\\tपानी बहुत जरूरी है।\\nWe all stood up at once.\\tहम सब एक-साथ खड़े हो गए।\\nWe bought a round table.\\tहमने गोल मेज़ खरीदी।\\nWe have no school today.\\tहमारी आज स्कूल से छुट्टी है।\\nWe may not win tomorrow.\\tहम कल शायद नहीं जीतेंगे।\\nWe put sugar in our tea.\\tहम चाय में चीनी डालते हैं।\\nWhat do you want it for?\\tतुम्हे किसलिए चाहिए?\\nWhat is his nationality?\\tउसकी राष्ट्रीयता क्या है?\\nWhen do you play tennis?\\tतुम टेनिस कब खेलना चाहते हो?\\nWhen it rains, it pours.\\tजब बारिश होती है, तो ज़बरदस्त होती है।\\nWhy don\\'t you ever help?\\tतुम कभी भी मदद क्यों नहीं करते?\\nWhy don\\'t you ever help?\\tतू कभी भी मदद क्यों नहीं करता है?\\nWill you turn on the TV?\\tटीवी चालू करदोगे क्या?\\nYou shouldn\\'t wait here.\\tतुम्हें यहाँ इंतेज़ार नहीं करना चाहिए।\\nAre you younger than him?\\tतुम उससे छोटे हो क्या?\\nBad news travels quickly.\\tबुरी खबर तेज़ी से फैलती है।\\nCan you keep it a secret?\\tक्या तुम इसे राज़ रख सकते हो?\\nCheese is made from milk.\\tचीज़ दूध से बनता है।\\nChoose between these two.\\tइन दोनों में से किसी एक को चुनो।\\nDid he tell you anything?\\tउसने तुम्हें कुछ बताया क्या?\\nDid you do your homework?\\tतुमने अपना होमवर्क कर लिया क्या?\\nDid you do your homework?\\tहोमवर्क किया क्या?\\nDo you have a pen on you?\\tतुम्हारे पास कलम है क्या?\\nDo you have any brothers?\\tतुम्हारे कोई भाई हैं क्या?\\nDo you need an ambulance?\\tआपको ऐमब्यूलेंस की ज़रूरत है क्या?\\nDon\\'t play with that key!\\tउस चाबी के साथतानी मत करो!\\nDon\\'t you want to go out?\\tबाहर नहीं जाना चाहते हो क्या?\\nEvery house had a garden.\\tहर घर में बगीचा था।\\nHe can\\'t be under thirty.\\tवह कम-से-कम तीस साल का तो होगा।\\nHe cut the envelope open.\\tउसने लिफ़ाफ़े को काटकर खोल दिया।\\nHe did not die of cancer.\\tवह कैंसर से नहीं मरा।\\nHe is very fond of music.\\tवह संगीत का बहुत शौकीन है।\\nHe knows a lot of people.\\tवह बहुत सारे लोगों को जानता है।\\nHe leveled his gun at me.\\tउसने अपनी बंदूक का निशाना मुझपर लगाया।\\nHe was accused of murder.\\tउसपर कत्ल का इलज़ाम लगाया गया।\\nHe was then a boy of ten.\\tवह दस साल का लड़का था।\\nHe will not listen to me.\\tवह मेरी बात नहीं सुनेगा।\\nHe\\'s always dissatisfied.\\tवह कभी भी संतुष्ट नहीं होता।\\nHe\\'s reading a novel now.\\tवह अभी एक उपन्यास पढ़ रहा है।\\nHere, please have a seat.\\tयहां, बैठिये।\\nHow long have you waited?\\tतुम कितनी देर से प्रतीक्षा कर रहे हो?\\nHow much for half a kilo?\\tआधा किलो कितने का है?\\nI am able to drive a car.\\tमैं गाड़ी चला सकता हूँ।\\nI beg to differ with you.\\tमाफ़ किजिए, पर मैं आपसे सहमत नहीं हूँ।\\nI can\\'t live without you.\\tमैं तुम्हारे बिना जी नहीं सकता।\\nI can\\'t live without you.\\tमैं तुम्हारे बगैर जी नहीं सकती।\\nI can\\'t stand it anymore.\\tमुझसे और सहन नहीं होगा!\\nI can\\'t walk any further.\\tमैं और नहीं चल सकती।\\nI can\\'t walk any further.\\tमुझसे और नहीं चला जाएगा।\\nI don\\'t like this jacket.\\tमुझे यह जैकेट पसंद नहीं है।\\nI felt like running away.\\tमेरा भाग जाने का मन हुआ।\\nI go to school by subway.\\tमैं मेट्रो लेकर स्कूल जाती हूँ।\\nI got lost in the forest.\\tमैं जंगल में खो गया।\\nI had two cups of coffee.\\tमैंने दो कप कॉफ़ी पी।\\nI have a heart condition.\\tमुझे दिल की बीमारी है।\\nI have to go to the bank.\\tमुझे बैंक जाना है।\\nI heard someone knocking.\\tमुझे किसी के खटखटाने की आवाज़ सुनाई दी।\\nI like English and music.\\tमुझे अंग्रेज़ी और संगीत पसंद हैं।\\nI like playing the piano.\\tमुझे पियानो बजाना पसंद है।\\nI need coughing medicine.\\tमुझे खाँसी की दवाई चाहिए।\\nI ran into an old friend.\\tमेरी एक पुराने दोस्त से मुलाक़ात हुई।\\nI think that he is right.\\tमुझे लगता है वह सही है।\\nI was on a trip to India.\\tमैं भारत की यात्रा पर था।\\nI was waiting for a taxi.\\tमैं टैक्सी का इंतेज़ार कर रहा था।\\nI was waiting for a taxi.\\tमैं टैक्सी की प्रतीक्षा कर रहा था।\\nI will explain it to her.\\tमैं उसको यह बात समझाउँगा।\\nI will explain it to him.\\tमैं उसको यह बात समझाउँगा।\\nI will have to help them.\\tमुझे उनकी मदद करनी पड़ेगी।\\nI will never do it again.\\tमैं फिरसे नहीं करूँगा।\\nI wish you spoke Spanish.\\tकाश तुम स्पैनिश बोल सकते।\\nI\\'d like to get a refund.\\tमुझे अपने पैसे वापस चाहिए।\\nI\\'ll call you back later.\\tमैं तुम्हें थोड़ी देर में फ़ोन करूँगा।\\nI\\'ll call you back later.\\tमैं आपको थोड़ी देर बाद फ़ोन करूँगा।\\nI\\'m going to take a bath.\\tमैं नहाने जा रहा हूँ।\\nI\\'ve read the first page.\\tमैंने पहला पृष्ठ पढ़ा लिया I\\nIron is harder than gold.\\tलोहा सोने से सख्त होता है।\\nIs your father a teacher?\\tक्या आपके पिताजी अध्यापक हैं?\\nIs your father a teacher?\\tक्या तुम्हारे पिताजी अध्यापक हैं?\\nIs your father a teacher?\\tक्या आपके पापा अध्यापक हैं?\\nIs your father a teacher?\\tक्या तुम्हारे पापा अध्यापक हैं?\\nIs your father a teacher?\\tक्या आपके पिताजी टीचर हैं?\\nIs your father a teacher?\\tक्या तुम्हारे पिताजी टीचर हैं?\\nIs your father a teacher?\\tक्या आपके पापा टीचर हैं?\\nIs your father a teacher?\\tक्या तुम्हारे पापा टीचर हैं?\\nIs your father a teacher?\\tतेरा बाप टीचर है क्या?\\nIt is almost ten o\\'clock.\\tदस बजने वाले हैं।\\nIt seems that he is rich.\\tऐसा लगता है कि वह अमीर है।\\nIt\\'s not healthy for you.\\tयह तुम्हारी सेहत के लिए अच्छा नहीं है।\\nLet me introduce my wife.\\tयह मेरी पत्नी है।\\nLet me know your address.\\tमुझे अपना पता बतादेना।\\nMy father died of cancer.\\tमेरे पिताजी कैंसर से चल बसे।\\nPlease wait five minutes.\\tकृपया पाँच मिनट ठहरिए।\\nShe is an obstinate girl.\\tवह एक ज़िद्दी लड़की है।\\nShe left the baby crying.\\tउसने बच्चे को रोते हुए छोड़ दिया।\\nShe refused to notice me.\\tउसने मुझे ध्यान में लेने से इनकार करदिआ।\\nTen years is a long time.\\tदस साल बहुत लम्बा समय होता है।\\nThe doctor felt my pulse.\\tडॉक्टर ने मेरी नब्ज़ ली।\\nThe food is getting cold.\\tखाना ठंडा हो रहा है।\\nThe food\\'s not ready yet.\\tखाना अभी तक तैयार नहीं हुआ है।\\nThe man committed murder.\\tउस आदमी ने कत्ल किया।\\nThe party was successful.\\tपार्टी कामयाब रही।\\nThese are very old books.\\tये किताबें काफ़ी पुरानी हैं।\\nThey gathered in the gym.\\tवे सब जिमखाने में मिले।\\nThis amount includes tax.\\tइस कीमत में टैक्स शामिल है।\\nThis house has six rooms.\\tइस घर में छः कमरे हैं।\\nThis is as large as that.\\tयह उसके जितना बड़ा है।\\nThis road is very narrow.\\tयह रास्ता बहुत पतला है।\\nTokyo is a very big city.\\tटोक्यो बहुत बड़ा शहर है।\\nTom is able to swim well.\\tटॉम को अच्छे से तैरना आता है।\\nWe had no water to drink.\\tहमारे पास पीने के लिए पानी नहीं था।\\nWe import tea from India.\\tहम भारत से चाय का आयात करते हैं।\\nWe would die without air.\\tहम हवा के बिना मर जाएँगे।\\nWhat are you looking for?\\tक्या ढूँढ रहे हो?\\nWhat happened last night?\\tकल रात क्या हुआ?\\nWhat he lacks is courage.\\tउसको बहादुरी की ज़रूरत है।\\nWhat school do you go to?\\tतुम कौनसे स्कूल में पढ़ते हो?\\nWhat time do you go home?\\tतुम किस समय घर जाती हो?\\nWhat time do you go home?\\tतुम कितने बजे घर जाते हो?\\nWhen are you coming back?\\tतुम वापस कब आओगे?\\nWhen did you get married?\\tतुम्हारी शादी कब हुई थी?\\nWill you please go there?\\tआप वहाँ जाएँगे क्या?\\nYes, I like it very much.\\tहाँ, मुझे यह बहुत पसंद है।\\nYou have to wait in line.\\tआपको लाईन में लगकर इंतेज़ार करना पड़ेगा।\\nYou made me lose my mind.\\tतुमने मुझे पागल कर दिया।\\nA is 5 times as long as B.\\tA B से पाँचगुना लम्बा है।\\nApples were on sale today.\\tआज सेव सस्ते बिक रहे थे।\\nAs for me, I am satisfied.\\tमैं तो संतुष्ट हूँ।\\nCan you come to the party?\\tतुम पार्टी में आ सकते हो क्या?\\nCanada is a large country.\\tकनाडा एक बड़ा देश है ।\\nCome to my house at eight.\\tमेरे घर आठ बजे आना।\\nDid the police arrest Tom?\\tपुलीस ने टॉम को गिरफ़्तार किया क्या?\\nDo you believe in fairies?\\tतुम परियों में विश्वास करते हो क्या?\\nDo you believe in fairies?\\tतुम परियों में विश्वास करती हो क्या?\\nDo you have a larger size?\\tआपके पास इससे बड़े नाप का है क्या?\\nDo you want to come along?\\tतुम साथ आना चाहते हो क्या?\\nDon\\'t leave the door open.\\tदरवाज़े को खुला मत छोड़ो।\\nHave you been here before?\\tतुम यहाँ पहले आए हुए हो क्या?\\nHe began to learn English.\\tउसने अंग्रेज़ी सीखना शुरू किया।\\nHe came back from America.\\tवह अमरीका से वापस आ गया।\\nHe couldn\\'t run very fast.\\tवह ज़्यादा तेज़ नहीं भाग सकता था।\\nHe doesn\\'t understand you.\\tवह तुम्हें समझता नहीं है।\\nHe hammered at the window.\\tउसने खिड़की पर ज़ोर लगाकर खटखटाया।\\nHe has many history books.\\tउसके पास बहुत सारी इतिहास की किताबें हैं।\\nHe hesitated for a moment.\\tउसने थोड़ी देर हिचकिचाया।\\nHe is one of my neighbors.\\tवह मेरे पड़ोसियों में से एक है।\\nHe likes his school a lot.\\tउसे अपना स्कूल बहुत पसंद है।\\nHe makes fun of everybody.\\tवह सबका मज़ाक उड़ाता है।\\nHe often plays the guitar.\\tवह अक्सर गिटार बजाता है।\\nHe taught me how to write.\\tउसने मुझे लिखना सिखाया।\\nHe walked along the river.\\tहमने नदी के किनारे सैर करी।\\nHe wanted to buy the book.\\tवह किताब को खरीदना चाह्ता था।\\nHe was afraid to go there.\\tवह वहाँ जाने से डरता था।\\nHe was burning with fever.\\tवह बुखार से जल रहा था।\\nHe was looking at the sky.\\tवह आसमान की ओर देख रहा था।\\nHe was sentenced to death.\\tउसे मौत की सज़ा दे दी गई।\\nHe witnessed the accident.\\tउसने दुर्घटना को अपनी आँखों से देखा था।\\nHe witnessed the accident.\\tवह उस दुर्घटना का चश्मदीद गवाह था।\\nHe\\'s sleeping like a baby.\\tवह बच्चे की तरह सो रहा है।\\nHis story may not be true.\\tहो सकता है कि उसकी कहानी सच न हो।\\nHow can I meet this quota?\\tमैं इस कोटे तक भला कैसे पहुंच सकता हूँ?\\nHow many bowls do we have?\\tहमारे पास कितनी कटोरियाँ हैं?\\nHow many cars do you have?\\tआपके पास कितनी गाड़ियाँ हैं?\\nHunger drove him to steal.\\tभूख ने उसे चोरी करने पर मजबूर किया।\\nI am able to read English.\\tमैं अंग्रेज़ी पढ़ सकता हूँ।\\nI am able to read English.\\tमैं अंग्रेज़ी पढ़ सकती हूँ।\\nI bought a book yesterday.\\tमैंने कल एक किताब खरीदी थी।\\nI can\\'t make it this time.\\tमैं इस बार नहीं आ सकता।\\nI cannot walk any farther.\\tमैं और नहीं चल सकती।\\nI caught a glimpse of her.\\tमुझे उसकी झलक दिखाई दी।\\nI feel like taking a rest.\\tमुझे थोड़ा आराम करने का मन है।\\nI fixed the car yesterday.\\tमैंने गाड़ी को कल ठीक किया था।\\nI found out where she was.\\tमुझे पता लगा कि वह कहाँ थी।\\nI get up at six every day.\\tमैं रोज़ छः बजे उठता हूँ।\\nI have a Facebook account.\\tमेरे पास फ़ेसबुक खाता है।\\nI have no time to see you.\\tमेरे पास तुमसे मिलने के लिए समय नहीं है।\\nI haven\\'t seen Tom lately.\\tमैंने टॉम को हाल में नहीं देखा है।\\nI haven\\'t seen him lately.\\tमैंने उसे हाल में नहीं देखा है।\\nI know how to drive a car.\\tमुझे गाड़ी चलाना आता है।\\nI like the way she smiles.\\tमुझे उसकी मुस्कान अच्छी लगती है।\\nI met him at the barber\\'s.\\tमैं उससे नाई के यहाँ मिला।\\nI sold it for ten dollars.\\tमैंने उसे दस डॉलर के लिए बेच दिया।\\nI usually get up at eight.\\tमैं आमतौर पर आठ बजे उठा करता हूँ।\\nI want to see the manager.\\tमैं मैनेजर से मिलना चाह्ता हूँ।\\nI want to see the manager.\\tमैं मैनेजर से मिलना चाह्ती हूँ।\\nI want to travel with you.\\tमैं तुम्हारे साथ सफ़र करना चाहता हूँ।\\nI was afraid he might die.\\tमुझे उसके मरने का डर था।\\nI wish I had this problem.\\tकाश ये समस्या मुझे हुई होती।\\nI wish I had this problem.\\tकाश ये मुसीबत मेरे पल्ले पड़ती।\\nI\\'ll be there at five p.m.\\tमैं वहाँ शाम के पाँच बजे पहुँच जाऊँगा।\\nI\\'ll bring one more towel.\\tमैं एक और तौलिया लाती हूँ।\\nI\\'m busy with my homework.\\tमैं अपने होमवर्क में लगा हुआ हूँ।\\nI\\'m disappointed with you.\\tमैं तुमसे निराश हूँ।\\nI\\'m glad to see you again.\\tमैं तुम्हें फिरसे देखकर बहुत खुश हूँ।\\nI\\'m interested in history.\\tमुझे इतिहास में दिलचस्पी है।\\nI\\'m standing in the shade.\\tमैं छाया में खड़ा हूँ।\\nI\\'m standing in the shade.\\tमैं छाँओं में खड़ा हूँ।\\nI\\'m waiting for my mother.\\tमैं अपनी माँ का इंतेज़ार कर रहा हूँ।\\nIt is a difficult problem.\\tयह समस्या बहुत कठिन है।\\nIt is easy to add 5 to 10.\\tपाँच से दस को जोड़ना बहुत आसान है।\\nIt\\'s already nine o\\'clock.\\tनौ बज चुकें हैं।\\nIt\\'s for a friend of mine.\\tयह मेरे दोस्त के लिए है।\\nLet\\'s meet this afternoon.\\tइस दोपहर को मिलते हैं।\\nMay I ask a few questions?\\tक्या मैं चंद सवाल पूछ सकती हूँ?\\nMother bought me the book.\\tमम्मी ने मेरे लिए वह किताब खरीदी।\\nMy brother lives in Tokyo.\\tमेरा भाई टोक्यो में रहता है।\\nMy father may be sleeping.\\tमेरे पिता शायद सो रहे होंगे।\\nMy father stopped smoking.\\tमेरे पिता ने सिगरेट पीना बंद कर दिया।\\nMy right foot is sleeping.\\tमेरा दाहिना पैर सो गया है।\\nMy wife really hates cats.\\tमेरी बीवी को बिल्लियों से नफ़रत है।\\nNever speak ill of others.\\tदूसरों की बुराई कभी नहीं करनी चाहिए।\\nOne of my bags is missing.\\tमेरी एक अटैची ग़ायब है।\\nOne of my bags is missing.\\tमुझे अपनी एक अटैची मिल नहीं रही है।\\nSchool begins at 8:30 a.m.\\tस्कूल साढ़े-आठ बजे शुरू होता है।\\nShe did it all by herself.\\tउसने सब कुछ अपने-आप किया।\\nShe has not come here yet.\\tवह अभी तक यहाँ नहीं आई है।\\nShe looked at the picture.\\tउसने तस्वीर को देखा।\\nShe showed me her new car.\\tउसने मुझे अपनी नई गाड़ी दिखाई।\\nSmog causes plants to die.\\tस्मॉग से पेड़-पौधों की मौत होती है।\\nSome snakes are poisonous.\\tकुछ सांप ज़हरीले होते हैं।\\nThank you for the present.\\tतोहफ़े के लिए धन्यवाद।\\nThe enemy won\\'t get close.\\tदुश्मन पास नहीं आ पाएगा।\\nThe haze enveloped London.\\tलंदन में धुंध छा गई थी।\\nThe king abused his power.\\tराजा ने अपनी ताकत का दुरुपयोग किया।\\nThe prisoner was released.\\tक़ैदी को रिहा कर दिया गया।\\nThere is no TV in my room.\\tमेरे कमरे में टीवी नहीं है।\\nThere must be another way.\\tकोई और रास्ता भी होगा।\\nThese are very big apples.\\tये सेब बहुत बड़े हैं।\\nThey are watching a movie.\\tवे फ़िल्म देख रहे हैं।\\nThey looked at each other.\\tउन्होंने एक-दूसरे को देखा।\\nThis desk is made of wood.\\tयह मेज़ लकड़ी की बनी है।\\nThis is my father\\'s house.\\tमेरे पापा का घर है।\\nToday is Independence Day.\\tआज स्वतंत्रता दिवस है।\\nTom couldn\\'t help but cry.\\tटॉम खुद को रोने से रोक न सका।\\nTom couldn\\'t help but cry.\\tटॉम रो पड़ा।\\nTwenty families live here.\\tयहाँ बीस परिवार बसे हुए हैं।\\nWe all felt sorry for Tom.\\tहम सब टॉम के लिए दुःखी थे।\\nWe painted the door green.\\tहमने दरवाज़े को हरे रंग से पोत दिया।\\nWe regard him as our hero.\\tहम उसे अपना हीरो मानते हैं।\\nWe walked around the pond.\\tहम तालाब के आस-पास टहलें।\\nWe\\'re here to protect you.\\tआपकी रक्षा करना हमारा काम है।\\nWe\\'re here to protect you.\\tहम आपकी रक्षा करने के लिए यहाँ आए हैं।\\nWhat a lucky person he is!\\tवह कितना नसीबवाला है!\\nWhat did you do yesterday?\\tतुमने कल क्या किया?\\nWhat do you want me to do?\\tतुम मुझसे क्या करवाना चाहते हो?\\nWhat\\'s your favorite food?\\tतुम्हारा सबसे पसंदीता खाना कौनसा है?\\nWhy are you talking to me?\\tमुझसे बात क्यों कर रहे हो?\\nWill you make room for me?\\tमेरे लिए थोड़ी जगह बनाओगे क्या?\\nWould you mind if I smoke?\\tमेरे सिगरेट पीने पर आपको आपत्ति तो नहीं होगी?\\nYesterday was my birthday.\\tकल मेरा जन्मदिन था।\\nYou are tired, aren\\'t you?\\tतुम थक गए हो, है ना?\\nYou had better go at once.\\tतुम्हे तुरंत जाना चाहिए।\\nYou keep a dog, don\\'t you?\\tतुम्हारे पास एक कुत्ता है, है न?\\nA crow is as black as coal.\\tकौआ कोयले जैसा काला होता है।\\nA man appeared at the door.\\tदरवाज़े पर एक आदमी दिखाई दिया।\\nCome see me again tomorrow.\\tमुझसे कल फिर आकर मिलना।\\nDo you have an appointment?\\tआपके पास अपौइंटमेंट है क्या?\\nDon\\'t fail to call me back.\\tमुझे वापस फ़ोन करना मत भूलना।\\nDon\\'t say things like that.\\tऐसा मत बोलो।\\nEach of them has a bicycle.\\tउन सभी के पास साईकल है।\\nFather is watering flowers.\\tपापा फूलों को पानी दे रहे हैं।\\nGreeks often eat fish, too.\\tग्रीक लोग भी अक्सर मछली खाते हैं।\\nHave you ever seen a koala?\\tतुमने कभी क्वाला देखा है?\\nHe asked me for some money.\\tउसने मुझसे थोड़े पैसे माँगे।\\nHe became a police officer.\\tवह पुलिस अफ़सर बन गया।\\nHe believes whatever I say.\\tमैं जो भी कहता हूँ वह मेरा यकीन कर लेता है।\\nHe decided to quit smoking.\\tउसने सिगरेट पीना छोड़ने का फ़ैसला किया।\\nHe did the work on his own.\\tउसने काम अपने-आप किया।\\nHe is engaged to my sister.\\tउसकी मेरी बहन के साथ सगाई हो चुकी है।\\nHe occasionally visited me.\\tवह कभी-कभार मुझसे मिलने आता था।\\nHe saw a dog near the door.\\tउसने दरवाज़े के पास एक कुत्ता देखा।\\nHe usually comes home late.\\tवह आमतौर पर घर देर से आता है।\\nHe visited Kyoto last year.\\tवह पिछले साल क्योटो गया था।\\nHe\\'s always late for class.\\tवह क्लास में हमेशा देर से आता है।\\nHis opinions are worthless.\\tउसकी राय बेकार है।\\nHonesty is the best policy.\\tईमानदारी सर्वोत्तम नीति है।\\nHow long has she been sick?\\tवह कितने दिनों से बीमार है?\\nHow many books do you have?\\tतुम्हारे पास कितनी किताबें हैं?\\nI am interested in English.\\tमुझे अंग्रेज़ी में दिलचस्पी है।\\nI arrived later than usual.\\tमैं आमतौर के मुकाबले में देर से आया।\\nI believe whatever he says.\\tवह जो भी कहे मुझे उसपर यकीन है।\\nI bought two dozen pencils.\\tमैंने दो दर्जन पेनसिलें खरीदीं।\\nI can\\'t take any more work.\\tमुझसे और काम नहीं किया जाएगा।\\nI cover twenty miles a day.\\tमैं रोज़ बीस मील चलता हूँ।\\nI don\\'t believe him at all.\\tमैं उसका बिलकुल भी यकीन नहीं करता।\\nI don\\'t care what they say.\\tवे जो मर्ज़ी कहें मुझे उससे कोई फ़र्क नहीं पड़ता।\\nI don\\'t know what to study.\\tमुझे समझ में नहीं आ रहा कि क्या पढ़ूँ।\\nI had to decline his offer.\\tमुझे उसके प्रस्ताव को अस्वीकार करना पड़ा।\\nI sat between Tom and John.\\tमैं टॉम और जॉन के बीच में बैठा।\\nI was born on June 4, 1974.\\tमैं ४ जून, १९७४ को पैदा हुआ था।\\nI was in London last month.\\tमैं पिछले महीने लंदन में था।\\nI\\'d like a map of the city.\\tमैं शहर का नक्शा खरीदना चाहता हूँ।\\nI\\'m a good-for-nothing bum.\\tमैं निकम्मा हूँ।\\nI\\'m looking for an old man.\\tमैं एक बूढ़े आदमी की तलाश मे हूँ।\\nIs the mouse dead or alive?\\tचूहा ज़िन्दा है या मर गया है?\\nIt hardly ever rains there.\\tयहाँ पर मुश्किल से कभी बारिश होती है।\\nIt is said that he is sick.\\tकहा जाता है कि वह बीमार है।\\nIt seems interesting to me.\\tमुझे बहुत मज़ेदार लगती है!\\nIt seems interesting to me.\\tमुझे बहुत दिलचस्प लगती है!\\nIt\\'s raining cats and dogs.\\tमुसलाधार बारिश होती है।\\nIt\\'s raining cats and dogs.\\tमुसलाधार वर्षा होती है।\\nIt\\'s the same for everyone.\\tसब लोगों के लिए एक समान है।\\nMy aunt brought me flowers.\\tमेरी बुआ-जी मेरे लिए फूल लाईं।\\nMy boss will not say \\'yes\\'.\\tमेरे बॉस \"हाँ\" नहीं कहेंगे।\\nOur train stopped suddenly.\\tहमारी ट्रेन अचानक रुक गई।\\nPlace it wherever you like.\\tजहाँ भी रखना है रखदो।\\nShe forgot to feed her dog.\\tवह अपने कुत्ते को खिलाना भूल गई।\\nShe has long arms and legs.\\tउसके हाथ-पैर लम्बे हैं।\\nShe is in bed with a fever.\\tवह बुखार के साथ बिस्तर में लेटी हुई है।\\nShe knew the story already.\\tउसको कहानी पहले से ही पता थी।\\nShe likes her school a lot.\\tउसे अपना स्कूल बहुत पसंद है।\\nShe married Tom last month.\\tउसने पिछले महीने टॉम से शादी करी थी।\\nShe plays tennis very well.\\tवह टेनिस बहुत अच्छा खेलती है।\\nShe suddenly became famous.\\tवह अचानक से मशहूर बन गई।\\nShe was crying in her room.\\tवह अपने कमरे में रो रही थी।\\nTake good care of yourself.\\tअपना अच्छे से ख़याल रखना।\\nThat\\'s really a great idea.\\tयह तो बहुत ही अच्छा सुझाव है।\\nThe box he found was empty.\\tउसे जो डब्बा मिला वह खाली था।\\nThe bride suddenly laughed.\\tदुल्हन अचानक से हँस पड़ी।\\nThe man hit me on the head.\\tउस आदमी ने मुझे सर पर मारा।\\nThe medicine tastes bitter.\\tइस दवाई का स्वाद बहुत कड़वा है।\\nThe mud clung to his shoes.\\tउसके जूतों पर कीचड़ लगी हुई थी।\\nThe novel is very exciting.\\tयह उपन्यास बहुत रोमांचक है।\\nThe paint hasn\\'t dried yet.\\tपेंट अभी तक सूखा नहीं है।\\nThe rain continued all day.\\tबरसात पूरे दिन होती रही।\\nThe water is not drinkable.\\tयह पानी पिया नहीं जा सकता है।\\nThere is a bag on the desk.\\tमेज़ पर बस्ता रखा हुआ है।\\nThis car was made in Japan.\\tयह गाड़ी जापान में बनी थी।\\nThis is the monsoon season.\\tयह वर्षा ऋतु का मौसम है।\\nThis word comes from Greek.\\tयह शब्द ग्रीक से आता है।\\nTom and I\\'ll both be there.\\tटॉम और मैं दोनों वहाँ रहेंगे।\\nTom, I want to talk to you.\\tटॉम, मुझे तुमसे बात करनी है।\\nTurn off the light, please.\\tबत्ती बंद करदो, प्लीज़।\\nTurn off the light, please.\\tकृपया बत्ती बंद कर दीजिए।\\nWe all laughed at his joke.\\tहम सब उसके मज़ाक पर हँसे।\\nWe celebrated his birthday.\\tहमने उसका जन्मदिन मनाया।\\nWe don\\'t know where we are.\\tहमें नहीं पता हम कहाँ हैं।\\nWe should keep our promise.\\tहमे अपना वादा निभाना चाहिए।\\nWe voted for the candidate.\\tहमने उस उम्मीदवार को चुना।\\nWe voted for the candidate.\\tहमने उस उम्मीदवार को अपना मत दिया।\\nWe want complete sentences.\\tहमे केवल सम्पूर्ण वाक्य चाहिएँ।\\nWe\\'ve got that figured out.\\tहमने उसका हिसाब लगा लिया।\\nWhat I said hurt his pride.\\tमेरी बात ने उसके अभिमान पर चोट पहुँचाई।\\nWhat do you call this bird?\\tइस पक्षी का नाम क्या है?\\nWhat happened to our order?\\tहमारे औरडर का क्या हुआ?\\nWhere did all the bread go?\\tसारा ब्रॅड कहाँ चला गया?\\nWhere is the changing room?\\tकपड़े बदलने का कमरा कहाँ पर है?\\nWhy don\\'t you listen to me?\\tतुम मेरी बात सुनते क्यों नहीं हो?\\nWill you turn on the light?\\tबत्ती चालू कर दोगे क्या?\\nYou are always complaining.\\tतुम हमेशा शिकायत करते रहते हो।\\nYou are on the wrong train.\\tआप गलत ट्रेन पर हैं।\\nA day has twenty-four hours.\\tएक दिन में चौबीस घंटे होते हैं।\\nAre you for or against this?\\tआप इसके हित में हैं या नहीं?\\nAt last, we got to the lake.\\tहम आखिरकार झील तक पहुँच गए।\\nBring your sister next time.\\tअगली बार अपनी बहन को भी साथ लाना।\\nCan you teach me how to fly?\\tक्या तुम मुझे उड़ना सिखा सकते हो?\\nCanada is larger than Japan.\\tकनाडा जापान से बड़ा है।\\nCould you speak more slowly?\\tथोड़ा धीरे बोल सकते हैं क्या?\\nDo you have any soft drinks?\\tतुम्हारे पास कोक-शोक है क्या?\\nDo you have time on Tuesday?\\tतुम्हारे पास मंगलवार को समय है क्या?\\nDo you want to go somewhere?\\tआपको कहीं जाना है?\\nDo you want to go somewhere?\\tतुम्हें कहीं जाना है?\\nEveryone felt sorry for Tom.\\tसब टॉम के लिए दुःखी थे I\\nEveryone speaks well of him.\\tसभी उसकी अच्छाई करते है।\\nFrance is in Western Europe.\\tफ़्रान्स पश्चिमी यूरोप में है।\\nFrance is in western Europe.\\tफ़्रान्स पश्चिमी यूरोप में है।\\nHe closed the door suddenly.\\tउसने अचानक से दरवाज़ा बंद किया।\\nHe could not breathe deeply.\\tवह लम्बी सांस नहीं ले पाता था।\\nHe doesn\\'t know how to swim.\\tउसको तैरना नहीं आता।\\nHe explained the rule to me.\\tउसने मुझे वह नियम समझाया।\\nHe is digging his own grave.\\tवह अपनी क़ब्र खोद रहा है।\\nHe plays baseball every day.\\tवह हर रोज़ बेसबॉल खेलता है।\\nHe prefers French to German.\\tउसे फ़्रानसीसी जर्मन से ज़्यादा अच्छी लगती है।\\nHe read this book yesterday.\\tउसने यह किताब कल पढ़ी थी।\\nHe repeated his name slowly.\\tउसने अपना नाम दोबारा धीरे से बोला।\\nHe treats me like his slave.\\tवह मुझसे ग़ुलाम की तरह बर्ताव करता है।\\nHe went there instead of me.\\tवह मेरे बजाय वहां गया।\\nHis birthday is August 21st.\\tउसका जन्मदिन इक्कीस अगस्त को है।\\nHow long will you stay here?\\tआप यहाँ कितने दिन रहेंगे?\\nI accompanied her on a walk.\\tमैं उसके साथ सैर के लिए गया।\\nI believe you like your job.\\tमुझे लगता है कि तुम्हे तुम्हारा काम अच्छा लगता है।\\nI didn\\'t go out last Sunday.\\tमैं पिछले रविवार बाहर नहीं निकला था।\\nI don\\'t know if he knows it.\\tमुझे नहीं पता कि उसको पता है कि नहीं।\\nI don\\'t know what Tom knows.\\tमुझे नहीं पता कि टॉम को क्या पता है।\\nI don\\'t know what they know.\\tमुझे नहीं पता कि उन्हें क्या पता है।\\nI explained the rule to him.\\tमेने उसे नियम समझाया।\\nI gave him what money I had.\\tमेरे पास जो भी पैसे थे मैंने उसे दे दिए।\\nI had never seen him before.\\tमैंने उसे पहले कभी नहीं देखा था।\\nI have already done my work.\\tमैं अपना काम कर चुका हूँ।\\nI have just cleaned my room.\\tमैंने अपना कमरा अभी अभी साफ़ किया है।\\nI have seen her three times.\\tमैंने उसे तीन बार देखा है।\\nI have to answer his letter.\\tमुझे उसकी चिट्ठी का जवाब देना है।\\nI met your father yesterday.\\tमैं कल तुम्हारे पिताजी से मिला।\\nI prefer walking to cycling.\\tमुझे सायकल चलाना चलने से ज़्यादा पसंद है।\\nI saw him crossing the road.\\tमैंने उसे सड़क पार करते हुए देखा।\\nI was born in Osaka in 1977.\\tमेरा जन्म सन १९७७ में ओसाका में हुआ था।\\nI will call on him tomorrow.\\tमैं कल उससे मिलने जाऊँगा।\\nI\\'ll be on duty this Sunday.\\tमैं इस रविवार को ड्यूटी पर हूँगा।\\nI\\'m sorry, my father is out.\\tमाफ़ कीजिएगा, मेरे पापा अभी घर पर नहीं हैं।\\nInsert it wherever you like.\\tजहाँ भी घुसाना है घुसादो।\\nIron is a very useful metal.\\tलोहा एक बहुत उपयोगी धातु है।\\nIs Spanish spoken in Mexico?\\tमेक्सिको में स्पैनिश बोली जाती है क्या?\\nIs it about ten million yen?\\tतकरीबन दस एक अरब येन होंगे?\\nIs it hard to speak English?\\tअंग्रेज़ी बोलना मुश्किल होता है क्या?\\nIt is a sheer waste of time.\\tयह सरासर समय की बर्बादी है।\\nIt was easy for me to do so.\\tयह मेरे लिए करना बहुत आसान था।\\nIt was too difficult for me.\\tवह मेरे लिए बहुत कठिन था।\\nIt\\'s like a dream come true.\\tमानो कोई सपना सच आ गया हो।\\nLet\\'s cut down our expenses.\\tहमें अपने खर्चे कम करने होंगे।\\nMary loves going to the spa.\\tमेरी को स्पा जाना पसंद है।\\nMy father is going to China.\\tमेरे पिता चीन जा रहे हैं।\\nMy jeans shrank in the wash.\\tमेरी जीन्स पैंट धुलाई में सिकुड़ गई।\\nNo answer is also an answer.\\tजवाब न देना भी एक तरह का जवाब होता है।\\nNo one can move the big box.\\tउस बड़े डब्बे को कोई भी नहीं हिला सकता।\\nNobody answered my question.\\tकिसी ने भी मेरे सवाल का जवाब नहीं दिया।\\nNobody else offered to help.\\tकिसी और ने मदद करने की इच्छा प्रकट नहीं करी।\\nPlease give me a cup of tea.\\tमुझे एक कप चाय दीजिए।\\nPlease speak in a low voice.\\tकृपया धीमी आवाज़ में बात कीजिए।\\nPlease speak in a low voice.\\tकृपया हल्की आवाज़ में बात कीजिए।\\nSee what\\'s going on outside.\\tदेखो बाहर क्या हो रहा है।\\nShe allowed him to go alone.\\tउसने उसको अकेले जाने दिया।\\nShe declined the invitation.\\tउसने आमंत्रण को स्वीकार नहीं किया।\\nShe dialed the wrong number.\\tउसने गलत नम्बर मिला डाला।\\nShe said that she was happy.\\tउसने कहा कि वह खुश थी।\\nShe saved a hundred dollars.\\tउसने सौ डॉलर बचा लिए।\\nShe was robbed of her purse.\\tउसका पर्स उससे चुरा लिया गया।\\nShe wears her hair in a bun.\\tवह अपने बालों को जूड़े में बाँधती है।\\nSmoking is not allowed here.\\tयहाँ धूम्रपान करना मना है।\\nSoldiers are used to danger.\\tसिपाहियों को खतरे से खेलने की आदत होती है।\\nSomeone knocked on the door.\\tकिसी ने दरवाज़े पर खटखटाया।\\nSpanish is spoken in Mexico.\\tमेक्सिको में स्पैनिश बोली जाती है।\\nSpeaking English isn\\'t easy.\\tअंग्रेज़ी बोलना आसान नहीं है।\\nStand still and keep silent.\\tशांति से खड़े रहो।\\nTake off your socks, please.\\tअपने मोज़े उतारिए।\\nTen houses were burned down.\\tदस घर जलकर राख हो गए।\\nThank you for the other day.\\tउस दिन के लिए बहुत बहुत धन्यवाद।\\nThank you very much, doctor.\\tडॉक्टर साहब, आपका बहुत बहुत धन्यवाद।\\nThat town is two miles away.\\tवह नगर दो मील दूर है।\\nThat town is two miles away.\\tवह नगर दो मील की दूरी पर है।\\nThe Japanese have dark eyes.\\tजापानियों की आँखें कालीं होतीं हैं।\\nThe hot water isn\\'t running.\\tगरम पानी नहीं चल रहा है।\\nThe room smelled of tobacco.\\tकमरे में तम्बाकू की महक थी।\\nThe store is not open today.\\tदुकान आज बंद है।\\nThe store is not open today.\\tदुकान आज खुली नहीं है।\\nThere is a book on the desk.\\tमेज़ पर किताब है।\\nThey are both good teachers.\\tवे दोनों अच्छे अध्यापक हैं।\\nThis house has eleven rooms.\\tइस मकान में ग्यारह कमरे हैं।\\nThis must be a real diamond.\\tयह असली हीरा होगा।\\nToday I turn four years old.\\tआज मैं चार साल का हो गया हूँ।\\nTom isn\\'t able to drive yet.\\tटॉम अभी गाड़ी नहीं चला सकता।\\nTom saved her from the fire.\\tटॉम ने उसे आग से बचा लिया।\\nTry to improve your English.\\tअपनी अंग्रेज़ी सुधारने की कोशिश करो।\\nWe drink our tea with sugar.\\tहम चाय चीनी के साथ लेते हैं।\\nWe drink our tea with sugar.\\tहम चाय चीनी डालकर पीते हैं।\\nWe really enjoyed ourselves.\\tहमने बड़ी मौज करी।\\nWe were next-door neighbors.\\tहम पड़ोसी हुआ करते थे।\\nWhat have you come here for?\\tतुम यहाँ क्यों आए हो?\\nWhat have you come here for?\\tआप लोग यहाँ क्या करने के लिए आए हैं?\\nWhere is the south terminal?\\tदक्षिण टर्मिनल कहाँ पर है?\\nWhere would you like to sit?\\tआप कहाँ बैठना चाहेंगे?\\nWhy don\\'t you come visit us?\\tतुम हमसे मिलने क्यों नहीं आते?\\nWould you like to go abroad?\\tतुम विदेश जाना चाहती हो क्या?\\nYou are not coming, are you?\\tतुम नहीं आ रहे हो ना?\\nYou look nice in that dress.\\tतुम उस ड्रेस में अच्छी लगती हो।\\nAlways keep your office tidy.\\tअपने दफ़्तर को हमेशा साफ़-सुथरा रखना चाहिए।\\nAre they Japanese or Chinese?\\tवे जापानी हैं या चीनी?\\nAre you meeting someone here?\\tतुम यहाँ किसी से मिल रहे हो क्या?\\nBrush your teeth after meals.\\tखाना खाने के बाद दाँतों को साफ़ करो।\\nBrush your teeth after meals.\\tखाना खाने के बाद दाँतों को ब्रश करो।\\nCorrect the underlined words.\\tरेखांकित शब्दों को सुधारिए।\\nDo you have any tickets left?\\tतुम्हारे पास टिकटें बचीं हैं क्या?\\nDo you have to make a speech?\\tतुम्हे भाषण देना होगा क्या?\\nDo you know what he has done?\\tक्या आपको पता है उसने क्या किया है?\\nDon\\'t force the child to eat.\\tबच्चे को ज़बरदस्ती मत खिलाओ।\\nDon\\'t lean against this wall.\\tइस दीवार पर मत झुँको।\\nEnglish is spoken in America.\\tअमेरिका में अंग्रेजी बोली जाती है।\\nFootball is my favorite game.\\tफ़ुटबॉल मेरा सबसे पसंदीता खेल है।\\nHave you ever been to Africa?\\tतुम कभी अफ़्रीका गए हुए हो क्या?\\nHave you ever been to Africa?\\tआप कभी अफ़्रीका गए हुए हैं क्या?\\nHave you ever been to Canada?\\tतुम कभी कनाडा गए हो क्या?\\nHave you ever written a book?\\tआपने कभी किताब लिखी है क्या?\\nHave your roses come out yet?\\tतुम्हारे गुलाब खिल गए हैं क्या?\\nHe came to see you yesterday.\\tवह कल तुमसे मिलने आया था।\\nHe changed schools last year.\\tउसने पिछले साल स्कूल बदला था।\\nHe doesn\\'t have long to live.\\tउसके पास जीने के लिए ज़्यादा समय नहीं है।\\nHe eats lunch at a cafeteria.\\tवह कैनटीन में लन्च खाता है।\\nHe is good at playing tennis.\\tवह टेनिस अच्छा खेलता है।\\nHe pulled his son by the ear.\\tउसने अपने बेटे को कान से पकड़ कर खींचा।\\nHe set fire to his own house.\\tउसने अपने ही घर को आग लगा दी।\\nHe wants these shirts washed.\\tउसे ये कमीज़ें धुलवानीं हैं।\\nHe wishes to become a doctor.\\tउसकी डॉक्टर बनने की अभिलाषा है।\\nHe\\'s out of town on business.\\tवे काम से शहर से बाहर गए हुएँ हैं।\\nHis clothes always smell bad.\\tउसके कपड़े हमेशा बदबू करतें हैं।\\nHis long speech bored us all.\\tउसका लम्बा भाषण सुनकर हम सब बोर हो गए।\\nHow did you come to know her?\\tतुम उसे कैसे जानते थे?\\nI advise you to stop smoking.\\tमेरे ख़याल से तुम्हे सिगरेट पीना छोड़ देना चहिए।\\nI advise you to stop smoking.\\tमैं तुम्हे सिगरेट पीना छोड़ देने की सलाह देना चाह्ता हूँ।\\nI agree with you to a degree.\\tमैं तुम्हारे साथ एक हद तक सहमत हूँ।\\nI am more beautiful than you.\\tमैं तुमसे ज़्यादा खूबसूरत हूँ।\\nI am more beautiful than you.\\tमैं तुमसे ज़्यादा सुंदर हूँ।\\nI am pleased with the result.\\tमैं नतीजे से खुश हूँ।\\nI bought two bottles of milk.\\tमैंने दूध की दो बोतलें ख़रीदीं।\\nI can\\'t allow you to do that.\\tमैं तुम्हें यह करने नहीं दे सकता।\\nI can\\'t really talk about it.\\tमैं उस बारे में कुछ बोल नहीं सकता।\\nI didn\\'t want this to happen.\\tमैं नहीं चाहता था कि ऐसा हो।\\nI don\\'t feel like eating now.\\tमुझे अभी खाना खाने का मन नहीं है।\\nI don\\'t like to drink coffee.\\tमुझे कॉफ़ी पीना पसंद नहीं।\\nI followed the deer\\'s tracks.\\tमैंने हिरण के पैरों के निशानों का पीछा किया।\\nI gave up smoking for a year.\\tमैंने एक साल के लिए सिगरेट पीना छोड़ दिया था।\\nI have a bad pain in my back.\\tमुझे पीठ में बुरी तरह से दर्द हो रहा है।\\nI informed her of my success.\\tमैंने उसको अपनी कामयाबी के बारे में बताया।\\nI like both science and math.\\tमुझे विज्ञान और गणित दोनों पसंद हैं।\\nI mentioned your name to him.\\tमैंने उसके साथ तुम्हारा नाम लिया था।\\nI was laughed at by everyone.\\tसब लोग मुझपर हँसे।\\nI went there dozens of times.\\tमैं वहाँ दसियों बार जा चुका हूँ।\\nI worked on the farm all day.\\tमैंने पूरे दिन खेत में काम किया।\\nI\\'m anxious about his safety.\\tमैं उसकी सुरक्षा के लिए परेशान हूँ।\\nI\\'m catching the 11:00 train.\\tमैं ग्यारह बजे की ट्रेन पकड़ रहा हूँ।\\nIt appears that he is honest.\\tवह ईमानदार लगता है।\\nIt was her fate to die young.\\tछोटी उम्र में मरना उसके भाग्य में था।\\nIt\\'s an answer to her letter.\\tयह उसकी चिट्ठी का जवाब है।\\nIt\\'s no use arguing with him.\\tउससे बहस करने में कोई फ़ायदा नहीं है।\\nKeep down, or you\\'ll be shot.\\tनीचे रहो, नहीं तो तुम्हें गोली लग जाएगी।\\nMost people like watching TV.\\tज़्यादातर लोगों को टीवी देखना अच्छा लगता है।\\nMy brother has a good memory.\\tमेरे भाई की याददाश्त अच्छी है।\\nMy father has just come home.\\tमेरे पापा अभी अभी घर वापस आएँ हैं।\\nMy grandmother speaks slowly.\\tमेरी नानी धीरे-धीरे बोलतीं हैं।\\nMy hobby is collecting coins.\\tसिक्कों को इकट्ठा करना मेरा शौक है।\\nMy telephone is out of order.\\tमेरा फ़ोन खराब है।\\nNow they have three children.\\tअब उनके तीन बच्चे हैं।\\nOne language is never enough.\\tएक भाषा कभी काफ़ी नहीं होती।\\nPlease make yourself at home.\\tइसको अपना घर ही समझो।\\nPlease make yourself at home.\\tइसको अपना घर ही समझिए।\\nPlease show me your notebook.\\tमुझे अपनी कौपी दिखाईए।\\nPlease wait for five minutes.\\tकृपया पाँच मिनट इंतेज़ार करें।\\nSay which one you would like.\\tबोलो तुम्हे कौनसा चाहिए।\\nSeicho Matumoto died in 1992.\\tसेइचो मात्सुमोतो का निधन सन १९९२ में हुआ।\\nShe died yesterday afternoon.\\tउनकी मौत कल दोपहर को हुई थी।\\nShe will be back before long.\\tवह थोड़ी देर में ही वापस आ जाएगी।\\nStop beating around the bush.\\tघूमफिरकर बात मत करो, सीधे-सीधे बोलो।\\nTea is widely grown in India.\\tचाय भारत में बहुत उगाई जाती है।\\nThat is no business of yours.\\tइसका तुमसे कोई लेना-देना नहीं है।\\nThat\\'s because you\\'re a girl.\\tइसलिए क्योंकि तुम लड़की हो।\\nThe apple has begun to decay.\\tवह सेव सड़ने लगा है।\\nThe capital of Italy is Rome.\\tइटली की राजधानी रोम है।\\nThe car hit a telephone pole.\\tगाड़ी फ़ोन के खम्बे से जाकर भिड़ पड़ी।\\nThe cliff is almost vertical.\\tचट्टान लगभग बिलकुल सीधी है।\\nThe girl did nothing but cry.\\tउस लड़की ने रोने के अलावा और कुछ नहीं किया।\\nThe horse is a useful animal.\\tघोड़ा बड़े काम का जानवर है।\\nThe king crushed his enemies.\\tराजा ने अपने दुश्मनों को कुचल दिया।\\nThe monkey climbed up a tree.\\tबंदर पेड़ पर चढ़ा।\\nThe population is increasing.\\tआबादी बढ़ रही है।\\nThe population is increasing.\\tजनसंख्या बढ़ रही है।\\nThe ship set sail for Bombay.\\tजहाज़ बमबई के लिए रवाना हुआ।\\nThe train ran off the tracks.\\tट्रेन पटरी से उतर गई।\\nThere is a desk in this room.\\tइस कमरे में मेज़ है।\\nThey abandoned their country.\\tउन्होंने अपने देश को त्याग दिया।\\nThey are talking about music.\\tवे संगीत के बारे में बात कर रहे हैं।\\nThey resolved to work harder.\\tउन्होंने ज़्यादा मेहनत से काम करने का इरादा किया।\\nThis was Rodica\\'s fifth book.\\tयह रोडिका की पाँचवी किताब थी।\\nWash your hands before meals.\\tखाना खाने से पहले अपने हाथ धोओ।\\nWe should love our neighbors.\\tहमे पड़ोसियों के साथ प्रेमपूर्वक रहना चहिए।\\nWhat she says sounds strange.\\tउसकी कही हुई बात अजीब लगती है।\\nWhen are you going to Europe?\\tतुम यूरोप कब जा रहे हो?\\nWhen did the accident happen?\\tहादसा कब हुआ?\\nWhen did the accident happen?\\tघटना कब हुई?\\nWon\\'t you join us for dinner?\\tहमारे साथ (रात का) खाना खाएँगे ना?\\nYou didn\\'t tell him anything?\\tतुमने उसे कुछ भी नहीं बताया?\\nYou must send for the doctor.\\tतुम्हें डॉक्टर बुलाना होगा।\\nAre you interested in flowers?\\tतुम्हें फूलों में दिलचस्पी है क्या?\\nCan you teach me how to steal?\\tक्या तुम मुझे चोरी करना सिखा सकते हो?\\nCould I please use your phone?\\tमैं आपका फ़ोन इस्तेमाल कर सकता हूँ क्या?\\nDo you live with your parents?\\tक्या तुम अपने मम्मी-पापा के साथ रहते हो?\\nDo you remember what she said?\\tतुम्हें याद है उसने क्या कहा था?\\nDon\\'t go back on your promise.\\tअपना वादा मत तोड़ो।\\nExcuse me, is this seat taken?\\tमाफ़ कीजिएगा, यहाँ कोई बैठा हुआ है क्या?\\nFew people live on the island.\\tइस द्वीप पर बहुत कम लोग रहते हैं।\\nHalf of the apples are rotten.\\tआधे सेव सड़ चुके हैं।\\nHe concealed the fact from me.\\tउसने मुझसे वह बात छिपाई।\\nHe did it as he had been told.\\tउसने वैसा करा जैसे उसे बताया गया था।\\nHe is accustomed to hard work.\\tउसे मेहनत करने की आदत है।\\nHe looked into the boy\\'s eyes.\\tउसने लड़के की आँखों में देखा।\\nHe made many costly purchases.\\tउसने बहुत सी महंगी चीज़ें खरीदीं।\\nHe spread butter on the bread.\\tउसने मक्खन को ब्रेड पर लगाया।\\nHe took advantage of my youth.\\tउसने मेरे जवान होने का फ़ायदा उठाया।\\nHe took advantage of my youth.\\tउसने मेरी जवानी का फ़ायदा उठाया।\\nHe was walking toward the sea.\\tवह समुंदर की ओर चल रहा था।\\nHe went to New York on Monday.\\tवह सोमवार को न्यूयॉर्क चला गया।\\nHe will return within 3 hours.\\tवह तीन घंटों में वापस आएगा।\\nHow about going to the movies?\\tफ़िल्म देखने चलें क्या?\\nHow long have you been abroad?\\tआप विदेश में कबसे हैं?\\nHow long have you been abroad?\\tआप विदेश में किता समय रहे हैं?\\nHow was the weather yesterday?\\tकल का मौसम कैसा था?\\nI accompanied him on the trip.\\tमैं सफ़र पर उसके साथ गया।\\nI am sorry if I disturbed you.\\tमाफ़ कीजिएगा अगर मैंने आपको परेशान किया तो।\\nI can\\'t bear the sight of him.\\tमुझे उसको देखा नहीं जाता।\\nI can\\'t put up with this cold.\\tमुझसे यह ठंड सही नहीं जाएगी।\\nI don\\'t go to work on Sundays.\\tमैं रविवार को काम पर नहीं जाता।\\nI don\\'t know if she will come.\\tमुझे नहीं पता कि वह आएगी कि नहीं।\\nI don\\'t think it\\'s reasonable.\\tमेरे विचार से यह युक्तियुक्त नहीँ है।\\nI don\\'t watch much basketball.\\tमैं ज्यादा बास्\\u200dकेटबॉल नहीं देखता।\\nI felt that I should help her.\\tमुझे लगा कि मुझे उसकी मदद करनी चाहिए।\\nI have no idea how he escaped.\\tमुझे नहीं पता वह कैसे निकल भागा।\\nI have not seen him in months.\\tमैंने उसे महीनों से नहीं देखा है।\\nI have to put the baby to bed.\\tमुझे बच्चे को सुलाना है।\\nI hope that it rains tomorrow.\\tकाश कल बारिश हो जाए।\\nI take a bath every other day.\\tमैं हर दूसरे दिन नहाता हूँ।\\nI was caught in a traffic jam.\\tमैं ट्राफ़िक जाम में फँस गया था।\\nI was caught in a traffic jam.\\tमैं ट्रैफ़िक जैम में फँस गया था।\\nI will be pleased to help you.\\tमुझे आपकी मदद करके खुशी होगी।\\nI will go to America tomorrow.\\tमैं कल अमेरिका जाऊँगी।\\nI\\'m sure I\\'ve seen him before.\\tमुझे यकीन है कि मैंने उसे पहले देखा हुआ है।\\nI\\'m thinking of changing jobs.\\tमैं नौकरी बदलने की सोच रही हूँ।\\nIt\\'s four o\\'clock by my watch.\\tमेरी घड़ी के हिसाब से चार बजे हैं।\\nMan can\\'t live without dreams.\\tइनसान सपने देखे बिना जी नहीं सकता है।\\nPlaying tennis is easy for me.\\tमेरे लिए टेनिस खेलना बहुत आसान है।\\nPlease feed the dog every day.\\tकुत्ते को रोज़ खिलाईएगा।\\nPlease turn on the television.\\tटीवी चालू कीजिए।\\nSchool begins at eight-thirty.\\tस्कूल साढ़े-आठ बजे शुरू होता है।\\nShe forgot to mail the letter.\\tवह चिट्ठी को डाक में डालना भूल गई।\\nShe forgot to mail the letter.\\tवह चिट्ठी को डाक करना भूल गई।\\nShe is not afraid of anything.\\tवह किसी भी चीज़ से नहीं डरती है।\\nShe is not afraid of anything.\\tउसे किसी भी चीज़ का डर नहीं है।\\nShe thought for a few minutes.\\tउसने कुछ मिनटों के लिए सोचा।\\nThe flowers have all withered.\\tसारे फूल मुरझा गए हैं।\\nThe king governed the country.\\tराजा की देश पर हुकूमत थी।\\nThe patient breathed his last.\\tरोगी ने अपनी आखरी साँस भरी।\\nThe ship is bound for Finland.\\tयह जहाज़ फ़िनलैंड के लिए रवाना है।\\nThe vase was broken to pieces.\\tगुलदान टूट कर चूर-चूर हो गया।\\nThe war is going in our favor.\\tजंग हमारे हित में जा रहा है।\\nThere is a cat under the desk.\\tमेज़ के नीचे एक बिल्ली है।\\nThere is no future in his job.\\tउसकी नौकरी का कोई भविष्य नहीं है।\\nThey consider him intelligent.\\tवे उसे समझदार मानते हैं।\\nThey have no house to live in.\\tउनके पास रहने के लिए कोई घर नहीं है।\\nThey must have made a mistake.\\tउनसे ग़लती हो गई होगी।\\nThis box contains five apples.\\tइस डब्बे में पाँच सेव हैं।\\nThis problem is hard to solve.\\tइस समस्या को सुलझाना बहुत कठिन है।\\nThis river is one mile across.\\tयह नदी एक मील चौड़ी है।\\nThis rule applies to you, too.\\tयह नियम तुमपर भी लागु होता है।\\nThis school has many students.\\tइस स्कूल में बहुत सारे विद्यार्थी हैं।\\nToday is my sister\\'s birthday.\\tआज मेरी बहन का जन्मदिन है।\\nToday is my sister\\'s birthday.\\tआज मेरी दीदी का जन्मदिन है।\\nWe were surprised at the news.\\tहम खबर सुनकर चौंक गए।\\nWhat is done cannot be undone.\\tहोनी को अनहोनी नहीं किया जा सकता।\\nWhat is done cannot be undone.\\tजो हो चुका है सो हो चुका है।\\nWhat is the name of this bird?\\tइस चिड़िया का नाम क्या है?\\nWhat kind of work will you do?\\tतुम किस तरह का काम करोगे?\\nWhat\\'s your home phone number?\\tतुम्हारे घर का फ़ोन नम्बर क्या है?\\nWhen do you usually go to bed?\\tतुम आमतौर पर कितने बजे सोते हो ?\\nWho was the letter written to?\\tपत्र किसको लिखा गया था?\\nWhy didn\\'t she come yesterday?\\tवह कल क्यों नहीं आई?\\nYou cannot park your car here.\\tआप अपनी गाड़ी यहाँ खड़ी नहीं कर सकते।\\nYou may sit down on the chair.\\tतुम कुरसी पर बैठ सकते हो।\\nYour team is better than ours.\\tआपका दल हमसे बेहतर है |\\n\"What time is it?\" \"It\\'s 3:20.\"\\t\"अभी कितने बजे हैं?\" \"तीन बीस बजे हैं\"\\nA fire broke out near my house.\\tमेरे घर के पड़ोस में आग लग गई थी।\\nAre you going to ask me or not?\\tमुझसे पूछने वाले हो या नहीं?\\nBoth he and his wife have cars.\\tवह और उसकी पत्नी दोनो के पास गाड़ियाँ हैं।\\nBoth of my sisters are married.\\tमेरी दोनो बहनें शादीशुदा हैं।\\nBusiness is so slow these days.\\tकारोबार में आजकल मंदी पड़ गई है।\\nCan I have the key now, please?\\tमुझे अब चाबी मिल सकती है क्या?\\nDad is shaving in the bathroom.\\tपापा बाथरूम में दाढ़ी बना रहे हैं।\\nDid he come by bus or by train?\\tवो बस से आया था कि ट्रेन से?\\nDo you have a room of your own?\\tक्या तुम्हारे पास अपना खुद का कमरा है?\\nDo you have one that\\'s cheaper?\\tइससे सस्ता वाला है क्या?\\nDo you know how to drive a car?\\tक्या आपको गाड़ी चलाना आता है?\\nDo you know how to drive a car?\\tक्या तुमको गाड़ी चलाना आता है?\\nDo you know how to drive a car?\\tक्या तुम्हें गाड़ी चलाना आता है?\\nDoes anyone here speak English?\\tयहाँ पर कोई अंग्रेज़ी बोलता है क्या?\\nEnglish is spoken in Australia.\\tआस्ट्रेलिया में अंग्रेजी बोली जाती है।\\nExcuse me, but can you help me?\\tमाफ़ कीजिएगा, आप मेरी मदद कर सकते हैं क्या?\\nFew people know about the plan.\\tयोजना के बारे में कुछ ही लोगों को पता है।\\nFighting won\\'t settle anything.\\tलड़ने-झगड़ने से बात का हल नहीं होगा।\\nFlying a kite can be dangerous.\\tपतंग उड़ाना खतरनाक हो सकता है।\\nGive me your attention, please.\\tकृपया ध्यान दीजिए।\\nHe has blue eyes and fair hair.\\tउसकी नीली आखें हैं और गोरे बाल हैं।\\nHe is anxious about the result.\\tवह नतीजे के लिए बेचैन है।\\nHe took a picture of the koala.\\tउसने कोआले की तस्वीर खींची।\\nHe walks his dog every morning.\\tवह हर सुबह अपने कुत्ते को सैर पर ले जाता है।\\nHis absence was due to illness.\\tवह बीमारी की वजह से नहीं आ सका।\\nHis behavior is very odd today.\\tउसका बर्ताव आज बहुत अजीब है।\\nHow do you interpret this poem?\\tइस कविता क्या आप क्या अर्थ निकालते हैं?\\nHow do you interpret this poem?\\tइस कविता का तुम क्या मतलब निकालते हो?\\nHow do you like your eggs done?\\tतुम्हे अपने अँडे कैसे पसंद हैं?\\nI am thinking of changing jobs.\\tमैं नौकरी बदलने की सोच रही हूँ।\\nI bet five pounds on the horse.\\tमैंने उस घोड़े पर पाँच पाऊंड की बाज़ी लगाई।\\nI did it the way he told me to.\\tउसने जैसे बताया था मैंने वैसे किया।\\nI don\\'t know when he will come.\\tमुझे नहीं पता वह कब आएगा।\\nI have a bone to pick with you.\\tमैं तुमसे खुश नहीं हूँ।\\nI have not seen him since then.\\tमैंने उसे तबसे नहीं देखा है।\\nI left the keys with my wallet.\\tमैंने चाबियों को अपने बटुए के साथ छोड़ दिया।\\nI motioned for her to sit down.\\tमैंने उससे बैठ जाने का इशारा किया।\\nI must have left it on the bus.\\tमैंने उसे बस में छोड़ दिया होगा।\\nI take a bath almost every day.\\tमैं लगभग हर रोज़ नहाता हूँ।\\nI want to have a cup of coffee.\\tमुझे एक कप कॉफ़ी चाहिए।\\nI will give you a large folder.\\tमैं तुम्हें एक बड़ा फ़ोलडर दूँगा।\\nI\\'m going to meet him tomorrow.\\tमैं कल उससे मिलने जा रहा हूँ।\\nI\\'ve never met such a kind man.\\tमैं कभी भी इतने दयालु व्यक्ति से नहीं मिला।\\nI\\'ve worked here for ten years.\\tमैं यहाँ दस साल से काम कर रहा हूँ।\\nIs it possible to borrow money?\\tक्या पैसे उधार लिए जा सकते हैं?\\nIt is no use worrying about it.\\tइसके बारे में चिंता करने से कोई फ़ायदा नहीं है।\\nIt took me a while to find Tom.\\tमुझे टॉम को ढूँढने में समय लग गया।\\nLet\\'s meet here again tomorrow.\\tयहाँ पर कल फिर मिलते हैं।\\nLet\\'s take a rest in the shade.\\tचलो छाया में थोड़ा आराम करलें।\\nMary is interested in politics.\\tमेरी को राजनीति में दिलचस्पी है।\\nMay I leave this book with you?\\tमैं यह किताब तुम्हारे पास छोड़ूँ?\\nMy hobby is playing the guitar.\\tमेरा शौक गिटार बजाना है।\\nPhysics is my favorite subject.\\tभौतिक विज्ञान मेरा सबसे पसंदीता विषय है।\\nPlease speak in a louder voice.\\tथोड़ी ऊँची आवाज़ में बोलिए।\\nRead as many books as possible.\\tजितनी किताबें पढ़ सकते हो पढ़ो।\\nRemove your shirt and lie down.\\tअपनी कमीज़ उतार कर लेट जाओ।\\nShe always tries something new.\\tवह हमेशा कोई नया काम आज़माती रहती है।\\nShe cooked us a wonderful meal.\\tउसने हमारे लिए बहुत ही शानदार भोजन तैयार किया।\\nShe helped me pack my suitcase.\\tउसने मुझे मेरी अटैची पैक करने में मदद करी।\\nShe is a woman of great beauty.\\tवह एक बहुत ही खूबसूरत औरत है।\\nShe is always dressed in black.\\tवह हमेशा काले कपड़े पहनती है।\\nShe is appearing on TV tonight.\\tवह आज टीवी पर आएगी।\\nShe warned him not to go alone.\\tउसने उसे अकेले न जाने की चेतावनी दी।\\nShe\\'s a beauty from a distance.\\tवह दूर से हसीना लगती है।\\nSomeone has cut my kite string.\\tकिसी ने मेरी पतंग काट ली है।\\nSuch a thing occurs frequently.\\tऐसा अक्सर होता है।\\nThe bird on the roof is a crow.\\tछत पर जो चिड़िया बैठी है वह एक कौआ है।\\nThe car raised a cloud of dust.\\tउस गाड़ी ने बहुत धूल उड़ाई।\\nThe children were flying kites.\\tबच्चे पतंग उड़ा रहे थे।\\nThe deer was running by itself.\\tहिरण अकेले दौड़ रहा था।\\nThe dog kept barking all night.\\tकुत्ता रातभर भौंकता रहा।\\nThe earth moves around the sun.\\tधरती सूरज की परिक्रमा करती है।\\nThe investigation is under way.\\tजाँच-पड़ताल जारी है।\\nThe men went hunting for lions.\\tवे आदमी शेरों का शिकार करने निकले।\\nThe plane crash took 200 lives.\\tविमान दुर्घटना ने दो सौ लोगों की जानें लें लीं।\\nThe plane will arrive at three.\\tविमान तीन बजे पहुँचेगा।\\nThe shop carried leather goods.\\tवह दुकान चमड़े के उत्पाद बेचती थी।\\nTheir wedding will be tomorrow.\\tउनकी शादी कल होगी।\\nThere are no towels in room 15.\\tकमरा नम्बर पंद्राह में तौलिये नहीं हैं।\\nThere used to be a church here.\\tयहाँ एक चर्च हुआ करता था।\\nThese shoes are too big for me.\\tये जूते मेरे लिए बहुत बड़े हैं।\\nThey went on talking for hours.\\tउन्होंने और कुछ घंटों के लिए बातचीत करी।\\nThey went out of sight at last.\\tवे आखिरकार नज़र से बाहर निकल गए।\\nThis is a picture of my sister.\\tयह मेरी बहन की तस्वीर है।\\nThis is mine, and that\\'s yours.\\tयह मेरा है और वह तुम्हारा है।\\nThis medicine will do you good!\\tयह दवाई तुम्हारा भला करेगी!\\nThis train is bound for Boston.\\tयह ट्रेन बॉस्टन के लिए रवाना हो रही है।\\nToday is my sixteenth birthday.\\tआज मेरा सोलहवा जन्मदिन है।\\nWe are anxious for world peace.\\tहम विश्व शांति के लिए तत्पर हैं।\\nWe are sorry we can\\'t help you.\\tमाफ़ कीजिए पर हम आपकी मदद नहीं कर सकते।\\nWe cannot do the work in a day.\\tहम यह काम एक दिन में नहीं कर सकते।\\nWhat would you like for supper?\\tआप रात में खाने के लिए क्या खाना चाहेंगे?\\nWho is the author of the novel?\\tइस उपन्यास का लेखक कौन है?\\nWhy were you late this morning?\\tतुम आज सुबह देर से क्यों आए?\\nWon\\'t you come to dine with us?\\tक्या आप हमारे साथ खाना खाने नहीं आएंगे?\\nYou may take anything you like.\\tतुम्हें जो अच्छा लगता है लेलो।\\nYou must be back by 10 o\\'clock.\\tतुम्हे दस बजे तक वापस आ जाना होगा।\\nYou owe me an apology for that.\\tतुम्हे इस बात के लिए मुझसे माफ़ी माँगनी चाहिए।\\nYou should have come yesterday.\\tतुम्हे कल आना चाहिए था।\\nYou should have kept it secret.\\tतुम्हे इसे राज़ रखना चहिए था।\\nYou should have listened to me.\\tतुम्हे मेरी बात सुन लेनी चाहिए थी।\\nYou should have seen the movie.\\tतुम्हें फ़िल्म देखनी चहिए थी।\\nA good idea suddenly struck her.\\tअचानक उसे एक अच्छा आइडिया आया।\\nAll the students look up to him.\\tसारे विद्यार्थी उसका आदर-सम्मान करते थे।\\nAre you the owner of this house?\\tआप इस घर के मालिक हैं क्या?\\nAt last, he solved the question.\\tउसने आखिरकार सवाल का जवाब ढूँढ निकाला।\\nAustralia exports a lot of wool.\\tऑस्ट्रेलिया ऊन का बड़ी मात्रा में निर्यात करता है।\\nBelieve it or not, that is true.\\tमानो या न मानो, यह तो सच है।\\nChina is much bigger than Japan.\\tचीन जापान से काफ़ी ज़्यादा बड़ा है।\\nChina is much larger than Japan.\\tचीन जापान से काफ़ी ज़्यादा बड़ा है।\\nDo you think that fish can hear?\\tक्या तुम्हें लगता है कि मछलियाँ सुन सकतीं हैं?\\nEnglish is the world\\'s language.\\tअंग्रेज़ी वैश्विक भाषा है।\\nEnglish is the world\\'s language.\\tअंग्रेज़ी सारी दुनिया की भाषा है।\\nEven children can understand it.\\tइस बात को बच्चे भी समझते हैं।\\nEverything is all right at home.\\tघर में सब-कुछ ठीक है।\\nFinish this as soon as possible.\\tइसे जितनी जल्दी हो सके ख़त्म करो ।\\nFinish this as soon as possible.\\tइसे जल्द-से-जल्द ख़त्म करो ।\\nFresh vegetables promote health.\\tताज़ी सब्ज़ियाँ स्वास्थ्य के लिए अच्छी होतीं हैं।\\nFresh vegetables promote health.\\tताज़ी सब्ज़ियाँ सेहत के लिए अच्छी होतीं हैं।\\nHe is afraid of making mistakes.\\tवह ग़लती करने से डरता है।\\nHe looked back and smiled at me.\\tउसने पीछे मुड़कर मुझपर मुस्कुराया।\\nHe was buried in this graveyard.\\tउसको इस कब्रिस्तान में बरी किया गया था।\\nHe was buried in this graveyard.\\tउसको इस कब्रिस्तान में दफ़नाया गया था।\\nI am nothing but a poor peasant.\\tमैं तो बस एक गरीब किसान ही हूँ।\\nI bet ten dollars on that horse.\\tमैंने उस घोड़े पर दस डॉलर लगाए थे।\\nI clean up my room every Sunday.\\tमैं हर रविवार अपना कमरा साफ़ करता हूँ।\\nI have some stuff to do at home.\\tमुझे घर में थोड़ा काम करना है I\\nI hope he won\\'t be disappointed.\\tमुझे आशा है कि वह निराश नहीं होगा।\\nI remember when I first saw you.\\tमुझे हमारी पहली मुलाकात याद है।\\nI wake him at six every morning.\\tमैं हर सुबह छः बजे उसको उठाती हूँ।\\nI want you to keep your promise.\\tमैं चाहता हूँ कि तुम अपना वादा निभाओ।\\nI will go there in place of you.\\tतुम्हारे बदले मैं वहाँ जाऊँगा।\\nI would like to meet his father.\\tमैं उसके पिता से मिलना चाह्ता हूँ।\\nI\\'m going to tell you something.\\tमैं तुम्हें कुछ बताने वाला हूँ।\\nI\\'m going to tell you something.\\tमैं तुम्हें कुछ बताने जा रहा हूँ।\\nI\\'m gonna have to call you back.\\tमुझे तुम्हें वापस बुलाना पड़ेगा।\\nIt is very cold today, isn\\'t it?\\tआज बहुत ठंडा है ना?\\nIt isn\\'t raining much this year.\\tइस साल ज़्यादा बारिश नहीं हो रही है।\\nIt was raining heavily in Osaka.\\tओसाका में भारी बारिश हो रही थी।\\nMay I see your passport, please?\\tमैं आपका पासपोर्ट देख सकता हूँ क्या?\\nMy father hates the summer heat.\\tमेरे पापा को गर्मी के मौसम से नफ़रत है।\\nMy watch isn\\'t working properly.\\tमेरी घड़ी ख़राब हो गई।\\nPerhaps he will never be famous.\\tसंभवतः वह विख्यात कभी नहीँ हो पाएगा।\\nPlease give me a glass of water.\\tमुझे एक गिलास पानी देदीजिए।\\nPlease wait here until he comes.\\tउसके आने तक यहाँ इंतेज़ार कीजिए।\\nShe bought two pounds of butter.\\tउसने एक किलो मक्खन खरीदा।\\nShe gazed at me for a long time.\\tउसने मुझको बहुत देर तक घूरकर देखा।\\nShe got off at the next station.\\tवह अगले स्टॉप पर उतर गई।\\nShe left the table after dinner.\\tवह खाना खाने के बाद मेज़ से उठकर चली गई।\\nShe lives in an apartment alone.\\tवह फ़्लैट में अकेले रहती है।\\nShe saved money for a rainy day.\\tउसने बुरे वक्त के लिए पैसे बचाए।\\nShe tried in vain to please him.\\tउसने बेकार में उसको खुश करने की कोशिश की।\\nSwimming here is very dangerous.\\tयहाँ तैरना बहुत ख़तरनाक है।\\nTell whoever comes that I\\'m out.\\tअगर कोई आए तो उनसे कहना कि मैं बाहर गया हूँ।\\nThe boy ran away when he saw me.\\tलड़का मुझको देखते ही भाग गया।\\nThe clock has just struck three.\\tघड़ी पर अभी अभी तीन बजे हैं।\\nThe dictionary is close at hand.\\tशब्दकोष पास में ही है।\\nThe house is said to be haunted.\\tलोग कहते हैं कि इस घर में भूत हैं।\\nThe kite got caught in the tree.\\tपतंग पेड़ में जाकर अटक गई।\\nThe rumor turned out to be true.\\tवह अफ़वाह सच निकली।\\nThe train came to a smooth stop.\\tट्रेन हल्के से आकर रुकी।\\nThe water was cut off yesterday.\\tपानी कल बंद हो गया था।\\nThere are few, if any, such men.\\tऐसे लोग कम ही होंगे।\\nThere is always something to do.\\tकरने के लिए हमेशा कुछ-न-कुछ तो होता ही है।\\nThey abandoned the sinking ship.\\tउन्होंने डूबते हुए जहाज़ को छोड़ दिया।\\nThey abandoned the sinking ship.\\tवे डूबते हुए जहाज़ से निकल गए।\\nThey are discussing the problem.\\tवे इस समस्या के बारे में बातचीत कर रहे हैं।\\nTo what degree can we trust him?\\tहम उस पर कितना भरोसा कर सकते हैं?\\nTry to jump as high as possible.\\tजितना ऊँचा कूद सकते हो कूदो।\\nTwo crows are flying in the sky.\\tआसमान में दो कौवे उड़ रहें हैं।\\nUnless it rains, I will go, too.\\tअगर बारिश नहीं होती है तो मैं भी जाऊँगा।\\nWe can hear the ocean from here.\\tहमे यहाँ से समुंदर सुनाई देता है।\\nWe have eaten there three times.\\tहम वहाँ तीन बार खा चुके हैं।\\nWe hurried to the train station.\\tहम जल्दबाज़ी में ट्रेन स्टेशन गए।\\nWe saw the child get on the bus.\\tहमने बच्चे को बस पर चढ़ते हुए देखा।\\nWe\\'ll cross the river in a boat.\\tहम नाव में नदी को पार करेंगे।\\nWhat did you do with my baggage?\\tतुमने मेरे सामान के साथ क्या किया?\\nWhat is the population of India?\\tभारत की आबादी क्या है?\\nWhat is the population of India?\\tभारत की जनसंख्या क्या है?\\nWhat the newspapers say is true.\\tजो अखबार में लिखा है वह सच है।\\nWho is the author of this story?\\tइस कहानी का लेखक कौन है?\\nWhy did you turn down his offer?\\tतुमने उसके प्रस्ताव को स्वीकार क्यों नहीं किया?\\nWhy didn\\'t you go to the office?\\tतुम दफ़्तर क्यों नहीं गए?\\nWill you turn on the television?\\tटीवी चालू कर दोगे क्या?\\nWipe your hands with this towel.\\tअपने हाथ इस तौलिए से पोंछो।\\nWould you like to dance with me?\\tमेरे साथ नाचना चाहोगी क्या?\\nWould you like to dance with me?\\tमेरे साथ डान्स करना चाहती हो क्या?\\nYou should conform to the rules.\\tतुम्हे नियमों का पालन करना चाहिए।\\nYour bicycle is similar to mine.\\tतुम्हारी साईकल मेरी साईकल जैसी है।\\n\"Let\\'s play tennis.\" \"Yes let\\'s.\"\\t\"चलो टेनिस खेलने चलतें हैं।\" \"हाँ, चलो चलतें हैं\"\\nA rope was thrown into the water.\\tरस्सी को पानी में फेंक दिया गया।\\nDo you go there by bus or by car?\\tतुम वहाँ बस से जाते हो या गाड़ी से?\\nDo you have brothers and sisters?\\tतुम्हारे पास भाई-बहन हैं क्या?\\nDon\\'t worry. You can count on me.\\tचिंता मत करो। तुम मुझपर भरोसा कर सकते हो।\\nHe called me up almost every day.\\tउसने लगभग रोज़ मुझे फ़ोन किया।\\nHe cannot answer their questions.\\tवह उनके सवालों का जवाब नहीं दे सकता।\\nHe explained his plans in detail.\\tउसने विस्तृत रूप से अपनी योजना समझाई।\\nHe has his hair cut once a month.\\tवह अपने बाल महीने में एक बार कटवाता है।\\nHe hasn\\'t written the letter yet.\\tउसने चिट्ठी अभी तक नहीं लिखी है।\\nHe is always losing his umbrella.\\tवह हमेशा अपना छाता खोता रहता है।\\nHe may be rich, but he is stingy.\\tवह अमीर है हो है पर कंजूस भी है।\\nHe pressed me for a prompt reply.\\tउसने मुझसे जल्द-से-जल्द उत्तर देने के लिए कहा।\\nHe reads the paper every morning.\\tवह हर सुबह अखबार पढ़ता है।\\nHe was killed by a single bullet.\\tउसे केवल एक गोली से मारा गया था।\\nHe weighed the stone in his hand.\\tउसने पत्थर को अपने हाथ में रखकर तोला।\\nHe went to India by way of Japan.\\tवह जापान से होकर भारत गया।\\nHow old might his grandfather be?\\tउसके नाना की उम्र क्या होनी चाहिए?\\nHurry up, or you\\'ll miss the bus.\\tजल्दी करो नहीं तो बस छूट जाएगी।\\nI am ashamed of having been lazy.\\tमुझे अपने आलसी होने पर शर्म आती है।\\nI didn\\'t know what to say to him.\\tमुझे समझ में नहीं आ रहा था कि उससे क्या कहूँ।\\nI don\\'t know how, but Tom did it.\\tपता नहीं कैसे पर टॉम ने कर दिया।\\nI don\\'t know how, but you did it.\\tपता नहीं कैसे पर तुमने कर दिया।\\nI had a strange dream last night.\\tमुझे कल रात एक बहुत अजीब सपना आया।\\nI had to help with the housework.\\tमुझे घर के कामकाज में मदद करनी पड़ी।\\nI have an important call to make.\\tमुझे एक जरूरी कॉल करनी है ।\\nI have no place to sleep tonight.\\tमेरे पास आज रात सोने के लिए जगह नहीं है।\\nI have not finished the task yet.\\tमैंने अभी काम ख़तम नहीं किया है।\\nI know nothing whatever about it.\\tमुझे इसके बारे में कुछ भी नहीं पता।\\nI meet him once every six months.\\tमैं उससे छः महीनों में एक बार मिलता हूँ।\\nI think the train will come soon.\\tमुझे लगता है ट्रेन आने ही वाली है।\\nI want to go to America some day.\\tमैं एक दिन अमेरिका जाना चाहता हूँ।\\nI want to study abroad next year.\\tमुझे अगले साल विदेश जाकर पढ़ाई करने का मन है।\\nI was taking a bath when he came.\\tजब वह आया मैं नहा रहा था।\\nI went there because I wanted to.\\tमैं वहाँ गया क्योंकि मेरा मन था।\\nI wrote a love letter last night.\\tमैंने कल रात एक प्रेम पत्र लिखा था।\\nI\\'d like to have a word with you.\\tमैं तुमसे बात करना चाह्ता हूँ।\\nI\\'m looking for a small suitcase.\\tमैं एक छोटी अटैची को ढूँढ रहा हूँ।\\nI\\'m tired of watching television.\\tमैं टीवी देख देखकर थक गया हूँ।\\nIs it always a sin to tell a lie?\\tक्या झूठ हमेशा बुरा होता है?\\nIs there anywhere you want to go?\\tऐसी कोई जगह है जहां आप जाना चाहते हो?\\nIt is expensive to live in Japan.\\tजापान में रहना बहुत महंगा है।\\nIt is no use asking me for money.\\tमुझसे पैसे माँगने में कोई फ़ायदा नहीं है।\\nIt looks like you are from India.\\tलगता है कि तुम भारत के हो।\\nIt won\\'t take long to do the job.\\tइस काम को करने में ज़्यादा देर नहीं लगेगी।\\nKeep children away from medicine.\\tबच्चों को दवाईयों से दूर रखना चहिए।\\nMy boss made me work last Sunday.\\tमेरे बॉस ने मुझसे पिछले रविवार को काम करवाया।\\nMy father can speak English well.\\tमेरे पिताजी को अंग्रेज़ी अच्छे से बोलना आता है।\\nMy father\\'s hair has grown white.\\tमेरे पापा के बाल सफ़ेद हो गए हैं।\\nMy hobby is visiting old temples.\\tमैं पुराने मंदिरों को देखने जाने का शौकीन हूँ।\\nOh, no! We\\'re running out of gas.\\tअरे नहीं! पेट्रोल खतम होने वाला है।\\nOne billion people speak English.\\tसौ अरब लोग अंग्रेज़ी बोलते हैं।\\nOur class consists of fifty boys.\\tहमारी क्लास में पचास लड़के हैं।\\nOur class consists of fifty boys.\\tहमारी कक्षा में पचास लड़के हैं।\\nOur meeting was quite accidental.\\tहमारी मुलाकात ग़लती से हो गई।\\nPlease pardon me for coming late.\\tमुझे देर से आने के लिए माफ़ कीजिएगा।\\nSchool begins at half past eight.\\tस्कूल साढ़े-आठ बजे शुरू होता है।\\nShe asked him to raise the funds.\\tउसने उससे पैसे जुटाने के लिए कहा।\\nShe didn\\'t give me my money back.\\tउसने मुझे मेरे पैसे नहीं लौटाए।\\nShe gladly accepted his proposal.\\tउसने उसका प्रस्ताव खुशी से स्वीकार कर लिया।\\nShe is poor, but she looks happy.\\tवह गरीब है, पर दिखने से खुश लगती है।\\nShe is too young to go to school.\\tवह स्कूल जाने के लिए अभी बहुत छोटी है।\\nShe is two years younger than me.\\tवह मुझसे दो साल छोटी है।\\nShe remained single all her life.\\tउसने पूरी ज़िन्दगी शादी नहीं करी।\\nShe reproached me for being lazy.\\tउसने मुझपर आलसी होने के लिए गुस्सा किया।\\nShe went to Paris to study music.\\tवह संगीत पढ़ने के लिए पैरिस गई।\\nSummer is the season I like best.\\tगर्मी का मौसम मेरा सबसे पसंदीता मौसम है।\\nThat box is bigger than this one.\\tवह डब्बा इस वाले से बड़ा है।\\nThe boy stripped off his clothes.\\tउस लड़के ने अपने सारे कपड़े उतारे।\\nThe conference will end tomorrow.\\tसम्मेलन कल समाप्त होगा।\\nThe girl was aware of the danger.\\tउस लड़की को खतरे के बारे में पता था।\\nThe history class starts at nine.\\tइतिहास की क्लास नौ बजे शुरू होती है।\\nThe rumor is true to some extent.\\tवह अफ़वाह किसी हद तक सच है।\\nThe shooting started around noon.\\tगोलीबारी लगभग दोपहर के बारह बजे शुरू हुई।\\nThe telephone rang several times.\\tफ़ोन कई बार बजा।\\nThe top of that mountain is flat.\\tउस पहाड़ की चोटी चपटी है।\\nThere was a strong wind that day.\\tउस दिन हवा बहुत तेज़ थी।\\nThese trees were planted by them.\\tये पेड़ उन्होंने लगाए थे।\\nThey gave us very little trouble.\\tउन्होंने हमको बहुत कम कष्ट दिया।\\nThey were scolded by the teacher.\\tउन्हें अपनी टीचर से डाँट पड़ी।\\nThey will get married next month.\\tउनकी शादी अगले महीने होगी।\\nThis book contains many pictures.\\tइस किताब में बहुत सारी तस्वीरें हैं।\\nThis book is older than that one.\\tयह किताब उस किताब से पुरानी है।\\nThis is what I found in the cave.\\tमुझे गुफ़ा में ये मिला।\\nThis tie doesn\\'t go with my suit.\\tयह टाई मेरे सूट के साथ जचती नहीं है।\\nWe stayed at a hotel by the lake.\\tहम झील के पास एक होटल में ठहरे।\\nWe went for a walk in the forest.\\tहम जंगल में सैर करने गए थे।\\nWhat do you do in your free time?\\tतुम अपने खाली समय में क्या करते हो?\\nWhat was his motive for doing it?\\tउसका यह करने में उद्देश्य क्या था?\\nWhen do you usually get off work?\\tतुम आमतौर पर कितने बजे काम से छूटते हो?\\nWhen will you get ready to leave?\\tतुम चलने के लिए तैयार कब होगे?\\nWho is to blame for the accident?\\tइस दुर्घटना के लिए कौन ज़िम्मेदार है?\\nWill you go to the party tonight?\\tतुम आज रात पार्टी में जाओगे क्या?\\nWill you have another cup of tea?\\tएक और गिलास चाय लेंगे क्या?\\nWill you sing me a Beatles\\' song?\\tतुम मेरे लिए एक बीटल्स का गाना गा सकते हो क्या?\\nYou didn\\'t have to come so early.\\tतुम्हे इतना जल्दी आने की ज़रूरत नहीं थी।\\nYou don\\'t have to chat with them.\\tतुम्हे उसने गप मारने की ज़रूरत नहीं है।\\nYou must get rid of such a habit.\\tतुम्हे इस तरह की आदत तोड़ देनी चाहिए।\\nA man like that gets on my nerves.\\tउस तरह का आदमी मुझसे झिलता नहीं है।\\nA squirrel hid among the branches.\\tएक गिलहरी डालियों के बीच छुपी हुई थी।\\nAlmost all the leaves have fallen.\\tलगभग सारी-की-सारी पत्तियाँ गिर चुकीं हैं।\\nAt last, he realized his mistakes.\\tआखिरकार उसको उसकी ग़लतियाँ समझ में आईं।\\nCan you tell me what size this is?\\tक्या आप मुझे बता सकते हैं कि यह किस नाप का है?\\nCoincidentally enough, I know him.\\tइत्तेफ़ाक से, मैं उसे जानता हूँ।\\nDo I have to stay in the hospital?\\tक्या मुझे अस्पताल में रहना होगा?\\nDo you know how to use a computer?\\tक्या आपको कम्प्यूटर का इस्तेमाल करना आता है?\\nDo you know how to use a computer?\\tक्या आपको कम्प्यूटर का उपयोग करना आता है?\\nDo you want to watch this program?\\tतुम यह कार्यक्रम देखना चाहते हो क्या?\\nElephants live in Asia and Africa.\\tहाथी एशिया और अफ़्रीका में रहते हैं।\\nHe decided not to go to the party.\\tउसने पार्टी में न जाने का फ़ैसला किया।\\nHe didn\\'t go there. Neither did I.\\tन वह वहाँ गया, न मैं।\\nHe has been to London three times.\\tवह लंदन तीन बार जा चुका है।\\nHe hid his sadness behind a smile.\\tउसने अपने दुख को अपनी मुस्कुराहट के पीछे छिपा लिया।\\nHe is able to speak ten languages.\\tवह दस भाषाएँ बोलना जानता है।\\nHe lives in that house over there.\\tवह वहाँ उस घर में रहता है।\\nHe used pigeons in his experiment.\\tवह अपने प्रयोगों में कबूतरों का उपयोग करता था।\\nHe will write for hours at a time.\\tवह एक बार में घंटो के लिए लिख सकता है।\\nHe\\'s always running short of cash.\\tउसको हमेशा पैसों की कमी होती है।\\nI can\\'t buy a book this expensive.\\tमैं इतनी महंगी किताब नहीं ख़रीद सकता।\\nI can\\'t put up with his arrogance.\\tमुझसे उसका अक्खड़पन झेला नहीं जाता।\\nI cannot understand what happened.\\tमुझे समझ में नहीं आ रहा क्या हुआ।\\nI don\\'t like being made a fool of.\\tमुझे मूर्ख बनना पसंद नहीं है।\\nI doubt his ability to do the job.\\tमुझे उसके काम करने की योग्यता पर भरोसा नहीं है।\\nI felt hungry after the long walk.\\tमुझे लम्बी सैर के बाद भूख लग आई।\\nI had a letter from her yesterday.\\tमेरे पास कल उसकी एक चिट्ठी आई।\\nI had the good fortune to succeed.\\tमैं खुशकिसमत था कि सफ़ल हो गया।\\nI must adjust my watch. It\\'s slow.\\tमुझे अपनी घड़ी ठीक करनी है। धीरे चल रही है।\\nI saw a dog swim across the river.\\tमैंने एक कुत्ते को तैरकर नदी पार करते हुए देखा।\\nI usually get home by six o\\'clock.\\tमैं आमतौर पर छः बजे तक घर आ जाता हूँ।\\nI usually get up at eight o\\'clock.\\tमैं आमतौर पर आठ बजे उठा करता हूँ।\\nI want you to go to Osaka at once.\\tफ़ौरन ओसाका जाओ।\\nI was able to win the first prize.\\tमैंने प्रथम पुरस्कार जीत लिया।\\nI was asked to give you a message.\\tमुझसे आपको यह संदेश देने के लिए बताया गया था।\\nI\\'m going to the village tomorrow.\\tमैं कल गाँव जा रहा हूँ।\\nIt happened between eight and ten.\\tआठ से दस बजे के बीच हुआ।\\nIt happened between eight and ten.\\tआठ से दस बजे के बीच हुई।\\nIt is better to ignore this point.\\tबेहतर होगा कि इस बात को अनदेखा किया जाए।\\nIt seems to me that you are wrong.\\tमुझे लगता है कि तुम ग़लत हो।\\nIt was proved that he was a thief.\\tयह साबित कर दिया गया कि वह चोर था।\\nIt\\'s important for them to go out.\\tउनके लिए बाहर जाना बहुत ज़रूरी है।\\nKeep your room as neat as you can.\\tअपना कमरा जितना साफ़-सुथरा रख सकते हो रखो।\\nLet me give you a piece of advice.\\tमैं तुम्हें एक बात की सलाह देता हूँ।\\nMary prided herself on her beauty.\\tमेरी को अपनी सुंदरता पर बहुत नाज़ था।\\nMay we accompany you on your walk?\\tहम तुम्हारे साथ सैर करने चलें क्या?\\nMy friends celebrated my birthday.\\tमेरे दोस्तों ने मेरा जन्मदिन मनाया।\\nMy hens laid fewer eggs last year.\\tमेरी मुर्गियों ने पिछले साल के मुकाबले से कम अंडे दियें हैं।\\nNew Delhi is the capital of India.\\tभारत की राजधानी नई दिल्ली है।\\nOnly a few people didn\\'t go there.\\tबहुत कम लोग थे जो वहाँ नहीं गए।\\nOnly a few people listened to him.\\tउसकी बात कुछ ही लोगों ने सुनी।\\nOur meeting rarely starts on time.\\tहमारी मीटिंग कभी-कभार ही टाईम पर शुरू होती है।\\nShe has already finished the work.\\tवह काम खतम कर चुकी है।\\nShe is as beautiful as her mother.\\tवह अपनी माँ जैसी सुंदर है।\\nShe is ashamed of her old clothes.\\tउसको अपने पुराने कपड़ो पर शर्म आती है।\\nSmoking will do you a lot of harm.\\tधूम्रपान आपको हानि पहुँचाएगा।\\nSomeday your dream will come true.\\tतुम्हारा सपना एक दिन सच हो जाएगा।\\nStamps are not sold in this store.\\tयहां डाक टिकटें नहीं बेची जातीं हैं।\\nThat bicycle is too small for you.\\tयह साईकल तुम्हारे लिए बहुत छोटी है।\\nThe capital of India is New Delhi.\\tभारत की राजधानी नई दिल्ली है।\\nThe job must be finished by 3 p.m.\\tयह काम दोपहर तीन बजे से पहले खतम हो जाना चाहिए।\\nThe mountain is covered with snow.\\tपहाड़ पर बर्फ़ बिछी हुई है।\\nThe plane took off exactly at six.\\tहवाईजहाज़ ने ठीक छः बजे उड़ान ली।\\nThe rain prevented me from coming.\\tमैं बारिश की वजह से आ नहीं पाया।\\nThe road is parallel to the river.\\tवह सड़क नदी के साथ साथ चलती है।\\nThe women of France are beautiful.\\tफ़्रांस की महिलाये खूबसूरत हैं।\\nThere are five apples in this box.\\tइस डब्बे में पाँच सेव हैं।\\nThere is a garden behind my house.\\tमेरे घर के पीछे एक बगीचा है।\\nThere was no one there besides me.\\tवहाँ मेरे अलावा और कोई नहीं था।\\nThere were two murders this month.\\tइस महीने दो क़त्ल हुए हैं।\\nThere were two murders this month.\\tइस महीने दो हत्याएँ हुईं हैं।\\nThey are willing to learn English.\\tवे अंग्रेज़ी सीखने को तैयार हैं।\\nWe shared the profit among us all.\\tहमने मुनाफ़े को अपने बीच बाँटा।\\nWe should observe the speed limit.\\tहमे गति सीमा का पालन करना चाहिए।\\nWe usually have breakfast at 7:30.\\tहम आमतौर पर साढ़े सात बजे नाश्ता खाते हैं।\\nWhat movies are playing this week?\\tइस सप्ताह कौन सी फ़िल्में लगीं हुईं हैं?\\nWhat time did your friend go home?\\tतुम्हारा दोस्त कितने बजे घर वापस गया था?\\nWhat time do you get up every day?\\tआप रोज़ कितने बजे उठते हैं?\\nWhat time do you get up every day?\\tतुम रोज़ कितने बजे उठते हो?\\nWhat time do you get up every day?\\tतुम रोज़ कितने बजे उठा करते हो?\\nWhat time will you have breakfast?\\tतुम नाश्ता कितने बजे लोगे?\\nWhen did you get back from London?\\tतुम लंदन से कब वापस आए?\\nWho do you think broke the window?\\tतुम्हें क्या लगता है? खिड़की किसने तोड़ी है?\\nWill the weather be good tomorrow?\\tकल मौसम अच्छा होगा क्या?\\nWill you go to America next month?\\tतुम अगले महीने अम्रीका जाओगे क्या?\\nWould you like another cup of tea?\\tआप एक और कप चाय पीना चाहेंगे क्या?\\nYou had better not read this book.\\tतुम यह किताब न ही पढ़ो बेहतर होगा।\\nYou must keep an eye on the child.\\tतुम्हे बच्चे पर नज़र रखनी पड़ेगी।\\nYou\\'ve got nothing to complain of.\\tतुम्हारे पास शिकायत करने के लिए को भी वजह नहीं है।\\nYour sister can not speak English.\\tतुम्हारी बहन अंग्रेज़ी नहीं बोल सकती है।\\nA police officer is talking to her.\\tएक पुलिस अफ़सर उससे बात कर रहा है।\\nAn elephant is a very large animal.\\tहाथी एक बहुत बड़ा जानवर होता है।\\nAre you sure of her coming on time?\\tतुम्हे पक्का मालूम है कि वह समय पर आ रही है?\\nAs a matter of fact, I dislike him.\\tदरअसल मुझे वह पसंद नहीं है।\\nBern is the capital of Switzerland.\\tबर्न स्विजरलैंड की राजधानी है।\\nCould you call again later, please?\\tक्या आप थोड़ी देर बाद फिरसे फ़ोन कर सकतें हैं?\\nDid you hear the news on the radio?\\tतुमने रेडियो पर खबर सुनी क्या?\\nDo you have these shoes in my size?\\tक्या ये जूते मेरे नाप में भी हैं?\\nDo you have these shoes in my size?\\tक्या ये जूते मेरे नाप में भी मिल सकते हैं?\\nDo you like to live in the country?\\tआप को गाँव में रहना पसंद है क्या?\\nDon\\'t be afraid of making mistakes.\\tग़लतियाँ करने से मत डरो।\\nDon\\'t speak ill of your classmates.\\tअपने सहपाठियों की बुराई मत करो।\\nEvery man should learn how to cook.\\tहर आदमी को खाना बनाना सीखना चाहिए।\\nEverybody wants to live in comfort.\\tसभी लोग आराम की ज़िन्दगी जीना चाहते हैं।\\nFew people will admit their faults.\\tबहुत कम लोग अपनी गलतियों को मानते हैं।\\nHe did the reverse of what I asked.\\tउसने मेरे बताए हुए से उलटा काम किया।\\nHe died without having made a will.\\tवह वसीयत बनाए बिना ही मर गया।\\nHe doesn\\'t live in my neighborhood.\\tवह मेरे आस-पड़ोस में नहीं रहता।\\nHe had nothing to do with the case.\\tउसका इस केस के साथ कोई लेना-देना नहीं था।\\nHe had to go without food for days.\\tउसने दिनों तक खाना नहीं खाया।\\nHe has no sense of right and wrong.\\tवह सही-ग़लत में अंतर करना नहीं जानता।\\nHe has plenty of money in the bank.\\tउसके पास बैंक में बहुत पैसे हैं।\\nHe kept us waiting for a long time.\\tउसने हमसे बहुत देर तक इंतेज़ार करवाया।\\nHe left a large fortune to his son.\\tउसने अपने बेटे के लिए बड़ी जायदाद छोड़ी।\\nHe put down the rebellion in India.\\tउसने भारत में विद्रोह को रोका।\\nHe ran faster than his brother did.\\tवह अपने भाई से तेज़ भागता था।\\nHe rescued the child from the fire.\\tउसने बच्चे को आग से बचाया।\\nHe speaks English better than I do.\\tवह अंग्रेज़ी मुझसे अच्छा बोलता है।\\nHow do you like living on your own?\\tतुम्हे अकेले रहना अच्छा लगता है क्या?\\nHow is it going in the fish market?\\tमछली बाज़ार में कैसा चल रहा है?\\nHow long will it take to get there?\\tवहाँ पहुँचने में कितनी देर लगेगी?\\nHow many books do you read a month?\\tतुम एक महीने में कितनी किताबें पढ़ते हो?\\nHow many sandwiches are there left?\\tकितने सैंडविच बचे हैं?\\nI am his friend and will remain so.\\tमैं उसका दोस्त हूँ और रहूँगा।\\nI am married and have two children.\\tमैं शादीशुदा हूँ और मेरे दो बच्चे हैं।\\nI cannot tolerate naughty children.\\tमैं नटखट बच्चों को बर्दाश्त नहीं कर सकता।\\nI don\\'t know who wrote this letter.\\tमुझे नहीं पता कि यह चिट्ठी किसने लिखी है।\\nI don\\'t like studying in this heat.\\tमुझे इस गर्मी में पढ़ाई करना अच्छा नहीं लगता।\\nI don\\'t think I can wait that long.\\tमैं उतनी देर रुक नहीं सकता।\\nI doubt the truth of his statement.\\tमुझे उसके बयान की सच्चाई पर शक है।\\nI fell down the stairs in my haste.\\tअपनी ही जल्दबाज़ी मे मैं सीढ़ियों से नीचे गिर गया।\\nI had my brother repair my bicycle.\\tमैंने अपने भाई से अपनी साईकल ठीक करवाई।\\nI had nothing to do with the group.\\tमेरा उस ग्रुप के साथ कोई संबंध नहीं था।\\nI haven\\'t seen him for a long time.\\tमैंने उसे बहुत दिनों से नहीं देखा है।\\nI hear that she\\'s a famous actress.\\tमैंने सुना है कि वे मश्हूर अभिनेत्री हैं।\\nI helped my mother wash the dishes.\\tमैंने अपनी मम्मी को बर्तन धोने में मदद करी।\\nI learned French instead of German.\\tमैंने जर्मन की बजाय फ़्रानसीसी सीखी ।\\nI ordered those books from Germany.\\tमैंने उन किताबों जो जर्मनी से खरीदकर मंगवाया था।\\nI want to know about this mountain.\\tमुझे इस पहाड़ के बारे में जानना है।\\nI was able to play piano very well.\\tमैं पियानो बहुत अच्छा बजा लेता था।\\nI wish to go to Paris to study art.\\tमैं पैरिस जाकर आर्ट पढ़ना चाहता हूँ।\\nI wish to go to Paris to study art.\\tमैं पैरिस जाकर आर्ट पढ़ना चाहती हूँ।\\nI\\'m anxious for him to return safe.\\tमैं उसके सुरक्षित लौटने के लिए बेचैन हूँ।\\nIf I don\\'t do it now, I never will.\\tअगर मैं अभी नहीं करूँगा तो कभी नहीं करूँगा।\\nIf I had wings, I would fly to you.\\tअगर मेरे पास पंख होते तो मैं उड़कर तुम्हारे पास चला आता।\\nIt has been fine since last Friday.\\tपिछले शनिवार से मौसम बहुत अच्छा है।\\nIt is going to rain this afternoon.\\tआज दोपहर बारिश होने वाली है।\\nIt seems that everybody likes golf.\\tऐसा लगता है जैसे कि सभी लोगों को गौल्फ़ अच्छा लगता है।\\nIt shouldn\\'t take long to find Tom.\\tटॉम को ढूँढने में समय नहीं लगना चाहिए।\\nIt\\'s more difficult than you think.\\tजितना तुम सोच रहे हो उतना आसान नहीं है।\\nLearning a foreign language is fun.\\tविदेषी भाषा सीखना बहुत मज़ेदार होता है।\\nMy brother depends on me for money.\\tमेरा भाई पैसों के लिए मुझपर निर्भर है।\\nMy sister is very fond of children.\\tमेरी बहन को बच्चों से बहुत प्यार है।\\nMy wife has just cleared the table.\\tमेरी बीवी ने अभी-अभी मेज़ को साफ़ किया है।\\nNowadays nobody believes in ghosts.\\tआजकल कोई भी भूत-प्रेत में विश्वास नहीं करता।\\nOne is tall and the other is short.\\tएक लम्बा है और दूसरा छोटा है।\\nShe accused me of making a mistake.\\tउसने मुझपर ग़लती करने का इलज़ाम लगाया।\\nShe asked me if I knew her address.\\tउसने मुझसे पूछा कि मैं उसका पता जानता था या नहीं।\\nShe didn\\'t want him to go overseas.\\tवह लड़की नहीं चाहती थी कि वह लड़का विदेश जाए।\\nShe didn\\'t want to speak to anyone.\\tउसे किसी से भी बात करने का मन नहीं था।\\nShe felt insecure about her future.\\tउसको अपना आने वाला कल थोड़ा डाँवाडोल लगा।\\nShe felt insecure about her future.\\tउसको अपना भविष्य असुरक्षित लगा।\\nShe is busy preparing for the trip.\\tवह सफ़र की तैयारी में लगी हुई है।\\nShe was very surprised at the news.\\tवह खबर सुनकर हैरान रह गई।\\nShe went to the market once a week.\\tवह हफ़्ते में एक बार बाज़ार जाती थी।\\nShe\\'s in the garden planting roses.\\tवह बगीचे में है, गुलाब के फूल लगा रही है।\\nSince he was tired, he went to bed.\\tवह थक गया था, तो सोने चला गया।\\nSince you\\'re here, you can help me.\\tतुम यहाँ आ ही गए हो तो मेरी मदद कर सकते हो।\\nTake this medicine every six hours.\\tइस दवाई को हर छः घंटे लेना।\\nTeaching English is his profession.\\tअंग्रेज़ी पढ़ाना उसका पेशा है।\\nThe animals in the forest died off.\\tजंगल के जानवर मर गए।\\nThe baby fell asleep in the cradle.\\tबच्चा पालनी में सो गया।\\nThe boy has an apple in his pocket.\\tइस लड़के के जेब में एक सेव है।\\nThe fat woman was holding a monkey.\\tउस मोटी औरत ने एक बंदर पकड़ा हुआ था।\\nThe hole is about five feet across.\\tगड्ढा पाँच फ़ुट चौड़ा है।\\nThe king was deprived of his power.\\tउस राजा से उसकी ताक़त छीन ली गई।\\nThe lion is the king of the jungle.\\tशेर जंगल का राजा है।\\nThe mystery still remains unsolved.\\tवह आज भी एक रहस्य है।\\nThe problem is being discussed now.\\tसमस्या पर बहस जारी है।\\nThe storm destroyed the whole town.\\tतूफ़ान ने पूरे नगर को नष्ट कर दिया।\\nThe storm destroyed the whole town.\\tतूफ़ान ने पूरे शहर को तबाह कर दिया।\\nThere is a strange man at the door.\\tदरवाज़े पर कोई अजीब सा इनसान है।\\nThese questions are easy to answer.\\tइन सवालों का जवाब देना आसान है।\\nThese questions are easy to answer.\\tये प्रश्न सरल हैं।\\nThey are proud of their clever son.\\tउन्हे अपने अकलमंद बेटे पर नाज़ है।\\nThey brought trouble on themselves.\\tउन्होंने अपने ऊपर मुसीबत बुलाई।\\nThis is a good newspaper, isn\\'t it?\\tयह एक अच्छा अखबार है ना?\\nTo make matters worse, he fell ill.\\tऔर-तो-और वह बीमार भी पड़ गया।\\nTomorrow, he will land on the moon.\\tकल वह चाँद पर उतरेगा।\\nWe are all eager to know the truth.\\tहम सब सच जानने के लिए बेचैन हैं।\\nWhat do you think she is doing now?\\tतुम्हारे हिसाब से वह अभी क्या कर रही होगी?\\nWhere should I pick the tickets up?\\tमुझे टिकटें कहाँ से लेनीं होंगीं?\\nWhy did you come here this morning?\\tतुम आज सुबह यहाँ क्यों आए?\\nWooden buildings catch fire easily.\\tलकड़ी से बनी इमारतों में आग आसानी से लग जाती है।\\nWould you mind my opening the door?\\tक्या मैं दरवाज़ा खोल सकता हूँ?\\nYou can have this book for nothing.\\tतुम यह किताब मुफ़्त में ले सकते हो।\\nYou can\\'t buy that kind of loyalty.\\tऐसी वफ़ादारी खरीदी नहीं जा सकती।\\nYou must take his age into account.\\tतुम्हे उसकी उम्र का भी लिहाज करना चाहिए।\\nYou should make use of this chance.\\tतुम्हे इस मौके का फ़ायदा उठाना चाहिए।\\nYou should make use of this chance.\\tतुम्हे इस मौके को गवा नहीं देना चाहिए।\\nYou shouldn\\'t leave the baby alone.\\tतुम्हे बच्चे को अकेला नहीं छोड़ना चाहिए।\\nA hundred years is called a century.\\tसौ सालों को एक शतक बुलाया जाता है।\\nAccording to him, she is not coming.\\tउसके हिसाब से वह नहीं आ रही।\\nAll of a sudden, she began to laugh.\\tवह अचानक से हँस पड़ी।\\nAll of my kids want to learn French.\\tमेरे सभी बच्चें फ़्रेंच सीखना चाहते हैं।\\nAre you reading an interesting book?\\tआप कोई दिलचस्प किताब पढ़ रहें हैं क्या?\\nAre you reading an interesting book?\\tतुम कोई दिलचस्प किताब पढ़ रहे हो क्या?\\nAre you reading an interesting book?\\tतुम कोई दिलचस्प किताब पढ़ रही हो क्या?\\nAre you saying my life is in danger?\\tक्या तुम कह रहे हो कि मेरी जान ख़तरे में है?\\nCan I extend my stay one more night?\\tमैं एक रात और रह सकता हूँ क्या?\\nDon\\'t talk about it in front of him.\\tउसके सामने इसके बारे में बात मत करो।\\nEverybody came to the class on time.\\tसभी लोग क्लास में समय पर पहुँचे।\\nEveryone in my family gets up early.\\tमेरे परिवार में हर कोई जल्दी उठता है।\\nExcuse me, is there a toilet nearby?\\tसुनिए, आस-पास में कोई टॉयलेट है क्या?\\nFew students use pencils these days.\\tआजकल बहुत कम विद्यार्थी पेनसिल इस्तेमाल करतें हैं।\\nGod helps those who help themselves.\\tईश्वर उनकी मदद करता है जो स्वयं की मदद करते हैं।\\nHe can both speak and write Russian.\\tवह रूसी बोलना और लिखना दोनो जानता है।\\nHe couldn\\'t understand the sentence.\\tउसको वाक्य समझ में नहीं आया।\\nHe cried as if he were a boy of six.\\tउसने छः बरस के बच्चे की तरह रोया।\\nHe made up his mind to study abroad.\\tउसने विदेश में पढ़ने का निर्णय लिया।\\nHe seemed surprised by my ignorance.\\tउसने मेरे अज्ञान पर आशंका जताई।\\nHe stuck the broken pieces together.\\tउसने टूटे हुए टुकड़ों को वापस जोड़ा।\\nHe will get better little by little.\\tवह धीरे-धीरे ठीक हो जाएगा।\\nHer advice to me was to work harder.\\tउसकी मेरे लिए सलाह यह थी कि मैं ज़्यादा मन लगाकर काम करूँ।\\nHer way of talking got on my nerves.\\tउसके बात करने के तरीके पर मुझे खींज आती है।\\nHurry, and you will catch the train.\\tजल्दी करो तो ट्रेन पकड़ सकते हो।\\nI am a student at Oxford University.\\tमैं ऑक्सफ़र्ड विश्वविद्यालय में विद्यार्थी हूँ।\\nI am really pleased with my new car.\\tमैं अपनी नई गाड़ी से बहुत खुश हूँ।\\nI buried my dog at the pet cemetery.\\tमैंने अपने कुत्ते को पालतू जानवरों के कब्रिस्तान में बरी कर दिया।\\nI don\\'t want to spend more than $10.\\tमैं दस डॉलर से ज़्यादा नहीं खर्चना चाह्ता हूँ।\\nI never dreamed that you would lose.\\tमैंने सपने में भी नहीं सोचा था कि तुम हार जाओगे।\\nI visit my grandmother twice a week.\\tमैं अपनी नानी से हफ़्ते में दो बार मिलने जाता हूँ।\\nI visit my grandmother twice a week.\\tमैं अपनी दादी से हफ़्ते में दो बार मिलने जाता हूँ।\\nI was in bed all day long yesterday.\\tकल मैं पूरे दिन बिस्तर में था।\\nI will come back to Canada tomorrow.\\tमैं कल कनाडा वापस आऊँगा।\\nI\\'ve studied English for five years.\\tमैंने पाँच साल के लिए अंग्रेज़ी पढ़ी है।\\nIn Japan, all children go to school.\\tजापान में सभी बच्चें स्कूल जाते हैं।\\nKeep an eye on the baby for a while.\\tबच्चे पर ध्यान रखना थोड़ी देर के लिए।\\nLet\\'s get together here once a week.\\tहमे यहाँ हफ़्ते में एक बार मिलना चाहिए।\\nMy birthday is one month from today.\\tमेरा जन्मदिन आज से एक महीने में है।\\nMy father usually comes home at six.\\tमेरे पापा आमतौर पर छः बजे घर लौटकर आते हैं।\\nMy father went jogging after dinner.\\tमेरे पापा रात को खाना खाने के बाद दौड़ने गए थे।\\nMy father works for a power company.\\tमेरे पापा बिजली की कम्पनी में काम करते हैं।\\nNo one believes that he is innocent.\\tकिसी को भी उसके निर्दोष होने का यकीन नहीं है।\\nOpinions vary from person to person.\\tहर इनसान की राय अलग होती है।\\nOpinions vary from person to person.\\tहर इनसान की सोच अलग होती है।\\nShe always complains of her teacher.\\tवह हमेशा अपनी टीचर की शिक़ायत करती है।\\nShe believes her son is still alive.\\tउसको लगता है कि उसका बेटा अभी भी ज़िंदा है।\\nShe talks as if she knew everything.\\tवह तो ऐसे बात करती है जैसे उसे सब कुछ पता हो।\\nSome day we\\'ll take a trip to India.\\tहम एक दिन भारत का सफ़र करने जाएंगे।\\nSome like tea, others prefer coffee.\\tकुछ लोगों को चाय अच्छी लगती है, और कुछ लोगों को कॉफ़ी।\\nStars cannot be seen in the daytime.\\tसितारे दिन में नहीं दिखते |\\nTell me the name of the ninth month.\\tमुझे नौवे महीने का नाम बताओ।\\nThat\\'s a completely unfounded rumor.\\tवह अफ़वाह पूरी तरह से बेबुनयाद है।\\nThe cat slowly approached the mouse.\\tबिल्ली धीरे से चूहे की तरफ़ बढ़ी।\\nThe children were well looked after.\\tबच्चों की देखभाल अच्छी तरह से की जाती थी।\\nThe doctor advised him not to smoke.\\tडॉक्टर ने उसे सिगरेट न पीने की सलह दी।\\nThe doctor advised him not to smoke.\\tडॉक्टर ने उन्हें सिगरेट न पीने की सलह दी।\\nThe law says that all men are equal.\\tक़ानून के मुताबिक सभी मनुष्य समान हैं।\\nThe plan has been successful so far.\\tप्लान अब तक कामयाब रहा है।\\nThe plane will take off in one hour.\\tविमान एक घंटे में उड़ान भरेगा।\\nThe wind scattered the leaves about.\\tहवा ने पत्तियों को यहाँ-वहाँ बिखेर दिया।\\nThere are many old temples in Kyoto.\\tक्योटो में बहुत सारे पुराने मंदिर हैं।\\nThis hat does match the brown dress.\\tयह टोपी उस ब्राऊन ड्रेस के साथ जचती नहीं है।\\nWe are in agreement on this subject.\\tहम इस विषय पर सहमत हैं।\\nWe managed to swim across the river.\\tहम नदी को तैरकर पार कर पाए।\\nWe talked to each other for a while.\\tहमने थोड़ी देर के लिए एक-दूसरे के साथ बात करी।\\nWe were all very happy at breakfast.\\tहम सब नाश्ते के समय बहुत खुश थे।\\nWhat are you going to do in college?\\tतुम कॉलेज जाकर क्या करोगे?\\nWhat do you usually do after dinner?\\tतुम आमतौर पर रात में खाना खाने के बाद क्या करते हो?\\nWhat was the weather like yesterday?\\tकल का मौसम कैसा था?\\nWhat would the world do without tea?\\tदुनिया चाय के बिना क्या करेगी?\\nWhich shoes are you going to put on?\\tतुम कौनसे जूते पहनोगी?\\nWon\\'t you come and see me next week?\\tमुझे अगले हफ़्ते देखने आओगे ना?\\nWould you speak more slowly, please?\\tआप थोड़ा धीरे बोल सकते हैं क्या?\\nYou are doing very well. Keep it up.\\tतुम अच्छा काम कर रहे हो। ऐसे ही करते रहो।\\nYou\\'ve never seen a genuine diamond.\\tतुमने असली हीरा कभी देखा ही नहीं है।\\nA river runs down through the valley.\\tवादी में से एक नदी बहती है।\\nA thick mist covered the countryside.\\tगाँव पर गहरा कोहरा छा गया।\\nAre there enough chairs to go around?\\tकुरसियाँ काफ़ी हैं क्या?\\nAt times I feel like quitting my job.\\tमुझे कभी-कभी अपनी नौकरी छोड़ देने का मन करता है।\\nBuddhism had its beginnings in India.\\tबौद्ध धर्म भारत में पैदा हुआ था।\\nButter and cheese are made from milk.\\tमक्खन और पनीर दूध से बनते हैं।\\nClassical music is not my cup of tea.\\tमुझे शास्त्रीय संगीत सुनने का शौक नहीं है।\\nCould you bring me another hot towel?\\tमेरे लिए एक और गरम तौलिया ला सकते हैं क्या?\\nDo you feel any pain in your stomach?\\tक्या आपको पेट में दर्द महसूस हो रहा है?\\nHe broke one of the bones in his leg.\\tउसने अपने पैर की एक हड्डी तोड़ ली।\\nHe is less impatient than his father.\\tउसमें उसके पिता जितनी बेसब्री नहीं थी।\\nHe lost no time answering the letter.\\tउसने फटाफट चिट्ठी का जवाब दिया।\\nHe put a hand gently on her shoulder.\\tउसने हल्के से उसके कंधे पर हाथ रखा।\\nHe said he would see me the next day.\\tउसने कहा था कि वह मुझसे अगले दिन मिलेगा।\\nHe was born in a small town in Italy.\\tवह इटली के एक छोटे से गाँव में पैदा हुआ था।\\nHe was standing at the street corner.\\tवह सड़क के किनारे पर खड़ा था।\\nHe will be a doctor when he grows up.\\tवह बड़ा होकर डॉक्टर बनना चाहता है।\\nHe wiped the sweat from his forehead.\\tउसने अपने माथे से पसीना पोंछा।\\nHis dog follows him wherever he goes.\\tवह जहाँ भी जाता है, उसका कुत्ता उसके पीछे पीछे जाता है।\\nHow do you interpret these sentences?\\tतुम इन वाक्यों का क्या माईने निकालते हो?\\nI am doing business on a large scale.\\tमैं बड़े पैमाने पर व्यापार कर रहा हूँ।\\nI had met her many times before then.\\tमैं उससे पहले कई बार मिल चुका था।\\nI had met him many times before then.\\tमैं उससे पहले कई बार मिल चुका था।\\nI have a friend who lives in England.\\tमेरा एक दोस्त है जो इंग्लैंड में रहता है।\\nI have nothing to say on this matter.\\tमुझे इस विषय पर कुछ नहीं कहना है।\\nI helped my father water the flowers.\\tमैंने अपने पापा को फूलों को पानी डालने में मदद करी थी।\\nI took the opportunity to visit Rome.\\tमैंने रोम जाने के मौका का फ़ायदा उठाया।\\nI want to know why Tom is doing this.\\tमुझे यह बताओ, कि टॉम ऐसा कर क्यों रहा है।\\nI was amazed at the speed of the car.\\tमैं उस गाड़ी की रफ़तार देखकर हैरान रह गया।\\nI was scared that you might leave me.\\tमुझे डर था कि तुम मुझे छोड़ दोगे।\\nI went to Europe by way of Anchorage.\\tआंकरेज होते हुए मैं युरोप गया।\\nI\\'m satisfied with my current income.\\tमैं अपनी कमाई से संतुष्ट हूँ।\\nI\\'m satisfied with my current income.\\tमैं अपनी वर्तमान आमदनी से संतुष्ट हूँ।\\nI\\'m sorry, but I can\\'t hear you well.\\tमाफ़ कीजिएगा, पर मैं आपको ठीक से सुन नहीं पा रहा हूँ।\\nI\\'m sorry, but I can\\'t hear you well.\\tमाफ़ कीजिएगा, पर मैं आपको ठीक से सुन नहीं पा रही हूँ।\\nI\\'ve got a bit of an ache in my back.\\tमेरी पीठ में थोड़ा दर्द हो रहा है।\\nI\\'ve got one brother and two sisters.\\tमेरा एक भाई और दो बहनें हैं।\\nImagine that you have a time machine.\\tसोचो कि तुम्हारे पास एक टाइम मशीन है।\\nIn those days, I went to bed earlier.\\tउन दिनों में मैं (रात में) जल्दी से सो जाया करता था।\\nIt\\'s your turn. Please come this way.\\tतुम्हारी बारी है। इस तरफ़ आओ।\\nShe complained to me of his rudeness.\\tउसने मुझसे उसकी असभ्यता के बारे में शिक़ायत करी।\\nShe prepared a wonderful meal for us.\\tउसने हमारे लिए बहुत ही शानदार भोजन तैयार किया।\\nShe was only pretending to be asleep.\\tवह सोना का बहाना कर रही थी।\\nShe went to Paris for the first time.\\tवह पहली बार पैरिस गई थी।\\nThat\\'s Tom\\'s house with the red roof.\\tलाल छत वाला वह टॉम का घर है।\\nThat\\'s too small to fit on your head.\\tवह तुम्हारे सर के लिए बहुत छोटा है।\\nThe train is made up of fifteen cars.\\tरेलगाड़ी में १५ डब्बे हैं।\\nThere\\'s been a lot of rain this year.\\tइस साल बहुत बारिश पड़ी है।\\nThey dug here and there for treasure.\\tउन्होंने ख़ज़ाना ढूँढने के लिए यहाँ-वहाँ खोदा।\\nTurn left and you will find the cafe.\\tबाएं मुड़ो और तुम्हें एक कैफ़े मिलेगा।\\nWe are all anxious about your health.\\tहम सब तुम्हारे स्वास्थ्य के लिए बहुत चिंतित हैं।\\nWe are all anxious about your health.\\tहम सब तुम्हारी सेहत के लिए बहुत परेशान हैं।\\nWe are to meet in front of his house.\\tहम उसके घर के सामने मिलेंगे।\\nWhat put such an idea into your head?\\tतुम्हारे दिमाग़ में यह बात कैसे आई?\\nWho are you going to eat dinner with?\\tडिनर किसके साथ करोगे?\\nYou can see the whole city from here.\\tतुम यहाँ से पूरा शहर देख सकते हो।\\nYou should have attended the meeting.\\tतुम्हे मीटिंग में आना चाहिए था।\\nA good idea occurred to me last night.\\tमुझे कल सोते समय दिमाग़ में एक अच्छा आयडिया आया।\\nAt last, the truth became known to us.\\tआखिरकार हमे सच्चाई का पता चल गया।\\nHe asked me if I could do him a favor.\\tउसने मुझसे एक एहसान माँगा।\\nHe can imitate the rest of the family.\\tवह अपने सारे घरवालों की नकल उतार सकता है।\\nHe doesn\\'t speak French, neither do I.\\tन उसको फ़्रानसीसी बोलनी आती है न मुझे।\\nHe earns more money than he can spend.\\tवह ज़रूरत से ज़्यादा पैसे कमाता है।\\nHe exhibited no remorse for his crime.\\tउसको उसके जुर्म पर बिलकुल भी पछतावा नहीं था।\\nHe gave his children a good education.\\tउसने अपने बच्चों को अच्छी शिक्षा दी।\\nHe wouldn\\'t allow me to drive his car.\\tउसने मुझे उसकी गाड़ी नहीं चलाने दी।\\nHis failure has nothing to do with me.\\tउसकी नाकामयाबी से मेरा कोई लेना-देना नहीं है।\\nHow many cars has that company bought?\\tकम्पनी ने कितनी गाड़ियाँ ख़रीदीं हैं?\\nHow many people are on board the ship?\\tजहाज़ में कितने लोग हैं?\\nI always got up early in my childhood.\\tजब मैं छोटा था मैं हमेशा जल्दी सोकर उठा करता था।\\nI am going to go play ball with Mohan.\\tमैं मोहन के साथ गेंद खेलने जा रहा हूँ।\\nI am well acquainted with the subject.\\tमैं इस विषय से परिचित हूँ।\\nI don\\'t know if it will rain tomorrow.\\tमुझे मालूम नहीं कल बारिश होगी या नहीं।\\nI don\\'t want to buy this kind of sofa.\\tमुझे इस तरह का सोफ़ा नहीं खरीदना है।\\nI doubt the veracity of his statement.\\tमुझे उसके बयान की सच्चाई पर शक़ है।\\nI had never seen her before that time.\\tमैंने उसे पहले कभी नहीं देखा था।\\nI have just finished reading the book.\\tमैंने अभी-अभी किताब को पढ़ना खतम किया है।\\nI know a girl who can ride a unicycle.\\tमेरे जान-पहचान की एक लड़की को युनिसायकल चलाना आता है।\\nI know his address, but it\\'s a secret.\\tमुझे उसका पता पता है, पर वह एक राज़ है।\\nI regret not having bought that house.\\tमुझे उस घर को न खरीदने का पछतावा हो रहा है।\\nI want to help you with your homework.\\tमैं तुम्हें तुम्हारे होमवर्क के साथ मदद करना चाहता हूँ।\\nI\\'ll be staying here for three months.\\tमैं यहाँ तीन महीनों के लिए रहूँगा।\\nI\\'m sure that she will come back soon.\\tमुझे यकीन है कि वह जल्द ही वापस आ जाएगी।\\nI\\'ve taught myself to play the guitar.\\tमैंने खुद से गिटार बजाना सीख लिया है।\\nIt is necessary that you see a doctor.\\tतुम्हारे लिए डॉक्टर को देखने जाना ज़रूरी है।\\nIt\\'s been ten years since we last met.\\tहमारी पिछली मुलाक़ात से अब दस साल हो गए हैं।\\nLeave your umbrella at the front door.\\tअपने छाते को सामने वाले द्वार छोड़ दो।\\nLook up the phrase in your dictionary.\\tशब्दकोश में उस वाक्यांश को ढूँढो।\\nMary was looking for you at that time.\\tमेरी उस समय तुम्हें ढूँढ रही थी।\\nMom scolded me for making fun of them.\\tमाँ ने मेरे उनका मज़ाक उड़ाने के लिए डाँट लगाई।\\nMy mother put clean sheets on the bed.\\tमेरी माँ ने बिस्तर पर साफ़ चादर बिछाई।\\nMy sister always keeps her room clean.\\tमेरी बहन अपने कमरे को हमेशा साफ़-सुथरा रखती है।\\nMy uncle is an amateur cricket player.\\tमेरे अंकल क्रिकेट के शौकिया खिलाड़ी हैं।\\nMy uncle is an amateur cricket player.\\tमेरे मामा क्रिकेट के शौकिया खिलाड़ी हैं।\\nMy uncle is an amateur cricket player.\\tमेरे चाचा क्रिकेट के शौकिया खिलाड़ी हैं।\\nMy uncle is an amateur cricket player.\\tमेरे ताऊजी क्रिकेट के शौकिया खिलाड़ी हैं।\\nShe called her children into the room.\\tउसने अपने बच्चों को कमरे में बुलाया।\\nShe passed away peacefully last night.\\tवह कल रात आराम से चल बसीं।\\nShe told me that she wanted a pet dog.\\tउसने मुझसे कहा कि उसे कुत्ता पालने का मन था।\\nShe was brought up by her grandmother.\\tउसकी दादी ने उसे पाल-पोस कर बड़ा किया था।\\nShe was brought up by her grandmother.\\tउसकी नानी ने उसे पाल-पोस कर बड़ा किया था।\\nShe was watching the dead leaves fall.\\tवह मुर्झाई हुई पत्तियों को गिरते हुए देख रही थी।\\nShe will become a doctor in two years.\\tवह दो सालों में डॉक्टर बन जाएगी।\\nSickness prevented him from going out.\\tवह बीमारी की वजह से बाहर नहीं जा सका।\\nStrange as it may sound, this is true.\\tचाहे सुनने में जितना भी अजीब लगे, यह सच है।\\nTaste this wine to see if you like it.\\tयह वाईन चखकर देखो तुम्हें अच्छी लगती है कि नहीं।\\nThe dog followed him wherever he went.\\tवह जहाँ भी जाए, वह कुत्ता उसके पीछे-पीछे जाता था।\\nThe food was not fit for man or beast.\\tवह खाना न तो आदमी न जानवर को खिलाने लायक था।\\nThe police were patrolling the street.\\tपुलिस ने सड़क पर पहरा लगा दिया था।\\nThe train is ten minutes behind today.\\tआज ट्रेन दस मिनट लेट है।\\nThe trouble is that they have no time.\\tमुश्किल यह है कि उनके पास समय नहीं है।\\nThere is no longer any room for doubt.\\tशक की कोई गुंजाईश नहीं रही है।\\nThere\\'s no use trying to persuade him.\\tउसको मनाने की कोशिश करने में कोई फ़ायदा नहीं है।\\nThey charged me for the broken window.\\tउन्होंने ने मुझसे टूटी हुई खिड़की के लिए पैसे माँगे।\\nThey were scattered in all directions.\\tवे सारी दिशाओं में फैले हुए थे।\\nThis cloth is really smooth and silky.\\tयह कपड़ा बहुत रेशमी है।\\nThis machine is driven by electricity.\\tयह मशीन बिजली से चलती है।\\nThis medicine will clear up your cold.\\tयह दवाई तुम्हारा गला साफ़ कर देगी।\\nThis medicine will take the pain away.\\tयह दवाई दर्द को दूर कर देगी।\\nTwo boys came running out of the room.\\tदो लड़के कमरे से भागे निकल आए।\\nWe have two unused rooms in our house.\\tहमारे पास घर में दो कमरे हैं जिनका हम इस्तेमाल नहीं कर रहे हैं।\\nWe ordered pink, but we received blue.\\tहमने पिंक रंग वाले का ऑर्डर किया था पर हमे नीले रंग वाला मिला।\\nWe tried it again, but couldn\\'t do it.\\tहमने फिरसे करने की कोशीश की, पर नहीं कर पाए।\\nWhere\\'s the remote control for the TV?\\tटीवी का रिमोट कहाँ है?\\nYou are wearing your shirt inside out.\\tतुमने अपनी कमीज़ उलटी पहनी हुई है।\\nYou are wearing your shirt inside out.\\tतुमने अपनी टी-शर्ट उलटी पहनी हुई है।\\nYou can see a lot of stars in the sky.\\tतुम्हें आसमान में बहुत सारे सितारे दिखाई देंगे।\\nYou should make good use of your time.\\tतुम्हे अपने समय का ठीक से इस्तेमाल करना चाहिए।\\nYour daughter is not a child any more.\\tतुम्हारी बेटी अब बच्ची नहीं है।\\n\"Where do you live?\" \"I live in Tokyo.\"\\t\"आप कहाँ रहते हैं?\" \"मैं टोक्यो में रहता हूँ\"\\nFather sometimes took me to his office.\\tपापा कभी-कभी मुझे दफ़्तर ले जाया करते थे।\\nHe could not sleep because of the heat.\\tवह गर्मी की वजह से सो नहीं पाया।\\nHe embezzled the money from his office.\\tउसने अपने दफ़तर के पैसों को गबन किया।\\nHe had nothing to say, so he went away.\\tउसके पास कुछ भी कहने को नहीं था, तो वह चला गया।\\nHe is getting along with his employees.\\tवह अपने कर्मचारियों के साथ अच्छे से निभता है।\\nHe sold his own car without hesitation.\\tउसने अपनी गाड़ी बिना हिचकिचाहट हे बेच दी।\\nHe used to tell me stories about India.\\tवह मुझे भारत के बारे में कहानियाँ सुनाया करता था।\\nHer mother was busy cooking the dinner.\\tउसकी माँ खाना बनाने में लगी हुई थी।\\nHow many times a day does that bus run?\\tवह बस दिन में कितनी बार चलती है?\\nHow soon can you have this dress ready?\\tइस ड्रेस को कितनी जल्दी तैयार कर सकते हो?\\nI am fully convinced of your innocence.\\tमुझे तुम्हारे बेगुनाह होने पर पूरा यकीन है।\\nI am interested in American literature.\\tमुझे अम्रीकी साहित्य में दिलचस्पी है।\\nI am much obliged to you for your help.\\tमैं आपकी मदद के लिए बहुत आभारी हूँ।\\nI began to sing when I was a youngster.\\tमैंने छोटी उम्र से ही गाना गाना शुरू कर दिया था।\\nI can\\'t put up with this noise anymore.\\tमैं इस शोर को और बर्दाश्त नहीं कर सकती।\\nI found nothing but a pair of scissors.\\tमुझे कैंचियों के अलावा और कुछ नहीं मिला।\\nI know that all of this is just a game.\\tमैं जानता हूँ कि यह सब एक खेल है।\\nI met her in London for the first time.\\tमेरी उसके साथ पहली मुलाकात लंदन में हुई थी।\\nI need to go home a little early today.\\tमुझे आज थोड़ा जल्दी घर जाना है।\\nI was able to answer all the questions.\\tमैं सारे सवालों का जवाब दे पाया था।\\nI will ask him about it tomorrow, then.\\tफिर मैं उससे उसके बारे में कल पूछूँगा।\\nI will find out how the medicine works.\\tमैं पता लगाऊँगा कि यह दिवाई कैसे काम करती है।\\nI will pay my debt as soon as possible.\\tमैं अपना कर्ज़ जल्द-से-जल्द चुकताऊँगा।\\nI\\'d like to see him tomorrow afternoon.\\tमैं उससे कल दोपहर को मिलना चाहता हूँ।\\nI\\'ll be in Tokyo on business next week.\\tमैं अगले हफ़्ते टोक्यो में हूँगा काम पर।\\nIf you have time, please drop in on us.\\tअगर आपके पास समय हो तो हमसे मिलने आईएगा।\\nIt will go away by itself in two weeks.\\tवह दो हफ़्तों में अपने-आप चला जाएगा।\\nMother bought a beautiful doll for her.\\tमाँ ने उसके लिए एक सुन्दर सी गुड़िया खरीदी।\\nMy father consented to my going abroad.\\tमेरे पिता मेरे विदेश जाने से राज़ी थे।\\nMy mother often suffers from headaches.\\tमेरी माँ को अक्सर सिरदर्द होता है।\\nNothing but a miracle can save her now.\\tअब तो उसे कोई चमत्कार ही बचा सकता है।\\nPlease come again two weeks from today.\\tआज से दो हफ़्तों के बाद फिरसे आईएगा।\\nShe is living in some village in India.\\tवह भारत के किसी गाँव में रह रही है।\\nShe reminds me very much of her mother.\\tवह मुझे उसकी माँ की याद दिलाती है।\\nShe said to herself, \"I am very happy.\"\\tउसने अपने आप से कहा: \"मैं बहुत खुश हूँ\"\\nTalking is one thing, doing is another.\\tबोलने और करने में फ़र्क होता है।\\nThe boy cannot have stolen my umbrella.\\tयह लड़का मेरा छाता नहीं चुरा सकता था।\\nThe gentleman is a very famous pianist.\\tयह महाशय बहुत जाने-माने पियानिस्ट हैं।\\nThe lights have been burning all night.\\tबत्तियाँ पूरी रात से जल रहीं हैं।\\nThe rumor proved to be an absolute lie.\\tवह अफ़वाह एकदम झूठी निकली।\\nThe scar on his cheek hardly shows now.\\tउसकी गाल पर जो चोट का निशान है वह अब बहुत हल्का हो गया है।\\nThe two languages have a lot in common.\\tइन दो भाषाओं में बहुत सारी समानताएं हैं।\\nThe work must be completed by tomorrow.\\tकाम कल तक खतम होना होगा।\\nThey will fall in love with each other.\\tउन्हें एक-दूसरे से प्यार हो जाएगा।\\nWe must try to protect the environment.\\tहमे पर्यावरण की रक्षा करने की कोशिश करनी चाहिए।\\nWhat languages do they speak in Canada?\\tकनाडा में कौनसी भाषाएं बोली जाती हैं?\\nWhich is the more expensive of the two?\\tइन दोनो में से ज़्यादा महंगा कौनसा है?\\nWho doesn\\'t know such a simple proverb?\\tइस तरह की आम कहावत को कौन नहीं जानता?\\nWorkers must have their hair cut short.\\tकर्मचारियों को अपने बाल छोटे कटाने होते हैं।\\nWould you mind turning down the volume?\\tआवाज़ थोड़ी धीमी कर सकते हो क्या?\\nYou must observe the rules of the club.\\tतुम्हे क्लब के नियमों का पालन करना होगा।\\nYou\\'ve got a nerve to say such a thing!\\tतुम्हारी जुर्रत कैसे हुई यह बोलने की?!\\nYour examination results are excellent.\\tतुम्हारे इगज़ैम के रिज़ल्ट बहुत अच्छे हैं।\\nAll you have to do is follow his advice.\\tतुम्हे बस उसकी सलाह के मुताबिक काम करना होगा।\\nCows are sacred to many people in India.\\tभारत में कई लोग गाय को पूज्य मानते हैं।\\nHe entered the room slowly by that door.\\tवह उस दरवाज़े से धीरे से कमरे में घुसा।\\nHe had to go through a lot of hardships.\\tउसे बहुत सारे कष्ट सहने पड़े थे।\\nHe had to reduce the price of his wares.\\tउसे अपने सामान की कीमतें कम करनीं पड़ीं।\\nHe has invited me to attend his wedding.\\tउसने मुझे अपनी शादी में आने का का न्योता दिया है।\\nHe is always complaining about his boss.\\tवह हमेशा अपने बॉस की शिकायत करता रहता है।\\nHe was a great poet as well as a doctor.\\tवह एक महान कवि ही नहीं बल्कि एक डॉक्टर भी थे।\\nHe was covered in mud from head to foot.\\tवह सर से पांव तक कीचड़ में लतपत था।\\nHe was destined never to meet her again.\\tउसके नसीब में उससे फिरसे मिलना नहीं लिखा हुआ था।\\nHe was happy at the news of her success.\\tवह उसकी कामयाबी की खबर सुनकर खुश था।\\nHow about adding a little bit more salt?\\tथोड़ा और नमक डाल दोगे?\\nHow did you get tickets for the concert?\\tतुम्हें कॉनसर्ट की टिकटें कैसे मिलीं?\\nHow much time do we have to finish this?\\tहमारे पास इस काम को खतम करने के लिए कितना समय है?\\nI am confident he will keep his promise.\\tमुझे भरोसा है कि वह अपना वादा निभाएगा।\\nI am not sure how to pronounce the word.\\tमुझे ठीक से नहीं पता इस शब्द को कैसे पढ़ा जाता है।\\nI cannot stand his arrogance any longer.\\tमैं उसके अक्खड़पन अब और बर्दाश्त नहीं कर सकता।\\nI don\\'t know if I\\'ll have time to do it.\\tमुझे नहीं पता मेरे पास यह करने के लिए समय होगा कि नहीं।\\nI have been writing letters all morning.\\tमैं पूरी सुबह से चिट्ठियाँ लिख रहा हूँ।\\nI have been writing letters all morning.\\tमैं पूरी सुबह से चिट्ठियाँ लिख रही हूँ।\\nI have seen angels and talked with them.\\tमैंने फ़रिश्तों को देखा है, उनसे बातचीत भी की है।\\nI was disappointed that you didn\\'t call.\\tमैं निराश था कि तुमने फ़ोन नहीं किया।\\nI wish I had more time to talk with you.\\tकाश मेरे पास और समय होता तुम्हारे साथ बात करने के लिए।\\nI would rather stay at home than go out.\\tमुझे बाहर जाने से घर में रहना पसंद है।\\nI\\'ll expect to hear from you by Tuesday.\\tमैं मंगलवार के आने से पहले तुमसे खबर सुनने की उम्मीद रखूँगा।\\nI\\'ll give you an answer in a day or two.\\tमैं तुम्हें एक-दो दिन में जवाब दूँगा।\\nI\\'m not ashamed of my father being poor.\\tमुझे अपने पिता की ग़रीबी पर शर्म नहीं आती है।\\nI\\'ve never met her, but I recognize her.\\tमैं उसे पहचानता हूँ पर मैं उससे कभी मिला नहीं हूँ।\\nI\\'ve never met him, but I recognize him.\\tमैं उसे पहचानता हूँ पर मैं उससे कभी मिला नहीं हूँ।\\nIt\\'s about time for the train to arrive.\\tट्रेन के आने का समय लगभग आ गया है।\\nIt\\'s getting dark. You\\'d better go home.\\tदिन ढल रहा है। तुम्हे घर जाना चाहिए।\\nKeep going straight through the village.\\tगाँव में सीधे जाते रहिए।\\nMother and I are different in every way.\\tमम्मी और मैं किसी भी पहलू में एक-समान नहीं हैं।\\nNobody could tell what he meant by that.\\tकोई नहीं बता सका उसका वह कहने से मतलब क्या था।\\nScience begins when you ask why and how.\\tविज्ञान तब शुरू होता है जब तुम \"क्यों\" और \"कैसे\" पूछते हो।\\nShe had a daughter by her first husband.\\tउसकी अपने पहले पति से एक लड़की थी।\\nShe loves watching tennis matches on TV.\\tउसे टीवी पर टेनिस देखना बहुत पसंद है।\\nShe may have to quit her job next month.\\tउसे शायद अपनी नौकरी अगले महीने छोड़नी पड़ेगी।\\nSuch a thing cannot be found everywhere.\\tऐसी चीज़ हर कहीं नहीं मिलती है।\\nTake this medicine when you have a cold.\\tज़ुकाम हो तो यह दवाई ले लेना।\\nTell me what you are looking forward to.\\tमुझे बताओ तुम किस चीज़ की आशा कर रहे हो।\\nThe new bridge was named Rainbow Bridge.\\tनए ब्रिज को इन्द्रधनुष ब्रिज का नाम दिया गया।\\nThe police officer arrested the burglar.\\tपुलिस अफ़सर ने चोर को हिरासत में लेलिया।\\nThe room has been empty for a long time.\\tयह कमरा काफ़ी देर से खाली रहा है।\\nThere are no live animals in the museum.\\tम्युज़ियम में ज़िन्दा जानवर नहीं हैं।\\nThere is no satisfying spoiled children.\\tबिगड़े हुए बच्चों को खुश नहीं कर सकते।\\nThere used to be a big pond around here.\\tयहाँ एक बड़ा तालाब हुआ करता था।\\nThere\\'s something we need to talk about.\\tमुझे तुमसे किसी बारे में बात करनी है।\\nThey heard a gun go off in the distance.\\tउनको दूर से बंदूक की आवाज़ सुनाई दी।\\nThree men broke out of prison yesterday.\\tकल तीन आदमी जेल से भाग गए।\\nWe saw the film and had dinner together.\\tहमने एक साथ फ़िल्म देखी और खाना खाया।\\nWe should try to understand one another.\\tहमे एक-दूसरे को समझने की कोशिश करनी चाहिए।\\nWhat do you want to do in the afternoon?\\tतुम्हे दोपहर में क्या करने का मन है?\\nWhat time does your watch say it is now?\\tतुम्हारी घड़ी अब क्या समय बता रही है?\\nWhat time does your watch say it is now?\\tआपकी घड़ी अब क्या समय बता रही है?\\nWould you just move along a bit, please?\\tआप थोड़ा आगे खिसक सकते हैं क्या?\\nYou\\'ll be punished if you break the law.\\tअगर तुम कानून तोड़ोगे तो तुम्हे सज़ा मिलेगी।\\nA gentleman would not spit on the street.\\tकोई भी सुशील इनसान सड़क पर थूकेगा नहीं।\\nAbsence of rain caused the plants to die.\\tपौधे बारिश के बिना मर गए।\\nAs a result of the war, many people died.\\tजंग की वजह से बहुत सारे लोग मर गए।\\nCan you identify the man in this picture?\\tक्या तुम उस आदमी को उसकी तस्वीर से पहचान सकते हो?\\nDid you feel the earthquake this morning?\\tतुम्हें आज सुबह भूकम्प महसूस हुआ क्या?\\nGive up smoking if you want to live long.\\tअगर लम्बी ज़िन्दगी जीना चाहते हो तो सिगरेट पीना छोड़ दो।\\nHaving seen him before, I recognized him.\\tमैंने उसे पहले देखा हुआ था, इसलिए मैंने उसे पहचान लिया।\\nHe could not come because of his illness.\\tवह बीमारी की वजह से नहीं आ सका।\\nHe defeated his opponent in the election.\\tउसने चुनाव में अपने विरोधी को हरा दिया।\\nHe failed to come up to our expectations.\\tवह हमारी उम्मीदों को पूरा नहीं कर पाया।\\nHe jumped into the water clothes and all.\\tउसने कपड़े उतारे बिना ही पानी में छलाँग लगादी।\\nHe ordered them to release the prisoners.\\tउसने उनको क़ैदियों को छोड़ने का आदेश दिया।\\nHe tried in vain to open the locked door.\\tवह बंद दरवाज़े को खोल नहीं पाया।\\nI always rely on him in times of trouble.\\tमैं मुसीबत के समय में हमेशा उसपर भरोसा करती हूँ।\\nI am convinced that he did nothing wrong.\\tमुझे पूरा विश्वास है कि उसने कोई भी ग़लत काम नहीं किया।\\nI am looking for a present for my mother.\\tमैं अपनी मम्मी के लिए तोह्फ़ा ढूँढ रहा हूँ।\\nI don\\'t feel like studying English today.\\tमेरा आज अंग्रेज़ी पढ़ने का मन नहीं है।\\nI don\\'t think that it will rain tomorrow.\\tमुझे नहीं लगता कल बारिश होगी।\\nI have no time to help you with the work.\\tमेरे पास तुम्हारी काम में मदद करने के लिए समय नहीं है।\\nI heard someone call my name from behind.\\tमैंने किसी को पीछे से मेरे नाम पुकारते हुए सुना।\\nI watched the game from beginning to end.\\tमैंने खेल को शुरू से अंत तक देखा।\\nI\\'ll never forget how kind you have been.\\tमैं आपके अच्छेपन को कभी नहीं भूलूँगा।\\nI\\'m going to go buy some materials today.\\tमैं आज कुछ सामान ख़रीदने जाऊँगी।\\nI\\'m very happy to make your acquaintance.\\tमुझे आपसे मिलकर बहुत खुशी हुई।\\nIf only I had known the answer yesterday!\\tकाश मुझे यह जवाब कल पता होता!\\nIf you are hungry, you can eat the bread.\\tअगर भूख लगी है तो ब्रेड खा सकते हो।\\nIn the woods, she met with two strangers.\\tवह जंगल में दो अजनबियों से मिली।\\nIt is up to you whether to buy it or not.\\tख़रीदो या न ख़रीदो तुम्हारे ऊपर है।\\nIt was hard for me to refuse his request.\\tमेरे लिए उससे \"ना\" कहना बहुत मुश्किल था।\\nIt was not easy for us to find his house.\\tहमारे लिए उसका घर ढूँढना आसान नहीं था।\\nJapan depends on other countries for oil.\\tजापान तेल के लिए दूसरे देशों पर निर्भर है।\\nMy brother would often stay up all night.\\tमेरा भाई अक्सर पूरी रात जागे रहता था।\\nShe has invited me to attend her wedding.\\tउसने मुझे अपनी शादी में आने का का न्योता दिया है।\\nThe air conditioner makes too much noise.\\tएसी बहुत आवाज़ करता है।\\nThe baby has been crying for a long time.\\tबच्चा बहुत देर से रो रहा था।\\nThe box was so heavy I could not move it.\\tडब्बा इतना भारी था कि मैं उसे हिला नहीं सका।\\nThe girl who works at the bakery is cute.\\tबेकरी में जो लड़की काम करती है वह बहुत क्यूट है।\\nThe museum is open from Monday to Friday.\\tम्युज़ियम सोमवार से शुक्रवार तक खुला रहता है।\\nThe old lady smiled at her granddaughter.\\tबूढ़ी औरत अपनी पोती पर मुस्कुराई।\\nThe situation calls for drastic measures.\\tइस परिस्थिति में कठोर कदम उठाने होंगे।\\nThe teacher said, \"That\\'s all for today.\"\\tटीचर ने कहा, \"बस आज के लिए इतना ही।\"\\nThese pictures are really very beautiful.\\tये तस्वीरें सच में बहुत सुंदर हैं।\\nThey live in a little village in England.\\tवे इंग्लैंड के एक छोटे से गाँव में रहते हैं।\\nWe should do away with the death penalty.\\tहमें मौत की सज़ा को हटा देना चाहिए।\\nWhat are you going to do with this money?\\tतुम इन पैसों के साथ क्या करोगे?\\nWill you take us for a drive next Sunday?\\tहमें अगले हफ़्ते ड्राईव पर लेजाओगे क्या?\\nWould you please explain the rules to me?\\tआप मुझे नियम समझा सकते हैं क्या?\\nYou are too ready to speak ill of others.\\tतुम हमेशा लोगों की बुराई करने को तैयार रहते हो।\\nYou cannot eat your cake and have it too.\\tतुम \"चित भी मेरी पट भी मेरी\" नहीं कर सकते।\\nYou should take care of your sick mother.\\tतुम्हे अपनी बीमार माँ का ख़याल रखना चाहिए।\\nAfrica was once called the Dark Continent.\\tअफ़्रीका को एक समय में अंधेर महाद्वीप बुलाया जाता था।\\nBelieve it or not, she has three children.\\tमानो या न मानो, उसके तीन बच्चे हैं।\\nCancer can be cured if discovered in time.\\tकैंसर का अगर समय में पता चल जाए, तो उसका इलाज हो सकता है।\\nCould you send someone up to make the bed?\\tआप किसी को बिस्तर बनाने के लिए भेज सकते हैं क्या?\\nHe is always here between 5 and 6 o\\'clock.\\tवह हमेशा यहाँ पाँच से छः बजे के बीच होता है।\\nHe is brave enough to go there by himself.\\tवह वहाँ अकेले जाने लायक बहादुर है।\\nHe is coming to see me tomorrow afternoon.\\tवह कल दोपहर मुझसे मिलने आ रहा है।\\nHe was caught in the act of pickpocketing.\\tवह जेब काटते हुए पकड़ा गया।\\nHe went outside for a breath of fresh air.\\tवह थोड़ी ताज़ा हवा खाने के लिए बाहर गया।\\nHealth is the most precious thing we have.\\tहमारा स्वास्थ्य हमारी सबसे कीमती संपत्ति होती है।\\nI can\\'t put up with that noise any longer.\\tमैं इस शोर को और बर्दाश्त नहीं कर सकता।\\nI can\\'t put up with that noise any longer.\\tमुझसे यह शोर और बर्दाश्त नहीं किया जाएगा।\\nI couldn\\'t make out what he wanted to say.\\tमैं समझ नहीं पा रहा था कि वह कहना क्या चाहता था।\\nI don\\'t know how to operate this computer.\\tमुझे यह कम्प्यूटर चलाना नहीं आता।\\nI don\\'t know if she will go there with me.\\tमुझे नहीं पता वह मेरे साथ वहाँ जाएगी कि नहीं।\\nI find foreign languages very interesting.\\tमेरे ख़याल से विदेशी भाषाएँ बहुत ही दिलचस्प होतीं हैं।\\nI have a lot of work to get through today.\\tमेरे पास आज बहुत काम है।\\nI have been taking care of him ever since.\\tमैं तभी से उसकी देखभाल करता आया हूँ।\\nI shouldn\\'t eat food that has sugar in it.\\tमुझे चीनी-वाला चीज़ें नहीं खानी चाहिएँ।\\nI tried to erase the memory of her crying.\\tमैंने उसके रोने की याद को भुला देने की कोशिश करी।\\nI want to leave this difficult job to her.\\tमैं यह मुश्किल काम उसके लिए छोड़ना चाहता हूँ।\\nI\\'ll wait here until my medicine is ready.\\tजब तक मेरी दवाई तैयार नहीं होती मैं यहीं इंतेज़ार करूंगी।\\nI\\'m willing to help you if you want me to.\\tअगर तुम मदद चाह्ते हो, तो मैं मदद करने के लिए तैयार हूँ।\\nI\\'m wondering whether to take on that job.\\tमैं सोच रहा हूँ कि नौकरी लूँ या नहीं लूँ।\\nIt has been raining for three days on end.\\tलगातार तीन दिनों से बारिश हो रही है।\\nIt is definite that he will go to America.\\tकि वह अम्रीका जाएगा, यह तो पक्का है।\\nLet\\'s go and see as many things as we can.\\tचलो चलें, जितनी सारी चीज़ें देख सकते हैं देख आएँ।\\nLet\\'s let the workers go home early today.\\tआज कर्मचारियों को थोड़ा जल्दी घर जाने देते हैं।\\nSaying and doing are two different things.\\tकहने और करने में बड़ा अंतर है।\\nSaying and doing are two different things.\\tकहना और करना अलग-अलग बातें हैं।\\nShe could not come because of her illness.\\tवह बीमारी की वजह से नहीं आ सका।\\nShe is well known in both India and China.\\tवह भारत और चीन दोनो में बहुत प्रसिद्ध है।\\nShe is well known in both India and China.\\tवह भारत और चीन दोनो में बहुत मशहूर है।\\nShe showed me a letter written in English.\\tउसने मुझे अंग्रेज़ी में लिखी हुई चिट्ठी दिखाई।\\nSome of the apples in the box were rotten.\\tडब्बे में कुछ सेव सड़े हुए थे।\\nSome people like cats, others prefer dogs.\\tकुछ लोगों को बिल्लियाँ अच्छी लगतीं हैं, कुछ लोगों को कुत्ते।\\nThat accident was due to his carelessness.\\tवह ऐक्सीडेंट उसकी लापरवाही की वजह से हुआ।\\nThe Japanese eat rice at least once a day.\\tजापानी दिन में कम-से-कम एक बार चावल खाते है।\\nThe Qutub Minar and Red Fort are in Delhi.\\tक़ुतुब मीनार और लाल किला दिल्ली में हैं।\\nThe old farmer did not pay him much money.\\tवह बूढ़ा किसान उसको बहुत पैसे नहीं देता था।\\nThe teacher was disappointed at my answer.\\tटीचर मेरा जवाब सुनकर निराश थीं।\\nToudaiji is the bigger of the two temples.\\tउन दो मंदिरों में तोदाइजी बड़ा वाला है।\\nWhy is he angry about something like that?\\tवह इस तरह की बात पर गुस्सा क्यों है?\\nYou\\'re spending too much time watching TV.\\tतुम टीवी देखने में काफ़ी समय बरबाद कर रहे हो।\\nAre these the glasses you were looking for?\\tक्या यह वह ऐनक है जिसे आप ढूँढ रहे थे ?\\nBy the way, have you ever been to Hokkaido?\\tवैसे, तुम कभी होक्काईदो गई हुई हो क्या?\\nCover up the injured man with this blanket.\\tघायल आदमी को इस कंबल से ढक दो।\\nDo you know the man standing on the bridge?\\tतुम ब्रिज पर खड़े हुए आदमी को जानते हो क्या?\\nDuring the war, we had to do without sugar.\\tजंग के समय में हमे चीनी के बिना ही काम चलाना पड़ा।\\nFrom year to year they were growing poorer.\\tवे हर साल और ज़्यादा गरीब हुए जा रहे थे।\\nHe did not show up at the party last night.\\tवह कल पार्टी में नहीं आया।\\nHe was arrested because he stole the money.\\tउसे पैसे चुराने के लिए गिरफ़्तार कर लिया गया।\\nHe was arrested because he stole the money.\\tउसे पैसे चुराने के लिए हिरासत में ले लिया गया।\\nHis disappointment was obvious to everyone.\\tउसकी निराशा सभी आसानी से दिख सकते थे।\\nHis main object in life was to become rich.\\tउसका ज़िन्दगी में एक की उद्देश्य था और वह था अमीर बन जाना।\\nHis pride didn\\'t allow him to ask for help.\\tउसने अपने अभिमान की वजह से किसी से भी मदद नहीं मांगी।\\nI am afraid of the situation getting worse.\\tमुझे परिस्तिथि के बदतर होने का डर है।\\nI chose to leave instead of staying behind.\\tमैंने रहने की बजाय जाने का इरादा किया।\\nI like the blue one. How much does it cost?\\tमुझे नीला वाला पसंद है, कितने का है?\\nI like the blue one. How much does it cost?\\tमुझे नीली वाली पसंद है, कितने की है?\\nI met my teacher on the way to the station.\\tमेरी स्टेशन के रास्ते पर अपनी टीचर से मुलाकात हुई।\\nI never dreamed that I would meet you here.\\tमैं सपने में भी नहीं सोच सकता था कि तुमसे यहाँ मुलाकात होगी।\\nI ran out of money during my stay in India.\\tभारत में रहने के दौरान मेरे पास पैसे खतम हो गए।\\nI\\'ll let you know when it has been decided.\\tनिर्णय होने पर आपको बता दूँगा।\\nIn Japan a new school year starts in April.\\tजापान में स्कूल अप्रैल में शुरू होता है।\\nIndia has a different climate from England.\\tभारत का मौसम इंग्लैड के मौसम से एकसमान नहीं है।\\nIs it necessary for me to attend the party?\\tमेरा पार्टी में आना ज़रूरी है क्या?\\nIt doesn\\'t matter whether he agrees or not.\\tवह माने या न माने उससे कुछ फ़र्क नहीं पड़ता।\\nIt is said that women live longer than men.\\tकहा जाता है कि औरतों की उम्र आदमियों से ज़्यादा लम्बी होती है।\\nIt was Tom that broke the window yesterday.\\tकल जिसने खिड़की तोड़ी थी वह टॉम था।\\nLet me congratulate you on your engagement.\\tआपको आपकी सगाई पर बहुत बहुत बधाईंयाँ।\\nMy father told me not to read books in bed.\\tमेरे पिता ने मुझसे बिस्तर में किताबें पढ़ने से मना किया।\\nOur health is our most precious possession.\\tहमारा स्वास्थ्य हमारी सबसे कीमती संपत्ति होती है।\\nPeople of your age often have this problem.\\tतुम्हारी उम्र के लोगों को अक्सर इस तरह की दिक्कत होती है।\\nRespect yourself and you will be respected.\\tअपनी मर्यादा अपने हाथ\\nShe has a rich vocabulary of English words.\\tउसको बहुत सारे अंग्रेज़ी शब्द आते हैं।\\nSome people want to amend the constitution.\\tकुछ लोग संविधान को सुधारना चाहते हैं।\\nThe doctor advised that she take a holiday.\\tडॉक्टर ने उसको छुट्टी लेने की सलाह दी।\\nThe doctor told him to cut down on smoking.\\tडॉक्टर ने उसे सिगरेट कम पीने को कहा।\\nThe door was locked and we couldn\\'t get in.\\tदरवाज़े पर ताला लगा हुआ था और हम अंदर नहीं जा सके।\\nThe girl tried hard to hold back her tears.\\tउस लड़की ने अपने आँसुओं को रोकने की बहुत कोशिश करी।\\nThe man who is standing there is my father.\\tवहाँ पर खड़े हुए वे मेरे पिता हैं।\\nThe wind carries seeds for great distances.\\tहवा बीजों को दूर-दूर तक लेजाती है।\\nThere are more clouds today than yesterday.\\tआज बादल कल से ज़्यादा हैं।\\nThey furnished the library with many books.\\tउन्होंने पुस्तकालय को बहुत सारी किताबें दीं।\\nThis museum has been closed for five years.\\tयह म्युज़ियम पाँच साल से बंद है।\\nThis poem was originally written in French.\\tयह कविता सबसे पहले फ़्रानसीसी में लिखी गई थी।\\nTom and Mary want to know what our plan is.\\tटॉम और मेरी हमारा प्लैन जानना चाहते हैं।\\nTwo brothers set out on a journey together.\\tदो भाई एक-साथ सफ़र पर निकले।\\nWe investigated the matter from all angles.\\tहमने मामले की हर पहलू से छानबीन करी।\\nWe stayed with them all through the summer.\\tहमने पूरी गर्मी उनके साथ बिताई।\\nWe\\'ve run out of paper for the photocopier.\\tफ़ोटोकॉपियर में कागज़ खतम हो गया है।\\nWhoever wants to come to my party may come.\\tमेरी पार्टी में जो भी आना चाहता है आ सकता है।\\nYou are not supposed to play baseball here.\\tयहाँ बेसबॉल खेलना मना है।\\nYou aren\\'t leaving Japan for good, are you?\\tतुम हमेशा के लिए तो जापान नहीं जा रहे हो ना?\\nYour plan requires a large amount of money.\\tतुम्हारी योजना के लिए बहुत सारे पैसे की ज़रूरत है।\\nA madman is not accountable for his actions.\\tएक पागल इनसान को अपने किये-धरे के लिए ज़िम्मेदार नहीं ठहराया जा सकता।\\nA rubber ball bounces because it is elastic.\\tरबड़ की गेंद उछलती है क्योंकि वह लचीली होती है।\\nAll the answers to this question were wrong.\\tइस प्रश्न के सारे उत्तर ग़लत थे।\\nAll the answers to this question were wrong.\\tइस सवाल के सारे जवाब ग़लत थे।\\nDo we have to get up early tomorrow morning?\\tक्या हमे कल सुबह जल्दी उठना है?\\nDo you know this part of the city very well?\\tतुम शहर के इस हिस्से को अच्छी तरह से जानते हो क्या?\\nDon\\'t forget to come here at seven tomorrow.\\tकल यहाँ सात बजे आना न भूलना।\\nDon\\'t forget to come here at seven tomorrow.\\tकल यहाँ सात बजे पहुँचना न भूलना।\\nHe is a British citizen, but lives in India.\\tवह अंग्रेज़ी नागरिक है पर भारत में रहता है।\\nHe realized his dream of becoming an artist.\\tउसका कलाकार बनने का सपना सच हो गया।\\nHe said he would write to me, but he hasn\\'t.\\tउसने कहा था कि वह मुझे चिट्ठी लिखेगा, पर उसने अभी तक एक भी चिट्ठी नहीं भेजी है।\\nI don\\'t know when she will leave for London.\\tमुझे नहीं पता वह लंदन के लिए रवाना कब होएगी।\\nI feel cold. Do you mind closing the window?\\tमुझे ठंड लग रही है। खिड़की बंद कर सकते हो क्या?\\nI haven\\'t had a chance to see the movie yet.\\tमुझे अभी तक उस फ़िल्म को देखने का मौका नहीं मिला है।\\nIf it rains tomorrow, will you stay at home?\\tअगर कल बारिश हुई तो तुम घर में रहोगे क्या?\\nIt is difficult for me to get up before six.\\tमेरे लिए छः बजे से पहले उठना बहुत मुश्किल है।\\nIt\\'s impossible for me to explain it to you.\\tमुझे तुमको यह बात समझाना नामुमकिन है।\\nMy father spends a lot of time on his hobby.\\tमेरे पिता अपने शौक पर बहुत समय खर्च करते हैं।\\nMy opinion is entirely different from yours.\\tमेरी सोच तुम्हारी सोच से बिलकुल अलग है।\\nMy parents have just arrived at the station.\\tमेरे माता-पिता अभी-अभी स्टेशन पर पहुँचें हैं।\\nShe cried out the moment she saw her mother.\\tउसने जैसे ही अपनी मम्मी को देखा, वह चिल्ला उठी।\\nShe left the old newspapers lying in a heap.\\tउसने पुराने अखबारों को एक ढेर में करके छोड़ दिया।\\nThat movie theater always shows good movies.\\tउस सिनेमा हॉल में हमेशा अच्छी फ़िल्में लगतीं हैं।\\nThe baby woke up in the middle of the night.\\tबच्चा की नींद आधी रात में खुल गई।\\nThe children tried to imitate their teacher.\\tबच्चों ने एक-दूसरे की नकल करने की कोशिश करी।\\nThe government has been reforming education.\\tसरकार शिक्षा को सुधारने मे लगी हुई है।\\nThe male peacock has colorful tail feathers.\\tमोर की पूंछ के पंख रंग-बिरंगी होते हैं।\\nThe mother is leading her child by the hand.\\tमाँ हाथ पकड़कर अपने बच्चे को ले जा रही है।\\nThe thief cursed the police for finding him.\\tचोर ने पुलिस को उसको पकड़ने के लिए गाली दी।\\nThe world is changing more and more quickly.\\tदुनिया और-भी-और तेज़ी से बदल रही है।\\nThis coffee is so hot that I can\\'t drink it.\\tयह कॉफ़ी इतनी गरम है कि मुझसे पी नहीं जा रही है।\\nThis is the very book that I wanted to read.\\tयह वही किताब है जिसे मैं पढ़ना चाह्ता था।\\nWaking up is the opposite of going to sleep.\\tजागना सोने का विलोम शब्द है।\\nWhoever comes first will get the best seats.\\tजो भी पहले आएँगे उन्हें सबसे अच्छी सीटें मिलेंगीं।\\nA big earthquake occurred in India yesterday.\\tभारत में कल एक बड़ा भूकम्प हुआ था।\\nAre you going to cut down all the trees here?\\tतुम यहाँ सारे के सारे पेड़ काट डालोगे क्या?\\nBe sure to put out the fire before you leave.\\tजाने से पहले आग को भुजाना मत भूलना।\\nBecause of his advice, I was able to succeed.\\tमैं उसकी सलाह की वजह से कामयाब हो गया।\\nDid it not occur to you to close the windows?\\tतुम्हें खिड़कियाँ बंद करने की नहीं सूझी?\\nDon\\'t add sentences from copyrighted sources.\\tकॉपीराईट वाले सोत्रों से वाक्य न जोड़ें।\\nEveryone could easily see his disappointment.\\tउसकी निराशा सभी आसानी से दिख सकते थे।\\nHe broke himself of the bad habit of smoking.\\tउसने अपनी सिगरेट पीने की बुरी आदत छोड़ दी।\\nHe is anxious to know the result of the test.\\tवह टेस्ट के नतीजे को जानने के लिए बेचैन है।\\nHe lost his balance and fell off his bicycle.\\tउसने अपना संतुलन खो दिया और वह अपनी साईकल पर से गिर गया।\\nHe ought to have made allowances for his age.\\tउसे अपनी उम्र के बारे में सोचना चाहिए था।\\nHe tends to get angry when people oppose him.\\tजब लोग उसके खिलाफ़ जातें हैं तो वह गुस्सा हो जाता है।\\nHe works on the farm from morning till night.\\tवह खेत पर सुबह से शाम तक काम करता है।\\nHis new book is going to come out next month.\\tउसकी नई किताब अगले महीने छपेगी।\\nI am going to stay here for a couple of days.\\tमैं यहाँ एक-दो दिन रहूँगा।\\nI have two sisters, both of whom are married.\\tमेरी दो बहनें हैं और दोनो की शादी हो चुकी है।\\nI received a letter which was written by her.\\tमुझा उसकी लिखी हुई एक चिट्ठी मिली।\\nI will give you a call as soon as I get home.\\tमैं घर पहुँचते ही तुम्हें फ़ोन करूँगी।\\nIt\\'s been pouring here for the last few days.\\tयहाँ पिछले कुछ दिनों से दबाकर बारिश हो रही है।\\nLet me give you a lift as far as the station.\\tमुझे तुम्हें स्टेशन तक पहुँचाने दो।\\nMt. Everest is the highest peak in the world.\\tएवरेस्ट पर्वत दुनिया का सबसे ऊँचा पर्वत शिखर है।\\nMy father left me a lot of money in his will.\\tमेरे पिता नें अपनी वसीयत में मुझे बहुत सारे पैसे छोड़े थे।\\nShe burst into tears when she heard the news.\\tवह खबर सुनते ही रो पड़ी।\\nShe poured coffee into the cups on the table.\\tउसने मेज़ पर रखे हुए कपों में कॉफ़ी डाली।\\nSomething is wrong with this washing machine.\\tइस वॉशिंग मशीन में कुछ खराबी है।\\nTake off your hat when you enter a classroom.\\tक्लासरूम में घुसते समय अपनी टोपी उतारा करो।\\nThe accident was due to his careless driving.\\tवह ऐक्सीडेंट उसकी लापरवाही की वजह से हुआ।\\nThe car broke down on the way to the airport.\\tएयरपोर्ट के रास्ते पर गाड़ी खराब हो गई।\\nThe factory will cease operations next month.\\tफ़ैक्टरी में काम अगले महीने से रुक जाएगा।\\nThe news caused alarm throughout the village.\\tउस खबर ने गाँव में दहशत फैला दी।\\nThe policeman observed the man open the door.\\tपुलीसवाले ने आदमी को दरवाज़ा खोलते देखा।\\nThe thief is certain to be caught eventually.\\tचोर अंत में तो पकड़ा ही जाएगा।\\nThey fined him 5,000 yen for illegal parking.\\tउन्होंने उसपर गाड़ी ग़लत खड़ी करने के लिए पाँच हज़ार येन का जुर्माना लगाया।\\nThis is the village where my father was born.\\tयह वह गाँव है जहाँ मेरे पिताजी पैदा हुए थे।\\nTo distinguish right from wrong is difficult.\\tसही और ग़लत में अंतर करना मुश्किल होता है।\\nTom couldn\\'t understand what Mary was saying.\\tटॉम मेरी की बात समझ नहीं पाया।\\nTom couldn\\'t understand what Mary was saying.\\tटॉम को मेरी की बात समझ नहीं आई।\\nTom couldn\\'t understand what Mary was saying.\\tटॉम मेरी की बात समझ नहीं सका।\\nWe took it for granted that he would join us.\\tहमने मान लिया था कि वह हमारे साथ आएगा।\\nWhat is the difference between this and that?\\tइस और उस में क्या अंतर है?\\nWhat is the difference between this and that?\\tइस और उस में क्या फ़र्क है?\\nWhat will you be doing at this time tomorrow?\\tतुम कल इस समय क्या कर रहे होगे?\\nWhoever wins the race will receive the prize.\\tजो भी रेस जीतेगा ईनाम उसी का होगा।\\nYou can buy whichever you like, but not both.\\tतुम्हें इन में से जो भी पसंद है ख़रीद लो, मगर तुम दोनों नहीं ख़रीद सकते।\\nAs soon as he finished his work, he went home.\\tवह अपना काम खतम करते ही घर चला गया।\\nGoing out in this rain is out of the question.\\tइस बारिश में बाहर जाना एकदम सवाल के बाहर है।\\nHe is not the sort of guy who gives in easily.\\tवह आसानी से मान जाने वाला आदमी नहीं है।\\nHe took advantage of every opportunity he had.\\tउसने किसी भी मौके को हाथ से जाने नहीं दिया।\\nI don\\'t want there to be any misunderstanding.\\tमैं नहीं चाहता कि कोई भी ग़लतफ़ैमी हो।\\nI had a fight with my older brother yesterday.\\tमेरा कल मेरे भाई के साथ झगड़ा हुआ था।\\nI had a fight with my older brother yesterday.\\tमेरी कल मेरे भाई के साथ लड़ाई हुई थी।\\nI have tried innumerable times to contact him.\\tमैं बहुत बार उससे सम्पर्क करने की कोशिश कर चुकी हूँ।\\nI remember my mother teaching me the alphabet.\\tमुझे याद है कि मेरी माँ ने मुझे क-ख-ग-ध सिखाए थे।\\nI wonder where to hang the picture he gave me.\\tसोच रही हूँ उसकी दी हुई तस्वीर को कहाँ टाँगा जाए।\\nI wrote down his name so I wouldn\\'t forget it.\\tमैंने उसका नाम लिख लिया जिससे कि मैं उसे भूल न जाऊँ।\\nI\\'ve been given until tomorrow to finish this.\\tमुझे ये कल तक खतम करना है ।\\nMy father is my biggest source of inspiration.\\tमेरे पिताजी मेरे सबसे बड़े प्रेरणा के स्रोत हैं।\\nPlease don\\'t hesitate to ask me any questions.\\tमुझसे कोई भी सवाल पूछने में न हिचकिचाएँ।\\nPlease tell me your name and telephone number.\\tमुझे अपना नाम और फ़ोन नम्बर बताईये।\\nShe is busy at present and can\\'t speak to you.\\tवे अभी व्यस्थ हैं और आपसे बात नहीं कर सकतीं हैं।\\nShe will give her picture to whoever wants it.\\tवह अपनी तस्वीर जो भी चाहे उसको दे देगी।\\nTake back what you said about me being stingy.\\tजो तुमने मेरे कंजूस होने के बारे में कहा था, उस बात को वापस लो।\\nThat can\\'t be Mary. She\\'s in the hospital now.\\tहो नहीं सकता कि वह मेरी हो, क्योंकि मेरी अभी हस्पताल में है।\\nThe drug smuggler was arrested at the airport.\\tदवा तस्कर हवाई अड्डे पर गिरफ्तार किया गया था।\\nThe instant he saw the policeman, he ran away.\\tवह पुलिस अफ़सर को देखते ही भाग गया।\\nThere is a limit to how much one can tolerate.\\tबर्दाश्त की भी हद होती है।\\nThey were about to leave when I arrived there.\\tजब मैं वहाँ पहुँचा, वे जाने वाले थे।\\nThis car has been used for the past ten years.\\tइस गाड़ी का पिछले दस साल से इस्तेमाल हो रहा है।\\nWhat time do you usually get up every morning?\\tतुम आमतौर पर रोज़ सुबह कितने बजे उठते हो?\\nYou are fortunate to have such loving parents.\\tतुम नसीब वालो हो जिसके इतना प्यार करने वाले माँ-बाप हैं।\\nYou had better not go out in this bad weather.\\tअच्छा होगा कि तुम इस बुरे मौसम में बाहर न जाओ।\\nYou make mistakes if you do things in a hurry.\\tजल्दबाज़ी में काम करोगे तो ग़लतियाँ तो होंगीं ही।\\nYou should write it down before you forget it.\\tतुम्हें इसे लिख लेना चाहिए, जिससे पहले कि तुम भूल जाओ।\\nYou\\'ll be all right again in a couple of days.\\tतुम दो तीन दिनों में फिरसे ठीक हो जाओगे।\\nYou\\'ll be all right again in a couple of days.\\tतुम दो तीन दिनों में फिरसे ठीक हो जाओगी।\\nYou\\'ll get a lot of presents on your birthday.\\tतुम्हें अपने जन्मदिन पर बहुत सारे तोहफ़े मिलेंगे।\\nAlmost all Japanese boys like to play baseball.\\tलगभग सारे जापानी लड़कों को बास्केटबॉल खेलना अच्छा लगता है।\\nCan you tell me when to switch the machine off?\\tक्या मुझे बता सकते हो कि मशीन को कब बंद करना है?\\nDon\\'t forget to return the book to the library.\\tउस किताब को पुस्तकालय को लौटाना मत भूलना।\\nHe became a member of this club five years ago.\\tवह इस क्लब का सदस्य पाँच साल पहले बना था।\\nHe will commit suicide if he can\\'t see his son.\\tवह अपने बेटे को नहीं देख पाया तो वह आत्महत्या कर लेगा।\\nHow can you tell good English from bad English?\\tतुम अच्छी और बुरी अंग्रेज़ी में कैसे अंतर कर सकते हो?\\nI came upon an old friend of mine on the train.\\tमेरी ट्रेन में एक पुराने दोस्त से मुलाक़ात हुई।\\nI have lots of work to clear up by the weekend.\\tमुझे इस हफ़्ते बहुत सारा काम कर के खतम करना है।\\nI have no idea to what extent I can trust them.\\tमुझे नहीं पता मैं उनपर कितना भरोसा कर सकता हूँ।\\nI have no idea to what extent I can trust them.\\tमुझे नहीं पता मैं उनपर किस हद तक भरोसा कर सकता हूँ।\\nI saw a girl whose hair came down to her waist.\\tमैंने एक लड़की को देखा जिसके बाल उसकी कमर तक आते थे।\\nI saw him go into the toilet a few minutes ago.\\tमैंने उसे एक-दो मिनट पहले टॉयलेट में जाते हुए देखा था।\\nIndia gained independence from Britain in 1947.\\tभारत को ब्रिटेन से १९४७ में स्वतंत्रता प्राप्त हुई।\\nLast week five students were absent from class.\\tपिछले हफ़्ते क्लास से पाँच विद्यार्थी अनुपस्थित थे।\\nShe reproached me for not answering the letter.\\tउसने मुझे चिट्ठी का जवाब न देने के लिए डाँटा।\\nSomething must have happened to him on the way.\\tउसके साथ रास्ते पर कुछ हुआ होगा।\\nSometimes she tried talking to him about India.\\tवह कभी-कभी उससे भारत की बात करने की कोशिश किया करती थी।\\nThe reason which he gave is hard to understand.\\tउसके दिए गए कारण को समझना मुश्किल है।\\nThe station is located between these two towns.\\tस्टेशन इन दो नगरों के बीच स्थित है।\\nThere are lots of things for us to think about.\\tहमारे पास सोचने के लिए बहुत सारी बातें हैं।\\nThese grapes are so sour that I can\\'t eat them.\\tये अंगूर इतने खट्टे हैं कि मुझसे खाए नहीं जा रहे।\\nThey booted him out of school for not studying.\\tकयोंकि वह पढ़ाई नहीं करता था, उसे स्कूल से निकाल दिया गया।\\nThousands of foreigners visit Japan every year.\\tहज़ारों विदेशी हर साल जापान जाते हैं।\\nTom wants to know why you didn\\'t call him back.\\tटॉम पूछ रहा है कि तुमने उसे कॉल बैक क्यों नहीं किया।\\nWe had no customers, so we shut the shop early.\\tहमारे पास ग्राहक नहीं थे, तो हमने दुकान जल्दी बंद करदी।\\nWe have some new products we\\'d like you to see.\\tआपको कुछ नए प्रॉडक्ट्स दिखाना चाहते हैं।\\nWe will have to call on our friends to help us.\\tहमें अपने दोस्तों से मदद माँगनी पड़ेगी।\\nWhen did America become independent of England?\\tअम्रीका को इंग्लैंड से आज़ादी कब मिली?\\nWhile I was in Taiwan, I made friends with him.\\tमैं जब ताईवान में था तब उसके साथ दोस्त बन गया।\\nWould you mind speaking a little softer please?\\tआवाज़ थोड़ी धीमी कर सकते हो क्या?\\n\"Will they go on strike again?\" \"I\\'m afraid so.\"\\t\"वे फिरसे हड़ताल कर सकते हैं क्या?\" \"लगता तो ऐसा ही है।\"\\nAn old man was resting in the shade of the tree.\\tएक बूढ़ा आदमी पेड़ की छाया में आराम कर रहा था।\\nCould you please speak a little bit more slowly?\\tआप थोड़ा धीरे बोल सकते हैं क्या?\\nDo you think he will be elected president again?\\tक्या तुम्हे लगता है वह फिरसे प्रेसीडेंट चुना जाएगा?\\nFrankly speaking, I don\\'t want to work with him.\\tखुलकर बोलूँ तो मैं उसके साथ काम नहीं करना चाहता।\\nHe is a nice man, except that he talks too much.\\tवह आदमी तो भला है, पर बात बहुत ज़्यादा करता है।\\nHe left his parents when he was eight years old.\\tवह आठ साल का था जब उसने अपने माता-पिता को छोड़ दिया।\\nHe reminded his wife to wake him up at 7:00 a.m.\\tउसने अपनी पत्नी को उसे सुबह सात बजे उठाने की बात का याद दिलाया।\\nHe sent out the parcel the day before yesterday.\\tउसने पार्सल को परसों भेजा था।\\nHe was respected both as a teacher and as a man.\\tउसको दोनो एक अध्यापक और एक इनसान के रूप में सम्मान मिला।\\nHow long did it take you to translate this book?\\tतुम्हे इस किताब का अनुवाद करने में कितना समय लगा?\\nI became friends with him while I was in Taiwan.\\tतैवान में रहते समय मेरी उससे दोस्ती हुई।\\nI found it impossible to do the work in one day.\\tमुझे एक दिन में काम खतम करना नामुमकिन लगा।\\nI have never come across such a stubborn person.\\tइतने अड़ियल व्यक्ति से मेरी कभी भी मुलाकात नहीं हुई है।\\nI have to learn many words and phrases by heart.\\tमुझे बहुत सारे शब्दों और वाक्यांशों को रटना है।\\nI thought that he had already finished the work.\\tमुझे लगा कि वह काम खतम कर चुका था।\\nI was ill at ease because I didn\\'t speak French.\\tमैं परेशान था क्योंकि मुझे फ़्रांसीसी बोलनी नहीं आती थी।\\nI was searching for something that didn\\'t exist.\\tमैं एक ऐसी चीज़ ढूँढ रहा था जिसका अस्तित्व कभी था ही नहीं।\\nI was surprised at the news of his sudden death.\\tमैं उसकी अचानक मौत की खबर से चौंक गया।\\nIt is necessary for you to go there immediately.\\tतुम्हारे लिए वहाँ तुरन्त जाना अनिवार्य है।\\nIt is necessary for you to see a doctor at once.\\tतुम्हें जल्द-से-जल्द डॉक्टर के पास जाने की ज़रूरत है।\\nIt makes no difference whether you agree or not.\\tतुम मानो या न मानो, उससे कोई फ़र्क नहीं पड़ता।\\nMay I talk with you in private about the matter?\\tमैं तुम्हारे साथ इस बारे में अकेले में बात कर सकता हूँ क्या?\\nShe had plenty of acquaintances, but no friends.\\tउसकी जान-पहचान में तो बहुत लोग थे पर दोस्त कोई भी नहीं थे।\\nThe doctor told her that she should take a rest.\\tडॉक्टर ने उससे कहा कि उसे आराम लेना चाहिए।\\nThey are in favor of the reform of the tax laws.\\tवे टैक्स सुधार क़ानून के पक्ष में हैं।\\nThis elevator does not go above the sixth floor.\\tयह लिफ़्ट छटी मंज़िल तक ही जाती है।\\nThis machine is superior in quality to that one.\\tयह मशीन उस मशीन से बेहतर है।\\nTom had fifty dollars in his pocket at the time.\\tटॉम की जेब में उस समय पचास डॉलर थें।\\nTomorrow is my birthday and I will be seventeen.\\tकल मेरा जन्मदिन है, और मैं सत्रह साल का हो जाऊँगा।\\nTomorrow is my birthday and I will be seventeen.\\tकल मेरा जन्मदिन है, और मैं सत्रह साल की हो जाऊँगी।\\nWhen she was reading the letter, she looked sad.\\tवह चिट्ठी पढ़ने के समय दुखी लग रही थी।\\nWhy do you think soccer isn\\'t popular in the US?\\tतुम्हारे खयाल से अम्रीका में फ़ुटबॉल लोकप्रिय क्यों नहीं है?\\nWill you exchange this sweater for a larger one?\\tआप यह स्वेटर बड़े नाप वाले के लिए बदल देंगे क्या?\\nWrite back to me as soon as you get this letter.\\tतुम्हें जैसे ही यह पत्र मिले मुझे लिखकर जवाब देना।\\nDo you think we should import rice from the U.S.?\\tक्या आपको लगता है कि हमे अम्रीका से चावल का आयात करना चाहिए?\\nHe contracted malaria while living in the jungle.\\tजंगल में रहते समय उसे मलेरिया हो गया।\\nHe left all his property to his wife in his will.\\tउसने वसीयत में अपनी पत्नी को सारी जायदाद छोड़ दी।\\nHe made such a long speech that we all got bored.\\tउसने इतना लम्बा भाषण दिया कि हम सब को बोर कर डाला।\\nI am of the opinion that he will never come back.\\tमेरे ख़याल से वह कभी भी वापस नहीं आएगा।\\nI slept all day yesterday, because it was Sunday.\\tकल रविवार था, तो मैं पूरे दिन सोते रहा।\\nI will tell him about it when he comes next time.\\tजब वह अगली बार आएगा, मैं उसे इसके बारे में बाताऊँगा।\\nI will tell him about it when he comes next time.\\tजब वह अगली बार आएगा, मैं उसे इसके बारे में बाताऊँगी।\\nIf possible, I\\'d like to travel around the world.\\tअगर हो सके तो मैं विष्व यात्रा पर जाना चाहूँगा।\\nIf the coffee is too strong, add some more water.\\tअगर कॉफ़ी ज़्यादा कड़वी है तो थोड़ा और पानी डाललो।\\nLondon is one of the largest cities in the world.\\tलंदन दुनिया के सबसे बड़े शहरों में से एक है।\\nLondon, the capital of England, is on the Thames.\\tइंग्लैंड की राजधानी लंदन थेम्स नदी के किनारे है।\\nThe money should be distributed to those in need.\\tयह पैसा ज़रूरतमंदों में बाँट देना चाहिए।\\nThere is no hurry about returning the book to me.\\tमुझे वह किताब लौटाने में जल्द-बाज़ी करने की ज़रूरत नहीं है।\\nThere weren\\'t any children in the park yesterday.\\tकल पार्क में एक भी बच्चा नहीं था।\\nThey wanted to get married as soon as they could.\\tवे जल्द-से-जल्द शादी करना चाहते थे।\\nThey won\\'t believe me even if I swear it is true.\\tवे मेरा विश्वास नहीं करेंगे चाहे मैं कसम भी क्यों न खालूँ।\\nWe cannot decide whether to go to college or not.\\tहम यह फ़ैसला नहीं ले पा रहें हैं कि कॉलेज जाएं या न जाएं।\\nYou have the freedom to travel wherever you like.\\tतुम्हारे पास जहाँ भी जाने की मर्ज़ी हो वहाँ जाने की आज़ादी है।\\nFather objected to my going to the mountain alone.\\tपिताजी मेरे पहाड़ पर अकेले जाने से राज़ी नहीं थे।\\nHe is confident that he will pass the examination.\\tउसको यकीन है कि वह परीक्षा में पास हो जाएगा।\\nHe jumped into water without removing his clothes.\\tउसने कपड़े उतारे बिना ही पानी में छलाँग लगादी।\\nI do not know for certain what she is going to do.\\tमुझे ठीक से नहीं पता वह क्या करने वाली है।\\nI have a gut feeling that Tom won\\'t pass the test.\\tमुझे नहीं लगता कि टॉम परीक्षा में उत्तीर्ण होगा।\\nI have a gut feeling that Tom won\\'t pass the test.\\tमुझे नहीं लगता कि टॉम टेस्ट में पास होगा।\\nI have nothing to say with regard to that problem.\\tमुझे इस विषय पर कुछ नहीं कहना है।\\nI have nothing to say with regard to that problem.\\tमुझे इस समस्या के बारे में कुछ नहीं कहना है।\\nI know her by sight, but I\\'ve never spoken to her.\\tमैं उसे पहचानता हूँ पर मैंने उससे कभी बात नहीं करी है।\\nI learned to play guitar when I was ten years old.\\tमैंने दस साल की उम्र में ही गिटार बजाना सीख लिया था।\\nI spent the whole afternoon chatting with friends.\\tमैंने दोपहरभर अपने दोस्तों से गप मारी।\\nI stayed at home all day instead of going to work.\\tमैं काम पर जाने के बजाय सारे दिन घर पर रहा।\\nI think there has been some misunderstanding here.\\tमुझे लगता है कि यहाँ कुछ ग़लतफ़ैमी हुई है।\\nI\\'m not saying that your answers are always wrong.\\tमैं यह नहीं कह रही हूँ कि तुम्हारे उत्तर हमेशा ग़लत होते हैं।\\nIndia is the seventh largest country in the world.\\tभारत विश्व में सातवाँ सबसे बड़ा देश है।\\nIt was so noisy that I couldn\\'t make myself heard.\\tइतना शोर था कि किसी को भी मेरी आवाज़ सुनाई नहीं दे रही थी।\\nIt\\'s an absolute waste of time to wait any longer.\\tऔर इंतेज़ार करना समय की सरासर बर्बादी होगी।\\nMany people encouraged me to fulfill my ambitions.\\tअपनी अभिलाषाओं को पूरी करने के लिए मुझे बहुत से लोगों ने बढ़ावा दिया।\\nMy mother is constantly forgetting people\\'s names.\\tमेरी माँ अक्सर लोगों के नाम भूलती रहती है।\\nShe is very careful, so she seldom makes mistakes.\\tवह बहुत ध्यानपूर्वक है, इसलिए बहुत कम ग़लतियाँ करती है।\\nThe old man sat in the chair with his eyes closed.\\tवह बूढ़ा आदमी आँखें बंद करके कुरसी में बैठा था।\\nThis theory is too difficult for me to comprehend.\\tयह सिद्धांत मेरे समझने से बाहर है।\\nTo my surprise, she could not answer the question.\\tमैं हैरान था कि वह सवाल का जवाब नहीं दे पाई।\\nWhat number should I call in case of an emergency?\\tआपातकालीन स्तिथि में मुझे क्या नम्बर मिलाना चाहिए?\\nI advise you not to borrow money from your friends.\\tमेरी तुम्हारे लिए यह सलाह है कि अपने दोस्तों से पैसे उधार मत लो।\\nI don\\'t like the polluted atmosphere of big cities.\\tमुझे बड़े शहरों का प्रदूषित वातावरण अच्छा नहीं लगता।\\nI go to the office by bicycle except on rainy days.\\tउन दिनों के सिवाय जब बारिश हो रही होती है, मैं साईकल चलाकर काम पर जाता हूँ।\\nI had hardly reached the school when the bell rang.\\tमैं बस स्कूल पहुँचा ही था कि घंटी बज गई।\\nI want to clean the house before my parents return.\\tमैं अपने पापा-मम्मी के वापस आने से पहले घर साफ़ करना चाहता हूँ।\\nI was kept waiting for a long time at the hospital.\\tअस्पताल में मुझसे बहुत देर तक इन्तज़ार करवाया गया।\\nInternational trade is vital for healthy economies.\\tअंतर्राष्ट्रीय व्यापार मज़बूत अर्थव्यवस्था के लिए आवश्यक है।\\nIt is said that he is the richest man in the world.\\tकहा जाता है कि वह दुनिया में सबसे अमीर आदमी है।\\nIt\\'s already eleven o\\'clock. I must be leaving now.\\tग्यारह बज चुके हैं। मुझे चलना चाहिए।\\nThe bat was stolen yesterday, along with the balls.\\tबैट और बॉल दोनो कल एकसाथ चोरी हो गए।\\nThe people of London are very proud of this bridge.\\tलंदन के लोगों को इस ब्रिज पर गर्व है।\\nThis is the house where I lived when I was a child.\\tयह वह घर है जिसमें मैं रहता था जब मैं छोटा था।\\nWe are responsible for your protection from now on.\\tअबसे आपकी हिफ़ाज़त के लिए हम ज़िम्मेदार हैं।\\nWe arrived at the station as the train was leaving.\\tहम स्टेशन पर तब पहुँचे जब ट्रेन चल पड़ी थी।\\nWe must not speak ill of others behind their backs.\\tहमे लोगों की पीठ के पीछे उनकी बुराई नहीं करनी चाहिए।\\nWe will have to take off our shoes before going in.\\tहमे अंदर जाने से पहले जूते उतारने होंगे।\\nWhen he arrives in Tokyo, I\\'ll call you right away.\\tउसके टोक्यो आते ही मैं तुम्हें तुरंत फ़ोन करूँगी।\\nWhy do you talk about him as if he were an old man?\\tतुम उसके बारे में ऐसे बात क्यों करते हो जैसे कि वह बूढ़ा आदमी हो?\\nAfter some hesitation, he laid the book on the desk.\\tथोड़ी हिचकिचाहट के बाद, उसने किताब को मेज़ पर रखा।\\nI will get through with my homework before he comes.\\tमैं उसके आने से पहले अपना होमवर्क खतम कर लूँगा।\\nI will never forget your kindness so long as I live.\\tमैं आपकी अच्छाई को कभी नहीं भूलूँगा।\\nLook carefully. I\\'m going to show you how it\\'s done.\\tग़ौर से देखा। मैं तुम्हें दिखाऊँगा कैसे किया जाता है।\\nA selfish man thinks of nothing but his own feelings.\\tमतलबी इनसान केवल अपनी भावनाओं के बारे में ही सोचता है।\\nA selfish man thinks of nothing but his own feelings.\\tमतलबी इनसान केवल अपने बारे में ही सोचता है।\\nAll the flowers in the garden died for lack of water.\\tबाग के सारे फूल पानी की कमी की वजह से मर गए।\\nI ran into an old friend of mine outside the station.\\tमुझे स्टेशन के बाहर अपना एक पुराना दोस्त मिल गया।\\nI spent hours looking for the key that I had dropped.\\tमैं घंटों तक उस चाबी को ढूँढता रहा जिसे मैंने गिरा दिया था।\\nI want this photograph developed as soon as possible.\\tमुझे यह तस्वीर जल्द-से-जल्द बनवानी है।\\nI\\'ll arrange for someone to pick you up at your home.\\tमैं किसी को तुम्हें घर से लेने के लिए भिजवादूँगा।\\nIt is dangerous to ride a motorbike without a helmet.\\tहेलमेट पहने बिना मोटरसाईकल चलाना बहुत खतरनाक होता है।\\nIt may not be necessary for us to go to that meeting.\\tशायद हमें उस मीटिंग में जाने की ज़रूरत नहीं पड़ेगी।\\nIt would be better for you not to ask him for advice.\\tबहतर होगा कि तुम उससे सलाह न माँगो।\\nMy hands are dirty. I have been repairing my bicycle.\\tमेरे हाथ गंदे हैं। मैं अपनी साईकल ठीक कर रहा था।\\nShe gave me a large room while I stayed at her house.\\tजब मैं उसके घर पर रही, उसने मुझे रहने के लिए एक बड़ा सा कमरा दिया।\\nThe government started a program to promote industry.\\tसरकार ने उद्योग बढ़ाने के लिए कार्यक्रम शुरू किया।\\nThe majority of the committee voted against the bill.\\tसमिति के अधिकांश सदस्यों ने बिल के पारित होने के खिलाफ़ मत दिया।\\nThe other day her mother passed away in the hospital.\\tकुछ दिन पहले उसकी माँ हस्पताल में चल बसीं।\\nThe population of China is larger than that of India.\\tचीन की जनसंख्या भारत की से बड़ी है।\\nThe speed of the spread of AIDS is horrifyingly fast.\\tएड्स के फैलाव की तेज़ गति बहुत भयानक है।\\nWhen you can\\'t do what you want, you do what you can.\\tजब वह नहीं कर सकते जो करना चाह्ते हो, तो वह करो जो कर सकते हो।\\nFrench is spoken in France and in some parts of Italy.\\tफ्रेंच फ्रांस में अौर इटली के कुछ हिस्सो में बोली जाती है।\\nI got up early, so that I could catch the first train.\\tमैं जल्दी उठा था, क्योंकि मुझे पहली ट्रेन पकड़नी थी।\\nI was caught in a shower and was drenched to the skin.\\tमैं बारिश में फंस गया था और तर-तर भीग गया।\\nIn Japan there aren\\'t any lakes bigger than Lake Biwa.\\tजापान में बीवा झील से बड़ी और कोई झील नहीं है।\\nIn case I can\\'t come, I\\'ll give you a call beforehand.\\tअगर मैं नहीं आ पाया तो तुम्हें पहले फ़ोन करके बतादूँगा।\\nMake sure to turn off all the lights before going out.\\tबहार जाने से पहले सारी बत्तियाँ बंद करना मत भूलना।\\nMaybe I am unhappy, but I don\\'t intend to kill myself.\\tहाँ शायद मैं दुखी हूँ, पर मुझे अपनी जान लेने का इरादा नहीं है।\\nSeen from the sky, the river looked like a huge snake.\\tआसमान से वह नदी एक विशाल सांप की तरह दिख रही थी।\\nThe king ordered that the prisoner should be set free.\\tराजा ने हुक़्म दिया कि क़ैदी को रिहा कर दिया जाए।\\nThe patient was lying in the bed with his eyes closed.\\tमरीज़ आँखें बंद कर बिस्टर पर लेटा हुआ था।\\nThe police arrested the man who had murdered the girl.\\tपुलिस ने उस लड़की के क़ातिल को हरासत में ले लिया।\\nWe are supposed to take off our shoes at the entrance.\\tहमे अंदर जाने से पहले जूते उतारने होंगे।\\nWe communicate with each other by telephone every day.\\tहम रोज़ एक-दूसरे से फ़ोन पर बात करते हैं।\\nWe have decided on leaving this town tomorrow morning.\\tहमने इस नगर को कल सुबह छोड़ने का इरादा किया है।\\nWith a little more patience, you would have succeeded.\\tअगर तुममें थोड़ा और सब्र होता तो तुम कामयाब हो जाते।\\nYou had better chain up the dog so that he won\\'t bite.\\tतुम्हें कुत्ते को बांध देना चाहिए जिससे कि वह किसी को काट न ले।\\nYou should not speak ill of others behind their backs.\\tतुमको लोगों कि पीठ के पीछे उनकी बुराई नहीं करनी चाहिए।\\nYou\\'ll have to work hard if you want to pass the exam.\\tअगर तुम्हे परीक्षा पास करनी है तो मन लगाकर काम करना होगा।\\nA committee has been set up to investigate the problem.\\tइस समस्या की तहकीकात करने के लिए एक समिति स्थापित करी गई है।\\nAccording to TV news, there was a plane crash in India.\\tटीवी समाचार के मुताबिक, भारत में विमान दुर्घटना हुई है।\\nAs the saying goes, \"Nothing ventured, nothing gained.\"\\tएक कहावत है, \"कुछ पाने के लिए कुछ खोना पड़ता है\"।\\nCan you tell the difference between these two pictures?\\tतुम इन दो तस्वीरों में अंतर बता सकते हो?\\nDon\\'t be afraid to make mistakes when speaking English.\\tअंग्रेज़ी बोलते समय गलतियों का डर नहीं होना चाहिए।\\nI can\\'t swallow these tablets without a drink of water.\\tमैं पानी के बिना इन गोलियों को निगल नहीं सकती।\\nIn order to stay awake I may have to drink more coffee.\\tमुझे जगे रहने के लिए शायद और कॉफ़ी पीनी पड़ेगी।\\nThe Taj Mahal is one of the seven wonders of the world.\\tताज महल विश्व के सात आश्चर्यों में से एक है।\\nThe number of fish caught in this river was very small.\\tइस नदी में बहुत कम मछलियाँ पकड़ीं गईं।\\nThe voyage from England to India used to take 6 months.\\tइंग्लैड से भारत तक का सफ़र छः महीनों का हुआ करता था।\\nThere is no point in studying if you are feeling tired.\\tअगर थक गए हो तो पढ़ाई करने से कोई फ़ायदा नहीं है।\\nThey obtained a yield of 8 percent on their investment.\\tउनके इनवेस्टमेंट पर ८ प्रतिशत का फ़ायदा हुआ।\\nThis car has enough power to go up the mountain easily.\\tगाड़ी में आसानी से पहाड़ चढ़ने लायक जान है।\\nWe ought to do our best not to pollute our environment.\\tहमे पर्यावरण के प्रदूषण को रोकने का प्रयास करना चाहिए।\\nYou can borrow these books from the library for a week.\\tआप ये किताबें पुस्तकालय से एक हफ़्ते के लिए ले सकते हैं।\\nYour feet are swollen because your shoes are too small.\\tतुम्हारे पैर सूज गए हैं क्योंकि तुम्हारे जूते बहुत छोटे हैं।\\nA mother is responsible for the conduct of her children.\\tएक माँ अपने बच्चों के बर्ताव के लिए ज़िम्मेदार होती है।\\nColumbus argued that he could reach India by going west.\\tकोलम्बस ने सोचा कि वह पश्चिम दिशा में जाकर भारत पहुँच सकता था।\\nDidn\\'t you know that he passed away about two years ago?\\tतुम्हें पता नहीं कि वे दो साल पहले ही गुज़र चुके थे?\\nIf I had known her address, I would have written to her.\\tअगर मुझे उसका पता पता होता, तो मैंने उसे चिट्ठी लिखी हुई होती।\\nIn the 1600s, tea was introduced into Europe from India.\\t१६०० की शतक में चाय को भारत से यूरोप में लाया गया था।\\nIt\\'s been nice talking to you, but I really must go now.\\tआपसे बात करके खुशी हुई, पर अब मुझे जाना पड़ेगा।\\nIt\\'s hard to say what the weather will be like tomorrow.\\tकल का मौसम कैसा होगा कहना मुश्किल है।\\nLast night you forgot to turn off the radio, didn\\'t you?\\tतुम कल रात रेडियो को बंद करना भूल गए थे ना?\\nWithout a dictionary, it would be hard to study English.\\tशब्दकोश (डिक्शनरी) के बिना अंग्रेज़ी की पढ़ाई करना बहुत मुश्किल होगा।\\nYou ought not to have spent so much money on your hobby.\\tतुम्हें अपने शौक पर इतने सारे पैसे खर्च नहीं करने चाहिए थे।\\n\"When will you be back?\" \"It all depends on the weather.\"\\t\"कब वापस आओगे?\" \"यह तो मौसम देख कर पता चलेगा।\"\\nHe never takes into account the fact that I am very busy.\\tवह कभी भी इस बात का खयाल नहीं करता है कि मैं कितना व्यस्थ हूँ।\\nI can barely afford to buy enough food to feed my family.\\tअपने परिवार के लिए खाना खरीदना भी मेरे लिए मुश्किल है।\\nIt is essential to have good command of English nowadays.\\tआजकल अंग्रेज़ी अच्छे से बोलना जानना बहुत ज़रूरी है।\\nMumbai is the capital of the Indian state of Maharashtra.\\tमुम्बई भारतीय राज्य महाराष्ट्र की राजधानी है।\\nParents are responsible for the safety of their children.\\tमातापिता अपने बच्चों की हिफ़ाज़त के लिए ज़िम्मेदार होते हैं।\\nParents are responsible for the safety of their children.\\tमातापिता अपने बच्चों की सुरक्षा के लिए ज़िम्मेदार होते हैं।\\nSome of the boys are fishing and the others are swimming.\\tकुछ लड़के मछलियाँ पकड़ रहे हैं, और बाकी तैर रहे हैं।\\nThat child is only four, but he can already count to 100.\\tवह बच्चा हालांकि केवल चार साल का ही है, वह अभी से ही सौ तक गिनती कर सकता है।\\nThe reason why you failed is you did not try hard enough.\\tतुम नाकामयाब इसलिए रहे क्योंकि तुमने पूरी तरह मेहनत नहीं लगाई।\\nHe couldn\\'t sleep because of the noise outside his window.\\tउसकी खिड़की के बाहर इतना शोर हो रहा था कि वह सो नहीं पा रहा था।\\nHe intends to devote his life to curing the sick in India.\\tवह अपनी ज़िंदगी को भारत में बीमारों का इलाज करने में समर्पित करना चाहता है।\\nI have so many clothes I don\\'t know what to wear tomorrow.\\tमेरे पास इतने सारे कपड़े हैं कि मुझे समझ में नहीं आ रहा है कि कल क्या पहनूँ।\\nI tried to give her some money, but she wouldn\\'t take any.\\tमैंने उसको पैसे देने की कोशिश करी पर उसने इनकार कर दिया।\\nIt makes no difference to me whether you are rich or poor.\\tतुम अमीर हो या ग़रीब, इससे मुझे कोई फ़र्क नहीं पड़ता।\\nJapan is one of the greatest economic powers in the world.\\tजापान दुनिया के सबसे ताकतशाली अर्थतंत्रों में से एक है।\\nOn the fifteenth of August, thousands of people fly kites.\\tपंद्रह अगस्त के दिन हज़ारों लोग पतंग उड़ातें हैं।\\nThere is nothing on earth that is not affected by the sun.\\tविष्व में ऐसी कोई भी वस्तु नहीं है जिसपर सूर्य का प्रभाव न पड़ता हो।\\nThere is nothing on earth that is not affected by the sun.\\tदुनिया में ऐसी कोई भी चीज़ नहीं है जिसपर सूरज का असर न पड़ता हो।\\nWe must hurry if we want to arrive at the station on time.\\tअगर हमको स्टेशन समय पर पहुँचना है तो हमको जल्दी करनी होगी।\\nAccording to my calculation, she should be in India by now.\\tमेरे हिसाब के मुताबिक उसको अभी तक भारत पहुँच जाना चाहिए था।\\nAlthough they are twins, they have few interests in common.\\tवे हालांकि जुड़वा हैं, उनके शोक एक-दूसरे से बहुत अलग हैं।\\nCross off the names of the people who have paid their dues.\\tजो पैसे भर चुकें हैं, उनके नाम काट दो।\\nHe deliberately ignored me when I passed him in the street.\\tजब मैं सड़क पर उसके सामने से गया, उसने जानबूझकर मुझे पहचाना नहीं।\\nHe promised me that he would be more careful in the future.\\tउसने मुझसे वादा किया था कि वह आगे से ज़्यादा सावधान रहेगा।\\nSeeing that movie is something like taking a trip to India.\\tउस फ़िल्म को देखना भारत के सफ़र पर जाने जैसा है।\\nThe authorities have been hiding the facts from the public.\\tअधिकारियों ने सच्चाई को आम जनता से छिपा कर रखा हुआ है।\\nThe instant he opened the door, he smelt something burning.\\tउसे दरवाज़ा खोलते ही किसी चीज़ के जलने की बदबू सुँघाई दी।\\nWhat is the difference between imitation and real diamonds?\\tअसली और नकली हीरों में क्या फ़र्क होता है?\\nBy the time the sun sets, we will arrive at the destination.\\tहम सूरज के डूबने से पहले अपनी मंजिल तक पहुँच जाएँगे।\\nCovered with dust, the doll stood in the corner of the room.\\tवह धूल से लिपटी हुई गुड़िया कमरे के कोने में खड़ी हुई थी।\\nHe finished his dinner because he didn\\'t like to waste food.\\tउसे खाने की बर्बादी करना पसंद नहीं था, तो उसने अपना खाना खाकर खतम किया।\\nNobody likes him, because he is always blowing his own horn.\\tउसे कोई भी पसंद नहीं करता क्योंकि वह सारे टाईम अपनी बड़ाई करता रहता है।\\nThey have demanded that all copies of the book be destroyed.\\tउन्होंने मांग करी है कि इस किताब की सारी कॉपियाँ नष्ट कर दीं जाएं।\\nWhat do you call a man who takes care of sheep in the field?\\tखेत में बकरियों की देखभाल करने वाले आदमी को क्या बुलाया जाता है?\\nWhen he would not give them higher pay, they went on strike.\\tजब उसने उनके वेतन बढ़ाने से इनकार कर दिया, उन्होंने हड़ताल कर दी।\\nI feel sad when I think about all the people who die in wars.\\tमुझे दुख होता है जब मैं उन लोगों की सोचता हों जो जंग में अपनी जान खो देते हैं।\\nIt looks like rain. You had better take an umbrella with you.\\tलगता है कि बारिश होगी। तुम्हे छाता लेकर जाना चाहिए।\\nThe fisherman exaggerated the size of the fish he had caught.\\tमछवारे ने पकड़ी हुई मछली के आकार को बढ़ा-चढ़ाकर बताया।\\nThe new government promised to rid the country of corruption.\\tनई सरकार ने देश को भ्रष्टाचार से मुक्त करने का वादा किया।\\nHis shoes were so old that his toes were sticking out of them.\\tउसके जूते इतने पुराने थे कि उनमें से उसकी ऊँगलियाँ निकल रहीं थीं।\\nIf it had not been for her help, you would never have done it.\\tउसकी मदद के बिना तुम नहीं कर पाते।\\nInstead of cleaning the house today, I think I\\'ll take a walk.\\tमैं आज घर साफ़ करने के बजाय सैर करने जाऊँगी।\\nIt has been raining on and off since the day before yesterday.\\tपरसों से बारिश रुक रुक के हो रही है।\\nIt will take me no less than 10 hours to prepare for the exam.\\tमुझे परीक्षा की तैयारी करने के लिए कम-से-कम दस घंटे लगेंगे।\\nMary resembles her mother in appearance, but not in character.\\tमेरी दिखने में तो अपनी माँ की तरह है पर चरित्र में अलग है।\\nThis morning the weather was so bad that I had to take a taxi.\\tआज सुबह मौसम इतना खराब था कि मुझे टैक्सी लेनी पड़ी।\\nWhen he is in trouble, he always turns to his sister for help.\\tजब वह मुश्किलों में पड़ता है, वह हमेशा अपनी बहन से मदद माँगता है।\\nHow long has it been since you gave up teaching at that school?\\tतुम्हे स्कूल में पढ़ाना छोड़े हुए कितना समय हो गया है?\\nI don\\'t think I shall get through all this work this afternoon.\\tमुझे नहीं लगता मैं इतना सारा काम इस दोपहर को खतम कर पाऊँगा।\\nI missed my stop. How long does it take to reach the next stop?\\tमेरा स्टॉप छूट गया। अगला स्टॉप कितनी देर में आएगा?\\nTo investigate the incident would take us at least three weeks.\\tहमको इस घटना की तहकीकात करने में कम-से-कम तीन हफ़्ते लगेंगे।\\nThe older you are, the more difficult it is to learn a language.\\tतुम्हारी उम्र जितनी बड़ी होती है, तुम्हारे लिए कोई भाषा सीखना उतना ही कठिन होता है।\\nElectric power companies are seeking to reduce their use of coal.\\tबिजली कम्पनियाँ कोयले का इस्तेमाल कम करने की कोशिश कर रही हैं।\\nIt is not till we lose our health that we realize its true value.\\tहम जब तक अपना स्वास्थ्य नहीं खो देते हैं तब तक उसकी असली कीमत नहीं पहचानते हैं।\\nIt is not till we lose our health that we realize its true value.\\tहम जब तक अपनी सेहत नहीं खो देते हैं, हमे तब तक उसकी असली कीमत नहीं पहचानते हैं।\\nShe wanted to have her hair cut, but her mother wouldn\\'t let her.\\tवह अपने बाल कटवाना चाह्ती थी, पर उसकी मम्मी राज़ी नहीं थी।\\nYou might as well read a novel instead of staring at the ceiling.\\tछत पर घूरने के बजाए उपन्यास ही पढ़लो।\\nDon\\'t you think the air conditioner is turned up too high in here?\\tतम्हें नहीं लगता कि एसी कुछ ज़्यादा ही तेज़ चल रहा है?\\nIt will not make much difference whether you go today or tomorrow.\\tतुम आज जाओ या कल, इससे ज़्यादा फ़र्क नहीं पड़ेगा।\\nThe boy gathered a handful of peanuts and put them in a small box.\\tउस लड़के ने एक मुट्ठीभर मूँगफलियाँ लीं और उन्हें एक छोटे से डब्बे में डाल दिया।\\nThere\\'s a rumor in the air that the firm is going into bankruptcy.\\tहवा में एक अफ़वाह है कि उस कारोबार का दिवालिया होने वाला है।\\nWhen you leave the room, please make sure you turn off the lights.\\tकमरे से निकलने से पहले, कृपया बत्तियाँ बंद कर दीजिएगा।\\nIf Tom doesn\\'t help us, we\\'ll never be able to finish this on time.\\tअगर टॉम हमारी मदद नहीं करेगा तो हम ये समय पर कभी नहीं कर पायेंगे।\\nYou must not be afraid of making mistakes when learning a language.\\tकोई भी नई भाषा सीखने में ग़लतियों से डरना नहीं चहिए।\\nIf you have a time, could you translate some sentences below, please?\\tअगर आपके पास थोड़ा समय हो, तो कृपया निम्न वाक्यों का अनुवाद करेंगे?\\nMany people around the world don\\'t have access to good quality water.\\tदुनिया भर में बहुत से लोगों को अच्छा पानी उपलब्ध नहीं है।\\nThe company gave him a gold watch in acknowledgement of his services.\\tकम्पनी ने उसकी सेवाओं की पहचान में उसे सोनी की घड़ी दी।\\nShe cut the cake into six pieces and gave one to each of the children.\\tउसने केक को छः टुकड़ो में काट कर, हर बच्चे हो एक टुकड़ा दिया।\\nThe twin girls are so much alike that I can\\'t tell one from the other.\\tजुड़वा बहनें एक-दूसरे से इतनी मिलती-जुलतीं हैं कि मैं उनमें फ़र्क नहीं बता सकती।\\nI make it a practice to help my brother with his homework after supper.\\tमुझे रात को खाना खाने के बाद अपने भाई को उसके होमवर्क के साथ मदद करने की आदत है।\\nInstead of laying off these workers, why don\\'t we just cut their hours?\\tइन कर्मचारियों को नौकरी से निकालने की बजाय क्यों न हम इनके काम करना का समय कम करदें?\\nOur parents took care of us and now it\\'s our turn to take care of them.\\tहमारे माता-पिता ने हमारी देखभाल की थी और अभ हमारी बारी है उनकी देखभाल करने की।\\nThe thieves pulled open all the drawers of the desk in search of money.\\tचोरों ने पैसे ढूँढने के लिए मेज़ की सारी दराज़ें खोल डालीं।\\nI learned to drive a car and got a driver\\'s license when I was eighteen.\\tजब मैं अठारह साल का था मैंने गाड़ी चलानी सीखी और लाईसेंस बनवालिया।\\nFather kept in touch with us by mail and telephone while he was overseas.\\tजब पिताजी विदेश में थे, वे हमारे साथ चिट्ठी और फ़ोन से सम्पर्क करते थे।\\nMother Teresa was a Catholic nun who lived and worked in Calcutta, India.\\tमदर टेरेसा एक कैथोलिक नन थीं जो कलकत्ता में रहतीं और काम करतीं थीं।\\nGeorge Washington was the first president of the Unites States of America.\\tजार्ज वाशिंगटन संयुक्त राज्य अमेरिका के पहले राष्ट्रपति थे\\nIn 1951, Sister Teresa was sent to Calcutta, then the largest city in India.\\t१९५१ में सिस्टर टेरेसा को कलकत्ता भेजा गया था, जो उस समय भारत का सबसे बड़ा शहर था।\\nMother Teresa used the prize money for her work in India and around the world.\\tमदर टेरेसा को जो इनाम में पैसे मिले, उन्होंने उन पैसों को भारत और विदोश दोनों में अपने काम में लगाया।\\nIf you go to that supermarket, you can buy most things you use in your daily life.\\tउस सूपरमार्केट में तुम लगभग कोई भी रोजाने में इस्तेमाल होने वाला सामान ख़रीद सकते हो।\\nThe passengers who were injured in the accident were taken to the nearest hospital.\\tजिन यात्रियों को दुर्घटना मे चोट आई थी उन्हे अस्पताल ले जाया गया।\\nDemocracy is the worst form of government, except all the others that have been tried.\\tलोकतंत्र सरकार का सबसे घिनौना रूप है, अगर बाकी सारी तरह की सरकारों को अंदेखा किया जाए तो।\\nIf my boy had not been killed in the traffic accident, he would be a college student now.\\tअगर मेरा बेटा ट्रेफ़िक हादसे में नहीं मारा गया होता, तो वह अभी कॉलेज जा रहा होता।\\nWhen I was a kid, touching bugs didn\\'t bother me a bit. Now I can hardly stand looking at pictures of them.\\tजब मैं बच्चा था, मुझे कीड़ों को छूने से कोई परेशानी नहीं होती थी, पर अब मैं उनकी तस्वीरें देखना भी बर्दाश्त नहीं कर सकता।\\nMake a good translation of the sentence that you are translating. Don\\'t let translations into other languages influence you.\\tआप जिस वाक्य का अनुवाद कर रहे हैं, उस ही का अच्छी तरह से अनुवाद करें। दूसरी भाषाओं के अनुवादों से प्रभावित न होने दें।\\n'"
      ]
     },
     "execution_count": 5,
     "metadata": {},
     "output_type": "execute_result"
    }
   ],
   "source": [
    "data"
   ]
  },
  {
   "cell_type": "code",
   "execution_count": 6,
   "metadata": {
    "colab": {
     "autoexec": {
      "startup": false,
      "wait_interval": 0
     }
    },
    "colab_type": "code",
    "id": "0pCOcxYN8tcD"
   },
   "outputs": [],
   "source": [
    "data =  data.split('\\n')"
   ]
  },
  {
   "cell_type": "code",
   "execution_count": 7,
   "metadata": {
    "colab": {
     "autoexec": {
      "startup": false,
      "wait_interval": 0
     }
    },
    "colab_type": "code",
    "id": "Zu5bC2OK7ly5"
   },
   "outputs": [
    {
     "data": {
      "text/plain": [
       "2868"
      ]
     },
     "execution_count": 7,
     "metadata": {},
     "output_type": "execute_result"
    }
   ],
   "source": [
    "len(data)"
   ]
  },
  {
   "cell_type": "code",
   "execution_count": 8,
   "metadata": {
    "colab": {
     "autoexec": {
      "startup": false,
      "wait_interval": 0
     }
    },
    "colab_type": "code",
    "id": "vddBlWzORWYk"
   },
   "outputs": [
    {
     "data": {
      "text/plain": [
       "[\"I don't know.\\tमुझे नहीं मालूम।\",\n",
       " 'I have a car.\\tमेरे पास एक गाड़ी है।',\n",
       " 'I have a dog.\\tमेरे पास एक कुत्ता है।',\n",
       " 'I understand.\\tमैं समझता हूँ।',\n",
       " \"I'm a doctor.\\tमैं डॉक्टर हूँ।\"]"
      ]
     },
     "execution_count": 8,
     "metadata": {},
     "output_type": "execute_result"
    }
   ],
   "source": [
    "data[100:105]"
   ]
  },
  {
   "cell_type": "markdown",
   "metadata": {
    "colab_type": "text",
    "id": "1Qju7Jty2oUj"
   },
   "source": [
    "Review the data"
   ]
  },
  {
   "cell_type": "markdown",
   "metadata": {
    "colab_type": "text",
    "id": "gpU9MUMx2oUp"
   },
   "source": [
    "### 1.2 Separate out Encoder and Decoder input data"
   ]
  },
  {
   "cell_type": "code",
   "execution_count": 9,
   "metadata": {
    "colab": {
     "autoexec": {
      "startup": false,
      "wait_interval": 0
     }
    },
    "colab_type": "code",
    "id": "RN3q2mm42oUp"
   },
   "outputs": [],
   "source": [
    "encoder_text = []"
   ]
  },
  {
   "cell_type": "code",
   "execution_count": 10,
   "metadata": {
    "colab": {
     "autoexec": {
      "startup": false,
      "wait_interval": 0
     }
    },
    "colab_type": "code",
    "id": "V6TdW_s22oUs"
   },
   "outputs": [],
   "source": [
    "decoder_text = []"
   ]
  },
  {
   "cell_type": "code",
   "execution_count": 11,
   "metadata": {
    "colab": {
     "autoexec": {
      "startup": false,
      "wait_interval": 0
     }
    },
    "colab_type": "code",
    "id": "rfWDMX2q2oUu"
   },
   "outputs": [],
   "source": [
    "for line in data:\n",
    "    try:\n",
    "        in_txt, out_txt = line.split('\\t')\n",
    "        encoder_text.append(in_txt)\n",
    "        \n",
    "        # Add tab '<start>' as 'start sequence in target\n",
    "        # And '<end>' as End\n",
    "        decoder_text.append('<start> ' + out_txt + ' <end>')\n",
    "    except:\n",
    "        pass #ignore data which goes into error        "
   ]
  },
  {
   "cell_type": "code",
   "execution_count": 12,
   "metadata": {
    "colab": {
     "autoexec": {
      "startup": false,
      "wait_interval": 0
     }
    },
    "colab_type": "code",
    "id": "EEMPoLsH2oUw"
   },
   "outputs": [
    {
     "data": {
      "text/plain": [
       "['<start> मुझे नहीं मालूम। <end>',\n",
       " '<start> मेरे पास एक गाड़ी है। <end>',\n",
       " '<start> मेरे पास एक कुत्ता है। <end>',\n",
       " '<start> मैं समझता हूँ। <end>',\n",
       " '<start> मैं डॉक्टर हूँ। <end>']"
      ]
     },
     "execution_count": 12,
     "metadata": {},
     "output_type": "execute_result"
    }
   ],
   "source": [
    "decoder_text[100:105]"
   ]
  },
  {
   "cell_type": "code",
   "execution_count": 13,
   "metadata": {
    "colab": {
     "autoexec": {
      "startup": false,
      "wait_interval": 0
     }
    },
    "colab_type": "code",
    "id": "f0A7ThBD2oUz"
   },
   "outputs": [
    {
     "data": {
      "text/plain": [
       "[\"I don't know.\",\n",
       " 'I have a car.',\n",
       " 'I have a dog.',\n",
       " 'I understand.',\n",
       " \"I'm a doctor.\"]"
      ]
     },
     "execution_count": 13,
     "metadata": {},
     "output_type": "execute_result"
    }
   ],
   "source": [
    "encoder_text[100:105]"
   ]
  },
  {
   "cell_type": "markdown",
   "metadata": {
    "colab_type": "text",
    "id": "T_INkpPE2oU2"
   },
   "source": [
    "### 1.3 Build Sequences for Encoder and Decoder Input"
   ]
  },
  {
   "cell_type": "code",
   "execution_count": 14,
   "metadata": {
    "colab": {
     "autoexec": {
      "startup": false,
      "wait_interval": 0
     }
    },
    "colab_type": "code",
    "id": "AzgIJwqZ2oU3"
   },
   "outputs": [],
   "source": [
    "from tensorflow.python.keras.preprocessing.text import Tokenizer"
   ]
  },
  {
   "cell_type": "markdown",
   "metadata": {
    "colab_type": "text",
    "id": "FGUFyI452oU5"
   },
   "source": [
    "Encoder tokenizer"
   ]
  },
  {
   "cell_type": "code",
   "execution_count": 15,
   "metadata": {
    "colab": {
     "autoexec": {
      "startup": false,
      "wait_interval": 0
     }
    },
    "colab_type": "code",
    "id": "kzg86E_h2oU5"
   },
   "outputs": [],
   "source": [
    "encoder_t = Tokenizer()"
   ]
  },
  {
   "cell_type": "code",
   "execution_count": 16,
   "metadata": {
    "colab": {
     "autoexec": {
      "startup": false,
      "wait_interval": 0
     }
    },
    "colab_type": "code",
    "id": "eh0Ou8x92oU8"
   },
   "outputs": [],
   "source": [
    "encoder_t.fit_on_texts(encoder_text)"
   ]
  },
  {
   "cell_type": "code",
   "execution_count": 17,
   "metadata": {
    "colab": {
     "autoexec": {
      "startup": false,
      "wait_interval": 0
     }
    },
    "colab_type": "code",
    "id": "1VczEXUy2oU_"
   },
   "outputs": [],
   "source": [
    "encoder_seq = encoder_t.texts_to_sequences(encoder_text)"
   ]
  },
  {
   "cell_type": "code",
   "execution_count": 18,
   "metadata": {
    "colab": {
     "autoexec": {
      "startup": false,
      "wait_interval": 0
     }
    },
    "colab_type": "code",
    "id": "pgUJ7WSz2oVC"
   },
   "outputs": [],
   "source": [
    "max_encoder_seq_length = max([len(txt) for txt in encoder_seq])"
   ]
  },
  {
   "cell_type": "code",
   "execution_count": 19,
   "metadata": {
    "colab": {
     "autoexec": {
      "startup": false,
      "wait_interval": 0
     }
    },
    "colab_type": "code",
    "id": "ycdr_8ZF2oVE"
   },
   "outputs": [
    {
     "data": {
      "text/plain": [
       "22"
      ]
     },
     "execution_count": 19,
     "metadata": {},
     "output_type": "execute_result"
    }
   ],
   "source": [
    "max_encoder_seq_length"
   ]
  },
  {
   "cell_type": "code",
   "execution_count": 20,
   "metadata": {
    "colab": {
     "autoexec": {
      "startup": false,
      "wait_interval": 0
     }
    },
    "colab_type": "code",
    "id": "3yQrwZcz2oVI"
   },
   "outputs": [],
   "source": [
    "encoder_vocab_size = len(encoder_t.word_index)"
   ]
  },
  {
   "cell_type": "code",
   "execution_count": 21,
   "metadata": {
    "colab": {
     "autoexec": {
      "startup": false,
      "wait_interval": 0
     }
    },
    "colab_type": "code",
    "id": "ysng0igB2oVK"
   },
   "outputs": [
    {
     "data": {
      "text/plain": [
       "2404"
      ]
     },
     "execution_count": 21,
     "metadata": {},
     "output_type": "execute_result"
    }
   ],
   "source": [
    "encoder_vocab_size"
   ]
  },
  {
   "cell_type": "code",
   "execution_count": 22,
   "metadata": {
    "colab": {
     "autoexec": {
      "startup": false,
      "wait_interval": 0
     }
    },
    "colab_type": "code",
    "id": "cvRxfJKdSz5w"
   },
   "outputs": [
    {
     "data": {
      "text/plain": [
       "[\"I don't know.\",\n",
       " 'I have a car.',\n",
       " 'I have a dog.',\n",
       " 'I understand.',\n",
       " \"I'm a doctor.\"]"
      ]
     },
     "execution_count": 22,
     "metadata": {},
     "output_type": "execute_result"
    }
   ],
   "source": [
    "encoder_text[100:105]"
   ]
  },
  {
   "cell_type": "code",
   "execution_count": 23,
   "metadata": {
    "colab": {
     "autoexec": {
      "startup": false,
      "wait_interval": 0
     }
    },
    "colab_type": "code",
    "id": "AM4-L-IOSncW"
   },
   "outputs": [
    {
     "data": {
      "text/plain": [
       "[[2, 28, 43], [2, 12, 6, 100], [2, 12, 6, 130], [2, 213], [38, 6, 153]]"
      ]
     },
     "execution_count": 23,
     "metadata": {},
     "output_type": "execute_result"
    }
   ],
   "source": [
    "encoder_seq[100:105]"
   ]
  },
  {
   "cell_type": "markdown",
   "metadata": {
    "colab_type": "text",
    "id": "SxRm7g5_2oVO"
   },
   "source": [
    "Decoder tokenizer"
   ]
  },
  {
   "cell_type": "code",
   "execution_count": 24,
   "metadata": {
    "colab": {
     "autoexec": {
      "startup": false,
      "wait_interval": 0
     }
    },
    "colab_type": "code",
    "id": "qX3ALB6d2oVP"
   },
   "outputs": [],
   "source": [
    "decoder_t = Tokenizer(filters='!\"#$%&()*+,-./:;=?@[\\\\]^_`{|}~\\t\\n')"
   ]
  },
  {
   "cell_type": "code",
   "execution_count": 25,
   "metadata": {
    "colab": {
     "autoexec": {
      "startup": false,
      "wait_interval": 0
     }
    },
    "colab_type": "code",
    "id": "d1AGCzWs2oVT"
   },
   "outputs": [],
   "source": [
    "decoder_t.fit_on_texts(decoder_text)"
   ]
  },
  {
   "cell_type": "code",
   "execution_count": 26,
   "metadata": {
    "colab": {
     "autoexec": {
      "startup": false,
      "wait_interval": 0
     }
    },
    "colab_type": "code",
    "id": "1zWovfgB2oVa"
   },
   "outputs": [],
   "source": [
    "decoder_seq = decoder_t.texts_to_sequences(decoder_text)"
   ]
  },
  {
   "cell_type": "code",
   "execution_count": 27,
   "metadata": {
    "colab": {
     "autoexec": {
      "startup": false,
      "wait_interval": 0
     }
    },
    "colab_type": "code",
    "id": "9xHVbCk_2oVc"
   },
   "outputs": [],
   "source": [
    "max_decoder_seq_length = max([len(txt) for txt in decoder_seq])"
   ]
  },
  {
   "cell_type": "code",
   "execution_count": 28,
   "metadata": {
    "colab": {
     "autoexec": {
      "startup": false,
      "wait_interval": 0
     }
    },
    "colab_type": "code",
    "id": "l4tIpef02oVe"
   },
   "outputs": [
    {
     "data": {
      "text/plain": [
       "27"
      ]
     },
     "execution_count": 28,
     "metadata": {},
     "output_type": "execute_result"
    }
   ],
   "source": [
    "max_decoder_seq_length"
   ]
  },
  {
   "cell_type": "code",
   "execution_count": 29,
   "metadata": {
    "colab": {
     "autoexec": {
      "startup": false,
      "wait_interval": 0
     }
    },
    "colab_type": "code",
    "id": "3IWtCcE42oVh"
   },
   "outputs": [],
   "source": [
    "decoder_vocab_size = len(decoder_t.word_index)"
   ]
  },
  {
   "cell_type": "code",
   "execution_count": 30,
   "metadata": {
    "colab": {
     "autoexec": {
      "startup": false,
      "wait_interval": 0
     }
    },
    "colab_type": "code",
    "id": "nfxwsKKr2oVj"
   },
   "outputs": [
    {
     "data": {
      "text/plain": [
       "3009"
      ]
     },
     "execution_count": 30,
     "metadata": {},
     "output_type": "execute_result"
    }
   ],
   "source": [
    "decoder_vocab_size"
   ]
  },
  {
   "cell_type": "code",
   "execution_count": 31,
   "metadata": {
    "colab": {
     "autoexec": {
      "startup": false,
      "wait_interval": 0
     }
    },
    "colab_type": "code",
    "id": "NaywgIDQTOkz"
   },
   "outputs": [
    {
     "data": {
      "text/plain": [
       "['<start> मुझे नहीं मालूम। <end>',\n",
       " '<start> मेरे पास एक गाड़ी है। <end>',\n",
       " '<start> मेरे पास एक कुत्ता है। <end>',\n",
       " '<start> मैं समझता हूँ। <end>',\n",
       " '<start> मैं डॉक्टर हूँ। <end>']"
      ]
     },
     "execution_count": 31,
     "metadata": {},
     "output_type": "execute_result"
    }
   ],
   "source": [
    "decoder_text[100:105]"
   ]
  },
  {
   "cell_type": "code",
   "execution_count": 32,
   "metadata": {
    "colab": {
     "autoexec": {
      "startup": false,
      "wait_interval": 0
     }
    },
    "colab_type": "code",
    "id": "CRnT4mPaTSOH"
   },
   "outputs": [
    {
     "data": {
      "text/plain": [
       "[[1, 12, 5, 1499, 2],\n",
       " [1, 28, 40, 21, 106, 3, 2],\n",
       " [1, 28, 40, 21, 208, 3, 2],\n",
       " [1, 6, 779, 19, 2],\n",
       " [1, 6, 186, 19, 2]]"
      ]
     },
     "execution_count": 32,
     "metadata": {},
     "output_type": "execute_result"
    }
   ],
   "source": [
    "decoder_seq[100:105]"
   ]
  },
  {
   "cell_type": "markdown",
   "metadata": {
    "colab_type": "text",
    "id": "OOkCZLP02oVp"
   },
   "source": [
    "### 1.4 Padding Sequences"
   ]
  },
  {
   "cell_type": "code",
   "execution_count": 33,
   "metadata": {
    "colab": {
     "autoexec": {
      "startup": false,
      "wait_interval": 0
     }
    },
    "colab_type": "code",
    "id": "7sK7hzn62oVq"
   },
   "outputs": [],
   "source": [
    "from tensorflow.python.keras.preprocessing.sequence import pad_sequences"
   ]
  },
  {
   "cell_type": "code",
   "execution_count": 34,
   "metadata": {
    "colab": {
     "autoexec": {
      "startup": false,
      "wait_interval": 0
     }
    },
    "colab_type": "code",
    "id": "6SSPgzlg2oVu"
   },
   "outputs": [],
   "source": [
    "encoder_input_data = pad_sequences(encoder_seq, maxlen=max_encoder_seq_length, padding='pre')"
   ]
  },
  {
   "cell_type": "code",
   "execution_count": 35,
   "metadata": {
    "colab": {
     "autoexec": {
      "startup": false,
      "wait_interval": 0
     }
    },
    "colab_type": "code",
    "id": "Du2xjQhm2oVy"
   },
   "outputs": [],
   "source": [
    "decoder_input_data = pad_sequences(decoder_seq, maxlen=max_decoder_seq_length, padding='post')"
   ]
  },
  {
   "cell_type": "code",
   "execution_count": 36,
   "metadata": {
    "colab": {
     "autoexec": {
      "startup": false,
      "wait_interval": 0
     }
    },
    "colab_type": "code",
    "id": "ukutQ_Ra2oV1"
   },
   "outputs": [
    {
     "data": {
      "text/plain": [
       "(2867, 22)"
      ]
     },
     "execution_count": 36,
     "metadata": {},
     "output_type": "execute_result"
    }
   ],
   "source": [
    "encoder_input_data.shape"
   ]
  },
  {
   "cell_type": "code",
   "execution_count": 37,
   "metadata": {
    "colab": {
     "autoexec": {
      "startup": false,
      "wait_interval": 0
     }
    },
    "colab_type": "code",
    "id": "DE3Lt9xT2oV6"
   },
   "outputs": [
    {
     "data": {
      "text/plain": [
       "(2867, 27)"
      ]
     },
     "execution_count": 37,
     "metadata": {},
     "output_type": "execute_result"
    }
   ],
   "source": [
    "decoder_input_data.shape"
   ]
  },
  {
   "cell_type": "markdown",
   "metadata": {
    "colab_type": "text",
    "id": "W0hWqo3K2oV8"
   },
   "source": [
    "Integer to Word converter for Decoder data"
   ]
  },
  {
   "cell_type": "code",
   "execution_count": 38,
   "metadata": {
    "colab": {
     "autoexec": {
      "startup": false,
      "wait_interval": 0
     }
    },
    "colab_type": "code",
    "id": "7rCcWv8pAgEt"
   },
   "outputs": [
    {
     "data": {
      "text/plain": [
       "{'<start>': 1,\n",
       " '<end>': 2,\n",
       " 'है।': 3,\n",
       " 'में': 4,\n",
       " 'नहीं': 5,\n",
       " 'मैं': 6,\n",
       " 'वह': 7,\n",
       " 'से': 8,\n",
       " 'क्या': 9,\n",
       " 'है': 10,\n",
       " 'के': 11,\n",
       " 'मुझे': 12,\n",
       " 'को': 13,\n",
       " 'हैं।': 14,\n",
       " 'की': 15,\n",
       " 'हो': 16,\n",
       " 'बहुत': 17,\n",
       " 'का': 18,\n",
       " 'हूँ।': 19,\n",
       " 'उसने': 20,\n",
       " 'एक': 21,\n",
       " 'पर': 22,\n",
       " 'तुम': 23,\n",
       " 'था।': 24,\n",
       " 'यह': 25,\n",
       " 'कर': 26,\n",
       " 'लिए': 27,\n",
       " 'मेरे': 28,\n",
       " 'कि': 29,\n",
       " 'उसे': 30,\n",
       " 'और': 31,\n",
       " 'इस': 32,\n",
       " 'हैं': 33,\n",
       " 'भी': 34,\n",
       " 'अपने': 35,\n",
       " 'मैंने': 36,\n",
       " 'मेरी': 37,\n",
       " 'रहा': 38,\n",
       " 'ने': 39,\n",
       " 'पास': 40,\n",
       " 'तो': 41,\n",
       " 'करने': 42,\n",
       " 'कल': 43,\n",
       " 'ही': 44,\n",
       " 'हम': 45,\n",
       " 'अपनी': 46,\n",
       " 'काम': 47,\n",
       " 'गया।': 48,\n",
       " 'उसकी': 49,\n",
       " 'उसके': 50,\n",
       " 'कोई': 51,\n",
       " 'तुम्हें': 52,\n",
       " 'तुम्हारे': 53,\n",
       " 'था': 54,\n",
       " 'उस': 55,\n",
       " 'मेरा': 56,\n",
       " 'साथ': 57,\n",
       " 'घर': 58,\n",
       " 'करना': 59,\n",
       " 'सकते': 60,\n",
       " 'थी।': 61,\n",
       " 'गया': 62,\n",
       " 'समय': 63,\n",
       " 'बात': 64,\n",
       " 'आप': 65,\n",
       " 'पता': 66,\n",
       " 'रही': 67,\n",
       " 'कुछ': 68,\n",
       " 'अभी': 69,\n",
       " 'बजे': 70,\n",
       " 'यहाँ': 71,\n",
       " 'उसको': 72,\n",
       " 'आज': 73,\n",
       " 'लगता': 74,\n",
       " 'तक': 75,\n",
       " 'तुम्हे': 76,\n",
       " 'चाहिए।': 77,\n",
       " 'किताब': 78,\n",
       " 'मुझसे': 79,\n",
       " 'अच्छा': 80,\n",
       " 'अपना': 81,\n",
       " 'दिया।': 82,\n",
       " 'सकता': 83,\n",
       " 'मत': 84,\n",
       " 'पसंद': 85,\n",
       " 'रहे': 86,\n",
       " 'उससे': 87,\n",
       " 'थे।': 88,\n",
       " 'कभी': 89,\n",
       " 'आ': 90,\n",
       " 'हुई': 91,\n",
       " 'न': 92,\n",
       " 'दो': 93,\n",
       " 'टॉम': 94,\n",
       " 'हूँ': 95,\n",
       " 'होता': 96,\n",
       " 'भारत': 97,\n",
       " 'किया।': 98,\n",
       " 'वे': 99,\n",
       " 'जाने': 100,\n",
       " 'करता': 101,\n",
       " 'हो।': 102,\n",
       " 'अंग्रेज़ी': 103,\n",
       " 'हुआ': 104,\n",
       " 'पैसे': 105,\n",
       " 'गाड़ी': 106,\n",
       " 'मदद': 107,\n",
       " 'करते': 108,\n",
       " 'उसका': 109,\n",
       " 'साल': 110,\n",
       " 'हुए': 111,\n",
       " 'पहले': 112,\n",
       " 'ज़्यादा': 113,\n",
       " 'जो': 114,\n",
       " 'होगा।': 115,\n",
       " 'कहाँ': 116,\n",
       " 'होती': 117,\n",
       " 'किया': 118,\n",
       " 'सारे': 119,\n",
       " 'जा': 120,\n",
       " 'जाना': 121,\n",
       " 'तुम्हारी': 122,\n",
       " 'आदमी': 123,\n",
       " 'गए': 124,\n",
       " 'वापस': 125,\n",
       " 'आपको': 126,\n",
       " 'किसी': 127,\n",
       " 'बार': 128,\n",
       " 'कम': 129,\n",
       " 'देर': 130,\n",
       " 'जब': 131,\n",
       " 'गई।': 132,\n",
       " 'बारे': 133,\n",
       " 'दिन': 134,\n",
       " 'अगर': 135,\n",
       " 'बाहर': 136,\n",
       " 'बड़ा': 137,\n",
       " 'वहाँ': 138,\n",
       " 'तुमने': 139,\n",
       " 'दिया': 140,\n",
       " 'हमेशा': 141,\n",
       " 'हमारे': 142,\n",
       " 'जल्दी': 143,\n",
       " 'फ़ोन': 144,\n",
       " 'सब': 145,\n",
       " 'खाना': 146,\n",
       " 'जाता': 147,\n",
       " 'बंद': 148,\n",
       " 'ये': 149,\n",
       " 'क्यों': 150,\n",
       " 'तरह': 151,\n",
       " 'करो।': 152,\n",
       " 'कितने': 153,\n",
       " 'रात': 154,\n",
       " 'दी।': 155,\n",
       " 'बच्चे': 156,\n",
       " 'देखा': 157,\n",
       " 'हमने': 158,\n",
       " 'बारिश': 159,\n",
       " 'जवाब': 160,\n",
       " 'तुमसे': 161,\n",
       " 'सकता।': 162,\n",
       " 'लोग': 163,\n",
       " 'हमे': 164,\n",
       " 'चाहता': 165,\n",
       " 'दस': 166,\n",
       " 'छोड़': 167,\n",
       " 'लोगों': 168,\n",
       " 'ठीक': 169,\n",
       " 'आता': 170,\n",
       " 'कैसे': 171,\n",
       " 'थे': 172,\n",
       " 'हर': 173,\n",
       " 'उन्होंने': 174,\n",
       " 'स्कूल': 175,\n",
       " 'पापा': 176,\n",
       " 'चला': 177,\n",
       " 'खुश': 178,\n",
       " 'खतम': 179,\n",
       " 'अब': 180,\n",
       " 'देखा।': 181,\n",
       " 'मुश्किल': 182,\n",
       " 'गए।': 183,\n",
       " 'अच्छी': 184,\n",
       " 'तीन': 185,\n",
       " 'डॉक्टर': 186,\n",
       " 'मौसम': 187,\n",
       " 'चल': 188,\n",
       " 'माँ': 189,\n",
       " 'शुरू': 190,\n",
       " 'पानी': 191,\n",
       " 'पिता': 192,\n",
       " 'होने': 193,\n",
       " 'करती': 194,\n",
       " 'कोशिश': 195,\n",
       " 'अच्छे': 196,\n",
       " 'दोस्त': 197,\n",
       " 'नहीं।': 198,\n",
       " 'रहता': 199,\n",
       " 'कब': 200,\n",
       " 'हमारी': 201,\n",
       " 'पाँच': 202,\n",
       " 'सारी': 203,\n",
       " 'ट्रेन': 204,\n",
       " 'सबसे': 205,\n",
       " 'या': 206,\n",
       " 'चिट्ठी': 207,\n",
       " 'कुत्ता': 208,\n",
       " 'गई': 209,\n",
       " 'कमरे': 210,\n",
       " 'भाई': 211,\n",
       " 'जल्द': 212,\n",
       " 'लिया।': 213,\n",
       " 'थोड़ी': 214,\n",
       " 'करनी': 215,\n",
       " 'थोड़ा': 216,\n",
       " 'दो।': 217,\n",
       " 'थक': 218,\n",
       " 'ले': 219,\n",
       " 'साफ़': 220,\n",
       " 'यकीन': 221,\n",
       " 'फिरसे': 222,\n",
       " 'बस': 223,\n",
       " 'तुम्हारा': 224,\n",
       " 'जापान': 225,\n",
       " 'मन': 226,\n",
       " 'लड़की': 227,\n",
       " 'कहा': 228,\n",
       " 'जाती': 229,\n",
       " 'चाहते': 230,\n",
       " 'छः': 231,\n",
       " 'देना': 232,\n",
       " 'बिना': 233,\n",
       " 'सुबह': 234,\n",
       " 'दोनो': 235,\n",
       " 'जन्मदिन': 236,\n",
       " 'वाला': 237,\n",
       " 'नाम': 238,\n",
       " 'नौकरी': 239,\n",
       " 'टीवी': 240,\n",
       " 'बाद': 241,\n",
       " 'करी।': 242,\n",
       " 'महीने': 243,\n",
       " 'वजह': 244,\n",
       " 'माफ़': 245,\n",
       " 'चुका': 246,\n",
       " 'प्यार': 247,\n",
       " 'आने': 248,\n",
       " 'सभी': 249,\n",
       " 'शहर': 250,\n",
       " 'आपकी': 251,\n",
       " 'पढ़': 252,\n",
       " 'आवाज़': 253,\n",
       " 'रोज़': 254,\n",
       " 'मिलने': 255,\n",
       " 'पीछे': 256,\n",
       " 'रहते': 257,\n",
       " 'पिताजी': 258,\n",
       " 'जाएगा।': 259,\n",
       " 'शादी': 260,\n",
       " 'लिया': 261,\n",
       " 'किताबें': 262,\n",
       " 'दरवाज़े': 263,\n",
       " 'सच': 264,\n",
       " 'पिछले': 265,\n",
       " 'हफ़्ते': 266,\n",
       " 'दे': 267,\n",
       " 'नदी': 268,\n",
       " 'चाय': 269,\n",
       " 'वाले': 270,\n",
       " 'चाहिए': 271,\n",
       " 'खाने': 272,\n",
       " 'सही': 273,\n",
       " 'कौन': 274,\n",
       " 'ज़रूरत': 275,\n",
       " 'सोच': 276,\n",
       " 'मुझपर': 277,\n",
       " 'इनसान': 278,\n",
       " 'विदेश': 279,\n",
       " 'पूरी': 280,\n",
       " 'हाथ': 281,\n",
       " 'जानता': 282,\n",
       " 'बड़े': 283,\n",
       " 'हुआ।': 284,\n",
       " 'बहन': 285,\n",
       " 'टीचर': 286,\n",
       " 'दूसरे': 287,\n",
       " 'होते': 288,\n",
       " 'देख': 289,\n",
       " 'आपके': 290,\n",
       " 'मेज़': 291,\n",
       " 'इन': 292,\n",
       " 'लगा': 293,\n",
       " 'आमतौर': 294,\n",
       " 'सिगरेट': 295,\n",
       " 'धीरे': 296,\n",
       " 'अगले': 297,\n",
       " 'बच्चों': 298,\n",
       " 'लगी': 299,\n",
       " 'ग़लत': 300,\n",
       " 'कृपया': 301,\n",
       " 'थी': 302,\n",
       " 'चीज़': 303,\n",
       " 'तैयार': 304,\n",
       " 'उम्र': 305,\n",
       " 'लड़के': 306,\n",
       " 'इंतेज़ार': 307,\n",
       " 'इस्तेमाल': 308,\n",
       " 'चलाना': 309,\n",
       " 'खो': 310,\n",
       " 'मिलना': 311,\n",
       " 'होगा': 312,\n",
       " 'सेव': 313,\n",
       " 'कपड़े': 314,\n",
       " 'मिला।': 315,\n",
       " 'इतना': 316,\n",
       " 'उनकी': 317,\n",
       " 'काफ़ी': 318,\n",
       " 'कमरा': 319,\n",
       " 'ना': 320,\n",
       " 'कितनी': 321,\n",
       " 'लगती': 322,\n",
       " 'समझ': 323,\n",
       " 'फ़ायदा': 324,\n",
       " 'उनके': 325,\n",
       " 'अंदर': 326,\n",
       " 'जाओ।': 327,\n",
       " 'आपका': 328,\n",
       " 'भूल': 329,\n",
       " 'आग': 330,\n",
       " 'आया।': 331,\n",
       " 'लग': 332,\n",
       " 'याद': 333,\n",
       " 'हुई।': 334,\n",
       " 'करो': 335,\n",
       " 'आए': 336,\n",
       " 'भरोसा': 337,\n",
       " '।': 338,\n",
       " 'आसान': 339,\n",
       " 'घड़ी': 340,\n",
       " 'जूते': 341,\n",
       " 'सकते।': 342,\n",
       " 'जहाँ': 343,\n",
       " 'स्टेशन': 344,\n",
       " 'लगभग': 345,\n",
       " 'आदत': 346,\n",
       " 'पीना': 347,\n",
       " 'खबर': 348,\n",
       " 'आठ': 349,\n",
       " 'दोपहर': 350,\n",
       " 'लंदन': 351,\n",
       " 'दिनों': 352,\n",
       " 'फ़र्क': 353,\n",
       " 'क्योंकि': 354,\n",
       " 'होगी।': 355,\n",
       " 'दुनिया': 356,\n",
       " 'गाँव': 357,\n",
       " 'कीजिए।': 358,\n",
       " 'भूख': 359,\n",
       " 'कैसा': 360,\n",
       " 'कुत्ते': 361,\n",
       " 'पैसों': 362,\n",
       " 'आराम': 363,\n",
       " 'मज़ाक': 364,\n",
       " 'खुशी': 365,\n",
       " 'करी': 366,\n",
       " 'बन': 367,\n",
       " 'उन': 368,\n",
       " 'जैसा': 369,\n",
       " 'पड़ी।': 370,\n",
       " 'कितना': 371,\n",
       " 'बताया': 372,\n",
       " 'जाकर': 373,\n",
       " 'पुलिस': 374,\n",
       " 'होंगे।': 375,\n",
       " 'पार्टी': 376,\n",
       " 'कॉफ़ी': 377,\n",
       " 'सवाल': 378,\n",
       " 'अक्सर': 379,\n",
       " 'मिल': 380,\n",
       " 'सकती।': 381,\n",
       " 'दवाई': 382,\n",
       " 'सो': 383,\n",
       " 'मम्मी': 384,\n",
       " 'साईकल': 385,\n",
       " 'अकेले': 386,\n",
       " 'सलाह': 387,\n",
       " 'कहना': 388,\n",
       " 'बता': 389,\n",
       " 'चलो': 390,\n",
       " 'तैरना': 391,\n",
       " 'आपसे': 392,\n",
       " 'करूँगा।': 393,\n",
       " 'बीमार': 394,\n",
       " 'मौत': 395,\n",
       " 'देखने': 396,\n",
       " 'संगीत': 397,\n",
       " 'पढ़ाई': 398,\n",
       " 'शायद': 399,\n",
       " 'आया': 400,\n",
       " 'मुलाकात': 401,\n",
       " 'ग़लती': 402,\n",
       " 'चालू': 403,\n",
       " 'ली।': 404,\n",
       " 'सकती': 405,\n",
       " 'विश्वास': 406,\n",
       " 'जितना': 407,\n",
       " 'लम्बा': 408,\n",
       " 'आती': 409,\n",
       " 'कीजिएगा': 410,\n",
       " 'लेना': 411,\n",
       " 'पेड़': 412,\n",
       " 'हमें': 413,\n",
       " 'डब्बे': 414,\n",
       " 'उसपर': 415,\n",
       " 'जान': 416,\n",
       " 'ख़याल': 417,\n",
       " 'रविवार': 418,\n",
       " 'पड़ेगी।': 419,\n",
       " 'रखना': 420,\n",
       " 'बाल': 421,\n",
       " 'ऐसी': 422,\n",
       " 'तेज़': 423,\n",
       " 'बोल': 424,\n",
       " 'राजा': 425,\n",
       " 'काश': 426,\n",
       " 'उन्हें': 427,\n",
       " 'छोटी': 428,\n",
       " 'पुराने': 429,\n",
       " 'ऐसा': 430,\n",
       " 'मर': 431,\n",
       " 'ढूँढ': 432,\n",
       " 'सैर': 433,\n",
       " 'चाह्ता': 434,\n",
       " 'सफ़र': 435,\n",
       " 'समस्या': 436,\n",
       " 'तस्वीर': 437,\n",
       " 'नई': 438,\n",
       " 'सका।': 439,\n",
       " 'बीच': 440,\n",
       " 'अचानक': 441,\n",
       " 'मानो': 442,\n",
       " 'दूर': 443,\n",
       " 'लिखी': 444,\n",
       " 'देने': 445,\n",
       " 'जैसे': 446,\n",
       " 'बर्दाश्त': 447,\n",
       " 'अलग': 448,\n",
       " 'निकल': 449,\n",
       " 'तू': 450,\n",
       " 'दरवाज़ा': 451,\n",
       " 'इसे': 452,\n",
       " 'मछलियाँ': 453,\n",
       " 'हमारा': 454,\n",
       " 'बिस्तर': 455,\n",
       " 'पैर': 456,\n",
       " 'आई': 457,\n",
       " 'पतंग': 458,\n",
       " 'शोर': 459,\n",
       " 'फिर': 460,\n",
       " 'कहानी': 461,\n",
       " 'दर्द': 462,\n",
       " 'विद्यार्थी': 463,\n",
       " 'चोरी': 464,\n",
       " 'आँखें': 465,\n",
       " 'आएगा।': 466,\n",
       " 'पैदा': 467,\n",
       " 'परिवार': 468,\n",
       " 'सुंदर': 469,\n",
       " 'करके': 470,\n",
       " 'चुके': 471,\n",
       " 'अमीर': 472,\n",
       " 'बुरी': 473,\n",
       " 'गर्मी': 474,\n",
       " 'जाए।': 475,\n",
       " 'देखना': 476,\n",
       " 'आसमान': 477,\n",
       " 'लगाकर': 478,\n",
       " 'पढ़ना': 479,\n",
       " 'टोक्यो': 480,\n",
       " 'काट': 481,\n",
       " 'मिला': 482,\n",
       " 'बज': 483,\n",
       " 'दीजिए।': 484,\n",
       " 'रंग': 485,\n",
       " 'अफ़वाह': 486,\n",
       " 'नाप': 487,\n",
       " 'ज़िन्दगी': 488,\n",
       " 'जानवर': 489,\n",
       " 'भाग': 490,\n",
       " 'खाली': 491,\n",
       " 'सात': 492,\n",
       " 'जाऊँगा।': 493,\n",
       " 'अजीब': 494,\n",
       " 'पहुँच': 495,\n",
       " 'सौ': 496,\n",
       " 'देश': 497,\n",
       " 'आसानी': 498,\n",
       " 'डर': 499,\n",
       " 'चीनी': 500,\n",
       " 'टेनिस': 501,\n",
       " 'छोटे': 502,\n",
       " 'दोनों': 503,\n",
       " 'होमवर्क': 504,\n",
       " 'जंगल': 505,\n",
       " 'अध्यापक': 506,\n",
       " 'पीने': 507,\n",
       " 'हवा': 508,\n",
       " 'जाते': 509,\n",
       " 'आना': 510,\n",
       " 'खिड़की': 511,\n",
       " 'दुर्घटना': 512,\n",
       " 'फ़िल्म': 513,\n",
       " 'भूलना।': 514,\n",
       " 'पूरे': 515,\n",
       " 'वादा': 516,\n",
       " 'इसके': 517,\n",
       " 'बजाय': 518,\n",
       " 'सड़क': 519,\n",
       " 'बोली': 520,\n",
       " 'बोलना': 521,\n",
       " 'चीन': 522,\n",
       " 'बड़ी': 523,\n",
       " 'जाएगी।': 524,\n",
       " 'भाषा': 525,\n",
       " 'राजधानी': 526,\n",
       " 'रहना': 527,\n",
       " 'इतने': 528,\n",
       " 'ज़िम्मेदार': 529,\n",
       " 'अंतर': 530,\n",
       " 'बच्चा': 531,\n",
       " 'मशीन': 532,\n",
       " 'वैसा': 533,\n",
       " 'लगते': 534,\n",
       " 'आओ।': 535,\n",
       " 'फ़्रानसीसी': 536,\n",
       " 'लो।': 537,\n",
       " 'फूल': 538,\n",
       " 'लड़का': 539,\n",
       " 'खरीदना': 540,\n",
       " 'आऊँगा।': 541,\n",
       " 'गरम': 542,\n",
       " 'ज़रूरी': 543,\n",
       " 'सुनाई': 544,\n",
       " 'गिटार': 545,\n",
       " 'बिजली': 546,\n",
       " 'बारी': 547,\n",
       " 'रहें': 548,\n",
       " 'खराब': 549,\n",
       " 'सच्चाई': 550,\n",
       " 'जानते': 551,\n",
       " 'रहती': 552,\n",
       " 'किसने': 553,\n",
       " 'सा': 554,\n",
       " 'i': 555,\n",
       " 'छोटा': 556,\n",
       " 'जंग': 557,\n",
       " 'कौनसा': 558,\n",
       " 'पड़ेगा।': 559,\n",
       " 'आओगे': 560,\n",
       " 'गुस्सा': 561,\n",
       " 'बना': 562,\n",
       " 'कामयाब': 563,\n",
       " 'सहमत': 564,\n",
       " 'पीठ': 565,\n",
       " 'फ़ैसला': 566,\n",
       " 'निराश': 567,\n",
       " 'चुकी': 568,\n",
       " 'प्रस्ताव': 569,\n",
       " 'स्वीकार': 570,\n",
       " 'अफ़सर': 571,\n",
       " 'गरीब': 572,\n",
       " 'हमको': 573,\n",
       " 'विज्ञान': 574,\n",
       " 'लम्बी': 575,\n",
       " 'झील': 576,\n",
       " 'परेशान': 577,\n",
       " 'पूरा': 578,\n",
       " 'चहिए।': 579,\n",
       " 'औरत': 580,\n",
       " 'साढ़े': 581,\n",
       " 'बजाना': 582,\n",
       " 'वाली': 583,\n",
       " 'ग़लतियाँ': 584,\n",
       " 'खेलना': 585,\n",
       " 'इससे': 586,\n",
       " 'सामने': 587,\n",
       " 'खड़े': 588,\n",
       " 'लगाया।': 589,\n",
       " 'बीमारी': 590,\n",
       " 'किस': 591,\n",
       " 'कनाडा': 592,\n",
       " 'सीखना': 593,\n",
       " 'डॉलर': 594,\n",
       " 'उठा': 595,\n",
       " 'दिलचस्पी': 596,\n",
       " 'बुराई': 597,\n",
       " 'क्लास': 598,\n",
       " 'दिलचस्प': 599,\n",
       " 'रुक': 600,\n",
       " 'केवल': 601,\n",
       " 'हिसाब': 602,\n",
       " 'आखिरकार': 603,\n",
       " 'नम्बर': 604,\n",
       " 'असली': 605,\n",
       " 'आते': 606,\n",
       " 'सुनकर': 607,\n",
       " 'शौक': 608,\n",
       " 'जहाज़': 609,\n",
       " 'रहने': 610,\n",
       " 'करोगे': 611,\n",
       " 'विषय': 612,\n",
       " 'जितनी': 613,\n",
       " 'स्वास्थ्य': 614,\n",
       " 'पढ़ने': 615,\n",
       " 'पहाड़': 616,\n",
       " 'लिख': 617,\n",
       " 'पाया।': 618,\n",
       " 'अम्रीका': 619,\n",
       " 'देखभाल': 620,\n",
       " 'पा': 621,\n",
       " 'पहचान': 622,\n",
       " 'तब': 623,\n",
       " 'मज़े': 624,\n",
       " 'पेट': 625,\n",
       " 'चलें': 626,\n",
       " 'मत।': 627,\n",
       " 'खड़ा': 628,\n",
       " 'कैसी': 629,\n",
       " 'पता।': 630,\n",
       " 'बरफ़': 631,\n",
       " 'गिर': 632,\n",
       " 'मुफ़्त': 633,\n",
       " 'नीचे': 634,\n",
       " 'उड़': 635,\n",
       " 'कमी': 636,\n",
       " 'इतिहास': 637,\n",
       " 'रहूँगा।': 638,\n",
       " 'भगवान': 639,\n",
       " 'करता।': 640,\n",
       " 'बस्ता': 641,\n",
       " 'पहनी': 642,\n",
       " 'मूँह': 643,\n",
       " 'बक': 644,\n",
       " 'ऊपर': 645,\n",
       " 'लम्बे': 646,\n",
       " 'बोलता': 647,\n",
       " 'आस': 648,\n",
       " 'पड़ोस': 649,\n",
       " 'अप्रैल': 650,\n",
       " 'चाबी': 651,\n",
       " 'लगा।': 652,\n",
       " 'बैंक': 653,\n",
       " 'मिलेंगे।': 654,\n",
       " 'सवालों': 655,\n",
       " 'महसूस': 656,\n",
       " 'दिखने': 657,\n",
       " 'खरीदी।': 658,\n",
       " 'जीत': 659,\n",
       " 'चाहूँगा।': 660,\n",
       " 'रही।': 661,\n",
       " 'चिंता': 662,\n",
       " 'उधार': 663,\n",
       " 'की।': 664,\n",
       " 'योजना': 665,\n",
       " 'खा': 666,\n",
       " 'मछली': 667,\n",
       " 'खुला': 668,\n",
       " 'ग्यारह': 669,\n",
       " 'लाल': 670,\n",
       " 'ड्रेस': 671,\n",
       " 'ओर': 672,\n",
       " 'राज़': 673,\n",
       " 'सारा': 674,\n",
       " 'आता।': 675,\n",
       " 'नफ़रत': 676,\n",
       " 'कहीं': 677,\n",
       " 'लगाई।': 678,\n",
       " 'आएगा': 679,\n",
       " 'भला': 680,\n",
       " 'गाना': 681,\n",
       " 'जापानी': 682,\n",
       " 'खुद': 683,\n",
       " 'बत्ती': 684,\n",
       " 'दूध': 685,\n",
       " 'मेहनत': 686,\n",
       " 'तरफ़': 687,\n",
       " 'सके': 688,\n",
       " 'दूँगा।': 689,\n",
       " 'कुरसी': 690,\n",
       " 'आई।': 691,\n",
       " 'डब्बा': 692,\n",
       " 'चार': 693,\n",
       " 'खोल': 694,\n",
       " 'संतुष्ट': 695,\n",
       " 'उपन्यास': 696,\n",
       " 'जी': 697,\n",
       " 'कप': 698,\n",
       " 'सोने': 699,\n",
       " 'सेहत': 700,\n",
       " 'पत्नी': 701,\n",
       " 'मिनट': 702,\n",
       " 'लेने': 703,\n",
       " 'हाँ': 704,\n",
       " 'कठिन': 705,\n",
       " 'अटैची': 706,\n",
       " 'रो': 707,\n",
       " 'मानते': 708,\n",
       " 'पसंदीता': 709,\n",
       " 'मील': 710,\n",
       " 'बिलकुल': 711,\n",
       " 'पड़ता।': 712,\n",
       " 'मे': 713,\n",
       " 'शब्द': 714,\n",
       " 'वाक्य': 715,\n",
       " 'घंटे': 716,\n",
       " 'यूरोप': 717,\n",
       " 'नियम': 718,\n",
       " 'पार': 719,\n",
       " 'सपना': 720,\n",
       " 'नगर': 721,\n",
       " 'होतीं': 722,\n",
       " 'दुकान': 723,\n",
       " 'हमसे': 724,\n",
       " 'चाहती': 725,\n",
       " 'टिकटें': 726,\n",
       " 'अमेरिका': 727,\n",
       " 'अफ़्रीका': 728,\n",
       " 'बेटे': 729,\n",
       " 'पकड़': 730,\n",
       " 'हद': 731,\n",
       " 'इसलिए': 732,\n",
       " 'रवाना': 733,\n",
       " 'इरादा': 734,\n",
       " 'महीनों': 735,\n",
       " 'जाऊँगी।': 736,\n",
       " 'लिखा': 737,\n",
       " 'बेहतर': 738,\n",
       " 'बहनें': 739,\n",
       " 'आजकल': 740,\n",
       " 'बेचैन': 741,\n",
       " 'ढूँढने': 742,\n",
       " 'विमान': 743,\n",
       " 'सुन': 744,\n",
       " 'पहली': 745,\n",
       " 'ऐसे': 746,\n",
       " 'सामान': 747,\n",
       " 'पैरिस': 748,\n",
       " 'कई': 749,\n",
       " 'ख़रीद': 750,\n",
       " 'चोर': 751,\n",
       " 'दोस्तों': 752,\n",
       " 'रह': 753,\n",
       " 'मुताबिक': 754,\n",
       " 'इंग्लैंड': 755,\n",
       " 'क्रिकेट': 756,\n",
       " 'शौकिया': 757,\n",
       " 'खिलाड़ी': 758,\n",
       " 'कर्मचारियों': 759,\n",
       " 'ब्रिज': 760,\n",
       " 'देते': 761,\n",
       " 'बूढ़ा': 762,\n",
       " 'सरकार': 763,\n",
       " 'अनुवाद': 764,\n",
       " 'परीक्षा': 765,\n",
       " 'पड़ता': 766,\n",
       " 'वाह': 767,\n",
       " 'जाओ': 768,\n",
       " 'भर': 769,\n",
       " 'पंछी': 770,\n",
       " 'बोर': 771,\n",
       " 'ठंड': 772,\n",
       " 'मालूम': 773,\n",
       " 'गाते': 774,\n",
       " 'बैठिए।': 775,\n",
       " 'नया': 776,\n",
       " 'केक': 777,\n",
       " 'मुबारक': 778,\n",
       " 'समझता': 779,\n",
       " 'मान': 780,\n",
       " 'व्यस्थ': 781,\n",
       " 'बिल्ली': 782,\n",
       " 'सकतीं': 783,\n",
       " 'नक्शा': 784,\n",
       " 'गोली': 785,\n",
       " 'नए': 786,\n",
       " 'धोओ।': 787,\n",
       " 'पागल': 788,\n",
       " 'टोपी': 789,\n",
       " 'अरबी': 790,\n",
       " 'पति': 791,\n",
       " 'उल्टी': 792,\n",
       " 'नसीब': 793,\n",
       " 'रोना': 794,\n",
       " 'सिखा': 795,\n",
       " 'चावल': 796,\n",
       " 'कौनसी': 797,\n",
       " 'चिड़िया': 798,\n",
       " 'नीली': 799,\n",
       " 'शादीशुदा': 800,\n",
       " 'बताओ।': 801,\n",
       " 'रेडियो': 802,\n",
       " 'उम्मीद': 803,\n",
       " 'वो': 804,\n",
       " 'महंगा': 805,\n",
       " 'महंगी': 806,\n",
       " 'रेलगाड़ी': 807,\n",
       " 'कौआ': 808,\n",
       " 'तोड़': 809,\n",
       " 'बनाया': 810,\n",
       " 'पुरानी': 811,\n",
       " 'पढ़ा': 812,\n",
       " 'बताने': 813,\n",
       " 'शराब': 814,\n",
       " 'बेसबॉल': 815,\n",
       " 'लिखना': 816,\n",
       " 'कमीज़': 817,\n",
       " 'टैक्स': 818,\n",
       " 'पेनसिल': 819,\n",
       " 'बोलते': 820,\n",
       " 'समुंदर': 821,\n",
       " 'कामयाबी': 822,\n",
       " 'होना': 823,\n",
       " 'प्रतीक्षा': 824,\n",
       " 'क्योटो': 825,\n",
       " 'ज़ुकाम': 826,\n",
       " 'पहने': 827,\n",
       " 'भूत': 828,\n",
       " 'लगतीं': 829,\n",
       " 'तेज़ी': 830,\n",
       " 'जाओगे': 831,\n",
       " 'रख': 832,\n",
       " 'अंडे': 833,\n",
       " 'व्यापार': 834,\n",
       " 'थोड़े': 835,\n",
       " 'घोड़े': 836,\n",
       " 'उनका': 837,\n",
       " 'छलाँग': 838,\n",
       " 'इसको': 839,\n",
       " 'गेंद': 840,\n",
       " 'बैठ': 841,\n",
       " 'बताओ': 842,\n",
       " 'छूट': 843,\n",
       " 'उनको': 844,\n",
       " 'जैसी': 845,\n",
       " 'बोलो।': 846,\n",
       " 'लेता': 847,\n",
       " 'खटखटाया।': 848,\n",
       " 'चुरा': 849,\n",
       " 'डाला।': 850,\n",
       " 'बुखार': 851,\n",
       " 'उठता': 852,\n",
       " 'नौ': 853,\n",
       " 'ठंडा': 854,\n",
       " 'पियानो': 855,\n",
       " 'तेल': 856,\n",
       " 'उतना': 857,\n",
       " 'मंगलवार': 858,\n",
       " 'येन': 859,\n",
       " 'निर्णय': 860,\n",
       " 'फ़ुटबॉल': 861,\n",
       " 'इलज़ाम': 862,\n",
       " 'गिलास': 863,\n",
       " 'बजने': 864,\n",
       " 'लकड़ी': 865,\n",
       " 'कैंसर': 866,\n",
       " 'मुलाक़ात': 867,\n",
       " 'टैक्सी': 868,\n",
       " 'स्पैनिश': 869,\n",
       " 'ध्यान': 870,\n",
       " 'इनकार': 871,\n",
       " 'कीमत': 872,\n",
       " 'किनारे': 873,\n",
       " 'सज़ा': 874,\n",
       " 'गाड़ियाँ': 875,\n",
       " 'दिखाई': 876,\n",
       " 'होती।': 877,\n",
       " 'मुसीबत': 878,\n",
       " 'देखकर': 879,\n",
       " 'छाया': 880,\n",
       " 'धन्यवाद।': 881,\n",
       " 'बनी': 882,\n",
       " 'रोने': 883,\n",
       " 'पड़ा।': 884,\n",
       " 'बीस': 885,\n",
       " 'रक्षा': 886,\n",
       " 'जगह': 887,\n",
       " 'होगी': 888,\n",
       " 'फूलों': 889,\n",
       " 'खाते': 890,\n",
       " 'छोड़ने': 891,\n",
       " 'समान': 892,\n",
       " 'बॉस': 893,\n",
       " 'सर': 894,\n",
       " 'चोट': 895,\n",
       " 'बदलने': 896,\n",
       " 'दोगे': 897,\n",
       " 'शिकायत': 898,\n",
       " 'अगली': 899,\n",
       " 'बर्ताव': 900,\n",
       " 'ओसाका': 901,\n",
       " 'बर्बादी': 902,\n",
       " 'धीमी': 903,\n",
       " 'बचा': 904,\n",
       " 'लिए।': 905,\n",
       " 'मना': 906,\n",
       " 'खेलने': 907,\n",
       " 'चाहेंगे': 908,\n",
       " 'दफ़्तर': 909,\n",
       " 'सुथरा': 910,\n",
       " 'भाषण': 911,\n",
       " 'खेल': 912,\n",
       " 'खूबसूरत': 913,\n",
       " 'नतीजे': 914,\n",
       " 'खेत': 915,\n",
       " 'नानी': 916,\n",
       " 'सीधे': 917,\n",
       " 'इटली': 918,\n",
       " 'अलावा': 919,\n",
       " 'जनसंख्या': 920,\n",
       " 'सी': 921,\n",
       " 'चीज़ें': 922,\n",
       " 'मक्खन': 923,\n",
       " 'उठाया।': 924,\n",
       " 'घंटों': 925,\n",
       " 'जाता।': 926,\n",
       " 'सपने': 927,\n",
       " 'डाक': 928,\n",
       " 'उनसे': 929,\n",
       " 'सोते': 930,\n",
       " 'पत्र': 931,\n",
       " 'खड़ी': 932,\n",
       " 'तुमको': 933,\n",
       " 'कविता': 934,\n",
       " 'निकालते': 935,\n",
       " 'छत': 936,\n",
       " 'रहा।': 937,\n",
       " 'सूरज': 938,\n",
       " 'बातचीत': 939,\n",
       " 'विश्व': 940,\n",
       " 'कब्रिस्तान': 941,\n",
       " 'स्टॉप': 942,\n",
       " 'देता': 943,\n",
       " 'जल्दबाज़ी': 944,\n",
       " 'अखबार': 945,\n",
       " 'पालन': 946,\n",
       " 'रूप': 947,\n",
       " 'छाता': 948,\n",
       " 'उत्तर': 949,\n",
       " 'कहा।': 950,\n",
       " 'शर्म': 951,\n",
       " 'पचास': 952,\n",
       " 'तस्वीरें': 953,\n",
       " 'अस्पताल': 954,\n",
       " 'कम्प्यूटर': 955,\n",
       " 'इतनी': 956,\n",
       " 'दिल्ली': 957,\n",
       " 'मीटिंग': 958,\n",
       " 'चलती': 959,\n",
       " 'उठते': 960,\n",
       " 'वसीयत': 961,\n",
       " 'जानना': 962,\n",
       " 'हैरान': 963,\n",
       " 'जेब': 964,\n",
       " 'पकड़ा': 965,\n",
       " 'मौके': 966,\n",
       " 'बुलाया': 967,\n",
       " 'कम्पनी': 968,\n",
       " 'कॉलेज': 969,\n",
       " 'सुनने': 970,\n",
       " 'जाया': 971,\n",
       " 'चाहे': 972,\n",
       " 'जाए': 973,\n",
       " 'लायक': 974,\n",
       " 'देगी।': 975,\n",
       " 'कहने': 976,\n",
       " 'पाया': 977,\n",
       " 'राज़ी': 978,\n",
       " 'माने': 979,\n",
       " 'बत्तियाँ': 980,\n",
       " 'पहचानता': 981,\n",
       " 'थीं।': 982,\n",
       " 'जिसे': 983,\n",
       " 'दिख': 984,\n",
       " 'रास्ते': 985,\n",
       " 'पुस्तकालय': 986,\n",
       " 'माता': 987,\n",
       " 'जिससे': 988,\n",
       " 'सोचता': 989,\n",
       " 'टेरेसा': 990,\n",
       " 'समझे': 991,\n",
       " 'स्वागत': 992,\n",
       " 'करना।': 993,\n",
       " 'मौज': 994,\n",
       " 'बेहोश': 995,\n",
       " 'किसको': 996,\n",
       " 'किसे': 997,\n",
       " 'पीछा': 998,\n",
       " 'तैर': 999,\n",
       " 'ताकतवर': 1000,\n",
       " ...}"
      ]
     },
     "execution_count": 38,
     "metadata": {},
     "output_type": "execute_result"
    }
   ],
   "source": [
    "decoder_t.word_index"
   ]
  },
  {
   "cell_type": "code",
   "execution_count": 39,
   "metadata": {
    "colab": {
     "autoexec": {
      "startup": false,
      "wait_interval": 0
     }
    },
    "colab_type": "code",
    "id": "YroNA85k2oV9"
   },
   "outputs": [],
   "source": [
    "int_to_word_decoder = dict((i,c) for c, i in decoder_t.word_index.items())"
   ]
  },
  {
   "cell_type": "code",
   "execution_count": 40,
   "metadata": {
    "colab": {
     "autoexec": {
      "startup": false,
      "wait_interval": 0
     }
    },
    "colab_type": "code",
    "id": "myI-TKwV2oV_"
   },
   "outputs": [
    {
     "data": {
      "text/plain": [
       "{1: '<start>',\n",
       " 2: '<end>',\n",
       " 3: 'है।',\n",
       " 4: 'में',\n",
       " 5: 'नहीं',\n",
       " 6: 'मैं',\n",
       " 7: 'वह',\n",
       " 8: 'से',\n",
       " 9: 'क्या',\n",
       " 10: 'है',\n",
       " 11: 'के',\n",
       " 12: 'मुझे',\n",
       " 13: 'को',\n",
       " 14: 'हैं।',\n",
       " 15: 'की',\n",
       " 16: 'हो',\n",
       " 17: 'बहुत',\n",
       " 18: 'का',\n",
       " 19: 'हूँ।',\n",
       " 20: 'उसने',\n",
       " 21: 'एक',\n",
       " 22: 'पर',\n",
       " 23: 'तुम',\n",
       " 24: 'था।',\n",
       " 25: 'यह',\n",
       " 26: 'कर',\n",
       " 27: 'लिए',\n",
       " 28: 'मेरे',\n",
       " 29: 'कि',\n",
       " 30: 'उसे',\n",
       " 31: 'और',\n",
       " 32: 'इस',\n",
       " 33: 'हैं',\n",
       " 34: 'भी',\n",
       " 35: 'अपने',\n",
       " 36: 'मैंने',\n",
       " 37: 'मेरी',\n",
       " 38: 'रहा',\n",
       " 39: 'ने',\n",
       " 40: 'पास',\n",
       " 41: 'तो',\n",
       " 42: 'करने',\n",
       " 43: 'कल',\n",
       " 44: 'ही',\n",
       " 45: 'हम',\n",
       " 46: 'अपनी',\n",
       " 47: 'काम',\n",
       " 48: 'गया।',\n",
       " 49: 'उसकी',\n",
       " 50: 'उसके',\n",
       " 51: 'कोई',\n",
       " 52: 'तुम्हें',\n",
       " 53: 'तुम्हारे',\n",
       " 54: 'था',\n",
       " 55: 'उस',\n",
       " 56: 'मेरा',\n",
       " 57: 'साथ',\n",
       " 58: 'घर',\n",
       " 59: 'करना',\n",
       " 60: 'सकते',\n",
       " 61: 'थी।',\n",
       " 62: 'गया',\n",
       " 63: 'समय',\n",
       " 64: 'बात',\n",
       " 65: 'आप',\n",
       " 66: 'पता',\n",
       " 67: 'रही',\n",
       " 68: 'कुछ',\n",
       " 69: 'अभी',\n",
       " 70: 'बजे',\n",
       " 71: 'यहाँ',\n",
       " 72: 'उसको',\n",
       " 73: 'आज',\n",
       " 74: 'लगता',\n",
       " 75: 'तक',\n",
       " 76: 'तुम्हे',\n",
       " 77: 'चाहिए।',\n",
       " 78: 'किताब',\n",
       " 79: 'मुझसे',\n",
       " 80: 'अच्छा',\n",
       " 81: 'अपना',\n",
       " 82: 'दिया।',\n",
       " 83: 'सकता',\n",
       " 84: 'मत',\n",
       " 85: 'पसंद',\n",
       " 86: 'रहे',\n",
       " 87: 'उससे',\n",
       " 88: 'थे।',\n",
       " 89: 'कभी',\n",
       " 90: 'आ',\n",
       " 91: 'हुई',\n",
       " 92: 'न',\n",
       " 93: 'दो',\n",
       " 94: 'टॉम',\n",
       " 95: 'हूँ',\n",
       " 96: 'होता',\n",
       " 97: 'भारत',\n",
       " 98: 'किया।',\n",
       " 99: 'वे',\n",
       " 100: 'जाने',\n",
       " 101: 'करता',\n",
       " 102: 'हो।',\n",
       " 103: 'अंग्रेज़ी',\n",
       " 104: 'हुआ',\n",
       " 105: 'पैसे',\n",
       " 106: 'गाड़ी',\n",
       " 107: 'मदद',\n",
       " 108: 'करते',\n",
       " 109: 'उसका',\n",
       " 110: 'साल',\n",
       " 111: 'हुए',\n",
       " 112: 'पहले',\n",
       " 113: 'ज़्यादा',\n",
       " 114: 'जो',\n",
       " 115: 'होगा।',\n",
       " 116: 'कहाँ',\n",
       " 117: 'होती',\n",
       " 118: 'किया',\n",
       " 119: 'सारे',\n",
       " 120: 'जा',\n",
       " 121: 'जाना',\n",
       " 122: 'तुम्हारी',\n",
       " 123: 'आदमी',\n",
       " 124: 'गए',\n",
       " 125: 'वापस',\n",
       " 126: 'आपको',\n",
       " 127: 'किसी',\n",
       " 128: 'बार',\n",
       " 129: 'कम',\n",
       " 130: 'देर',\n",
       " 131: 'जब',\n",
       " 132: 'गई।',\n",
       " 133: 'बारे',\n",
       " 134: 'दिन',\n",
       " 135: 'अगर',\n",
       " 136: 'बाहर',\n",
       " 137: 'बड़ा',\n",
       " 138: 'वहाँ',\n",
       " 139: 'तुमने',\n",
       " 140: 'दिया',\n",
       " 141: 'हमेशा',\n",
       " 142: 'हमारे',\n",
       " 143: 'जल्दी',\n",
       " 144: 'फ़ोन',\n",
       " 145: 'सब',\n",
       " 146: 'खाना',\n",
       " 147: 'जाता',\n",
       " 148: 'बंद',\n",
       " 149: 'ये',\n",
       " 150: 'क्यों',\n",
       " 151: 'तरह',\n",
       " 152: 'करो।',\n",
       " 153: 'कितने',\n",
       " 154: 'रात',\n",
       " 155: 'दी।',\n",
       " 156: 'बच्चे',\n",
       " 157: 'देखा',\n",
       " 158: 'हमने',\n",
       " 159: 'बारिश',\n",
       " 160: 'जवाब',\n",
       " 161: 'तुमसे',\n",
       " 162: 'सकता।',\n",
       " 163: 'लोग',\n",
       " 164: 'हमे',\n",
       " 165: 'चाहता',\n",
       " 166: 'दस',\n",
       " 167: 'छोड़',\n",
       " 168: 'लोगों',\n",
       " 169: 'ठीक',\n",
       " 170: 'आता',\n",
       " 171: 'कैसे',\n",
       " 172: 'थे',\n",
       " 173: 'हर',\n",
       " 174: 'उन्होंने',\n",
       " 175: 'स्कूल',\n",
       " 176: 'पापा',\n",
       " 177: 'चला',\n",
       " 178: 'खुश',\n",
       " 179: 'खतम',\n",
       " 180: 'अब',\n",
       " 181: 'देखा।',\n",
       " 182: 'मुश्किल',\n",
       " 183: 'गए।',\n",
       " 184: 'अच्छी',\n",
       " 185: 'तीन',\n",
       " 186: 'डॉक्टर',\n",
       " 187: 'मौसम',\n",
       " 188: 'चल',\n",
       " 189: 'माँ',\n",
       " 190: 'शुरू',\n",
       " 191: 'पानी',\n",
       " 192: 'पिता',\n",
       " 193: 'होने',\n",
       " 194: 'करती',\n",
       " 195: 'कोशिश',\n",
       " 196: 'अच्छे',\n",
       " 197: 'दोस्त',\n",
       " 198: 'नहीं।',\n",
       " 199: 'रहता',\n",
       " 200: 'कब',\n",
       " 201: 'हमारी',\n",
       " 202: 'पाँच',\n",
       " 203: 'सारी',\n",
       " 204: 'ट्रेन',\n",
       " 205: 'सबसे',\n",
       " 206: 'या',\n",
       " 207: 'चिट्ठी',\n",
       " 208: 'कुत्ता',\n",
       " 209: 'गई',\n",
       " 210: 'कमरे',\n",
       " 211: 'भाई',\n",
       " 212: 'जल्द',\n",
       " 213: 'लिया।',\n",
       " 214: 'थोड़ी',\n",
       " 215: 'करनी',\n",
       " 216: 'थोड़ा',\n",
       " 217: 'दो।',\n",
       " 218: 'थक',\n",
       " 219: 'ले',\n",
       " 220: 'साफ़',\n",
       " 221: 'यकीन',\n",
       " 222: 'फिरसे',\n",
       " 223: 'बस',\n",
       " 224: 'तुम्हारा',\n",
       " 225: 'जापान',\n",
       " 226: 'मन',\n",
       " 227: 'लड़की',\n",
       " 228: 'कहा',\n",
       " 229: 'जाती',\n",
       " 230: 'चाहते',\n",
       " 231: 'छः',\n",
       " 232: 'देना',\n",
       " 233: 'बिना',\n",
       " 234: 'सुबह',\n",
       " 235: 'दोनो',\n",
       " 236: 'जन्मदिन',\n",
       " 237: 'वाला',\n",
       " 238: 'नाम',\n",
       " 239: 'नौकरी',\n",
       " 240: 'टीवी',\n",
       " 241: 'बाद',\n",
       " 242: 'करी।',\n",
       " 243: 'महीने',\n",
       " 244: 'वजह',\n",
       " 245: 'माफ़',\n",
       " 246: 'चुका',\n",
       " 247: 'प्यार',\n",
       " 248: 'आने',\n",
       " 249: 'सभी',\n",
       " 250: 'शहर',\n",
       " 251: 'आपकी',\n",
       " 252: 'पढ़',\n",
       " 253: 'आवाज़',\n",
       " 254: 'रोज़',\n",
       " 255: 'मिलने',\n",
       " 256: 'पीछे',\n",
       " 257: 'रहते',\n",
       " 258: 'पिताजी',\n",
       " 259: 'जाएगा।',\n",
       " 260: 'शादी',\n",
       " 261: 'लिया',\n",
       " 262: 'किताबें',\n",
       " 263: 'दरवाज़े',\n",
       " 264: 'सच',\n",
       " 265: 'पिछले',\n",
       " 266: 'हफ़्ते',\n",
       " 267: 'दे',\n",
       " 268: 'नदी',\n",
       " 269: 'चाय',\n",
       " 270: 'वाले',\n",
       " 271: 'चाहिए',\n",
       " 272: 'खाने',\n",
       " 273: 'सही',\n",
       " 274: 'कौन',\n",
       " 275: 'ज़रूरत',\n",
       " 276: 'सोच',\n",
       " 277: 'मुझपर',\n",
       " 278: 'इनसान',\n",
       " 279: 'विदेश',\n",
       " 280: 'पूरी',\n",
       " 281: 'हाथ',\n",
       " 282: 'जानता',\n",
       " 283: 'बड़े',\n",
       " 284: 'हुआ।',\n",
       " 285: 'बहन',\n",
       " 286: 'टीचर',\n",
       " 287: 'दूसरे',\n",
       " 288: 'होते',\n",
       " 289: 'देख',\n",
       " 290: 'आपके',\n",
       " 291: 'मेज़',\n",
       " 292: 'इन',\n",
       " 293: 'लगा',\n",
       " 294: 'आमतौर',\n",
       " 295: 'सिगरेट',\n",
       " 296: 'धीरे',\n",
       " 297: 'अगले',\n",
       " 298: 'बच्चों',\n",
       " 299: 'लगी',\n",
       " 300: 'ग़लत',\n",
       " 301: 'कृपया',\n",
       " 302: 'थी',\n",
       " 303: 'चीज़',\n",
       " 304: 'तैयार',\n",
       " 305: 'उम्र',\n",
       " 306: 'लड़के',\n",
       " 307: 'इंतेज़ार',\n",
       " 308: 'इस्तेमाल',\n",
       " 309: 'चलाना',\n",
       " 310: 'खो',\n",
       " 311: 'मिलना',\n",
       " 312: 'होगा',\n",
       " 313: 'सेव',\n",
       " 314: 'कपड़े',\n",
       " 315: 'मिला।',\n",
       " 316: 'इतना',\n",
       " 317: 'उनकी',\n",
       " 318: 'काफ़ी',\n",
       " 319: 'कमरा',\n",
       " 320: 'ना',\n",
       " 321: 'कितनी',\n",
       " 322: 'लगती',\n",
       " 323: 'समझ',\n",
       " 324: 'फ़ायदा',\n",
       " 325: 'उनके',\n",
       " 326: 'अंदर',\n",
       " 327: 'जाओ।',\n",
       " 328: 'आपका',\n",
       " 329: 'भूल',\n",
       " 330: 'आग',\n",
       " 331: 'आया।',\n",
       " 332: 'लग',\n",
       " 333: 'याद',\n",
       " 334: 'हुई।',\n",
       " 335: 'करो',\n",
       " 336: 'आए',\n",
       " 337: 'भरोसा',\n",
       " 338: '।',\n",
       " 339: 'आसान',\n",
       " 340: 'घड़ी',\n",
       " 341: 'जूते',\n",
       " 342: 'सकते।',\n",
       " 343: 'जहाँ',\n",
       " 344: 'स्टेशन',\n",
       " 345: 'लगभग',\n",
       " 346: 'आदत',\n",
       " 347: 'पीना',\n",
       " 348: 'खबर',\n",
       " 349: 'आठ',\n",
       " 350: 'दोपहर',\n",
       " 351: 'लंदन',\n",
       " 352: 'दिनों',\n",
       " 353: 'फ़र्क',\n",
       " 354: 'क्योंकि',\n",
       " 355: 'होगी।',\n",
       " 356: 'दुनिया',\n",
       " 357: 'गाँव',\n",
       " 358: 'कीजिए।',\n",
       " 359: 'भूख',\n",
       " 360: 'कैसा',\n",
       " 361: 'कुत्ते',\n",
       " 362: 'पैसों',\n",
       " 363: 'आराम',\n",
       " 364: 'मज़ाक',\n",
       " 365: 'खुशी',\n",
       " 366: 'करी',\n",
       " 367: 'बन',\n",
       " 368: 'उन',\n",
       " 369: 'जैसा',\n",
       " 370: 'पड़ी।',\n",
       " 371: 'कितना',\n",
       " 372: 'बताया',\n",
       " 373: 'जाकर',\n",
       " 374: 'पुलिस',\n",
       " 375: 'होंगे।',\n",
       " 376: 'पार्टी',\n",
       " 377: 'कॉफ़ी',\n",
       " 378: 'सवाल',\n",
       " 379: 'अक्सर',\n",
       " 380: 'मिल',\n",
       " 381: 'सकती।',\n",
       " 382: 'दवाई',\n",
       " 383: 'सो',\n",
       " 384: 'मम्मी',\n",
       " 385: 'साईकल',\n",
       " 386: 'अकेले',\n",
       " 387: 'सलाह',\n",
       " 388: 'कहना',\n",
       " 389: 'बता',\n",
       " 390: 'चलो',\n",
       " 391: 'तैरना',\n",
       " 392: 'आपसे',\n",
       " 393: 'करूँगा।',\n",
       " 394: 'बीमार',\n",
       " 395: 'मौत',\n",
       " 396: 'देखने',\n",
       " 397: 'संगीत',\n",
       " 398: 'पढ़ाई',\n",
       " 399: 'शायद',\n",
       " 400: 'आया',\n",
       " 401: 'मुलाकात',\n",
       " 402: 'ग़लती',\n",
       " 403: 'चालू',\n",
       " 404: 'ली।',\n",
       " 405: 'सकती',\n",
       " 406: 'विश्वास',\n",
       " 407: 'जितना',\n",
       " 408: 'लम्बा',\n",
       " 409: 'आती',\n",
       " 410: 'कीजिएगा',\n",
       " 411: 'लेना',\n",
       " 412: 'पेड़',\n",
       " 413: 'हमें',\n",
       " 414: 'डब्बे',\n",
       " 415: 'उसपर',\n",
       " 416: 'जान',\n",
       " 417: 'ख़याल',\n",
       " 418: 'रविवार',\n",
       " 419: 'पड़ेगी।',\n",
       " 420: 'रखना',\n",
       " 421: 'बाल',\n",
       " 422: 'ऐसी',\n",
       " 423: 'तेज़',\n",
       " 424: 'बोल',\n",
       " 425: 'राजा',\n",
       " 426: 'काश',\n",
       " 427: 'उन्हें',\n",
       " 428: 'छोटी',\n",
       " 429: 'पुराने',\n",
       " 430: 'ऐसा',\n",
       " 431: 'मर',\n",
       " 432: 'ढूँढ',\n",
       " 433: 'सैर',\n",
       " 434: 'चाह्ता',\n",
       " 435: 'सफ़र',\n",
       " 436: 'समस्या',\n",
       " 437: 'तस्वीर',\n",
       " 438: 'नई',\n",
       " 439: 'सका।',\n",
       " 440: 'बीच',\n",
       " 441: 'अचानक',\n",
       " 442: 'मानो',\n",
       " 443: 'दूर',\n",
       " 444: 'लिखी',\n",
       " 445: 'देने',\n",
       " 446: 'जैसे',\n",
       " 447: 'बर्दाश्त',\n",
       " 448: 'अलग',\n",
       " 449: 'निकल',\n",
       " 450: 'तू',\n",
       " 451: 'दरवाज़ा',\n",
       " 452: 'इसे',\n",
       " 453: 'मछलियाँ',\n",
       " 454: 'हमारा',\n",
       " 455: 'बिस्तर',\n",
       " 456: 'पैर',\n",
       " 457: 'आई',\n",
       " 458: 'पतंग',\n",
       " 459: 'शोर',\n",
       " 460: 'फिर',\n",
       " 461: 'कहानी',\n",
       " 462: 'दर्द',\n",
       " 463: 'विद्यार्थी',\n",
       " 464: 'चोरी',\n",
       " 465: 'आँखें',\n",
       " 466: 'आएगा।',\n",
       " 467: 'पैदा',\n",
       " 468: 'परिवार',\n",
       " 469: 'सुंदर',\n",
       " 470: 'करके',\n",
       " 471: 'चुके',\n",
       " 472: 'अमीर',\n",
       " 473: 'बुरी',\n",
       " 474: 'गर्मी',\n",
       " 475: 'जाए।',\n",
       " 476: 'देखना',\n",
       " 477: 'आसमान',\n",
       " 478: 'लगाकर',\n",
       " 479: 'पढ़ना',\n",
       " 480: 'टोक्यो',\n",
       " 481: 'काट',\n",
       " 482: 'मिला',\n",
       " 483: 'बज',\n",
       " 484: 'दीजिए।',\n",
       " 485: 'रंग',\n",
       " 486: 'अफ़वाह',\n",
       " 487: 'नाप',\n",
       " 488: 'ज़िन्दगी',\n",
       " 489: 'जानवर',\n",
       " 490: 'भाग',\n",
       " 491: 'खाली',\n",
       " 492: 'सात',\n",
       " 493: 'जाऊँगा।',\n",
       " 494: 'अजीब',\n",
       " 495: 'पहुँच',\n",
       " 496: 'सौ',\n",
       " 497: 'देश',\n",
       " 498: 'आसानी',\n",
       " 499: 'डर',\n",
       " 500: 'चीनी',\n",
       " 501: 'टेनिस',\n",
       " 502: 'छोटे',\n",
       " 503: 'दोनों',\n",
       " 504: 'होमवर्क',\n",
       " 505: 'जंगल',\n",
       " 506: 'अध्यापक',\n",
       " 507: 'पीने',\n",
       " 508: 'हवा',\n",
       " 509: 'जाते',\n",
       " 510: 'आना',\n",
       " 511: 'खिड़की',\n",
       " 512: 'दुर्घटना',\n",
       " 513: 'फ़िल्म',\n",
       " 514: 'भूलना।',\n",
       " 515: 'पूरे',\n",
       " 516: 'वादा',\n",
       " 517: 'इसके',\n",
       " 518: 'बजाय',\n",
       " 519: 'सड़क',\n",
       " 520: 'बोली',\n",
       " 521: 'बोलना',\n",
       " 522: 'चीन',\n",
       " 523: 'बड़ी',\n",
       " 524: 'जाएगी।',\n",
       " 525: 'भाषा',\n",
       " 526: 'राजधानी',\n",
       " 527: 'रहना',\n",
       " 528: 'इतने',\n",
       " 529: 'ज़िम्मेदार',\n",
       " 530: 'अंतर',\n",
       " 531: 'बच्चा',\n",
       " 532: 'मशीन',\n",
       " 533: 'वैसा',\n",
       " 534: 'लगते',\n",
       " 535: 'आओ।',\n",
       " 536: 'फ़्रानसीसी',\n",
       " 537: 'लो।',\n",
       " 538: 'फूल',\n",
       " 539: 'लड़का',\n",
       " 540: 'खरीदना',\n",
       " 541: 'आऊँगा।',\n",
       " 542: 'गरम',\n",
       " 543: 'ज़रूरी',\n",
       " 544: 'सुनाई',\n",
       " 545: 'गिटार',\n",
       " 546: 'बिजली',\n",
       " 547: 'बारी',\n",
       " 548: 'रहें',\n",
       " 549: 'खराब',\n",
       " 550: 'सच्चाई',\n",
       " 551: 'जानते',\n",
       " 552: 'रहती',\n",
       " 553: 'किसने',\n",
       " 554: 'सा',\n",
       " 555: 'i',\n",
       " 556: 'छोटा',\n",
       " 557: 'जंग',\n",
       " 558: 'कौनसा',\n",
       " 559: 'पड़ेगा।',\n",
       " 560: 'आओगे',\n",
       " 561: 'गुस्सा',\n",
       " 562: 'बना',\n",
       " 563: 'कामयाब',\n",
       " 564: 'सहमत',\n",
       " 565: 'पीठ',\n",
       " 566: 'फ़ैसला',\n",
       " 567: 'निराश',\n",
       " 568: 'चुकी',\n",
       " 569: 'प्रस्ताव',\n",
       " 570: 'स्वीकार',\n",
       " 571: 'अफ़सर',\n",
       " 572: 'गरीब',\n",
       " 573: 'हमको',\n",
       " 574: 'विज्ञान',\n",
       " 575: 'लम्बी',\n",
       " 576: 'झील',\n",
       " 577: 'परेशान',\n",
       " 578: 'पूरा',\n",
       " 579: 'चहिए।',\n",
       " 580: 'औरत',\n",
       " 581: 'साढ़े',\n",
       " 582: 'बजाना',\n",
       " 583: 'वाली',\n",
       " 584: 'ग़लतियाँ',\n",
       " 585: 'खेलना',\n",
       " 586: 'इससे',\n",
       " 587: 'सामने',\n",
       " 588: 'खड़े',\n",
       " 589: 'लगाया।',\n",
       " 590: 'बीमारी',\n",
       " 591: 'किस',\n",
       " 592: 'कनाडा',\n",
       " 593: 'सीखना',\n",
       " 594: 'डॉलर',\n",
       " 595: 'उठा',\n",
       " 596: 'दिलचस्पी',\n",
       " 597: 'बुराई',\n",
       " 598: 'क्लास',\n",
       " 599: 'दिलचस्प',\n",
       " 600: 'रुक',\n",
       " 601: 'केवल',\n",
       " 602: 'हिसाब',\n",
       " 603: 'आखिरकार',\n",
       " 604: 'नम्बर',\n",
       " 605: 'असली',\n",
       " 606: 'आते',\n",
       " 607: 'सुनकर',\n",
       " 608: 'शौक',\n",
       " 609: 'जहाज़',\n",
       " 610: 'रहने',\n",
       " 611: 'करोगे',\n",
       " 612: 'विषय',\n",
       " 613: 'जितनी',\n",
       " 614: 'स्वास्थ्य',\n",
       " 615: 'पढ़ने',\n",
       " 616: 'पहाड़',\n",
       " 617: 'लिख',\n",
       " 618: 'पाया।',\n",
       " 619: 'अम्रीका',\n",
       " 620: 'देखभाल',\n",
       " 621: 'पा',\n",
       " 622: 'पहचान',\n",
       " 623: 'तब',\n",
       " 624: 'मज़े',\n",
       " 625: 'पेट',\n",
       " 626: 'चलें',\n",
       " 627: 'मत।',\n",
       " 628: 'खड़ा',\n",
       " 629: 'कैसी',\n",
       " 630: 'पता।',\n",
       " 631: 'बरफ़',\n",
       " 632: 'गिर',\n",
       " 633: 'मुफ़्त',\n",
       " 634: 'नीचे',\n",
       " 635: 'उड़',\n",
       " 636: 'कमी',\n",
       " 637: 'इतिहास',\n",
       " 638: 'रहूँगा।',\n",
       " 639: 'भगवान',\n",
       " 640: 'करता।',\n",
       " 641: 'बस्ता',\n",
       " 642: 'पहनी',\n",
       " 643: 'मूँह',\n",
       " 644: 'बक',\n",
       " 645: 'ऊपर',\n",
       " 646: 'लम्बे',\n",
       " 647: 'बोलता',\n",
       " 648: 'आस',\n",
       " 649: 'पड़ोस',\n",
       " 650: 'अप्रैल',\n",
       " 651: 'चाबी',\n",
       " 652: 'लगा।',\n",
       " 653: 'बैंक',\n",
       " 654: 'मिलेंगे।',\n",
       " 655: 'सवालों',\n",
       " 656: 'महसूस',\n",
       " 657: 'दिखने',\n",
       " 658: 'खरीदी।',\n",
       " 659: 'जीत',\n",
       " 660: 'चाहूँगा।',\n",
       " 661: 'रही।',\n",
       " 662: 'चिंता',\n",
       " 663: 'उधार',\n",
       " 664: 'की।',\n",
       " 665: 'योजना',\n",
       " 666: 'खा',\n",
       " 667: 'मछली',\n",
       " 668: 'खुला',\n",
       " 669: 'ग्यारह',\n",
       " 670: 'लाल',\n",
       " 671: 'ड्रेस',\n",
       " 672: 'ओर',\n",
       " 673: 'राज़',\n",
       " 674: 'सारा',\n",
       " 675: 'आता।',\n",
       " 676: 'नफ़रत',\n",
       " 677: 'कहीं',\n",
       " 678: 'लगाई।',\n",
       " 679: 'आएगा',\n",
       " 680: 'भला',\n",
       " 681: 'गाना',\n",
       " 682: 'जापानी',\n",
       " 683: 'खुद',\n",
       " 684: 'बत्ती',\n",
       " 685: 'दूध',\n",
       " 686: 'मेहनत',\n",
       " 687: 'तरफ़',\n",
       " 688: 'सके',\n",
       " 689: 'दूँगा।',\n",
       " 690: 'कुरसी',\n",
       " 691: 'आई।',\n",
       " 692: 'डब्बा',\n",
       " 693: 'चार',\n",
       " 694: 'खोल',\n",
       " 695: 'संतुष्ट',\n",
       " 696: 'उपन्यास',\n",
       " 697: 'जी',\n",
       " 698: 'कप',\n",
       " 699: 'सोने',\n",
       " 700: 'सेहत',\n",
       " 701: 'पत्नी',\n",
       " 702: 'मिनट',\n",
       " 703: 'लेने',\n",
       " 704: 'हाँ',\n",
       " 705: 'कठिन',\n",
       " 706: 'अटैची',\n",
       " 707: 'रो',\n",
       " 708: 'मानते',\n",
       " 709: 'पसंदीता',\n",
       " 710: 'मील',\n",
       " 711: 'बिलकुल',\n",
       " 712: 'पड़ता।',\n",
       " 713: 'मे',\n",
       " 714: 'शब्द',\n",
       " 715: 'वाक्य',\n",
       " 716: 'घंटे',\n",
       " 717: 'यूरोप',\n",
       " 718: 'नियम',\n",
       " 719: 'पार',\n",
       " 720: 'सपना',\n",
       " 721: 'नगर',\n",
       " 722: 'होतीं',\n",
       " 723: 'दुकान',\n",
       " 724: 'हमसे',\n",
       " 725: 'चाहती',\n",
       " 726: 'टिकटें',\n",
       " 727: 'अमेरिका',\n",
       " 728: 'अफ़्रीका',\n",
       " 729: 'बेटे',\n",
       " 730: 'पकड़',\n",
       " 731: 'हद',\n",
       " 732: 'इसलिए',\n",
       " 733: 'रवाना',\n",
       " 734: 'इरादा',\n",
       " 735: 'महीनों',\n",
       " 736: 'जाऊँगी।',\n",
       " 737: 'लिखा',\n",
       " 738: 'बेहतर',\n",
       " 739: 'बहनें',\n",
       " 740: 'आजकल',\n",
       " 741: 'बेचैन',\n",
       " 742: 'ढूँढने',\n",
       " 743: 'विमान',\n",
       " 744: 'सुन',\n",
       " 745: 'पहली',\n",
       " 746: 'ऐसे',\n",
       " 747: 'सामान',\n",
       " 748: 'पैरिस',\n",
       " 749: 'कई',\n",
       " 750: 'ख़रीद',\n",
       " 751: 'चोर',\n",
       " 752: 'दोस्तों',\n",
       " 753: 'रह',\n",
       " 754: 'मुताबिक',\n",
       " 755: 'इंग्लैंड',\n",
       " 756: 'क्रिकेट',\n",
       " 757: 'शौकिया',\n",
       " 758: 'खिलाड़ी',\n",
       " 759: 'कर्मचारियों',\n",
       " 760: 'ब्रिज',\n",
       " 761: 'देते',\n",
       " 762: 'बूढ़ा',\n",
       " 763: 'सरकार',\n",
       " 764: 'अनुवाद',\n",
       " 765: 'परीक्षा',\n",
       " 766: 'पड़ता',\n",
       " 767: 'वाह',\n",
       " 768: 'जाओ',\n",
       " 769: 'भर',\n",
       " 770: 'पंछी',\n",
       " 771: 'बोर',\n",
       " 772: 'ठंड',\n",
       " 773: 'मालूम',\n",
       " 774: 'गाते',\n",
       " 775: 'बैठिए।',\n",
       " 776: 'नया',\n",
       " 777: 'केक',\n",
       " 778: 'मुबारक',\n",
       " 779: 'समझता',\n",
       " 780: 'मान',\n",
       " 781: 'व्यस्थ',\n",
       " 782: 'बिल्ली',\n",
       " 783: 'सकतीं',\n",
       " 784: 'नक्शा',\n",
       " 785: 'गोली',\n",
       " 786: 'नए',\n",
       " 787: 'धोओ।',\n",
       " 788: 'पागल',\n",
       " 789: 'टोपी',\n",
       " 790: 'अरबी',\n",
       " 791: 'पति',\n",
       " 792: 'उल्टी',\n",
       " 793: 'नसीब',\n",
       " 794: 'रोना',\n",
       " 795: 'सिखा',\n",
       " 796: 'चावल',\n",
       " 797: 'कौनसी',\n",
       " 798: 'चिड़िया',\n",
       " 799: 'नीली',\n",
       " 800: 'शादीशुदा',\n",
       " 801: 'बताओ।',\n",
       " 802: 'रेडियो',\n",
       " 803: 'उम्मीद',\n",
       " 804: 'वो',\n",
       " 805: 'महंगा',\n",
       " 806: 'महंगी',\n",
       " 807: 'रेलगाड़ी',\n",
       " 808: 'कौआ',\n",
       " 809: 'तोड़',\n",
       " 810: 'बनाया',\n",
       " 811: 'पुरानी',\n",
       " 812: 'पढ़ा',\n",
       " 813: 'बताने',\n",
       " 814: 'शराब',\n",
       " 815: 'बेसबॉल',\n",
       " 816: 'लिखना',\n",
       " 817: 'कमीज़',\n",
       " 818: 'टैक्स',\n",
       " 819: 'पेनसिल',\n",
       " 820: 'बोलते',\n",
       " 821: 'समुंदर',\n",
       " 822: 'कामयाबी',\n",
       " 823: 'होना',\n",
       " 824: 'प्रतीक्षा',\n",
       " 825: 'क्योटो',\n",
       " 826: 'ज़ुकाम',\n",
       " 827: 'पहने',\n",
       " 828: 'भूत',\n",
       " 829: 'लगतीं',\n",
       " 830: 'तेज़ी',\n",
       " 831: 'जाओगे',\n",
       " 832: 'रख',\n",
       " 833: 'अंडे',\n",
       " 834: 'व्यापार',\n",
       " 835: 'थोड़े',\n",
       " 836: 'घोड़े',\n",
       " 837: 'उनका',\n",
       " 838: 'छलाँग',\n",
       " 839: 'इसको',\n",
       " 840: 'गेंद',\n",
       " 841: 'बैठ',\n",
       " 842: 'बताओ',\n",
       " 843: 'छूट',\n",
       " 844: 'उनको',\n",
       " 845: 'जैसी',\n",
       " 846: 'बोलो।',\n",
       " 847: 'लेता',\n",
       " 848: 'खटखटाया।',\n",
       " 849: 'चुरा',\n",
       " 850: 'डाला।',\n",
       " 851: 'बुखार',\n",
       " 852: 'उठता',\n",
       " 853: 'नौ',\n",
       " 854: 'ठंडा',\n",
       " 855: 'पियानो',\n",
       " 856: 'तेल',\n",
       " 857: 'उतना',\n",
       " 858: 'मंगलवार',\n",
       " 859: 'येन',\n",
       " 860: 'निर्णय',\n",
       " 861: 'फ़ुटबॉल',\n",
       " 862: 'इलज़ाम',\n",
       " 863: 'गिलास',\n",
       " 864: 'बजने',\n",
       " 865: 'लकड़ी',\n",
       " 866: 'कैंसर',\n",
       " 867: 'मुलाक़ात',\n",
       " 868: 'टैक्सी',\n",
       " 869: 'स्पैनिश',\n",
       " 870: 'ध्यान',\n",
       " 871: 'इनकार',\n",
       " 872: 'कीमत',\n",
       " 873: 'किनारे',\n",
       " 874: 'सज़ा',\n",
       " 875: 'गाड़ियाँ',\n",
       " 876: 'दिखाई',\n",
       " 877: 'होती।',\n",
       " 878: 'मुसीबत',\n",
       " 879: 'देखकर',\n",
       " 880: 'छाया',\n",
       " 881: 'धन्यवाद।',\n",
       " 882: 'बनी',\n",
       " 883: 'रोने',\n",
       " 884: 'पड़ा।',\n",
       " 885: 'बीस',\n",
       " 886: 'रक्षा',\n",
       " 887: 'जगह',\n",
       " 888: 'होगी',\n",
       " 889: 'फूलों',\n",
       " 890: 'खाते',\n",
       " 891: 'छोड़ने',\n",
       " 892: 'समान',\n",
       " 893: 'बॉस',\n",
       " 894: 'सर',\n",
       " 895: 'चोट',\n",
       " 896: 'बदलने',\n",
       " 897: 'दोगे',\n",
       " 898: 'शिकायत',\n",
       " 899: 'अगली',\n",
       " 900: 'बर्ताव',\n",
       " 901: 'ओसाका',\n",
       " 902: 'बर्बादी',\n",
       " 903: 'धीमी',\n",
       " 904: 'बचा',\n",
       " 905: 'लिए।',\n",
       " 906: 'मना',\n",
       " 907: 'खेलने',\n",
       " 908: 'चाहेंगे',\n",
       " 909: 'दफ़्तर',\n",
       " 910: 'सुथरा',\n",
       " 911: 'भाषण',\n",
       " 912: 'खेल',\n",
       " 913: 'खूबसूरत',\n",
       " 914: 'नतीजे',\n",
       " 915: 'खेत',\n",
       " 916: 'नानी',\n",
       " 917: 'सीधे',\n",
       " 918: 'इटली',\n",
       " 919: 'अलावा',\n",
       " 920: 'जनसंख्या',\n",
       " 921: 'सी',\n",
       " 922: 'चीज़ें',\n",
       " 923: 'मक्खन',\n",
       " 924: 'उठाया।',\n",
       " 925: 'घंटों',\n",
       " 926: 'जाता।',\n",
       " 927: 'सपने',\n",
       " 928: 'डाक',\n",
       " 929: 'उनसे',\n",
       " 930: 'सोते',\n",
       " 931: 'पत्र',\n",
       " 932: 'खड़ी',\n",
       " 933: 'तुमको',\n",
       " 934: 'कविता',\n",
       " 935: 'निकालते',\n",
       " 936: 'छत',\n",
       " 937: 'रहा।',\n",
       " 938: 'सूरज',\n",
       " 939: 'बातचीत',\n",
       " 940: 'विश्व',\n",
       " 941: 'कब्रिस्तान',\n",
       " 942: 'स्टॉप',\n",
       " 943: 'देता',\n",
       " 944: 'जल्दबाज़ी',\n",
       " 945: 'अखबार',\n",
       " 946: 'पालन',\n",
       " 947: 'रूप',\n",
       " 948: 'छाता',\n",
       " 949: 'उत्तर',\n",
       " 950: 'कहा।',\n",
       " 951: 'शर्म',\n",
       " 952: 'पचास',\n",
       " 953: 'तस्वीरें',\n",
       " 954: 'अस्पताल',\n",
       " 955: 'कम्प्यूटर',\n",
       " 956: 'इतनी',\n",
       " 957: 'दिल्ली',\n",
       " 958: 'मीटिंग',\n",
       " 959: 'चलती',\n",
       " 960: 'उठते',\n",
       " 961: 'वसीयत',\n",
       " 962: 'जानना',\n",
       " 963: 'हैरान',\n",
       " 964: 'जेब',\n",
       " 965: 'पकड़ा',\n",
       " 966: 'मौके',\n",
       " 967: 'बुलाया',\n",
       " 968: 'कम्पनी',\n",
       " 969: 'कॉलेज',\n",
       " 970: 'सुनने',\n",
       " 971: 'जाया',\n",
       " 972: 'चाहे',\n",
       " 973: 'जाए',\n",
       " 974: 'लायक',\n",
       " 975: 'देगी।',\n",
       " 976: 'कहने',\n",
       " 977: 'पाया',\n",
       " 978: 'राज़ी',\n",
       " 979: 'माने',\n",
       " 980: 'बत्तियाँ',\n",
       " 981: 'पहचानता',\n",
       " 982: 'थीं।',\n",
       " 983: 'जिसे',\n",
       " 984: 'दिख',\n",
       " 985: 'रास्ते',\n",
       " 986: 'पुस्तकालय',\n",
       " 987: 'माता',\n",
       " 988: 'जिससे',\n",
       " 989: 'सोचता',\n",
       " 990: 'टेरेसा',\n",
       " 991: 'समझे',\n",
       " 992: 'स्वागत',\n",
       " 993: 'करना।',\n",
       " 994: 'मौज',\n",
       " 995: 'बेहोश',\n",
       " 996: 'किसको',\n",
       " 997: 'किसे',\n",
       " 998: 'पीछा',\n",
       " 999: 'तैर',\n",
       " 1000: 'ताकतवर',\n",
       " ...}"
      ]
     },
     "execution_count": 40,
     "metadata": {},
     "output_type": "execute_result"
    }
   ],
   "source": [
    "int_to_word_decoder"
   ]
  },
  {
   "cell_type": "markdown",
   "metadata": {
    "colab_type": "text",
    "id": "cNqNaJ4t2oWB"
   },
   "source": [
    "### 1.5 Building Decoder Output data"
   ]
  },
  {
   "cell_type": "code",
   "execution_count": 41,
   "metadata": {
    "colab": {
     "autoexec": {
      "startup": false,
      "wait_interval": 0
     }
    },
    "colab_type": "code",
    "id": "E8Jojsni2oWC"
   },
   "outputs": [],
   "source": [
    "decoder_target_data = np.zeros((decoder_input_data.shape[0], decoder_input_data.shape[1]))"
   ]
  },
  {
   "cell_type": "code",
   "execution_count": 42,
   "metadata": {
    "colab": {
     "autoexec": {
      "startup": false,
      "wait_interval": 0
     }
    },
    "colab_type": "code",
    "id": "X77FSz232oWD"
   },
   "outputs": [],
   "source": [
    "for i in range(decoder_input_data.shape[0]):\n",
    "    for j in range(1,decoder_input_data.shape[1]):\n",
    "        decoder_target_data[i][j-1] = decoder_input_data[i][j]        "
   ]
  },
  {
   "cell_type": "code",
   "execution_count": 43,
   "metadata": {
    "colab": {
     "autoexec": {
      "startup": false,
      "wait_interval": 0
     }
    },
    "colab_type": "code",
    "id": "UR7_nAZB2oWF"
   },
   "outputs": [
    {
     "data": {
      "text/plain": [
       "array([  1, 767,   2,   0,   0,   0,   0,   0,   0,   0,   0,   0,   0,\n",
       "         0,   0,   0,   0,   0,   0,   0,   0,   0,   0,   0,   0,   0,\n",
       "         0])"
      ]
     },
     "execution_count": 43,
     "metadata": {},
     "output_type": "execute_result"
    }
   ],
   "source": [
    "decoder_input_data[0]"
   ]
  },
  {
   "cell_type": "code",
   "execution_count": 44,
   "metadata": {
    "colab": {
     "autoexec": {
      "startup": false,
      "wait_interval": 0
     }
    },
    "colab_type": "code",
    "id": "JtaVtmyQ2oWM"
   },
   "outputs": [
    {
     "data": {
      "text/plain": [
       "array([767.,   2.,   0.,   0.,   0.,   0.,   0.,   0.,   0.,   0.,   0.,\n",
       "         0.,   0.,   0.,   0.,   0.,   0.,   0.,   0.,   0.,   0.,   0.,\n",
       "         0.,   0.,   0.,   0.,   0.])"
      ]
     },
     "execution_count": 44,
     "metadata": {},
     "output_type": "execute_result"
    }
   ],
   "source": [
    "decoder_target_data[0]"
   ]
  },
  {
   "cell_type": "markdown",
   "metadata": {
    "colab_type": "text",
    "id": "WkfOv-Jg2oWP"
   },
   "source": [
    "Convert target data in one hot vector"
   ]
  },
  {
   "cell_type": "code",
   "execution_count": 45,
   "metadata": {
    "colab": {
     "autoexec": {
      "startup": false,
      "wait_interval": 0
     }
    },
    "colab_type": "code",
    "id": "YLfOe0k52oWQ"
   },
   "outputs": [],
   "source": [
    "from tensorflow.python.keras.utils import  to_categorical"
   ]
  },
  {
   "cell_type": "code",
   "execution_count": 46,
   "metadata": {
    "colab": {
     "autoexec": {
      "startup": false,
      "wait_interval": 0
     }
    },
    "colab_type": "code",
    "id": "7oSeXtY42oWS"
   },
   "outputs": [],
   "source": [
    "decoder_target_one_hot = np.zeros((decoder_input_data.shape[0], \n",
    "                                   decoder_input_data.shape[1],\n",
    "                                   len(decoder_t.word_index)+1))"
   ]
  },
  {
   "cell_type": "code",
   "execution_count": 47,
   "metadata": {
    "colab": {
     "autoexec": {
      "startup": false,
      "wait_interval": 0
     }
    },
    "colab_type": "code",
    "id": "TlPCKFaM2oWU"
   },
   "outputs": [],
   "source": [
    "for i in range(decoder_target_data.shape[0]):\n",
    "    for j in range(decoder_target_data.shape[1]):\n",
    "        decoder_target_one_hot[i][j] = to_categorical(decoder_target_data[i][j],\n",
    "                                                      num_classes=len(\n",
    "                                                          decoder_t.word_index)+1)    "
   ]
  },
  {
   "cell_type": "code",
   "execution_count": 48,
   "metadata": {
    "colab": {
     "autoexec": {
      "startup": false,
      "wait_interval": 0
     }
    },
    "colab_type": "code",
    "id": "5TxHo1KnVffx"
   },
   "outputs": [
    {
     "data": {
      "text/plain": [
       "(2867, 27, 3010)"
      ]
     },
     "execution_count": 48,
     "metadata": {},
     "output_type": "execute_result"
    }
   ],
   "source": [
    "decoder_target_one_hot.shape"
   ]
  },
  {
   "cell_type": "markdown",
   "metadata": {
    "colab_type": "text",
    "id": "OEaq66iJ2oWX"
   },
   "source": [
    "## 2. Building the Training Model"
   ]
  },
  {
   "cell_type": "code",
   "execution_count": 49,
   "metadata": {
    "colab": {
     "autoexec": {
      "startup": false,
      "wait_interval": 0
     }
    },
    "colab_type": "code",
    "id": "OevwCnTV2oWY"
   },
   "outputs": [],
   "source": [
    "from tensorflow.python.keras.layers import Input, LSTM, Dense, Embedding\n",
    "from tensorflow.python.keras.callbacks import ModelCheckpoint"
   ]
  },
  {
   "cell_type": "markdown",
   "metadata": {
    "colab_type": "text",
    "id": "nEKx9XQI2oWb"
   },
   "source": [
    "Define config parameters"
   ]
  },
  {
   "cell_type": "code",
   "execution_count": 50,
   "metadata": {
    "colab": {
     "autoexec": {
      "startup": false,
      "wait_interval": 0
     }
    },
    "colab_type": "code",
    "id": "SfHikNyh2oWc"
   },
   "outputs": [],
   "source": [
    "encoder_embedding_size = 50\n",
    "decoder_embedding_size = 50\n",
    "rnn_units = 256"
   ]
  },
  {
   "cell_type": "markdown",
   "metadata": {
    "colab_type": "text",
    "id": "ktTTJ3t_2oWg"
   },
   "source": [
    "### 2.1 Build Encoder layers"
   ]
  },
  {
   "cell_type": "code",
   "execution_count": 51,
   "metadata": {
    "colab": {
     "autoexec": {
      "startup": false,
      "wait_interval": 0
     }
    },
    "colab_type": "code",
    "id": "Rx5XaerO2oWm"
   },
   "outputs": [],
   "source": [
    "encoder_inputs = Input(shape=(None,))"
   ]
  },
  {
   "cell_type": "code",
   "execution_count": 52,
   "metadata": {
    "colab": {
     "autoexec": {
      "startup": false,
      "wait_interval": 0
     }
    },
    "colab_type": "code",
    "id": "DOMlr6uZ2oWq"
   },
   "outputs": [],
   "source": [
    "encoder_embedding = Embedding(encoder_vocab_size+1, encoder_embedding_size)"
   ]
  },
  {
   "cell_type": "code",
   "execution_count": 53,
   "metadata": {
    "colab": {
     "autoexec": {
      "startup": false,
      "wait_interval": 0
     }
    },
    "colab_type": "code",
    "id": "sC-kyvJs2oWs"
   },
   "outputs": [],
   "source": [
    "encoder_embedding_output = encoder_embedding(encoder_inputs)"
   ]
  },
  {
   "cell_type": "code",
   "execution_count": 54,
   "metadata": {
    "colab": {
     "autoexec": {
      "startup": false,
      "wait_interval": 0
     }
    },
    "colab_type": "code",
    "id": "c5uMqV0B2oWu"
   },
   "outputs": [],
   "source": [
    "x, state_h, state_c = LSTM(rnn_units,return_state=True)(encoder_embedding_output)"
   ]
  },
  {
   "cell_type": "code",
   "execution_count": 55,
   "metadata": {
    "colab": {
     "autoexec": {
      "startup": false,
      "wait_interval": 0
     }
    },
    "colab_type": "code",
    "id": "bm1DgTrA2oWw"
   },
   "outputs": [],
   "source": [
    "encoder_states = [state_h, state_c]"
   ]
  },
  {
   "cell_type": "markdown",
   "metadata": {
    "colab_type": "text",
    "id": "rxxLV14h2oWy"
   },
   "source": [
    "### 2.2 Build Decoder layers"
   ]
  },
  {
   "cell_type": "code",
   "execution_count": 56,
   "metadata": {
    "colab": {
     "autoexec": {
      "startup": false,
      "wait_interval": 0
     }
    },
    "colab_type": "code",
    "id": "OSqja3Z72oWy"
   },
   "outputs": [],
   "source": [
    "decoder_inputs = Input(shape=(None,))"
   ]
  },
  {
   "cell_type": "code",
   "execution_count": 57,
   "metadata": {
    "colab": {
     "autoexec": {
      "startup": false,
      "wait_interval": 0
     }
    },
    "colab_type": "code",
    "id": "hWV4_0-w2oW0"
   },
   "outputs": [],
   "source": [
    "decoder_embedding = Embedding(decoder_vocab_size + 1, decoder_embedding_size)"
   ]
  },
  {
   "cell_type": "code",
   "execution_count": 58,
   "metadata": {
    "colab": {
     "autoexec": {
      "startup": false,
      "wait_interval": 0
     }
    },
    "colab_type": "code",
    "id": "_Q2bG1so2oW1"
   },
   "outputs": [],
   "source": [
    "decoder_embedding_output = decoder_embedding(decoder_inputs)"
   ]
  },
  {
   "cell_type": "code",
   "execution_count": 59,
   "metadata": {
    "colab": {
     "autoexec": {
      "startup": false,
      "wait_interval": 0
     }
    },
    "colab_type": "code",
    "id": "p9WeX-AH2oW3"
   },
   "outputs": [],
   "source": [
    "decoder_rnn = LSTM(rnn_units, return_sequences=True, return_state=True)"
   ]
  },
  {
   "cell_type": "code",
   "execution_count": 60,
   "metadata": {
    "colab": {
     "autoexec": {
      "startup": false,
      "wait_interval": 0
     }
    },
    "colab_type": "code",
    "id": "HDnMtuGS2oW4"
   },
   "outputs": [],
   "source": [
    "#Initialize initial state with encoder_states\n",
    "#Output will be all hidden sequences, last 'h' state and last 'c' state\n",
    "x,_,_ = decoder_rnn(decoder_embedding_output, initial_state=encoder_states)"
   ]
  },
  {
   "cell_type": "code",
   "execution_count": 61,
   "metadata": {
    "colab": {
     "autoexec": {
      "startup": false,
      "wait_interval": 0
     }
    },
    "colab_type": "code",
    "id": "tyKPLlNt2oW6"
   },
   "outputs": [],
   "source": [
    "decoder_dense = Dense(decoder_vocab_size + 1, activation='softmax')"
   ]
  },
  {
   "cell_type": "code",
   "execution_count": 62,
   "metadata": {
    "colab": {
     "autoexec": {
      "startup": false,
      "wait_interval": 0
     }
    },
    "colab_type": "code",
    "id": "6nFd03t02oW8"
   },
   "outputs": [],
   "source": [
    "decoder_outputs = decoder_dense(x)"
   ]
  },
  {
   "cell_type": "markdown",
   "metadata": {
    "colab_type": "text",
    "id": "4irUZFFJ2oW-"
   },
   "source": [
    "### 2.3 Build Model using both Encoder and Decoder layers"
   ]
  },
  {
   "cell_type": "code",
   "execution_count": 63,
   "metadata": {
    "colab": {
     "autoexec": {
      "startup": false,
      "wait_interval": 0
     }
    },
    "colab_type": "code",
    "id": "35Wan_LF2oW-"
   },
   "outputs": [],
   "source": [
    "from tensorflow.python.keras.models import Model"
   ]
  },
  {
   "cell_type": "code",
   "execution_count": 64,
   "metadata": {
    "colab": {
     "autoexec": {
      "startup": false,
      "wait_interval": 0
     }
    },
    "colab_type": "code",
    "id": "8onZYQE-2oXC"
   },
   "outputs": [],
   "source": [
    "model = Model([encoder_inputs, decoder_inputs], decoder_outputs)"
   ]
  },
  {
   "cell_type": "code",
   "execution_count": 65,
   "metadata": {
    "colab": {
     "autoexec": {
      "startup": false,
      "wait_interval": 0
     }
    },
    "colab_type": "code",
    "id": "owbIRm0r2oXJ"
   },
   "outputs": [],
   "source": [
    "model.compile(optimizer='adam', loss='categorical_crossentropy')"
   ]
  },
  {
   "cell_type": "markdown",
   "metadata": {
    "colab_type": "text",
    "id": "mlutxik62oXL"
   },
   "source": [
    "## 3. Train the model"
   ]
  },
  {
   "cell_type": "code",
   "execution_count": 67,
   "metadata": {
    "colab": {
     "autoexec": {
      "startup": false,
      "wait_interval": 0
     }
    },
    "colab_type": "code",
    "id": "rqqgnzvC2oXM"
   },
   "outputs": [
    {
     "name": "stdout",
     "output_type": "stream",
     "text": [
      "Train on 2293 samples, validate on 574 samples\n",
      "Epoch 1/10\n",
      "2293/2293 [==============================] - 157s 68ms/step - loss: 1.9630 - val_loss: 2.9989\n",
      "Epoch 2/10\n",
      "2293/2293 [==============================] - 150s 65ms/step - loss: 1.6009 - val_loss: 2.9580\n",
      "Epoch 3/10\n",
      "2293/2293 [==============================] - 166s 72ms/step - loss: 1.5108 - val_loss: 2.6861\n",
      "Epoch 4/10\n",
      "2293/2293 [==============================] - 168s 73ms/step - loss: 1.4294 - val_loss: 2.6130\n",
      "Epoch 5/10\n",
      "2293/2293 [==============================] - 161s 70ms/step - loss: 1.3905 - val_loss: 2.5954\n",
      "Epoch 6/10\n",
      "2293/2293 [==============================] - 163s 71ms/step - loss: 1.3587 - val_loss: 2.5806\n",
      "Epoch 7/10\n",
      "2293/2293 [==============================] - 186s 81ms/step - loss: 1.3325 - val_loss: 2.6052\n",
      "Epoch 8/10\n",
      "2293/2293 [==============================] - 165s 72ms/step - loss: 1.3085 - val_loss: 2.5708\n",
      "Epoch 9/10\n",
      "2293/2293 [==============================] - 157s 68ms/step - loss: 1.2847 - val_loss: 2.5582\n",
      "Epoch 10/10\n",
      "2293/2293 [==============================] - 175s 76ms/step - loss: 1.2637 - val_loss: 2.5749\n"
     ]
    },
    {
     "data": {
      "text/plain": [
       "<tensorflow.python.keras._impl.keras.callbacks.History at 0x15ff8ae4908>"
      ]
     },
     "execution_count": 67,
     "metadata": {},
     "output_type": "execute_result"
    }
   ],
   "source": [
    "model.fit([encoder_input_data, decoder_input_data], decoder_target_one_hot,\n",
    "          batch_size=32,\n",
    "          epochs=10, #Try  with 1000\n",
    "          validation_split=0.2)"
   ]
  },
  {
   "cell_type": "code",
   "execution_count": 0,
   "metadata": {
    "colab": {
     "autoexec": {
      "startup": false,
      "wait_interval": 0
     }
    },
    "colab_type": "code",
    "id": "Q0E7j5Cf2gaS"
   },
   "outputs": [],
   "source": [
    "#model.save('drive/AI-ML/models/seq2seq_eng_hin_training.h5')"
   ]
  },
  {
   "cell_type": "markdown",
   "metadata": {
    "colab_type": "text",
    "id": "diNsT2872oXO"
   },
   "source": [
    "## 4. Building Model for Prediction"
   ]
  },
  {
   "cell_type": "markdown",
   "metadata": {
    "colab_type": "text",
    "id": "i1s0wEEW2oXP"
   },
   "source": [
    "### 4.1 Build the Encoder Model to predict Encoder States"
   ]
  },
  {
   "cell_type": "code",
   "execution_count": 68,
   "metadata": {
    "colab": {
     "autoexec": {
      "startup": false,
      "wait_interval": 0
     }
    },
    "colab_type": "code",
    "id": "zG_a4adu2oXQ"
   },
   "outputs": [],
   "source": [
    "encoder_model = Model(encoder_inputs, encoder_states)"
   ]
  },
  {
   "cell_type": "markdown",
   "metadata": {
    "colab_type": "text",
    "id": "H-9JR6I72oXR"
   },
   "source": [
    "### 4.2 Build the Decoder Model \n",
    "\n",
    "1. Define Input for both 'h' state and 'c' state initialization\n",
    "2. Get RNN outputs along with h and c state\n",
    "3. Define Decoder Output\n",
    "4. Build Model"
   ]
  },
  {
   "cell_type": "code",
   "execution_count": 69,
   "metadata": {
    "colab": {
     "autoexec": {
      "startup": false,
      "wait_interval": 0
     }
    },
    "colab_type": "code",
    "id": "OwW75R1m2oXR"
   },
   "outputs": [],
   "source": [
    "decoder_state_input_h = Input(shape=(rnn_units,))"
   ]
  },
  {
   "cell_type": "code",
   "execution_count": 70,
   "metadata": {
    "colab": {
     "autoexec": {
      "startup": false,
      "wait_interval": 0
     }
    },
    "colab_type": "code",
    "id": "7C6We4N22oXT"
   },
   "outputs": [],
   "source": [
    "decoder_state_input_c = Input(shape=(rnn_units,))"
   ]
  },
  {
   "cell_type": "code",
   "execution_count": 71,
   "metadata": {
    "colab": {
     "autoexec": {
      "startup": false,
      "wait_interval": 0
     }
    },
    "colab_type": "code",
    "id": "BtckkZac2oXV"
   },
   "outputs": [],
   "source": [
    "decoder_states_inputs = [decoder_state_input_h, decoder_state_input_c]"
   ]
  },
  {
   "cell_type": "markdown",
   "metadata": {
    "colab_type": "text",
    "id": "r4s74Mwv2oXW"
   },
   "source": [
    "Get RNN outputs, state(s)"
   ]
  },
  {
   "cell_type": "code",
   "execution_count": 72,
   "metadata": {
    "colab": {
     "autoexec": {
      "startup": false,
      "wait_interval": 0
     }
    },
    "colab_type": "code",
    "id": "j9jk7INx2oXW"
   },
   "outputs": [],
   "source": [
    "x = decoder_embedding(decoder_inputs)"
   ]
  },
  {
   "cell_type": "code",
   "execution_count": 73,
   "metadata": {
    "colab": {
     "autoexec": {
      "startup": false,
      "wait_interval": 0
     }
    },
    "colab_type": "code",
    "id": "dlmAnhKP2oXX"
   },
   "outputs": [],
   "source": [
    "#We will use the layer which we trained earlier\n",
    "rnn_outputs, state_h, state_c = decoder_rnn(x, initial_state=decoder_states_inputs)"
   ]
  },
  {
   "cell_type": "code",
   "execution_count": 74,
   "metadata": {
    "colab": {
     "autoexec": {
      "startup": false,
      "wait_interval": 0
     }
    },
    "colab_type": "code",
    "id": "BIo2MJ162oXb"
   },
   "outputs": [],
   "source": [
    "#Why do we need this?\n",
    "decoder_states = [state_h, state_c]"
   ]
  },
  {
   "cell_type": "markdown",
   "metadata": {
    "colab_type": "text",
    "id": "DlSOV9tU2oXd"
   },
   "source": [
    "get Decoder output"
   ]
  },
  {
   "cell_type": "code",
   "execution_count": 75,
   "metadata": {
    "colab": {
     "autoexec": {
      "startup": false,
      "wait_interval": 0
     }
    },
    "colab_type": "code",
    "id": "piCi4D3I2oXe"
   },
   "outputs": [],
   "source": [
    "decoder_outputs = decoder_dense(rnn_outputs)"
   ]
  },
  {
   "cell_type": "markdown",
   "metadata": {
    "colab_type": "text",
    "id": "UvP7HOzL2oXf"
   },
   "source": [
    "Build Decoder Model"
   ]
  },
  {
   "cell_type": "code",
   "execution_count": 76,
   "metadata": {
    "colab": {
     "autoexec": {
      "startup": false,
      "wait_interval": 0
     }
    },
    "colab_type": "code",
    "id": "_Kbc3jAe2oXg"
   },
   "outputs": [],
   "source": [
    "decoder_model = Model([decoder_inputs] + decoder_states_inputs,  #Model inputs\n",
    "                     [decoder_outputs] + decoder_states)"
   ]
  },
  {
   "cell_type": "markdown",
   "metadata": {
    "colab_type": "text",
    "id": "wJyeIiyN2oXj"
   },
   "source": [
    "## 5.0 Predicting Output"
   ]
  },
  {
   "cell_type": "markdown",
   "metadata": {
    "colab_type": "text",
    "id": "CQKbrF9b2oXj"
   },
   "source": [
    "Build a prediction function"
   ]
  },
  {
   "cell_type": "code",
   "execution_count": 77,
   "metadata": {
    "colab": {
     "autoexec": {
      "startup": false,
      "wait_interval": 0
     }
    },
    "colab_type": "code",
    "id": "ulVF4IHE2oXk"
   },
   "outputs": [],
   "source": [
    "def decode_sentence(input_sequence):\n",
    "    \n",
    "    #Get the encoder state values\n",
    "    decoder_initial_states_value = encoder_model.predict(input_sequence)\n",
    "    \n",
    "    #Build a sequence with '<start>' - starting sequence for Decoder\n",
    "    target_seq = np.zeros((1,1))    \n",
    "    target_seq[0][0] = decoder_t.word_index['<start>']\n",
    "    \n",
    "    #flag to check if prediction should be stopped\n",
    "    stop_loop = False\n",
    "    \n",
    "    #Initialize predicted sentence\n",
    "    predicted_sentence = ''\n",
    "    \n",
    "    #start the loop\n",
    "    while not stop_loop:\n",
    "        \n",
    "        predicted_outputs, h, c = decoder_model.predict([target_seq] + \n",
    "                                                        decoder_initial_states_value)\n",
    "        \n",
    "        #Get the predicted output with highest probability\n",
    "        predicted_output = np.argmax(predicted_outputs[0,-1,:])\n",
    "        \n",
    "        #Get the predicted word from predicter integer\n",
    "        predicted_word = int_to_word_decoder[predicted_output]\n",
    "        \n",
    "        #Check if prediction should stop\n",
    "        if(predicted_word == '<end>' or len(predicted_sentence) > max_decoder_seq_length):\n",
    "            \n",
    "            stop_loop = True\n",
    "            continue\n",
    "                    \n",
    "        #Updated predicted sentence\n",
    "        if (len(predicted_sentence) == 0):\n",
    "            predicted_sentence = predicted_word\n",
    "        else:\n",
    "            predicted_sentence = predicted_sentence + ' ' + predicted_word\n",
    "            \n",
    "        #Update target_seq to be the predicted word index\n",
    "        target_seq[0][0] = predicted_output\n",
    "        \n",
    "        #Update initial states value for decoder\n",
    "        decoder_initial_states_value = [h,c]\n",
    "        \n",
    "    \n",
    "    return predicted_sentence"
   ]
  },
  {
   "cell_type": "markdown",
   "metadata": {
    "colab_type": "text",
    "id": "eIcTe2V32oXl"
   },
   "source": [
    "Call Prediction function above"
   ]
  },
  {
   "cell_type": "code",
   "execution_count": 80,
   "metadata": {
    "colab": {
     "autoexec": {
      "startup": false,
      "wait_interval": 0
     }
    },
    "colab_type": "code",
    "id": "vYC_2syR2oXm"
   },
   "outputs": [
    {
     "name": "stdout",
     "output_type": "stream",
     "text": [
      "263\n",
      "--------\n",
      "Input sentence:  I have to go now.\n",
      "Predicted sentence:  मैं पास में है।\n",
      "--------\n",
      "Input sentence:  I live near here.\n",
      "Predicted sentence:  मैं एक में से लिए है।\n",
      "--------\n",
      "Input sentence:  I love my mother.\n",
      "Predicted sentence:  मैं पास में नहीं है।\n",
      "--------\n",
      "Input sentence:  I must leave now.\n",
      "Predicted sentence:  मैं पास में है।\n",
      "--------\n",
      "Input sentence:  I'm really tired.\n",
      "Predicted sentence:  मैं पास है\n",
      "--------\n",
      "Input sentence:  I'm very thirsty.\n",
      "Predicted sentence:  मैं कहाँ है\n",
      "--------\n",
      "Input sentence:  It's April first.\n",
      "Predicted sentence:  मैं कहाँ है\n",
      "--------\n",
      "Input sentence:  It's now my turn.\n",
      "Predicted sentence:  मैं बहुत है\n",
      "--------\n",
      "Input sentence:  Let me try again.\n",
      "Predicted sentence:  मैं कहाँ है\n",
      "--------\n",
      "Input sentence:  Nice to meet you.\n",
      "Predicted sentence:  मैं कहाँ है\n"
     ]
    }
   ],
   "source": [
    "#Get a random sentence\n",
    "start_num = np.random.randint(0, high=len(encoder_text) - 10)\n",
    "print(start_num)\n",
    "\n",
    "for i in range(start_num, start_num + 10):\n",
    "    input_seq = encoder_input_data[i : i+1]\n",
    "    predicted_sentence = decode_sentence(input_seq)\n",
    "    print('--------')\n",
    "    print ('Input sentence: ', encoder_text[i])\n",
    "    print ('Predicted sentence: ', predicted_sentence )"
   ]
  },
  {
   "cell_type": "markdown",
   "metadata": {
    "colab_type": "text",
    "id": "KgZeXBIwy-NB"
   },
   "source": [
    "## 6. Save Prediction models and tokenizers "
   ]
  },
  {
   "cell_type": "code",
   "execution_count": null,
   "metadata": {},
   "outputs": [],
   "source": [
    "#Save encoder and decoder model for Prediction\n",
    "encoder_model.compile(optimizer='adam', loss='mse')\n",
    "decoder_model.compile(optimizer='adam', loss='categorical_crossentropy')\n",
    "encoder_model.save('drive/AI-ML/models/seq2seq_encoder_eng_hin.hd5')\n",
    "decoder_model.save('drive/AI-ML/models/seq2seq_decoder_eng_hin.hd5')"
   ]
  },
  {
   "cell_type": "code",
   "execution_count": 0,
   "metadata": {
    "colab": {
     "autoexec": {
      "startup": false,
      "wait_interval": 0
     }
    },
    "colab_type": "code",
    "id": "05_mrMj2zTH9"
   },
   "outputs": [],
   "source": [
    "#Save tokenizers\n",
    "import pickle\n",
    "\n",
    "pickle.dump(encoder_t,open('drive/AI-ML/models/encoder_tokenizer_eng','wb'))\n",
    "pickle.dump(decoder_t,open('drive/AI-ML/models/decoder_tokenizer_hin','wb'))"
   ]
  },
  {
   "cell_type": "markdown",
   "metadata": {
    "colab": {
     "autoexec": {
      "startup": false,
      "wait_interval": 0
     }
    },
    "colab_type": "code",
    "id": "oqzIsLFkb3y-"
   },
   "source": [
    "## Conclution\n",
    "RNN and LSTMs are far better for text processing, speach processing and Machine Translation of data etc. But RNN and LSTM are difficult to train because they require memory-bandwidth-bound computation, which is the worst nightmare for hardware designer and ultimately limits the applicability of neural networks solutions."
   ]
  },
  {
   "cell_type": "code",
   "execution_count": null,
   "metadata": {},
   "outputs": [],
   "source": []
  }
 ],
 "metadata": {
  "accelerator": "GPU",
  "colab": {
   "default_view": {},
   "name": "3a. Seq2Seq LSTM Model - Translation.ipynb",
   "private_outputs": true,
   "provenance": [],
   "version": "0.3.2",
   "views": {}
  },
  "kernelspec": {
   "display_name": "Python 3",
   "language": "python",
   "name": "python3"
  },
  "language_info": {
   "codemirror_mode": {
    "name": "ipython",
    "version": 3
   },
   "file_extension": ".py",
   "mimetype": "text/x-python",
   "name": "python",
   "nbconvert_exporter": "python",
   "pygments_lexer": "ipython3",
   "version": "3.6.5"
  }
 },
 "nbformat": 4,
 "nbformat_minor": 1
}
